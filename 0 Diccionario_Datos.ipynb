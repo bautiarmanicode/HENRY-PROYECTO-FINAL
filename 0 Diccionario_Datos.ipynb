{
 "cells": [
  {
   "cell_type": "code",
   "execution_count": null,
   "metadata": {},
   "outputs": [],
   "source": [
    "### by: Bauto, traduccion de Diccionario de datos compartido por Henry"
   ]
  },
  {
   "cell_type": "markdown",
   "metadata": {},
   "source": [
    "# Google Maps"
   ]
  },
  {
   "cell_type": "markdown",
   "metadata": {},
   "source": [
    "\n",
    "### 📂 metadata_sitios\n",
    "La carpeta contiene 11 archivos .json donde se dispone la metadata con información del comercio, incluyendo localización, atributos y categorías."
   ]
  },
  {
   "cell_type": "markdown",
   "metadata": {},
   "source": [
    "- 🏢 **name**: \"Walgreens Pharmacy\" (Nombre del comercio)\n",
    "- 🏠 **address**: \"Walgreens Pharmacy, 124 E North St, Kendallville, IN 46755\" (Dirección completa del comercio)\n",
    "- 🗺️ **gmap_id**: \"0x881614ce7c13acbb:0x5c7b18bbf6ec4f7e\" (ID del comercio en Google Maps)\n",
    "- 📄 **description**: \"Department of the Walgreens chain providing prescription medications & other health-related items.\" (Descripción del comercio)\n",
    "- 🌍 **latitude**: 41.451859999999996 (Latitud del comercio)\n",
    "- 🌎 **longitude**: -85.2666757 (Longitud del comercio)\n",
    "- 🏷️ **category**: [\"Pharmacy\"] (Categoría(s) del comercio)\n",
    "- ⭐ **avg_rating**: 4.2 (Calificación promedio del comercio)\n",
    "- 📝 **num_of_reviews**: 5 (Número de reseñas del comercio)\n",
    "- 💲 **price**: \"$\" (Rango de precios del comercio)\n",
    "- 🕒 **hours**:\n",
    "  - [\"Thursday\", \"8AM–1:30PM\"]\n",
    "  - [\"Friday\", \"8AM–1:30PM\"]\n",
    "  - ... (otros días y horarios) (Horarios de atención del comercio)\n",
    "- 📋 **MISC**:\n",
    "  - **Service options**: [\"Curbside pickup\", \"Drive-through\", \"In-store pickup\", \"In-store shopping\"] (Opciones de servicio del comercio)\n",
    "  - **Health & safety**: [\"Mask required\", \"Staff wear masks\", \"Staff get temperature checks\"] (Información de salud y seguridad del comercio)\n",
    "  - **Accessibility**: [\"Wheelchair accessible entrance\", \"Wheelchair accessible parking lot\"] (Accesibilidad del comercio)\n",
    "  - **Planning**: [\"Quick visit\"] (Información sobre planificación de visita)\n",
    "  - **Payments**: [\"Checks\", \"Debit cards\"] (Formas de pago aceptadas por el comercio)\n",
    "- 🏢 **state**: \"Closes soon ⋅ 1:30PM ⋅ Reopens 2PM\" (Estado actual del comercio)\n",
    "- 🔗 **relative_results**: [\"0x881614cd49e4fa33:0x2d507c24ff4f1c74\", \"0x8816145bf5141c89:0x535c1d605109f94b\", ... (otros IDs relacionados)] (Resultados relativos relacionados con el comercio)\n",
    "- 🔗 **url**: \"https://www.google.com/maps/place//data=!4m2!3m1!1s0x881614ce7c13acbb:0x5c7b18bbf6ec4f7e?authuser=-1&hl=en&gl=us\" (URL del comercio en Google Maps)\n",
    "\n",
    "Espero que esta explicación te ayude a comprender mejor cada campo del JSON del comercio \"Walgreens Pharmacy\"."
   ]
  },
  {
   "cell_type": "markdown",
   "metadata": {},
   "source": [
    "Asi se ve:"
   ]
  },
  {
   "cell_type": "code",
   "execution_count": null,
   "metadata": {},
   "outputs": [],
   "source": [
    "{\n",
    "    \"name\": \"Walgreens Pharmacy\",\n",
    "    \"address\": \"Walgreens Pharmacy, 124 E North St, Kendallville, IN 46755\",\n",
    "    \"gmap_id\": \"0x881614ce7c13acbb:0x5c7b18bbf6ec4f7e\",\n",
    "    \"description\": \"Department of the Walgreens chain providing prescription medications & other health-related items.\",\n",
    "    \"latitude\": 41.451859999999996,\n",
    "    \"longitude\": -85.2666757,\n",
    "    \"category\": [\"Pharmacy\"],\n",
    "    \"avg_rating\": 4.2,\n",
    "    \"num_of_reviews\": 5,\n",
    "    \"price\": \"$\",\n",
    "    \"hours\": [[\"Thursday\", \"8AM–1:30PM\"], [\"Friday\", \"8AM–1:30PM\"]],\n",
    "    \"MISC\": {\n",
    "        \"Service options\": [\n",
    "            \"Curbside pickup\",\n",
    "            \"Drive-through\",\n",
    "            \"In-store pickup\",\n",
    "            \"In-store shopping\",\n",
    "        ],\n",
    "        \"Health & safety\": [\n",
    "            \"Mask required\",\n",
    "            \"Staff wear masks\",\n",
    "            \"Staff get temperature checks\",\n",
    "        ],\n",
    "        \"Accessibility\": [\n",
    "            \"Wheelchair accessible entrance\",\n",
    "            \"Wheelchair accessible parking lot\",\n",
    "        ],\n",
    "        \"Planning\": [\"Quick visit\"],\n",
    "        \"Payments\": [\"Checks\", \"Debit cards\"],\n",
    "    },\n",
    "    \"state\": \"Closes soon ⋅ 1:30PM ⋅ Reopens 2PM\",\n",
    "    \"relative_results\": [\n",
    "        \"0x881614cd49e4fa33:0x2d507c24ff4f1c74\",\n",
    "        \"0x8816145bf5141c89:0x535c1d605109f94b\",\n",
    "    ],\n",
    "    \"url\": \"https://www.google.com/maps/place//data=!4m2!3m1!1s0x881614ce7c13acbb:0x5c7b18bbf6ec4f7e?authuser=-1&hl=en&gl=us\",\n",
    "}"
   ]
  },
  {
   "cell_type": "markdown",
   "metadata": {},
   "source": [
    "___"
   ]
  },
  {
   "cell_type": "markdown",
   "metadata": {},
   "source": [
    "### 📂 review-estados    \n",
    "\n"
   ]
  },
  {
   "cell_type": "markdown",
   "metadata": {},
   "source": [
    "Los archivos donde se disponibiliza las reviews de los usuarios (51 carpetas, 1 por cada estado de USA, con varios archivos .json cada uno) se conforman de la siguiente manera "
   ]
  },
  {
   "cell_type": "markdown",
   "metadata": {},
   "source": [
    "- 🆔 **ID de usuario (user_id)**: '101463350189962023774'\n",
    "- 👤 **Nombre del usuario (name)**: 'Jordan Adams'\n",
    "- 🕒 **Tiempo (time)**: 1627750414677\n",
    "- ⭐ **Calificación (rating)**: 5\n",
    "- 💬 **Texto de la reseña (text)**: 'Cool place, great people, awesome dentist!'\n",
    "- 🖼️ **Fotos (pics)**:\n",
    "  - URL: ['https://lh5.googleusercontent.com/p/AF1QipNq2nZC5TH4_M7h5xRAd61hoTgvY1o9lozABguI=w150-h150-k-no-p']\n",
    "- 📝 **Respuesta (resp)**:\n",
    "  - Tiempo (time): 1628455067818\n",
    "  - Texto (text): 'Thank you for your five-star review! -Dr. Blake'\n",
    "- 🗺️ **ID del comercio en Google Maps (gmap_id)**: '0x87ec2394c2cd9d2d:0xd1119cfbee0da6f3'\n",
    "\n",
    "Esta estructura describe una única reseña de usuario, que incluye detalles como el nombre del usuario, la calificación otorgada, el texto de la reseña, fotos adjuntas, una posible respuesta del establecimiento, y el ID del comercio en Google Maps asociado a la reseña."
   ]
  },
  {
   "cell_type": "code",
   "execution_count": null,
   "metadata": {},
   "outputs": [],
   "source": [
    "{\n",
    "  \"user_id\": \"101463350189962023774\",\n",
    "  \"name\": \"Jordan Adams\",\n",
    "  \"time\": 1627750414677,\n",
    "  \"rating\": 5,\n",
    "  \"text\": \"Cool place, great people, awesome dentist!\",\n",
    "  \"pics\": [\n",
    "    {\n",
    "      \"url\": [\"https://lh5.googleusercontent.com/p/AF1QipNq2nZC5TH4_M7h5xRAd61hoTgvY1o9lozABguI=w150-h150-k-no-p\"]\n",
    "    }\n",
    "  ],\n",
    "  \"resp\": {\n",
    "    \"time\": 1628455067818,\n",
    "    \"text\": \"Thank you for your five-star review! -Dr. Blake\"\n",
    "  },\n",
    "  \"gmap_id\": \"0x87ec2394c2cd9d2d:0xd1119cfbee0da6f3\"\n",
    "}\n"
   ]
  },
  {
   "cell_type": "markdown",
   "metadata": {},
   "source": [
    "# Dataset de Yelp!"
   ]
  },
  {
   "cell_type": "markdown",
   "metadata": {},
   "source": [
    "### 📂  business.pkl\n",
    "\n"
   ]
  },
  {
   "cell_type": "markdown",
   "metadata": {},
   "source": [
    "Contiene información del comercio, incluyendo localización, atributos y categorías\n"
   ]
  },
  {
   "cell_type": "markdown",
   "metadata": {},
   "source": [
    "- 🆔 **ID del negocio (business_id)**: \"tnhfDv5Il8EaGSXZGiuQGg\"\n",
    "- 🏢 **Nombre del negocio (name)**: \"Garaje\"\n",
    "- 🏠 **Dirección completa del negocio (address)**: \"475 3rd St\"\n",
    "- 🌆 **Ciudad (city)**: \"San Francisco\"\n",
    "- 🌍 **Estado (state)**: \"CA\"\n",
    "- 📮 **Código postal (postal code)**: \"94107\"\n",
    "- 🌐 **Latitud (latitude)**: 37.7817529521\n",
    "- 🌐 **Longitud (longitude)**: -122.39612197\n",
    "- ⭐ **Rating en estrellas (stars)**: 4.5\n",
    "- 📊 **Número de reseñas (review_count)**: 1198\n",
    "- 🚪 **Estado de apertura (is_open)**: 1 (abierto)\n",
    "- 🏷️ **Atributos (attributes)**:\n",
    "  - **RestaurantsTakeOut**: true\n",
    "  - **BusinessParking**:\n",
    "    - garage: false\n",
    "    - street: true\n",
    "    - validated: false\n",
    "    - lot: false\n",
    "    - valet: false\n",
    "- 🍽️ **Categorías (categories)**:\n",
    "  - \"Mexican\"\n",
    "  - \"Burgers\"\n",
    "  - \"Gastropubs\"\n",
    "- 🕒 **Horarios (hours)**:\n",
    "  - Monday: \"10:00-21:00\"\n",
    "  - Tuesday: \"10:00-21:00\"\n",
    "  - Friday: \"10:00-21:00\"\n",
    "  - Wednesday: \"10:00-21:00\"\n",
    "  - Thursday: \"10:00-21:00\"\n",
    "  - Sunday: \"11:00-18:00\"\n",
    "  - Saturday: \"10:00-21:00\"\n",
    "\n",
    "Esta estructura detalla la información clave del negocio \"Garaje\" ubicado en San Francisco, CA, incluyendo su dirección, coordenadas geográficas, rating, número de reseñas, estado de apertura, atributos como el servicio para llevar y opciones de estacionamiento, categorías a las que pertenece, y horarios de operación por día de la semana."
   ]
  },
  {
   "cell_type": "code",
   "execution_count": null,
   "metadata": {},
   "outputs": [],
   "source": [
    "{\n",
    "    \"business_id\": \"tnhfDv5Il8EaGSXZGiuQGg\",\n",
    "    \"name\": \"Garaje\",\n",
    "    \"address\": \"475 3rd St\",\n",
    "    \"city\": \"San Francisco\",\n",
    "    \"state\": \"CA\",\n",
    "    \"postal code\": \"94107\",\n",
    "    \"latitude\": 37.7817529521,\n",
    "    \"longitude\": -122.39612197,\n",
    "    \"stars\": 4.5,\n",
    "    \"review_count\": 1198,\n",
    "    \"is_open\": 1,\n",
    "    \"attributes\": {\n",
    "        \"RestaurantsTakeOut\": true,\n",
    "        \"BusinessParking\": {\n",
    "            \"garage\": false,\n",
    "            \"street\": true,\n",
    "            \"validated\": false,\n",
    "            \"lot\": false,\n",
    "            \"valet\": false,\n",
    "        },\n",
    "    },\n",
    "    \"categories\": [\n",
    "        \"Mexican\",\n",
    "        \"Burgers\",\n",
    "        \"Gastropubs\",\n",
    "    ],\n",
    "    \"hours\": {\n",
    "        \"Monday\": \"10:00-21:00\",\n",
    "        \"Tuesday\": \"10:00-21:00\",\n",
    "        \"Friday\": \"10:00-21:00\",\n",
    "        \"Wednesday\": \"10:00-21:00\",\n",
    "        \"Thursday\": \"10:00-21:00\",\n",
    "        \"Sunday\": \"11:00-18:00\",\n",
    "        \"Saturday\": \"10:00-21:00\",\n",
    "    },\n",
    "}"
   ]
  },
  {
   "cell_type": "markdown",
   "metadata": {},
   "source": [
    "### 📂  review.json\n",
    "\n"
   ]
  },
  {
   "cell_type": "markdown",
   "metadata": {},
   "source": [
    "Contiene las reseñas completas, incluyendo el user_id que escribió el review y el business_id por el cual se escribe la reseña"
   ]
  },
  {
   "cell_type": "markdown",
   "metadata": {},
   "source": [
    "- 🆔 **ID de reseña (review_id)**: \"zdSx_SD6obEhz9VrW9uAWA\"\n",
    "- 🆔 **ID de usuario (user_id)**: \"Ha3iJu77CxlrFm-vQRs_8g\" (Refiere al usuario en `user.json`)\n",
    "- 🆔 **ID del negocio (business_id)**: \"tnhfDv5Il8EaGSXZGiuQGg\" (Refiere al negocio en `business.json`)\n",
    "- ⭐ **Puntaje en estrellas (stars)**: 4 (Valor de 1 a 5)\n",
    "- 📅 **Fecha (date)**: \"2016-03-09\" (Formato YYYY-MM-DD)\n",
    "- 💬 **Texto de la reseña (text)**: \"Great place to hang out after work: the prices are decent, and the ambience is fun. It's a bit loud, but very lively. The staff is friendly, and the food is good. They have a good selection of drinks.\"\n",
    "- 👍 **Útil (useful)**: 0 (Número de votos como útil para la reseña)\n",
    "- 😄 **Graciosa (funny)**: 0 (Número de votos como graciosa para la reseña)\n",
    "- 😎 **Cool (cool)**: 0 (Número de votos como cool para la reseña)\n",
    "\n",
    "Este archivo contiene detalles completos de una reseña, incluyendo el ID único de la reseña, el ID del usuario que escribió la reseña, el ID del negocio asociado, el puntaje otorgado en estrellas, la fecha de la reseña, el texto completo de la reseña en inglés, y contadores para votos útiles, graciosos y cool asignados a la reseña."
   ]
  },
  {
   "cell_type": "code",
   "execution_count": null,
   "metadata": {},
   "outputs": [],
   "source": [
    "{\n",
    "    \"review_id\": \"zdSx_SD6obEhz9VrW9uAWA\",\n",
    "    \"user_id\": \"Ha3iJu77CxlrFm-vQRs_8g\",\n",
    "    \"business_id\": \"tnhfDv5Il8EaGSXZGiuQGg\",\n",
    "    \"stars\": 4,\n",
    "    \"date\": \"2016-03-09\",\n",
    "    \"text\": \"Great place to hang out after work: the prices are decent, and the ambience is fun. It's a bit loud, but very lively. The staff is friendly, and the food is good. They have a good selection of drinks.\",\n",
    "    \"useful\": 0,\n",
    "    \"funny\": 0,\n",
    "    \"cool\": 0,\n",
    "}"
   ]
  },
  {
   "cell_type": "markdown",
   "metadata": {},
   "source": [
    "### 📂  checkin.json\n",
    "\n"
   ]
  },
  {
   "cell_type": "markdown",
   "metadata": {},
   "source": [
    "- 🆔 **ID del negocio (business_id)**: \"tnhfDv5Il8EaGSXZGiuQGg\"\n",
    "- 📅 **Fechas de check-in (date)**:\n",
    "  - \"2016-04-26 19:49:16\"\n",
    "  - \"2016-08-30 18:36:57\"\n",
    "  - \"2016-10-15 02:45:18\"\n",
    "  - \"2016-11-18 01:54:50\"\n",
    "  - \"2017-04-20 18:39:06\"\n",
    "  - \"2017-05-03 17:58:02\"\n"
   ]
  },
  {
   "cell_type": "code",
   "execution_count": null,
   "metadata": {},
   "outputs": [],
   "source": [
    "[\n",
    "  {\n",
    "    \"business_id\": \"tnhfDv5Il8EaGSXZGiuQGg\",\n",
    "    \"date\": [\n",
    "      \"2016-04-26 19:49:16\",\n",
    "      \"2016-08-30 18:36:57\",\n",
    "      \"2016-10-15 02:45:18\",\n",
    "      \"2016-11-18 01:54:50\",\n",
    "      \"2017-04-20 18:39:06\",\n",
    "      \"2017-05-03 17:58:02\"\n",
    "    ]\n",
    "  }\n",
    "]\n"
   ]
  },
  {
   "cell_type": "markdown",
   "metadata": {},
   "source": [
    "### 📂 tip.json\n",
    "\n"
   ]
  },
  {
   "cell_type": "markdown",
   "metadata": {},
   "source": [
    "- 📝 **Texto del tip (text)**: \"Secret menu - fried chicken sando is da bombbbbbb Their zapatos are good too.\"\n",
    "- 📅 **Fecha de publicación (date)**: \"2013-09-20\"\n",
    "- 👏 **Cantidad de cumplidos (compliment_count)**: 172\n",
    "- 🆔 **ID del negocio (business_id)**: \"tnhfDv5Il8EaGSXZGiuQGg\"\n",
    "- 🆔 **ID de usuario (user_id)**: \"49JhAJh8vSQ-vM4Aourl0g\"\n",
    "\n",
    "Estas estructuras describen los registros de check-ins realizados en un negocio específico y los tips escritos por usuarios, incluyendo detalles como el texto del tip, la fecha de publicación, el número de cumplidos recibidos por el tip, y las referencias a los IDs de negocio y usuario asociados."
   ]
  },
  {
   "cell_type": "code",
   "execution_count": null,
   "metadata": {},
   "outputs": [],
   "source": [
    "[\n",
    "  {\n",
    "    \"text\": \"Secret menu - fried chicken sando is da bombbbbbb Their zapatos are good too.\",\n",
    "    \"date\": \"2013-09-20\",\n",
    "    \"compliment_count\": 172,\n",
    "    \"business_id\": \"tnhfDv5Il8EaGSXZGiuQGg\",\n",
    "    \"user_id\": \"49JhAJh8vSQ-vM4Aourl0g\"\n",
    "  }\n",
    "]\n"
   ]
  },
  {
   "cell_type": "markdown",
   "metadata": {},
   "source": [
    "### 📂 user.parquet"
   ]
  },
  {
   "cell_type": "markdown",
   "metadata": {},
   "source": [
    " Data del usuario incluyendo referencias a otros usuarios amigos y a toda la metadata asociada al usuario.\n"
   ]
  },
  {
   "cell_type": "markdown",
   "metadata": {},
   "source": [
    "- 🆔 **ID de usuario (user_id)**: 'Ha3iJu77CxlrFm-vQRs_8g'\n",
    "- 👤 **Nombre del usuario (name)**: 'Sebastien'\n",
    "- 📝 **Número de reseñas escritas (review_count)**: 56\n",
    "- 📅 **Fecha de creación del usuario en Yelp (yelping_since)**: '2011-01-01'\n",
    "- 👥 **Amigos del usuario (friends)**:\n",
    "  - \"wqoXYLWmpkEH0YvTmHBsJQ\"\n",
    "  - \"KUXLLiJGrjtSsapmxmpvTA\"\n",
    "  - \"6e9rJKQC3n0RSKyHLViL-Q\"\n",
    "- 👍 **Votos útiles (useful)**: 21\n",
    "- 😄 **Votos graciosos (funny)**: 88\n",
    "- 😎 **Votos cool (cool)**: 15\n",
    "- 🎉 **Número de fans (fans)**: 1032\n",
    "- 🌟 **Años en los que el usuario fue miembro elite (elite)**:\n",
    "  - 2012\n",
    "  - 2013\n",
    "- ⭐ **Promedio del valor de las reseñas (average_stars)**: 4.31\n",
    "- 🔥 **Cumplidos 'hot' recibidos (compliment_hot)**: 339\n",
    "- 💬 **Cumplidos varios recibidos (compliment_more)**: 668\n",
    "- 💼 **Cumplidos por el perfil recibidos (compliment_profile)**: 42\n",
    "- 🐶 **Cumplidos 'cute' recibidos (compliment_cute)**: 62\n",
    "- 📋 **Listas de cumplidos recibidos (compliment_list)**: 37\n",
    "- 📝 **Cumplidos como notas recibidos (compliment_note)**: 356\n",
    "- 🏛️ **Cumplidos planos recibidos (compliment_plain)**: 68\n",
    "- 😎 **Cumplidos 'cool' recibidos (compliment_cool)**: 91\n",
    "- 😂 **Cumplidos graciosos recibidos (compliment_funny)**: 99\n",
    "- ✍️ **Cumplidos escritos recibidos (compliment_writer)**: 95\n",
    "- 📷 **Cumplidos en foto recibidos (compliment_photos)**: 50\n",
    "\n",
    "Esta lista detalla los diferentes campos y sus significados en el contexto de la información de usuario proporcionada por `user.parquet` en Yelp."
   ]
  },
  {
   "cell_type": "code",
   "execution_count": null,
   "metadata": {},
   "outputs": [],
   "source": [
    "{\n",
    "  \"user_id\": \"Ha3iJu77CxlrFm-vQRs_8g\",\n",
    "  \"name\": \"Sebastien\",\n",
    "  \"review_count\": 56,\n",
    "  \"yelping_since\": \"2011-01-01\",\n",
    "  \"friends\": [\n",
    "    \"wqoXYLWmpkEH0YvTmHBsJQ\",\n",
    "    \"KUXLLiJGrjtSsapmxmpvTA\",\n",
    "    \"6e9rJKQC3n0RSKyHLViL-Q\"\n",
    "  ],\n",
    "  \"useful\": 21,\n",
    "  \"funny\": 88,\n",
    "  \"cool\": 15,\n",
    "  \"fans\": 1032,\n",
    "  \"elite\": [\n",
    "    2012,\n",
    "    2013\n",
    "  ],\n",
    "  \"average_stars\": 4.31,\n",
    "  \"compliment_hot\": 339,\n",
    "  \"compliment_more\": 668,\n",
    "  \"compliment_profile\": 42,\n",
    "  \"compliment_cute\": 62,\n",
    "  \"compliment_list\": 37,\n",
    "  \"compliment_note\": 356,\n",
    "  \"compliment_plain\": 68,\n",
    "  \"compliment_cool\": 91,\n",
    "  \"compliment_funny\": 99,\n",
    "  \"compliment_writer\": 95,\n",
    "  \"compliment_photos\": 50\n",
    "}\n"
   ]
  }
 ],
 "metadata": {
  "language_info": {
   "name": "python"
  }
 },
 "nbformat": 4,
 "nbformat_minor": 2
}
