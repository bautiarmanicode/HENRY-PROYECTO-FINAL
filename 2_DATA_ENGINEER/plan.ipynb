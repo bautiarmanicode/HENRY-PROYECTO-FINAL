{
 "cells": [
  {
   "cell_type": "markdown",
   "metadata": {},
   "source": [
    "* requirements.txt\n",
    "* pandas\n",
    "* sqlalchemy\n",
    "* pymysql\n",
    "* mysqlclient\n",
    "* airflow"
   ]
  },
  {
   "cell_type": "markdown",
   "metadata": {},
   "source": [
    "Configuración de MySQL:"
   ]
  },
  {
   "cell_type": "code",
   "execution_count": null,
   "metadata": {},
   "outputs": [],
   "source": [
    "!pip install pandas pymysql sqlalchemy apache-airflow\n"
   ]
  },
  {
   "cell_type": "code",
   "execution_count": null,
   "metadata": {
    "vscode": {
     "languageId": "sql"
    }
   },
   "outputs": [],
   "source": [
    "CREATE DATABASE yelp_google_db;"
   ]
  },
  {
   "cell_type": "markdown",
   "metadata": {},
   "source": [
    "Crear las tablas basadas en el diccionario de datos:\n",
    "\n"
   ]
  },
  {
   "cell_type": "markdown",
   "metadata": {},
   "source": [
    "Usar el archivo Diccionario de datos.txt para definir las tablas en la base de datos MySQL."
   ]
  },
  {
   "cell_type": "code",
   "execution_count": null,
   "metadata": {
    "vscode": {
     "languageId": "sql"
    }
   },
   "outputs": [],
   "source": [
    "USE yelp_google_db;\n",
    "\n",
    "CREATE TABLE google_metadata (\n",
    "    id INT AUTO_INCREMENT PRIMARY KEY,\n",
    "    name VARCHAR(255),\n",
    "    address VARCHAR(255),\n",
    "    gmap_id VARCHAR(255),\n",
    "    description TEXT,\n",
    "    latitude FLOAT,\n",
    "    longitude FLOAT,\n",
    "    category JSON,\n",
    "    avg_rating FLOAT,\n",
    "    num_of_reviews INT,\n",
    "    price VARCHAR(10),\n",
    "    hours JSON,\n",
    "    misc JSON,\n",
    "    state VARCHAR(50),\n",
    "    relative_results JSON,\n",
    "    url VARCHAR(255)\n",
    ");\n",
    "\n",
    "CREATE TABLE google_reviews (\n",
    "    id INT AUTO_INCREMENT PRIMARY KEY,\n",
    "    user_id VARCHAR(255),\n",
    "    name VARCHAR(255),\n",
    "    time BIGINT,\n",
    "    rating INT,\n",
    "    text TEXT,\n",
    "    pics JSON,\n",
    "    resp JSON,\n",
    "    gmap_id VARCHAR(255)\n",
    ");\n",
    "\n",
    "CREATE TABLE yelp_business (\n",
    "    business_id VARCHAR(255) PRIMARY KEY,\n",
    "    name VARCHAR(255),\n",
    "    address VARCHAR(255),\n",
    "    city VARCHAR(100),\n",
    "    state VARCHAR(10),\n",
    "    postal_code VARCHAR(10),\n",
    "    latitude FLOAT,\n",
    "    longitude FLOAT,\n",
    "    stars FLOAT,\n",
    "    review_count INT,\n",
    "    is_open INT,\n",
    "    attributes JSON,\n",
    "    categories JSON,\n",
    "    hours JSON\n",
    ");\n",
    "\n",
    "CREATE TABLE yelp_reviews (\n",
    "    review_id VARCHAR(255) PRIMARY KEY,\n",
    "    user_id VARCHAR(255),\n",
    "    business_id VARCHAR(255),\n",
    "    stars INT,\n",
    "    date DATE,\n",
    "    text TEXT,\n",
    "    useful INT,\n",
    "    funny INT,\n",
    "    cool INT\n",
    ");\n",
    "\n",
    "CREATE TABLE yelp_users (\n",
    "    user_id VARCHAR(255) PRIMARY KEY,\n",
    "    name VARCHAR(255),\n",
    "    review_count INT,\n",
    "    yelping_since DATE,\n",
    "    friends JSON,\n",
    "    useful INT,\n",
    "    funny INT,\n",
    "    cool INT,\n",
    "    fans INT,\n",
    "    elite JSON,\n",
    "    average_stars FLOAT,\n",
    "    compliment_hot INT,\n",
    "    compliment_more INT,\n",
    "    compliment_profile INT,\n",
    "    compliment_cute INT,\n",
    "    compliment_list INT,\n",
    "    compliment_note INT,\n",
    "    compliment_plain INT,\n",
    "    compliment_cool INT,\n",
    "    compliment_funny INT,\n",
    "    compliment_writer INT,\n",
    "    compliment_photos INT\n",
    ");\n",
    "\n",
    "CREATE TABLE yelp_checkins (\n",
    "    business_id VARCHAR(255),\n",
    "    date JSON\n",
    ");\n",
    "\n",
    "CREATE TABLE yelp_tips (\n",
    "    text TEXT,\n",
    "    date DATE,\n",
    "    compliment_count INT,\n",
    "    business_id VARCHAR(255),\n",
    "    user_id VARCHAR(255)\n",
    ");\n"
   ]
  },
  {
   "cell_type": "markdown",
   "metadata": {},
   "source": [
    "Instalación de Dependencias de Python\n"
   ]
  },
  {
   "cell_type": "code",
   "execution_count": null,
   "metadata": {
    "vscode": {
     "languageId": "sql"
    }
   },
   "outputs": [],
   "source": [
    "sudo apt-get install python3-pip\n",
    "pip3 install virtualenv\n",
    "virtualenv venv\n",
    "source venv/bin/activate\n"
   ]
  },
  {
   "cell_type": "markdown",
   "metadata": {},
   "source": [
    "* 2. Desarrollo del Script ETL\n",
    "* Script para Procesar y Cargar Datos\n",
    "* Script para Procesar y Cargar Datos de Yelp y Google:\n",
    "* Basado en google-yelp.txt, crear un script ETL en Python.\n"
   ]
  },
  {
   "cell_type": "markdown",
   "metadata": {},
   "source": [
    "# 3. Automatización del Proceso ETL"
   ]
  },
  {
   "cell_type": "markdown",
   "metadata": {},
   "source": [
    "* 5. Validación y Pruebas\n",
    "* Verificación de Datos\n",
    "* Realiza consultas SQL para verificar que los datos se hayan cargado correctamente:"
   ]
  },
  {
   "cell_type": "code",
   "execution_count": null,
   "metadata": {
    "vscode": {
     "languageId": "sql"
    }
   },
   "outputs": [],
   "source": [
    "USE yelp_google_db;\n",
    "\n",
    "SELECT COUNT(*) FROM google_metadata;\n",
    "SELECT COUNT(*) FROM google_reviews;\n",
    "SELECT COUNT(*) FROM yelp_business;\n",
    "SELECT COUNT(*) FROM yelp_reviews;\n",
    "SELECT COUNT(*) FROM yelp_users;\n",
    "SELECT COUNT(*) FROM yelp_checkins;\n",
    "SELECT COUNT(*) FROM yelp_tips;\n"
   ]
  },
  {
   "cell_type": "markdown",
   "metadata": {},
   "source": [
    "# 4. Validación y Monitorización del Proceso\n",
    "* Validación de Datos\n",
    "* Validar Datos Después de Cargar en MySQL:\n",
    "* Crear scripts para validar la calidad de los datos en MySQL.\n",
    "* Por ejemplo, verificar que no hay valores nulos en campos clave.\n",
    "* Monitorización\n",
    "* Usar la Interfaz Web de Airflow:\n",
    "* Monitorear la ejecución de tareas ETL.\n",
    "* Configurar alertas por correo electrónico para fallos en las tareas.\n",
    "* 5. Documentación y Presentación\n",
    "* Documentar el Ciclo de Vida del Dato:\n",
    "\n",
    "* Crear un diagrama que muestre el flujo de datos desde la extracción hasta la carga y análisis.\n",
    "* Explicar cada etapa del proceso y las tecnologías utilizadas.\n",
    "* Diseñar el Modelo de Datos:\n",
    "\n",
    "* Crear un DER (Diagrama Entidad-Relación) basado en el análisis de los datos y necesidades del proyecto.\n",
    "* Justificar la elección del modelo (estrella, copo de nieve, etc.).\n",
    "* Conclusión\n",
    "* Este plan detallado abarca todos los pasos necesarios para implementar un pipeline ETL de manera local, utilizando MySQL y Apache Airflow para la automatización. Este enfoque asegura que el proceso sea reproducible, escalable y fácil de monitorear, cumpliendo con los criterios de aprobación requeridos."
   ]
  },
  {
   "cell_type": "code",
   "execution_count": null,
   "metadata": {
    "vscode": {
     "languageId": "sql"
    }
   },
   "outputs": [],
   "source": [
    "import matplotlib.pyplot as plt\n",
    "import seaborn as sns\n",
    "\n",
    "# Conectar a la base de datos\n",
    "connection = engine.connect()\n",
    "\n",
    "# Consultar datos\n",
    "df_reviews = pd.read_sql('SELECT stars, COUNT(*) as count FROM yelp_reviews GROUP BY stars', connection)\n",
    "\n",
    "# Crear visualización\n",
    "plt.figure(figsize=(10, 6))\n",
    "sns.barplot(x='stars', y='count', data=df_reviews)\n",
    "plt.title('Distribución de Calificaciones en Yelp Reviews')\n",
    "plt.xlabel('Calificación')\n",
    "plt.ylabel('Cantidad')\n",
    "plt.show()\n"
   ]
  }
 ],
 "metadata": {
  "kernelspec": {
   "display_name": "Python 3",
   "language": "python",
   "name": "python3"
  },
  "language_info": {
   "codemirror_mode": {
    "name": "ipython",
    "version": 3
   },
   "file_extension": ".py",
   "mimetype": "text/x-python",
   "name": "python",
   "nbconvert_exporter": "python",
   "pygments_lexer": "ipython3",
   "version": "3.10.11"
  }
 },
 "nbformat": 4,
 "nbformat_minor": 2
}
