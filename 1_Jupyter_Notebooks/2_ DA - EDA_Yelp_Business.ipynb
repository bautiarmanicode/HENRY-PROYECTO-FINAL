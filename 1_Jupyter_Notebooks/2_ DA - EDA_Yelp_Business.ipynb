{
 "cells": [
  {
   "cell_type": "code",
   "execution_count": 13,
   "metadata": {},
   "outputs": [],
   "source": [
    "#by bauto: boceto del eda \n",
    "# dejo de subtitulo EDA-pro con sugerencias a ejecutar"
   ]
  },
  {
   "cell_type": "markdown",
   "metadata": {},
   "source": [
    "# 🔎 Análisis Exploratorio de Datos:\n",
    "\n",
    "* **EDA-Calidad po-rubrica en verde todo gud:**\n",
    "  1. Tipos de datos\n",
    "  2. Valores faltantes\n",
    "  3. Nulos\n",
    "  4. Duplicados\n",
    "  5. metadatos/dicc datos\n",
    "  6. outliers\n",
    "  7. distribucion \n",
    "\n",
    "\n",
    "* **EDA-pro plus, henry contratame quiero vivir de esto:**\n",
    "  \n",
    "  1. Cantidad de valores totales en cada columna\n",
    "  2. Tamaño de los datos\n",
    "  3. Estadistica descriptiva(cantidad,media,desviacion estandar,minimo,percentil,mediana,percentil 75, màximo)\n",
    "  4. Varianza\n",
    "  5. ☁️ Nube de palabras \n",
    "  6. Correlaciones entre variables\n",
    "  7. Distribuciones de las variables numéricas\n",
    "  8. Distribuciones de las variables categóricas\n",
    "  9. Análisis de serie de tiempo"
   ]
  },
  {
   "cell_type": "markdown",
   "metadata": {},
   "source": [
    "Tambien vamos a estar utilizando la funcion personalizada personalizada `data_type_check` invocada desde `data_utils.py` para dejar un vistazo raápido del dataframe y  poder observar:\n",
    "- Variables categóricas\n",
    "- Variables numéricas\n",
    "- Dimensiones del dataframe\n",
    "- Nulos\n",
    "- Tipos de datos\n",
    "- Informacion acerca de los datos faltantes o nulos de cada columna    \n"
   ]
  },
  {
   "cell_type": "markdown",
   "metadata": {},
   "source": [
    "####  **Importamos las librerías que vamos a usar**\n"
   ]
  },
  {
   "cell_type": "code",
   "execution_count": 2,
   "metadata": {},
   "outputs": [],
   "source": [
    "import gc\n",
    "import os\n",
    "import warnings\n",
    "\n",
    "import pandas as pd\n",
    "from data_utils import data_type_check, data_type_check_pkl\n",
    "\n",
    "warnings.filterwarnings('ignore')\n",
    "import matplotlib.pyplot as plt\n",
    "import pyarrow as pa\n",
    "import pyarrow.parquet as pq\n",
    "import seaborn as sns"
   ]
  },
  {
   "cell_type": "markdown",
   "metadata": {},
   "source": [
    "#### 📦 **Extraccion** de los datos y primera exploración \n"
   ]
  },
  {
   "cell_type": "code",
   "execution_count": 3,
   "metadata": {},
   "outputs": [],
   "source": [
    "#Yelp\n",
    "business = pd.read_parquet('../0_Dataset/Yelp/business.parquet')\n",
    "df_rev_FL = pd.read_parquet('../0_Dataset/Yelp/review_reducido.parquet')\n",
    "df_checkin_FL = pd.read_parquet('../0_Dataset/Yelp/checkin_reducido.parquet')\n",
    "df_tip_FL = pd.read_parquet('../0_Dataset/Yelp/tip_reducido.parquet')\n",
    "df_user_FL = pd.read_parquet('../0_Dataset/Yelp/user_reducido.parquet')\n",
    "\n",
    "#Google\n",
    "df_G_review_FL = pd.read_parquet('../0_Dataset/Google/G_review_reducido.parquet')\n",
    "df_G_metadata_FL = pd.read_parquet('../0_Dataset/Google/G_metadata_FL_reducido.parquet')\n"
   ]
  },
  {
   "cell_type": "code",
   "execution_count": null,
   "metadata": {},
   "outputs": [],
   "source": []
  },
  {
   "cell_type": "code",
   "execution_count": null,
   "metadata": {},
   "outputs": [],
   "source": []
  },
  {
   "cell_type": "code",
   "execution_count": null,
   "metadata": {},
   "outputs": [],
   "source": []
  },
  {
   "cell_type": "markdown",
   "metadata": {},
   "source": [
    "___"
   ]
  },
  {
   "cell_type": "markdown",
   "metadata": {},
   "source": [
    "### Filtramos pizzerias en el estado Florida\n"
   ]
  },
  {
   "cell_type": "markdown",
   "metadata": {},
   "source": [
    "Vamos a filtrar por estado. Para eso primero observamos todos los estados y luego elejimos el que vamos a usar"
   ]
  },
  {
   "cell_type": "code",
   "execution_count": null,
   "metadata": {},
   "outputs": [],
   "source": [
    "business['state'].value_counts()"
   ]
  },
  {
   "cell_type": "markdown",
   "metadata": {},
   "source": [
    "### Filtramos las categorías más frecuentes en general en Estados Unidos\n"
   ]
  },
  {
   "cell_type": "code",
   "execution_count": null,
   "metadata": {},
   "outputs": [],
   "source": [
    "# Obtener el conteo de cada categoría en el DataFrame completo\n",
    "conteo_categorias_totales = business['categories'].value_counts()\n",
    "\n",
    "# Obtener las categorías únicas y ordenarlas alfabéticamente\n",
    "categorias_unicas_totales = sorted(business['categories'].unique())\n",
    "\n",
    "# Calcular el top 10 de categorías más frecuentes en general\n",
    "top_10_categorias_totales = conteo_categorias_totales.head(10)\n",
    "\n",
    "# Imprimir el top 10 de categorías más frecuentes en general\n",
    "print(\"Top 10 Categorías Más Frecuentes en General:\")\n",
    "for i, (categoria, conteo) in enumerate(top_10_categorias_totales.items(), 1):\n",
    "    print(f\"{i}. {categoria}: {conteo} veces\")\n",
    "\n",
    "# Si hay más categorías, mostrar un mensaje de resumen\n",
    "if len(conteo_categorias_totales) > 10:\n",
    "    print(f\"\\nY {len(conteo_categorias_totales) - 10} categorías más...\")\n",
    "\n",
    "print(\"\\n\")"
   ]
  },
  {
   "cell_type": "markdown",
   "metadata": {},
   "source": [
    "### Vamos a observar las categorías relacionadas con restaurantes en Florida\n"
   ]
  },
  {
   "cell_type": "code",
   "execution_count": null,
   "metadata": {},
   "outputs": [],
   "source": [
    "# Filtrar el DataFrame original para obtener solo las categorías relacionadas con restaurantes en Florida\n",
    "df_estado_FL = business[business['categories'].str.lower().str.contains('restaurant', na=False) & (business['state'] == 'FL')].reset_index(drop=True)\n",
    "\n",
    "# Obtener el conteo de cada categoría específicamente en Florida\n",
    "conteo_categorias_FL = df_estado_FL['categories'].value_counts()\n",
    "\n",
    "# Calcular el top 10 de categorías más frecuentes en Florida\n",
    "top_10_categorias_FL = conteo_categorias_FL.head(10)\n",
    "\n",
    "# Imprimir el top 10 de categorías más frecuentes en Florida\n",
    "print(\"Top 10 Categorías Más Frecuentes en Florida:\")\n",
    "for i, (categoria, conteo) in enumerate(top_10_categorias_FL.items(), 1):\n",
    "    print(f\"{i}. {categoria}: {conteo} veces\")\n",
    "\n",
    "# Si hay más categorías, mostrar un mensaje de resumen\n",
    "if len(conteo_categorias_FL) > 10:\n",
    "    print(f\"\\nY {len(conteo_categorias_FL) - 10} categorías más...\")"
   ]
  },
  {
   "cell_type": "markdown",
   "metadata": {},
   "source": [
    "### Filtramos por la el interes del proyecto: Pizzerias"
   ]
  },
  {
   "cell_type": "markdown",
   "metadata": {},
   "source": [
    "Primero vamos a contar la cantidad de Pizzerias por estado\n"
   ]
  },
  {
   "cell_type": "code",
   "execution_count": null,
   "metadata": {},
   "outputs": [],
   "source": [
    "# Asegurar que 'categories' es de tipo string\n",
    "business['categories'] = business['categories'].astype(str)\n",
    "\n",
    "# Filtra las filas que contienen 'pizza' en 'categories'\n",
    "pizzerias = business[business['categories'].str.lower().str.contains('pizza', na=False)]\n",
    "\n",
    "# Cuenta la cantidad de pizzerías en cada estado\n",
    "conteo_pizzerias_por_estado = pizzerias['state'].value_counts()\n",
    "\n",
    "# Imprime el resultado\n",
    "print(\"Cantidad de Pizzerías por Estado:\")\n",
    "print(conteo_pizzerias_por_estado)\n"
   ]
  },
  {
   "cell_type": "markdown",
   "metadata": {},
   "source": [
    "### Filtramos las pizzerias de Florida\n"
   ]
  },
  {
   "cell_type": "code",
   "execution_count": null,
   "metadata": {},
   "outputs": [],
   "source": [
    "#Filtrar el DataFrame original para obtener solo las categorías relacionadas con restaurantes en Florida\n",
    "#Solo elegimos los locales abiertos\n",
    "df_estado_FL = business[business['categories'].str.lower().str.contains('pizza', na=False) & (business['state'] == 'FL') & (business['is_open'] == 1)].reset_index(drop=True)\n",
    "data_type_check(df_estado_FL)\n",
    "df_estado_FL.sample(2)"
   ]
  },
  {
   "cell_type": "code",
   "execution_count": null,
   "metadata": {},
   "outputs": [],
   "source": [
    "# Eliminamos state y is_open\n",
    "df_estado_FL = df_estado_FL.drop(columns=['state', 'is_open'])"
   ]
  },
  {
   "cell_type": "code",
   "execution_count": null,
   "metadata": {},
   "outputs": [],
   "source": [
    "# Filtrar las pizzerías solo para el estado de Florida (FL)\n",
    "pizzerias_florida = df_estado_FL[df_estado_FL['categories'].str.contains('Pizza', case=False, na=False)]\n",
    "\n",
    "# Ordenar las pizzerías por stars de manera descendente y luego por review_count de manera descendente\n",
    "top_pizzerias_por_star_y_reseñas = pizzerias_florida.sort_values(by=['stars', 'review_count'], ascending=[False, False])\n",
    "\n",
    "# Muestra las primeras 10 pizzerías del top\n",
    "top_10_pizzerias_por_star_y_reseñas = top_pizzerias_por_star_y_reseñas.head(10)\n",
    "\n",
    "# Imprime el resultado\n",
    "print(\"Top 10 Pizzerías en Florida por Calificación Promedio y Reseñas:\")\n",
    "for i, (index, row) in enumerate(top_10_pizzerias_por_star_y_reseñas.iterrows(), 1):\n",
    "    print(f\"{i}. {row['name']} - {row['city']}, {row['state']} - {row['stars']} estrellas, {row['review_count']} reseñas\")\n"
   ]
  },
  {
   "cell_type": "code",
   "execution_count": null,
   "metadata": {},
   "outputs": [],
   "source": [
    "# Eliminamos state y is_open\n",
    "df_estado_FL = df_estado_FL.drop(columns=['state', 'is_open'])"
   ]
  },
  {
   "cell_type": "code",
   "execution_count": null,
   "metadata": {},
   "outputs": [],
   "source": [
    "#reseteamos el indice\n",
    "df_estado_FL = df_estado_FL.reset_index(drop=True)"
   ]
  }
 ],
 "metadata": {
  "kernelspec": {
   "display_name": "Python 3",
   "language": "python",
   "name": "python3"
  },
  "language_info": {
   "codemirror_mode": {
    "name": "ipython",
    "version": 3
   },
   "file_extension": ".py",
   "mimetype": "text/x-python",
   "name": "python",
   "nbconvert_exporter": "python",
   "pygments_lexer": "ipython3",
   "version": "3.10.11"
  }
 },
 "nbformat": 4,
 "nbformat_minor": 2
}
