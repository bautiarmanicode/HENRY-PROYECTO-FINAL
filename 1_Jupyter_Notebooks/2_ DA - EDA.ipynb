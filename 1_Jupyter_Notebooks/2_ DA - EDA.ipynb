{
 "cells": [
  {
   "cell_type": "code",
   "execution_count": null,
   "metadata": {},
   "outputs": [],
   "source": [
    "#by bauto: ejemplo de eda completo y copadisimo, ejecuten a su criterio"
   ]
  },
  {
   "cell_type": "markdown",
   "metadata": {},
   "source": [
    "# 🔎 Análisis Exploratorio de Datos:\n",
    "\n",
    "* **EDA-Calidad po-rubrica en verde todo gud:**\n",
    "  1. Tipos de datos\n",
    "  2. Valores faltantes\n",
    "  3. Nulos\n",
    "  4. Duplicados\n",
    "  5. metadatos/dicc datos\n",
    "  6. outliers\n",
    "  7. distribucion \n",
    "\n",
    "\n",
    "* **EDA-pro plus, henry contratame quiero vivir de esto:**\n",
    "  \n",
    "  1. Cantidad de valores totales en cada columna\n",
    "  2. Tamaño de los datos\n",
    "  3. Estadistica descriptiva(cantidad,media,desviacion estandar,minimo,percentil,mediana,percentil 75, màximo)\n",
    "  4. Varianza\n",
    "  5. ☁️ Nube de palabras \n",
    "  6. Correlaciones entre variables\n",
    "  7. Distribuciones de las variables numéricas\n",
    "  8. Distribuciones de las variables categóricas\n",
    "  9. Análisis de serie de tiempo"
   ]
  },
  {
   "cell_type": "code",
   "execution_count": null,
   "metadata": {},
   "outputs": [],
   "source": [
    "from data_utils import data_type_check"
   ]
  },
  {
   "cell_type": "markdown",
   "metadata": {},
   "source": [
    "#### Usando la funcion personalizada `data_type_check` invocada desde `data_utils.py` podemos observar:\n",
    "1. Tipos de datos\n",
    "2. Valores faltantes\n",
    "3. Nulos\n",
    "4. Dimensiones del dataframe\n"
   ]
  },
  {
   "cell_type": "code",
   "execution_count": null,
   "metadata": {},
   "outputs": [],
   "source": [
    "data_type_check() #ponerle un df para ver "
   ]
  }
 ],
 "metadata": {
  "language_info": {
   "name": "python"
  }
 },
 "nbformat": 4,
 "nbformat_minor": 2
}
