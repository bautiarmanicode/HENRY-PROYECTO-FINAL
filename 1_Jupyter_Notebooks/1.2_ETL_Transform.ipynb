{
 "cells": [
  {
   "cell_type": "markdown",
   "metadata": {},
   "source": [
    "## 🛠️ **ETL (Extract, Transform, Load)**\n",
    "\n"
   ]
  },
  {
   "cell_type": "markdown",
   "metadata": {},
   "source": [
    "En este ipynb vamos a transformar los archivos, cambiando sus tipos de datos y demas. "
   ]
  },
  {
   "cell_type": "markdown",
   "metadata": {},
   "source": [
    "Tambien vamos a estar utilizando la funcion personalizada personalizada `data_type_check` invocada desde `data_utils.py` para dejar un vistazo raápido del dataframe y  poder observar:\n",
    "- Variables categóricas\n",
    "- Variables numéricas\n",
    "- Dimensiones del dataframe\n",
    "- Nulos\n",
    "- Tipos de datos\n",
    "- Informacion acerca de los datos faltantes o nulos de cada columna    \n"
   ]
  },
  {
   "cell_type": "markdown",
   "metadata": {},
   "source": [
    "####  **Importamos las librerías que vamos a usar**\n"
   ]
  },
  {
   "cell_type": "code",
   "execution_count": 1,
   "metadata": {},
   "outputs": [],
   "source": [
    "\n",
    "import warnings\n",
    "import re\n",
    "import pandas as pd\n",
    "from data_utils import data_type_check\n",
    "\n",
    "warnings.filterwarnings('ignore')\n",
    "import matplotlib.pyplot as plt\n",
    "import pyarrow as pa\n",
    "import pyarrow.parquet as pq\n",
    "import seaborn as sns\n",
    "import json"
   ]
  },
  {
   "cell_type": "markdown",
   "metadata": {},
   "source": [
    "#### 📦 **Extraccion** de los datos y primera exploración \n"
   ]
  },
  {
   "cell_type": "code",
   "execution_count": 2,
   "metadata": {},
   "outputs": [],
   "source": [
    "#Yelp\n",
    "business = pd.read_parquet('../0_Dataset/Data_Sucia/Yelp/business.parquet')\n",
    "df_rev_FL = pd.read_parquet('../0_Dataset/Data_Sucia/Yelp/review_reducido.parquet')\n",
    "df_checkin_FL = pd.read_parquet('../0_Dataset/Data_Sucia/Yelp/checkin_reducido.parquet')\n",
    "df_tip_FL = pd.read_parquet('../0_Dataset/Data_Sucia/Yelp/tip.parquet')\n",
    "df_user_FL = pd.read_parquet('../0_Dataset/Data_Sucia/Yelp/user_reducido.parquet')\n",
    "\n",
    "#Google\n",
    "df_G_review_FL = pd.read_parquet('../0_Dataset/Data_Sucia/Google/G_review_FL_reducido.parquet')\n",
    "df_G_metadata_FL = pd.read_parquet('../0_Dataset/Data_Sucia/Google/G_metadata_FL_reducido.parquet')\n"
   ]
  },
  {
   "cell_type": "markdown",
   "metadata": {},
   "source": [
    "___"
   ]
  },
  {
   "cell_type": "markdown",
   "metadata": {},
   "source": [
    "## Dataset Yelp"
   ]
  },
  {
   "cell_type": "markdown",
   "metadata": {},
   "source": [
    "### business"
   ]
  },
  {
   "cell_type": "code",
   "execution_count": 3,
   "metadata": {},
   "outputs": [
    {
     "name": "stdout",
     "output_type": "stream",
     "text": [
      "\n",
      "========================================\n",
      " Resumen del dataframe:\n",
      "\n",
      "========================================\n",
      "Dimensiones:  (150240, 15)\n",
      "         columna  %_no_nulos  %_nulos  total_nulos tipo_dato\n",
      "0    business_id       100.0      0.0            0    object\n",
      "1           name       100.0      0.0            0    object\n",
      "2        address       100.0      0.0            0    object\n",
      "3           city       100.0      0.0            0    object\n",
      "4          state       100.0      0.0            0    object\n",
      "5    postal_code       100.0      0.0            0    object\n",
      "6       latitude       100.0      0.0            0   float64\n",
      "7      longitude       100.0      0.0            0   float64\n",
      "8          stars       100.0      0.0            0   float64\n",
      "9   review_count       100.0      0.0            0     int64\n",
      "10       is_open       100.0      0.0            0     int64\n",
      "11    attributes       100.0      0.0            0    object\n",
      "12    categories       100.0      0.0            0    object\n",
      "13         hours       100.0      0.0            0    object\n",
      "14  parsed_hours       100.0      0.0            0    object\n"
     ]
    },
    {
     "data": {
      "text/html": [
       "<div>\n",
       "<style scoped>\n",
       "    .dataframe tbody tr th:only-of-type {\n",
       "        vertical-align: middle;\n",
       "    }\n",
       "\n",
       "    .dataframe tbody tr th {\n",
       "        vertical-align: top;\n",
       "    }\n",
       "\n",
       "    .dataframe thead th {\n",
       "        text-align: right;\n",
       "    }\n",
       "</style>\n",
       "<table border=\"1\" class=\"dataframe\">\n",
       "  <thead>\n",
       "    <tr style=\"text-align: right;\">\n",
       "      <th></th>\n",
       "      <th>business_id</th>\n",
       "      <th>name</th>\n",
       "      <th>address</th>\n",
       "      <th>city</th>\n",
       "      <th>state</th>\n",
       "      <th>postal_code</th>\n",
       "      <th>latitude</th>\n",
       "      <th>longitude</th>\n",
       "      <th>stars</th>\n",
       "      <th>review_count</th>\n",
       "      <th>is_open</th>\n",
       "      <th>attributes</th>\n",
       "      <th>categories</th>\n",
       "      <th>hours</th>\n",
       "      <th>parsed_hours</th>\n",
       "    </tr>\n",
       "  </thead>\n",
       "  <tbody>\n",
       "    <tr>\n",
       "      <th>73095</th>\n",
       "      <td>ulOwGfwsixQlpXnaXONDgw</td>\n",
       "      <td>Walgreens</td>\n",
       "      <td>20 W Main St</td>\n",
       "      <td>Brownsburg</td>\n",
       "      <td>LA</td>\n",
       "      <td>46112</td>\n",
       "      <td>39.843880</td>\n",
       "      <td>-86.398340</td>\n",
       "      <td>2.5</td>\n",
       "      <td>9</td>\n",
       "      <td>1</td>\n",
       "      <td>{\"AcceptsInsurance\": null, \"AgesAllowed\": null...</td>\n",
       "      <td>[Food, Drugstores, Beauty &amp; Spas, Cosmetics &amp; ...</td>\n",
       "      <td>{\"Friday\": \"7:0-23:0\", \"Monday\": \"7:0-23:0\", \"...</td>\n",
       "      <td>{'Friday': '7:0-23:0', 'Monday': '7:0-23:0', '...</td>\n",
       "    </tr>\n",
       "    <tr>\n",
       "      <th>115021</th>\n",
       "      <td>dHYGLQkSxp8nFyzydmgeVw</td>\n",
       "      <td>Starbucks</td>\n",
       "      <td>6575 Central Ave</td>\n",
       "      <td>St. Petersburg</td>\n",
       "      <td>IN</td>\n",
       "      <td>33710</td>\n",
       "      <td>27.771167</td>\n",
       "      <td>-82.728097</td>\n",
       "      <td>3.0</td>\n",
       "      <td>45</td>\n",
       "      <td>1</td>\n",
       "      <td>{\"AcceptsInsurance\": null, \"AgesAllowed\": null...</td>\n",
       "      <td>[Food, Coffee &amp; Tea]</td>\n",
       "      <td>{\"Friday\": \"5:0-21:0\", \"Monday\": \"0:0-0:0\", \"S...</td>\n",
       "      <td>{'Friday': '5:0-21:0', 'Monday': '0:0-0:0', 'S...</td>\n",
       "    </tr>\n",
       "  </tbody>\n",
       "</table>\n",
       "</div>"
      ],
      "text/plain": [
       "                   business_id       name           address            city  \\\n",
       "73095   ulOwGfwsixQlpXnaXONDgw  Walgreens      20 W Main St      Brownsburg   \n",
       "115021  dHYGLQkSxp8nFyzydmgeVw  Starbucks  6575 Central Ave  St. Petersburg   \n",
       "\n",
       "       state postal_code   latitude  longitude  stars  review_count  is_open  \\\n",
       "73095     LA       46112  39.843880 -86.398340    2.5             9        1   \n",
       "115021    IN       33710  27.771167 -82.728097    3.0            45        1   \n",
       "\n",
       "                                               attributes  \\\n",
       "73095   {\"AcceptsInsurance\": null, \"AgesAllowed\": null...   \n",
       "115021  {\"AcceptsInsurance\": null, \"AgesAllowed\": null...   \n",
       "\n",
       "                                               categories  \\\n",
       "73095   [Food, Drugstores, Beauty & Spas, Cosmetics & ...   \n",
       "115021                               [Food, Coffee & Tea]   \n",
       "\n",
       "                                                    hours  \\\n",
       "73095   {\"Friday\": \"7:0-23:0\", \"Monday\": \"7:0-23:0\", \"...   \n",
       "115021  {\"Friday\": \"5:0-21:0\", \"Monday\": \"0:0-0:0\", \"S...   \n",
       "\n",
       "                                             parsed_hours  \n",
       "73095   {'Friday': '7:0-23:0', 'Monday': '7:0-23:0', '...  \n",
       "115021  {'Friday': '5:0-21:0', 'Monday': '0:0-0:0', 'S...  "
      ]
     },
     "execution_count": 3,
     "metadata": {},
     "output_type": "execute_result"
    }
   ],
   "source": [
    "data_type_check(business)\n",
    "business.sample(2)"
   ]
  },
  {
   "cell_type": "markdown",
   "metadata": {},
   "source": [
    "🔁 TRANSFORM"
   ]
  },
  {
   "cell_type": "markdown",
   "metadata": {},
   "source": [
    "Convertir columnas attributes y hours a cadenas para manejar nulos:"
   ]
  },
  {
   "cell_type": "code",
   "execution_count": 4,
   "metadata": {},
   "outputs": [],
   "source": [
    "business['attributes'] = business['attributes'].apply(lambda x: json.dumps(x) if isinstance(x, dict) else x)\n",
    "business['hours'] = business['hours'].apply(lambda x: json.dumps(x) if isinstance(x, dict) else x)\n"
   ]
  },
  {
   "cell_type": "markdown",
   "metadata": {},
   "source": [
    "Rellenar valores nulos en attributes y hours"
   ]
  },
  {
   "cell_type": "code",
   "execution_count": 5,
   "metadata": {},
   "outputs": [],
   "source": [
    "business['attributes'].fillna('No disponible', inplace=True)\n",
    "business['hours'].fillna('No disponible', inplace=True)\n"
   ]
  },
  {
   "cell_type": "markdown",
   "metadata": {},
   "source": [
    "Eliminar nulos en state"
   ]
  },
  {
   "cell_type": "code",
   "execution_count": 6,
   "metadata": {},
   "outputs": [],
   "source": [
    "business.dropna(subset=['state'], inplace=True)"
   ]
  },
  {
   "cell_type": "markdown",
   "metadata": {},
   "source": [
    "Eliminar filas duplicadas:"
   ]
  },
  {
   "cell_type": "code",
   "execution_count": 7,
   "metadata": {},
   "outputs": [],
   "source": [
    "#business.drop_duplicates(inplace=True)"
   ]
  },
  {
   "cell_type": "markdown",
   "metadata": {},
   "source": [
    "Estandarización de Categorías:\n",
    "\n",
    "- La columna categories contiene múltiples categorías separadas por comas. Es útil dividir estas categorías para análisis específicos"
   ]
  },
  {
   "cell_type": "code",
   "execution_count": 8,
   "metadata": {},
   "outputs": [],
   "source": [
    "business['categories'] = business['categories'].str.split(', ')"
   ]
  },
  {
   "cell_type": "markdown",
   "metadata": {},
   "source": [
    "Extracción de Horarios"
   ]
  },
  {
   "cell_type": "code",
   "execution_count": 9,
   "metadata": {},
   "outputs": [],
   "source": [
    "def parse_hours(hours):\n",
    "    try:\n",
    "        return json.loads(hours.replace(\"'\", '\"'))\n",
    "    except:\n",
    "        return {}\n",
    "\n",
    "business['parsed_hours'] = business['hours'].apply(parse_hours)\n"
   ]
  },
  {
   "cell_type": "code",
   "execution_count": 10,
   "metadata": {},
   "outputs": [
    {
     "name": "stdout",
     "output_type": "stream",
     "text": [
      "\n",
      "========================================\n",
      " Resumen del dataframe:\n",
      "\n",
      "========================================\n",
      "Dimensiones:  (150240, 15)\n",
      "         columna  %_no_nulos  %_nulos  total_nulos tipo_dato\n",
      "0    business_id       100.0      0.0            0    object\n",
      "1           name       100.0      0.0            0    object\n",
      "2        address       100.0      0.0            0    object\n",
      "3           city       100.0      0.0            0    object\n",
      "4          state       100.0      0.0            0    object\n",
      "5    postal_code       100.0      0.0            0    object\n",
      "6       latitude       100.0      0.0            0   float64\n",
      "7      longitude       100.0      0.0            0   float64\n",
      "8          stars       100.0      0.0            0   float64\n",
      "9   review_count       100.0      0.0            0     int64\n",
      "10       is_open       100.0      0.0            0     int64\n",
      "11    attributes       100.0      0.0            0    object\n",
      "12    categories         0.0    100.0       150240   float64\n",
      "13         hours       100.0      0.0            0    object\n",
      "14  parsed_hours       100.0      0.0            0    object\n"
     ]
    },
    {
     "data": {
      "text/html": [
       "<div>\n",
       "<style scoped>\n",
       "    .dataframe tbody tr th:only-of-type {\n",
       "        vertical-align: middle;\n",
       "    }\n",
       "\n",
       "    .dataframe tbody tr th {\n",
       "        vertical-align: top;\n",
       "    }\n",
       "\n",
       "    .dataframe thead th {\n",
       "        text-align: right;\n",
       "    }\n",
       "</style>\n",
       "<table border=\"1\" class=\"dataframe\">\n",
       "  <thead>\n",
       "    <tr style=\"text-align: right;\">\n",
       "      <th></th>\n",
       "      <th>business_id</th>\n",
       "      <th>name</th>\n",
       "      <th>address</th>\n",
       "      <th>city</th>\n",
       "      <th>state</th>\n",
       "      <th>postal_code</th>\n",
       "      <th>latitude</th>\n",
       "      <th>longitude</th>\n",
       "      <th>stars</th>\n",
       "      <th>review_count</th>\n",
       "      <th>is_open</th>\n",
       "      <th>attributes</th>\n",
       "      <th>categories</th>\n",
       "      <th>hours</th>\n",
       "      <th>parsed_hours</th>\n",
       "    </tr>\n",
       "  </thead>\n",
       "  <tbody>\n",
       "    <tr>\n",
       "      <th>58468</th>\n",
       "      <td>gDvwpmD_Lqql3R81SeYGgQ</td>\n",
       "      <td>Designer Finds</td>\n",
       "      <td>2210 Crestmoor Rd</td>\n",
       "      <td>Nashville</td>\n",
       "      <td>FL</td>\n",
       "      <td>37215</td>\n",
       "      <td>36.10923</td>\n",
       "      <td>-86.814884</td>\n",
       "      <td>3.5</td>\n",
       "      <td>17</td>\n",
       "      <td>1</td>\n",
       "      <td>{\"AcceptsInsurance\": null, \"AgesAllowed\": null...</td>\n",
       "      <td>NaN</td>\n",
       "      <td>{\"Friday\": \"10:0-17:0\", \"Monday\": \"10:0-17:0\",...</td>\n",
       "      <td>{'Friday': '10:0-17:0', 'Monday': '10:0-17:0',...</td>\n",
       "    </tr>\n",
       "  </tbody>\n",
       "</table>\n",
       "</div>"
      ],
      "text/plain": [
       "                  business_id            name            address       city  \\\n",
       "58468  gDvwpmD_Lqql3R81SeYGgQ  Designer Finds  2210 Crestmoor Rd  Nashville   \n",
       "\n",
       "      state postal_code  latitude  longitude  stars  review_count  is_open  \\\n",
       "58468    FL       37215  36.10923 -86.814884    3.5            17        1   \n",
       "\n",
       "                                              attributes  categories  \\\n",
       "58468  {\"AcceptsInsurance\": null, \"AgesAllowed\": null...         NaN   \n",
       "\n",
       "                                                   hours  \\\n",
       "58468  {\"Friday\": \"10:0-17:0\", \"Monday\": \"10:0-17:0\",...   \n",
       "\n",
       "                                            parsed_hours  \n",
       "58468  {'Friday': '10:0-17:0', 'Monday': '10:0-17:0',...  "
      ]
     },
     "execution_count": 10,
     "metadata": {},
     "output_type": "execute_result"
    }
   ],
   "source": [
    "data_type_check(business)\n",
    "business.sample(1)"
   ]
  },
  {
   "cell_type": "markdown",
   "metadata": {},
   "source": [
    "📤 LOAD"
   ]
  },
  {
   "cell_type": "code",
   "execution_count": 11,
   "metadata": {},
   "outputs": [],
   "source": [
    "#guardar en parquet\n",
    "business.to_parquet(\"../0_Dataset/Data_Limpia/Yelp/business.parquet\", engine=\"pyarrow\")"
   ]
  },
  {
   "cell_type": "markdown",
   "metadata": {},
   "source": [
    "### review"
   ]
  },
  {
   "cell_type": "code",
   "execution_count": 12,
   "metadata": {},
   "outputs": [
    {
     "name": "stdout",
     "output_type": "stream",
     "text": [
      "\n",
      "========================================\n",
      " Resumen del dataframe:\n",
      "\n",
      "========================================\n",
      "Dimensiones:  (209708, 9)\n",
      "       columna  %_no_nulos  %_nulos  total_nulos       tipo_dato\n",
      "0    review_id       100.0      0.0            0          object\n",
      "1      user_id       100.0      0.0            0          object\n",
      "2  business_id       100.0      0.0            0          object\n",
      "3        stars       100.0      0.0            0           int64\n",
      "4       useful       100.0      0.0            0           int64\n",
      "5        funny       100.0      0.0            0           int64\n",
      "6         cool       100.0      0.0            0           int64\n",
      "7         text       100.0      0.0            0          object\n",
      "8         date       100.0      0.0            0  datetime64[ns]\n"
     ]
    },
    {
     "data": {
      "text/html": [
       "<div>\n",
       "<style scoped>\n",
       "    .dataframe tbody tr th:only-of-type {\n",
       "        vertical-align: middle;\n",
       "    }\n",
       "\n",
       "    .dataframe tbody tr th {\n",
       "        vertical-align: top;\n",
       "    }\n",
       "\n",
       "    .dataframe thead th {\n",
       "        text-align: right;\n",
       "    }\n",
       "</style>\n",
       "<table border=\"1\" class=\"dataframe\">\n",
       "  <thead>\n",
       "    <tr style=\"text-align: right;\">\n",
       "      <th></th>\n",
       "      <th>review_id</th>\n",
       "      <th>user_id</th>\n",
       "      <th>business_id</th>\n",
       "      <th>stars</th>\n",
       "      <th>useful</th>\n",
       "      <th>funny</th>\n",
       "      <th>cool</th>\n",
       "      <th>text</th>\n",
       "      <th>date</th>\n",
       "    </tr>\n",
       "  </thead>\n",
       "  <tbody>\n",
       "    <tr>\n",
       "      <th>192466</th>\n",
       "      <td>1TqRRXRmDWTwfm1dpNGbUw</td>\n",
       "      <td>Or4Y8elDmW2i6_cluqiUfg</td>\n",
       "      <td>Bq0CQcwk5R8yhm-MGfHxCA</td>\n",
       "      <td>4</td>\n",
       "      <td>0</td>\n",
       "      <td>0</td>\n",
       "      <td>0</td>\n",
       "      <td>On a recent trip to Tucson, my husband and I f...</td>\n",
       "      <td>2014-05-18 16:35:36</td>\n",
       "    </tr>\n",
       "    <tr>\n",
       "      <th>142152</th>\n",
       "      <td>lV5mO279ezOSqWg9GeisZw</td>\n",
       "      <td>4MF8vS-qJGpCDFwWvZcNFQ</td>\n",
       "      <td>3XTQcobtEsU11sSN2Jn7Bw</td>\n",
       "      <td>1</td>\n",
       "      <td>1</td>\n",
       "      <td>0</td>\n",
       "      <td>0</td>\n",
       "      <td>Used Pay worst for parking 12/18-12/29 When I ...</td>\n",
       "      <td>2016-01-05 01:34:52</td>\n",
       "    </tr>\n",
       "  </tbody>\n",
       "</table>\n",
       "</div>"
      ],
      "text/plain": [
       "                     review_id                 user_id  \\\n",
       "192466  1TqRRXRmDWTwfm1dpNGbUw  Or4Y8elDmW2i6_cluqiUfg   \n",
       "142152  lV5mO279ezOSqWg9GeisZw  4MF8vS-qJGpCDFwWvZcNFQ   \n",
       "\n",
       "                   business_id  stars  useful  funny  cool  \\\n",
       "192466  Bq0CQcwk5R8yhm-MGfHxCA      4       0      0     0   \n",
       "142152  3XTQcobtEsU11sSN2Jn7Bw      1       1      0     0   \n",
       "\n",
       "                                                     text                date  \n",
       "192466  On a recent trip to Tucson, my husband and I f... 2014-05-18 16:35:36  \n",
       "142152  Used Pay worst for parking 12/18-12/29 When I ... 2016-01-05 01:34:52  "
      ]
     },
     "execution_count": 12,
     "metadata": {},
     "output_type": "execute_result"
    }
   ],
   "source": [
    "#abrir el parquet review_reducido\n",
    "data_type_check(df_rev_FL)\n",
    "df_rev_FL.sample(2)"
   ]
  },
  {
   "cell_type": "markdown",
   "metadata": {},
   "source": [
    "Eliminar filas duplicadas"
   ]
  },
  {
   "cell_type": "code",
   "execution_count": 13,
   "metadata": {},
   "outputs": [],
   "source": [
    "df_rev_FL.drop_duplicates(inplace=True)\n"
   ]
  },
  {
   "cell_type": "markdown",
   "metadata": {},
   "source": [
    "Normalización de Texto: Para análisis de texto, es útil limpiar y normalizar las cadenas"
   ]
  },
  {
   "cell_type": "code",
   "execution_count": 14,
   "metadata": {},
   "outputs": [],
   "source": [
    "# Función para limpiar el texto\n",
    "# Convierte el texto a minúsculas\n",
    "# Remueve caracteres no alfanuméricos y los reemplaza por espacios\n",
    "# Remueve espacios múltiples y los reemplaza por un solo espacio\n",
    "# Elimina espacios al inicio y al final del texto\n",
    "def limpiar_texto(texto):\n",
    "    texto = texto.lower()\n",
    "    texto = re.sub(r\"\\W\", \" \", texto)\n",
    "    texto = re.sub(r\"\\s+\", \" \", texto)\n",
    "    return texto.strip()\n",
    "\n",
    "\n",
    "# Aplica la función limpiar_texto a la columna 'text' del DataFrame df_rev_FL\n",
    "df_rev_FL[\"text\"] = df_rev_FL[\"text\"].apply(limpiar_texto)"
   ]
  },
  {
   "cell_type": "markdown",
   "metadata": {},
   "source": [
    "posiblemente aca crear una columna para analisis de sentimiento"
   ]
  },
  {
   "cell_type": "markdown",
   "metadata": {},
   "source": [
    "\n",
    "📤 LOAD"
   ]
  },
  {
   "cell_type": "code",
   "execution_count": 15,
   "metadata": {},
   "outputs": [
    {
     "name": "stdout",
     "output_type": "stream",
     "text": [
      "\n",
      "========================================\n",
      " Resumen del dataframe:\n",
      "\n",
      "========================================\n",
      "Dimensiones:  (209708, 9)\n",
      "       columna  %_no_nulos  %_nulos  total_nulos       tipo_dato\n",
      "0    review_id       100.0      0.0            0          object\n",
      "1      user_id       100.0      0.0            0          object\n",
      "2  business_id       100.0      0.0            0          object\n",
      "3        stars       100.0      0.0            0           int64\n",
      "4       useful       100.0      0.0            0           int64\n",
      "5        funny       100.0      0.0            0           int64\n",
      "6         cool       100.0      0.0            0           int64\n",
      "7         text       100.0      0.0            0          object\n",
      "8         date       100.0      0.0            0  datetime64[ns]\n"
     ]
    },
    {
     "data": {
      "text/html": [
       "<div>\n",
       "<style scoped>\n",
       "    .dataframe tbody tr th:only-of-type {\n",
       "        vertical-align: middle;\n",
       "    }\n",
       "\n",
       "    .dataframe tbody tr th {\n",
       "        vertical-align: top;\n",
       "    }\n",
       "\n",
       "    .dataframe thead th {\n",
       "        text-align: right;\n",
       "    }\n",
       "</style>\n",
       "<table border=\"1\" class=\"dataframe\">\n",
       "  <thead>\n",
       "    <tr style=\"text-align: right;\">\n",
       "      <th></th>\n",
       "      <th>review_id</th>\n",
       "      <th>user_id</th>\n",
       "      <th>business_id</th>\n",
       "      <th>stars</th>\n",
       "      <th>useful</th>\n",
       "      <th>funny</th>\n",
       "      <th>cool</th>\n",
       "      <th>text</th>\n",
       "      <th>date</th>\n",
       "    </tr>\n",
       "  </thead>\n",
       "  <tbody>\n",
       "    <tr>\n",
       "      <th>183500</th>\n",
       "      <td>RS5cfqwYVCzwQqAZ60mWcg</td>\n",
       "      <td>8oeyYq6fdwa9XlYaFgxapA</td>\n",
       "      <td>QBnteiO92wOvE1WCYjMC_w</td>\n",
       "      <td>5</td>\n",
       "      <td>0</td>\n",
       "      <td>0</td>\n",
       "      <td>0</td>\n",
       "      <td>wow we loved this place it was very clean the ...</td>\n",
       "      <td>2021-10-29 23:02:20</td>\n",
       "    </tr>\n",
       "    <tr>\n",
       "      <th>82339</th>\n",
       "      <td>96krRm_f5dYabNLjEzUsnA</td>\n",
       "      <td>L27OShvycGmVOkAxD1h86A</td>\n",
       "      <td>e_MDOxwYA6b8XThonDDI_g</td>\n",
       "      <td>4</td>\n",
       "      <td>8</td>\n",
       "      <td>0</td>\n",
       "      <td>2</td>\n",
       "      <td>i am a west side kind of girl so i really don ...</td>\n",
       "      <td>2011-11-29 22:32:02</td>\n",
       "    </tr>\n",
       "  </tbody>\n",
       "</table>\n",
       "</div>"
      ],
      "text/plain": [
       "                     review_id                 user_id  \\\n",
       "183500  RS5cfqwYVCzwQqAZ60mWcg  8oeyYq6fdwa9XlYaFgxapA   \n",
       "82339   96krRm_f5dYabNLjEzUsnA  L27OShvycGmVOkAxD1h86A   \n",
       "\n",
       "                   business_id  stars  useful  funny  cool  \\\n",
       "183500  QBnteiO92wOvE1WCYjMC_w      5       0      0     0   \n",
       "82339   e_MDOxwYA6b8XThonDDI_g      4       8      0     2   \n",
       "\n",
       "                                                     text                date  \n",
       "183500  wow we loved this place it was very clean the ... 2021-10-29 23:02:20  \n",
       "82339   i am a west side kind of girl so i really don ... 2011-11-29 22:32:02  "
      ]
     },
     "execution_count": 15,
     "metadata": {},
     "output_type": "execute_result"
    }
   ],
   "source": [
    "data_type_check(df_rev_FL)\n",
    "df_rev_FL.sample(2)"
   ]
  },
  {
   "cell_type": "code",
   "execution_count": 16,
   "metadata": {},
   "outputs": [],
   "source": [
    "#guardar en parquet\n",
    "df_rev_FL.to_parquet(\"../0_Dataset/Data_Limpia/Yelp/review_FL_reducido.parquet\", engine=\"pyarrow\")"
   ]
  },
  {
   "cell_type": "markdown",
   "metadata": {},
   "source": [
    "### checkin"
   ]
  },
  {
   "cell_type": "code",
   "execution_count": 17,
   "metadata": {},
   "outputs": [
    {
     "name": "stdout",
     "output_type": "stream",
     "text": [
      "\n",
      "========================================\n",
      " Resumen del dataframe:\n",
      "\n",
      "========================================\n",
      "Dimensiones:  (92351, 2)\n",
      "       columna  %_no_nulos  %_nulos  total_nulos tipo_dato\n",
      "0  business_id       100.0      0.0            0    object\n",
      "1         date       100.0      0.0            0    object\n"
     ]
    },
    {
     "data": {
      "text/html": [
       "<div>\n",
       "<style scoped>\n",
       "    .dataframe tbody tr th:only-of-type {\n",
       "        vertical-align: middle;\n",
       "    }\n",
       "\n",
       "    .dataframe tbody tr th {\n",
       "        vertical-align: top;\n",
       "    }\n",
       "\n",
       "    .dataframe thead th {\n",
       "        text-align: right;\n",
       "    }\n",
       "</style>\n",
       "<table border=\"1\" class=\"dataframe\">\n",
       "  <thead>\n",
       "    <tr style=\"text-align: right;\">\n",
       "      <th></th>\n",
       "      <th>business_id</th>\n",
       "      <th>date</th>\n",
       "    </tr>\n",
       "  </thead>\n",
       "  <tbody>\n",
       "    <tr>\n",
       "      <th>12106</th>\n",
       "      <td>4ppN9-rsEyh-nkbDISeJcg</td>\n",
       "      <td>2011-10-01 17:59:48, 2011-11-19 18:30:39, 2012...</td>\n",
       "    </tr>\n",
       "    <tr>\n",
       "      <th>110743</th>\n",
       "      <td>pq7CAQGsxjaFcMLmhdbbvA</td>\n",
       "      <td>2010-05-01 20:29:14, 2010-09-25 01:46:49, 2010...</td>\n",
       "    </tr>\n",
       "  </tbody>\n",
       "</table>\n",
       "</div>"
      ],
      "text/plain": [
       "                   business_id  \\\n",
       "12106   4ppN9-rsEyh-nkbDISeJcg   \n",
       "110743  pq7CAQGsxjaFcMLmhdbbvA   \n",
       "\n",
       "                                                     date  \n",
       "12106   2011-10-01 17:59:48, 2011-11-19 18:30:39, 2012...  \n",
       "110743  2010-05-01 20:29:14, 2010-09-25 01:46:49, 2010...  "
      ]
     },
     "execution_count": 17,
     "metadata": {},
     "output_type": "execute_result"
    }
   ],
   "source": [
    "#abrir el parquet checkin\n",
    "data_type_check(df_checkin_FL)\n",
    "df_checkin_FL.sample(2)\n"
   ]
  },
  {
   "cell_type": "markdown",
   "metadata": {},
   "source": [
    "Eliminar filas duplicadas"
   ]
  },
  {
   "cell_type": "code",
   "execution_count": 18,
   "metadata": {},
   "outputs": [],
   "source": [
    "df_checkin_FL.drop_duplicates(inplace=True)\n"
   ]
  },
  {
   "cell_type": "markdown",
   "metadata": {},
   "source": [
    "Transformación de Tipos de Datos"
   ]
  },
  {
   "cell_type": "code",
   "execution_count": 19,
   "metadata": {},
   "outputs": [],
   "source": [
    "#df_checkin_FL['date'] = df_checkin_FL['date'].apply(lambda x: x.split(', ')).apply(lambda x: [pd.to_datetime(date) for date in x])\n",
    "#no funciona tarda mucho"
   ]
  },
  {
   "cell_type": "markdown",
   "metadata": {},
   "source": [
    "Desglosar las fechas"
   ]
  },
  {
   "cell_type": "code",
   "execution_count": 20,
   "metadata": {},
   "outputs": [],
   "source": [
    "df_checkin_FL = df_checkin_FL.explode('date')\n"
   ]
  },
  {
   "cell_type": "markdown",
   "metadata": {},
   "source": [
    "Agrupar Checkins por Mes/Año"
   ]
  },
  {
   "cell_type": "code",
   "execution_count": 21,
   "metadata": {},
   "outputs": [],
   "source": [
    "#df_checkin_FL['month_year'] = df_checkin_FL['date'].dt.to_period('M')\n",
    "#checkins_by_month = df_checkin_FL.groupby(['business_id', 'month_year']).size().reset_index(name='checkins_count')\n"
   ]
  },
  {
   "cell_type": "markdown",
   "metadata": {},
   "source": [
    "📤 LOAD"
   ]
  },
  {
   "cell_type": "code",
   "execution_count": 22,
   "metadata": {},
   "outputs": [],
   "source": [
    "#guardar en parquet\n",
    "df_checkin_FL.to_parquet(\"../0_Dataset/Data_Limpia/Yelp/checkin_reducido.parquet\", engine=\"pyarrow\")\n"
   ]
  },
  {
   "cell_type": "markdown",
   "metadata": {},
   "source": [
    "### tip"
   ]
  },
  {
   "cell_type": "code",
   "execution_count": 23,
   "metadata": {},
   "outputs": [
    {
     "name": "stdout",
     "output_type": "stream",
     "text": [
      "\n",
      "========================================\n",
      " Resumen del dataframe:\n",
      "\n",
      "========================================\n",
      "Dimensiones:  (908915, 5)\n",
      "            columna  %_no_nulos  %_nulos  total_nulos       tipo_dato\n",
      "0           user_id       100.0      0.0            0          object\n",
      "1       business_id       100.0      0.0            0          object\n",
      "2              text       100.0      0.0            0          object\n",
      "3              date       100.0      0.0            0  datetime64[ns]\n",
      "4  compliment_count       100.0      0.0            0           int64\n"
     ]
    },
    {
     "data": {
      "text/html": [
       "<div>\n",
       "<style scoped>\n",
       "    .dataframe tbody tr th:only-of-type {\n",
       "        vertical-align: middle;\n",
       "    }\n",
       "\n",
       "    .dataframe tbody tr th {\n",
       "        vertical-align: top;\n",
       "    }\n",
       "\n",
       "    .dataframe thead th {\n",
       "        text-align: right;\n",
       "    }\n",
       "</style>\n",
       "<table border=\"1\" class=\"dataframe\">\n",
       "  <thead>\n",
       "    <tr style=\"text-align: right;\">\n",
       "      <th></th>\n",
       "      <th>user_id</th>\n",
       "      <th>business_id</th>\n",
       "      <th>text</th>\n",
       "      <th>date</th>\n",
       "      <th>compliment_count</th>\n",
       "    </tr>\n",
       "  </thead>\n",
       "  <tbody>\n",
       "    <tr>\n",
       "      <th>17677</th>\n",
       "      <td>40zlq7PmkCNKFm71OZUlHQ</td>\n",
       "      <td>1FCxivPMoHC6xp7EpeHTVw</td>\n",
       "      <td>Go on monday for cheap $2.00 milkshakes</td>\n",
       "      <td>2012-08-26 00:03:28</td>\n",
       "      <td>0</td>\n",
       "    </tr>\n",
       "    <tr>\n",
       "      <th>593928</th>\n",
       "      <td>P6N1WMrAiWRoPHT9x5-v5Q</td>\n",
       "      <td>Gfegg1vwKJJo-EfEujQ-nw</td>\n",
       "      <td>Roast Beef Po'boy is a must!</td>\n",
       "      <td>2011-09-13 20:54:40</td>\n",
       "      <td>0</td>\n",
       "    </tr>\n",
       "  </tbody>\n",
       "</table>\n",
       "</div>"
      ],
      "text/plain": [
       "                       user_id             business_id  \\\n",
       "17677   40zlq7PmkCNKFm71OZUlHQ  1FCxivPMoHC6xp7EpeHTVw   \n",
       "593928  P6N1WMrAiWRoPHT9x5-v5Q  Gfegg1vwKJJo-EfEujQ-nw   \n",
       "\n",
       "                                           text                date  \\\n",
       "17677   Go on monday for cheap $2.00 milkshakes 2012-08-26 00:03:28   \n",
       "593928             Roast Beef Po'boy is a must! 2011-09-13 20:54:40   \n",
       "\n",
       "        compliment_count  \n",
       "17677                  0  \n",
       "593928                 0  "
      ]
     },
     "execution_count": 23,
     "metadata": {},
     "output_type": "execute_result"
    }
   ],
   "source": [
    "#abrir el parquet tip\n",
    "data_type_check(df_tip_FL)\n",
    "df_tip_FL.sample(2)\n"
   ]
  },
  {
   "cell_type": "code",
   "execution_count": 24,
   "metadata": {},
   "outputs": [],
   "source": [
    "#Guardar tip como parquet\n",
    "df_tip_FL.to_parquet(\"../0_Dataset/Data_Limpia/Yelp/tip.parquet\", engine=\"pyarrow\")"
   ]
  },
  {
   "cell_type": "markdown",
   "metadata": {},
   "source": [
    "### user\n"
   ]
  },
  {
   "cell_type": "code",
   "execution_count": 25,
   "metadata": {},
   "outputs": [
    {
     "name": "stdout",
     "output_type": "stream",
     "text": [
      "\n",
      "========================================\n",
      " Resumen del dataframe:\n",
      "\n",
      "========================================\n",
      "Dimensiones:  (63168, 22)\n",
      "               columna  %_no_nulos  %_nulos  total_nulos tipo_dato\n",
      "0              user_id       100.0      0.0            0    object\n",
      "1                 name       100.0      0.0            0    object\n",
      "2         review_count       100.0      0.0            0     int64\n",
      "3        yelping_since       100.0      0.0            0    object\n",
      "4               useful       100.0      0.0            0     int64\n",
      "5                funny       100.0      0.0            0     int64\n",
      "6                 cool       100.0      0.0            0     int64\n",
      "7                elite       100.0      0.0            0    object\n",
      "8              friends       100.0      0.0            0    object\n",
      "9                 fans       100.0      0.0            0     int64\n",
      "10       average_stars       100.0      0.0            0   float64\n",
      "11      compliment_hot       100.0      0.0            0     int64\n",
      "12     compliment_more       100.0      0.0            0     int64\n",
      "13  compliment_profile       100.0      0.0            0     int64\n",
      "14     compliment_cute       100.0      0.0            0     int64\n",
      "15     compliment_list       100.0      0.0            0     int64\n",
      "16     compliment_note       100.0      0.0            0     int64\n",
      "17    compliment_plain       100.0      0.0            0     int64\n",
      "18     compliment_cool       100.0      0.0            0     int64\n",
      "19    compliment_funny       100.0      0.0            0     int64\n",
      "20   compliment_writer       100.0      0.0            0     int64\n",
      "21   compliment_photos       100.0      0.0            0     int64\n"
     ]
    },
    {
     "data": {
      "text/html": [
       "<div>\n",
       "<style scoped>\n",
       "    .dataframe tbody tr th:only-of-type {\n",
       "        vertical-align: middle;\n",
       "    }\n",
       "\n",
       "    .dataframe tbody tr th {\n",
       "        vertical-align: top;\n",
       "    }\n",
       "\n",
       "    .dataframe thead th {\n",
       "        text-align: right;\n",
       "    }\n",
       "</style>\n",
       "<table border=\"1\" class=\"dataframe\">\n",
       "  <thead>\n",
       "    <tr style=\"text-align: right;\">\n",
       "      <th></th>\n",
       "      <th>user_id</th>\n",
       "      <th>name</th>\n",
       "      <th>review_count</th>\n",
       "      <th>yelping_since</th>\n",
       "      <th>useful</th>\n",
       "      <th>funny</th>\n",
       "      <th>cool</th>\n",
       "      <th>elite</th>\n",
       "      <th>friends</th>\n",
       "      <th>fans</th>\n",
       "      <th>...</th>\n",
       "      <th>compliment_more</th>\n",
       "      <th>compliment_profile</th>\n",
       "      <th>compliment_cute</th>\n",
       "      <th>compliment_list</th>\n",
       "      <th>compliment_note</th>\n",
       "      <th>compliment_plain</th>\n",
       "      <th>compliment_cool</th>\n",
       "      <th>compliment_funny</th>\n",
       "      <th>compliment_writer</th>\n",
       "      <th>compliment_photos</th>\n",
       "    </tr>\n",
       "  </thead>\n",
       "  <tbody>\n",
       "    <tr>\n",
       "      <th>16963</th>\n",
       "      <td>R8ZZkuxMx041F9GnBYwFXg</td>\n",
       "      <td>Tara</td>\n",
       "      <td>27</td>\n",
       "      <td>2012-08-22 20:14:21</td>\n",
       "      <td>26</td>\n",
       "      <td>7</td>\n",
       "      <td>6</td>\n",
       "      <td></td>\n",
       "      <td>q8uX7lKoMfBTeFLSzXYxjg, WpNZwRXAldu565YK0WcE4g...</td>\n",
       "      <td>0</td>\n",
       "      <td>...</td>\n",
       "      <td>0</td>\n",
       "      <td>0</td>\n",
       "      <td>0</td>\n",
       "      <td>0</td>\n",
       "      <td>1</td>\n",
       "      <td>0</td>\n",
       "      <td>0</td>\n",
       "      <td>0</td>\n",
       "      <td>1</td>\n",
       "      <td>3</td>\n",
       "    </tr>\n",
       "    <tr>\n",
       "      <th>20738</th>\n",
       "      <td>D2LJoZvVuqejhcYeGz-SOQ</td>\n",
       "      <td>Hali'a</td>\n",
       "      <td>1</td>\n",
       "      <td>2020-03-26 22:48:28</td>\n",
       "      <td>0</td>\n",
       "      <td>0</td>\n",
       "      <td>0</td>\n",
       "      <td></td>\n",
       "      <td>None</td>\n",
       "      <td>0</td>\n",
       "      <td>...</td>\n",
       "      <td>0</td>\n",
       "      <td>0</td>\n",
       "      <td>0</td>\n",
       "      <td>0</td>\n",
       "      <td>0</td>\n",
       "      <td>0</td>\n",
       "      <td>0</td>\n",
       "      <td>0</td>\n",
       "      <td>0</td>\n",
       "      <td>0</td>\n",
       "    </tr>\n",
       "  </tbody>\n",
       "</table>\n",
       "<p>2 rows × 22 columns</p>\n",
       "</div>"
      ],
      "text/plain": [
       "                      user_id    name  review_count        yelping_since  \\\n",
       "16963  R8ZZkuxMx041F9GnBYwFXg    Tara            27  2012-08-22 20:14:21   \n",
       "20738  D2LJoZvVuqejhcYeGz-SOQ  Hali'a             1  2020-03-26 22:48:28   \n",
       "\n",
       "       useful  funny  cool elite  \\\n",
       "16963      26      7     6         \n",
       "20738       0      0     0         \n",
       "\n",
       "                                                 friends  fans  ...  \\\n",
       "16963  q8uX7lKoMfBTeFLSzXYxjg, WpNZwRXAldu565YK0WcE4g...     0  ...   \n",
       "20738                                               None     0  ...   \n",
       "\n",
       "       compliment_more  compliment_profile  compliment_cute  compliment_list  \\\n",
       "16963                0                   0                0                0   \n",
       "20738                0                   0                0                0   \n",
       "\n",
       "       compliment_note  compliment_plain  compliment_cool  compliment_funny  \\\n",
       "16963                1                 0                0                 0   \n",
       "20738                0                 0                0                 0   \n",
       "\n",
       "       compliment_writer  compliment_photos  \n",
       "16963                  1                  3  \n",
       "20738                  0                  0  \n",
       "\n",
       "[2 rows x 22 columns]"
      ]
     },
     "execution_count": 25,
     "metadata": {},
     "output_type": "execute_result"
    }
   ],
   "source": [
    "#abrir el parquet user\n",
    "data_type_check(df_user_FL)\n",
    "df_user_FL.sample(2)\n"
   ]
  },
  {
   "cell_type": "code",
   "execution_count": 26,
   "metadata": {},
   "outputs": [],
   "source": [
    "#Guardar los cambios al archivo\n",
    "df_user_FL.to_parquet(\"../0_Dataset/Data_Limpia/Yelp/user_reducido.parquet\", engine=\"pyarrow\")"
   ]
  },
  {
   "cell_type": "markdown",
   "metadata": {},
   "source": [
    "___"
   ]
  },
  {
   "cell_type": "markdown",
   "metadata": {},
   "source": [
    "___\n",
    "## Dataset Gogle\n"
   ]
  },
  {
   "cell_type": "markdown",
   "metadata": {},
   "source": [
    "### Reviews Florida"
   ]
  },
  {
   "cell_type": "code",
   "execution_count": 27,
   "metadata": {},
   "outputs": [
    {
     "name": "stdout",
     "output_type": "stream",
     "text": [
      "\n",
      "========================================\n",
      " Resumen del dataframe:\n",
      "\n",
      "========================================\n",
      "Dimensiones:  (712500, 8)\n",
      "   columna  %_no_nulos  %_nulos  total_nulos tipo_dato\n",
      "0  user_id      100.00     0.00            0   float64\n",
      "1     name      100.00     0.00            0    object\n",
      "2     time      100.00     0.00            0     int64\n",
      "3   rating      100.00     0.00            0     int64\n",
      "4     text       62.09    37.91       270081    object\n",
      "5     pics        3.66    96.34       686417    object\n",
      "6     resp       16.02    83.98       598322    object\n",
      "7  gmap_id      100.00     0.00            0    object\n"
     ]
    },
    {
     "data": {
      "text/html": [
       "<div>\n",
       "<style scoped>\n",
       "    .dataframe tbody tr th:only-of-type {\n",
       "        vertical-align: middle;\n",
       "    }\n",
       "\n",
       "    .dataframe tbody tr th {\n",
       "        vertical-align: top;\n",
       "    }\n",
       "\n",
       "    .dataframe thead th {\n",
       "        text-align: right;\n",
       "    }\n",
       "</style>\n",
       "<table border=\"1\" class=\"dataframe\">\n",
       "  <thead>\n",
       "    <tr style=\"text-align: right;\">\n",
       "      <th></th>\n",
       "      <th>user_id</th>\n",
       "      <th>name</th>\n",
       "      <th>time</th>\n",
       "      <th>rating</th>\n",
       "      <th>text</th>\n",
       "      <th>pics</th>\n",
       "      <th>resp</th>\n",
       "      <th>gmap_id</th>\n",
       "    </tr>\n",
       "  </thead>\n",
       "  <tbody>\n",
       "    <tr>\n",
       "      <th>1410168</th>\n",
       "      <td>1.077266e+20</td>\n",
       "      <td>Rebecca Bowers</td>\n",
       "      <td>1541375423619</td>\n",
       "      <td>5</td>\n",
       "      <td>Timely Togo order, and friendly prompt service...</td>\n",
       "      <td>None</td>\n",
       "      <td>None</td>\n",
       "      <td>0x88e77e241c851873:0x5a1332b614931bc5</td>\n",
       "    </tr>\n",
       "    <tr>\n",
       "      <th>552643</th>\n",
       "      <td>1.051432e+20</td>\n",
       "      <td>Cleve Baker</td>\n",
       "      <td>1567540584385</td>\n",
       "      <td>3</td>\n",
       "      <td>None</td>\n",
       "      <td>None</td>\n",
       "      <td>None</td>\n",
       "      <td>0x88d9ca72eb2926cb:0x74e712c0719db790</td>\n",
       "    </tr>\n",
       "  </tbody>\n",
       "</table>\n",
       "</div>"
      ],
      "text/plain": [
       "              user_id            name           time  rating  \\\n",
       "1410168  1.077266e+20  Rebecca Bowers  1541375423619       5   \n",
       "552643   1.051432e+20     Cleve Baker  1567540584385       3   \n",
       "\n",
       "                                                      text  pics  resp  \\\n",
       "1410168  Timely Togo order, and friendly prompt service...  None  None   \n",
       "552643                                                None  None  None   \n",
       "\n",
       "                                       gmap_id  \n",
       "1410168  0x88e77e241c851873:0x5a1332b614931bc5  \n",
       "552643   0x88d9ca72eb2926cb:0x74e712c0719db790  "
      ]
     },
     "execution_count": 27,
     "metadata": {},
     "output_type": "execute_result"
    }
   ],
   "source": [
    "data_type_check(df_G_review_FL)\n",
    "df_G_review_FL.sample(2)\n"
   ]
  },
  {
   "cell_type": "markdown",
   "metadata": {},
   "source": [
    "#### **📤 LOAD**"
   ]
  },
  {
   "cell_type": "code",
   "execution_count": 28,
   "metadata": {},
   "outputs": [],
   "source": [
    "#Guardar los cambios al archivo\n",
    "df_G_review_FL.to_parquet(\"../0_Dataset/Data_Limpia/Google/G_review_FL_reducido.parquet\", engine=\"pyarrow\")"
   ]
  },
  {
   "cell_type": "markdown",
   "metadata": {},
   "source": [
    "### Metadata-sitios"
   ]
  },
  {
   "cell_type": "code",
   "execution_count": 29,
   "metadata": {},
   "outputs": [
    {
     "name": "stdout",
     "output_type": "stream",
     "text": [
      "\n",
      "========================================\n",
      " Resumen del dataframe:\n",
      "\n",
      "========================================\n",
      "Dimensiones:  (220001, 15)\n",
      "             columna  %_no_nulos  %_nulos  total_nulos tipo_dato\n",
      "0               name      100.00     0.00            5    object\n",
      "1            address       97.15     2.85         6275    object\n",
      "2            gmap_id      100.00     0.00            0    object\n",
      "3        description        7.16    92.84       204255    object\n",
      "4           latitude      100.00     0.00            0   float64\n",
      "5          longitude      100.00     0.00            0   float64\n",
      "6           category       99.35     0.65         1428    object\n",
      "7         avg_rating      100.00     0.00            0   float64\n",
      "8     num_of_reviews      100.00     0.00            0     int64\n",
      "9              price        7.68    92.32       203095    object\n",
      "10             hours       72.82    27.18        59802    object\n",
      "11              MISC       75.58    24.42        53728    object\n",
      "12             state       74.25    25.75        56652    object\n",
      "13  relative_results       89.49    10.51        23129    object\n",
      "14               url      100.00     0.00            0    object\n"
     ]
    },
    {
     "data": {
      "text/html": [
       "<div>\n",
       "<style scoped>\n",
       "    .dataframe tbody tr th:only-of-type {\n",
       "        vertical-align: middle;\n",
       "    }\n",
       "\n",
       "    .dataframe tbody tr th {\n",
       "        vertical-align: top;\n",
       "    }\n",
       "\n",
       "    .dataframe thead th {\n",
       "        text-align: right;\n",
       "    }\n",
       "</style>\n",
       "<table border=\"1\" class=\"dataframe\">\n",
       "  <thead>\n",
       "    <tr style=\"text-align: right;\">\n",
       "      <th></th>\n",
       "      <th>name</th>\n",
       "      <th>address</th>\n",
       "      <th>gmap_id</th>\n",
       "      <th>description</th>\n",
       "      <th>latitude</th>\n",
       "      <th>longitude</th>\n",
       "      <th>category</th>\n",
       "      <th>avg_rating</th>\n",
       "      <th>num_of_reviews</th>\n",
       "      <th>price</th>\n",
       "      <th>hours</th>\n",
       "      <th>MISC</th>\n",
       "      <th>state</th>\n",
       "      <th>relative_results</th>\n",
       "      <th>url</th>\n",
       "    </tr>\n",
       "  </thead>\n",
       "  <tbody>\n",
       "    <tr>\n",
       "      <th>81928</th>\n",
       "      <td>Betty Jean's BBQ</td>\n",
       "      <td>Betty Jean's BBQ, Main BX Food Court, 101 W Sp...</td>\n",
       "      <td>0x549e1443082a4eb7:0x1957b6205f4bf16a</td>\n",
       "      <td>None</td>\n",
       "      <td>47.638971</td>\n",
       "      <td>-117.652770</td>\n",
       "      <td>[Barbecue restaurant, Caterer]</td>\n",
       "      <td>4.4</td>\n",
       "      <td>38</td>\n",
       "      <td>$</td>\n",
       "      <td>[[Monday, Closed], [Tuesday, 11AM–4PM], [Wedne...</td>\n",
       "      <td>{'Accessibility': ['Wheelchair accessible entr...</td>\n",
       "      <td>Closed ⋅ Opens 11AM Tue</td>\n",
       "      <td>[0x549e17baf581c371:0xf830df636362e17a, 0x549e...</td>\n",
       "      <td>https://www.google.com/maps/place//data=!4m2!3...</td>\n",
       "    </tr>\n",
       "    <tr>\n",
       "      <th>172694</th>\n",
       "      <td>Nufab Rebar Slidell LLC</td>\n",
       "      <td>Nufab Rebar Slidell LLC, 250 Stone Rd, Slidell...</td>\n",
       "      <td>0x889de5d3b1302b0b:0x66cd01e927f1140e</td>\n",
       "      <td>None</td>\n",
       "      <td>30.301170</td>\n",
       "      <td>-89.782166</td>\n",
       "      <td>[Construction, Professional services]</td>\n",
       "      <td>3.2</td>\n",
       "      <td>5</td>\n",
       "      <td>None</td>\n",
       "      <td>None</td>\n",
       "      <td>{'Accessibility': ['Wheelchair accessible entr...</td>\n",
       "      <td>Open now</td>\n",
       "      <td>[0x889de8a0827d62f9:0x8b9d05e7c29e57b1, 0x8627...</td>\n",
       "      <td>https://www.google.com/maps/place//data=!4m2!3...</td>\n",
       "    </tr>\n",
       "  </tbody>\n",
       "</table>\n",
       "</div>"
      ],
      "text/plain": [
       "                           name  \\\n",
       "81928          Betty Jean's BBQ   \n",
       "172694  Nufab Rebar Slidell LLC   \n",
       "\n",
       "                                                  address  \\\n",
       "81928   Betty Jean's BBQ, Main BX Food Court, 101 W Sp...   \n",
       "172694  Nufab Rebar Slidell LLC, 250 Stone Rd, Slidell...   \n",
       "\n",
       "                                      gmap_id description   latitude  \\\n",
       "81928   0x549e1443082a4eb7:0x1957b6205f4bf16a        None  47.638971   \n",
       "172694  0x889de5d3b1302b0b:0x66cd01e927f1140e        None  30.301170   \n",
       "\n",
       "         longitude                               category  avg_rating  \\\n",
       "81928  -117.652770         [Barbecue restaurant, Caterer]         4.4   \n",
       "172694  -89.782166  [Construction, Professional services]         3.2   \n",
       "\n",
       "        num_of_reviews price  \\\n",
       "81928               38     $   \n",
       "172694               5  None   \n",
       "\n",
       "                                                    hours  \\\n",
       "81928   [[Monday, Closed], [Tuesday, 11AM–4PM], [Wedne...   \n",
       "172694                                               None   \n",
       "\n",
       "                                                     MISC  \\\n",
       "81928   {'Accessibility': ['Wheelchair accessible entr...   \n",
       "172694  {'Accessibility': ['Wheelchair accessible entr...   \n",
       "\n",
       "                          state  \\\n",
       "81928   Closed ⋅ Opens 11AM Tue   \n",
       "172694                 Open now   \n",
       "\n",
       "                                         relative_results  \\\n",
       "81928   [0x549e17baf581c371:0xf830df636362e17a, 0x549e...   \n",
       "172694  [0x889de8a0827d62f9:0x8b9d05e7c29e57b1, 0x8627...   \n",
       "\n",
       "                                                      url  \n",
       "81928   https://www.google.com/maps/place//data=!4m2!3...  \n",
       "172694  https://www.google.com/maps/place//data=!4m2!3...  "
      ]
     },
     "execution_count": 29,
     "metadata": {},
     "output_type": "execute_result"
    }
   ],
   "source": [
    "data_type_check(df_G_metadata_FL)\n",
    "df_G_metadata_FL.sample(2)"
   ]
  },
  {
   "cell_type": "markdown",
   "metadata": {},
   "source": [
    "📤 LOAD"
   ]
  },
  {
   "cell_type": "code",
   "execution_count": 30,
   "metadata": {},
   "outputs": [],
   "source": [
    "#Guardar los cambios al archivo\n",
    "df_rev_FL.to_parquet(\"../0_Dataset/Data_Limpia/Google/G_metadata_FL.parquet\", engine=\"pyarrow\")\n"
   ]
  }
 ],
 "metadata": {
  "kernelspec": {
   "display_name": "Python 3",
   "language": "python",
   "name": "python3"
  },
  "language_info": {
   "codemirror_mode": {
    "name": "ipython",
    "version": 3
   },
   "file_extension": ".py",
   "mimetype": "text/x-python",
   "name": "python",
   "nbconvert_exporter": "python",
   "pygments_lexer": "ipython3",
   "version": "3.10.11"
  }
 },
 "nbformat": 4,
 "nbformat_minor": 2
}
