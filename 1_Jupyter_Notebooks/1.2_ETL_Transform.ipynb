{
 "cells": [
  {
   "cell_type": "markdown",
   "metadata": {},
   "source": [
    "## 🛠️ **ETL (Extract, Transform, Load)**\n",
    "\n"
   ]
  },
  {
   "cell_type": "markdown",
   "metadata": {},
   "source": [
    "En este ipynb vamos a transformar los archivos, cambiando sus tipos de datos y demas. "
   ]
  },
  {
   "cell_type": "markdown",
   "metadata": {},
   "source": [
    "Tambien vamos a estar utilizando la funcion personalizada personalizada `data_type_check` invocada desde `data_utils.py` para dejar un vistazo raápido del dataframe y  poder observar:\n",
    "- Variables categóricas\n",
    "- Variables numéricas\n",
    "- Dimensiones del dataframe\n",
    "- Nulos\n",
    "- Tipos de datos\n",
    "- Informacion acerca de los datos faltantes o nulos de cada columna    \n"
   ]
  },
  {
   "cell_type": "markdown",
   "metadata": {},
   "source": [
    "####  **Importamos las librerías que vamos a usar**\n"
   ]
  },
  {
   "cell_type": "code",
   "execution_count": 31,
   "metadata": {},
   "outputs": [],
   "source": [
    "\n",
    "import warnings\n",
    "import re\n",
    "import pandas as pd\n",
    "from data_utils import data_type_check\n",
    "\n",
    "warnings.filterwarnings('ignore')\n",
    "import matplotlib.pyplot as plt\n",
    "import pyarrow as pa\n",
    "import pyarrow.parquet as pq\n",
    "import seaborn as sns\n",
    "import json"
   ]
  },
  {
   "cell_type": "markdown",
   "metadata": {},
   "source": [
    "#### 📦 **Extraccion** de los datos y primera exploración \n"
   ]
  },
  {
   "cell_type": "code",
   "execution_count": 19,
   "metadata": {},
   "outputs": [],
   "source": [
    "#Yelp\n",
    "business = pd.read_parquet('../0_Dataset/Data_Sucia/Yelp/business.parquet')\n",
    "df_rev_FL = pd.read_parquet('../0_Dataset/Data_Sucia/Yelp/review_reducido.parquet')\n",
    "df_checkin_FL = pd.read_parquet('../0_Dataset/Data_Sucia/Yelp/checkin_reducido.parquet')\n",
    "df_tip_FL = pd.read_parquet('../0_Dataset/Data_Sucia/Yelp/tip.parquet')\n",
    "df_user_FL = pd.read_parquet('../0_Dataset/Data_Sucia/Yelp/user_reducido.parquet')\n",
    "\n",
    "#Google\n",
    "df_G_review_FL = pd.read_parquet('../0_Dataset/Data_Sucia/Google/G_review_FL_reducido.parquet')\n",
    "df_G_metadata_FL = pd.read_parquet('../0_Dataset/Data_Sucia/Google/G_metadata_FL_reducido.parquet')\n"
   ]
  },
  {
   "cell_type": "markdown",
   "metadata": {},
   "source": [
    "___"
   ]
  },
  {
   "cell_type": "markdown",
   "metadata": {},
   "source": [
    "## Dataset Yelp"
   ]
  },
  {
   "cell_type": "markdown",
   "metadata": {},
   "source": [
    "### business"
   ]
  },
  {
   "cell_type": "code",
   "execution_count": 20,
   "metadata": {},
   "outputs": [
    {
     "name": "stdout",
     "output_type": "stream",
     "text": [
      "\n",
      "========================================\n",
      " Resumen del dataframe:\n",
      "\n",
      "========================================\n",
      "Dimensiones:  (150243, 14)\n",
      "         columna  %_no_nulos  %_nulos  total_nulos tipo_dato\n",
      "0    business_id      100.00     0.00            0    object\n",
      "1           name      100.00     0.00            0    object\n",
      "2        address      100.00     0.00            0    object\n",
      "3           city      100.00     0.00            0    object\n",
      "4          state      100.00     0.00            3    object\n",
      "5    postal_code      100.00     0.00            0    object\n",
      "6       latitude      100.00     0.00            0   float64\n",
      "7      longitude      100.00     0.00            0   float64\n",
      "8          stars      100.00     0.00            0   float64\n",
      "9   review_count      100.00     0.00            0     int64\n",
      "10       is_open      100.00     0.00            0     int64\n",
      "11    attributes       90.92     9.08        13642    object\n",
      "12    categories      100.00     0.00            0    object\n",
      "13         hours       84.61    15.39        23120    object\n"
     ]
    },
    {
     "data": {
      "text/html": [
       "<div>\n",
       "<style scoped>\n",
       "    .dataframe tbody tr th:only-of-type {\n",
       "        vertical-align: middle;\n",
       "    }\n",
       "\n",
       "    .dataframe tbody tr th {\n",
       "        vertical-align: top;\n",
       "    }\n",
       "\n",
       "    .dataframe thead th {\n",
       "        text-align: right;\n",
       "    }\n",
       "</style>\n",
       "<table border=\"1\" class=\"dataframe\">\n",
       "  <thead>\n",
       "    <tr style=\"text-align: right;\">\n",
       "      <th></th>\n",
       "      <th>business_id</th>\n",
       "      <th>name</th>\n",
       "      <th>address</th>\n",
       "      <th>city</th>\n",
       "      <th>state</th>\n",
       "      <th>postal_code</th>\n",
       "      <th>latitude</th>\n",
       "      <th>longitude</th>\n",
       "      <th>stars</th>\n",
       "      <th>review_count</th>\n",
       "      <th>is_open</th>\n",
       "      <th>attributes</th>\n",
       "      <th>categories</th>\n",
       "      <th>hours</th>\n",
       "    </tr>\n",
       "  </thead>\n",
       "  <tbody>\n",
       "    <tr>\n",
       "      <th>89762</th>\n",
       "      <td>1nFyIGNUFQXiO6yikhQJzg</td>\n",
       "      <td>Eva Nails</td>\n",
       "      <td>8110 S Houghton Rd, Ste 126</td>\n",
       "      <td>Tucson</td>\n",
       "      <td>FL</td>\n",
       "      <td>85747</td>\n",
       "      <td>32.104641</td>\n",
       "      <td>-110.774687</td>\n",
       "      <td>3.0</td>\n",
       "      <td>47</td>\n",
       "      <td>1</td>\n",
       "      <td>{'AcceptsInsurance': None, 'AgesAllowed': None...</td>\n",
       "      <td>Beauty &amp; Spas, Nail Salons, Hair Removal</td>\n",
       "      <td>{'Friday': '9:0-19:0', 'Monday': '9:0-19:0', '...</td>\n",
       "    </tr>\n",
       "    <tr>\n",
       "      <th>133708</th>\n",
       "      <td>shbDs7N86yTsfZLh4Nie_A</td>\n",
       "      <td>Little Chicago</td>\n",
       "      <td>1524A Demonbreun St</td>\n",
       "      <td>Nashville</td>\n",
       "      <td>AZ</td>\n",
       "      <td>37203</td>\n",
       "      <td>36.153051</td>\n",
       "      <td>-86.790546</td>\n",
       "      <td>2.5</td>\n",
       "      <td>243</td>\n",
       "      <td>1</td>\n",
       "      <td>{'AcceptsInsurance': None, 'AgesAllowed': None...</td>\n",
       "      <td>Restaurants, Burgers, Hot Dogs, Italian, Food ...</td>\n",
       "      <td>{'Friday': '10:0-4:0', 'Monday': '10:0-3:0', '...</td>\n",
       "    </tr>\n",
       "  </tbody>\n",
       "</table>\n",
       "</div>"
      ],
      "text/plain": [
       "                   business_id            name                      address  \\\n",
       "89762   1nFyIGNUFQXiO6yikhQJzg       Eva Nails  8110 S Houghton Rd, Ste 126   \n",
       "133708  shbDs7N86yTsfZLh4Nie_A  Little Chicago          1524A Demonbreun St   \n",
       "\n",
       "             city state postal_code   latitude   longitude  stars  \\\n",
       "89762      Tucson    FL       85747  32.104641 -110.774687    3.0   \n",
       "133708  Nashville    AZ       37203  36.153051  -86.790546    2.5   \n",
       "\n",
       "        review_count  is_open  \\\n",
       "89762             47        1   \n",
       "133708           243        1   \n",
       "\n",
       "                                               attributes  \\\n",
       "89762   {'AcceptsInsurance': None, 'AgesAllowed': None...   \n",
       "133708  {'AcceptsInsurance': None, 'AgesAllowed': None...   \n",
       "\n",
       "                                               categories  \\\n",
       "89762            Beauty & Spas, Nail Salons, Hair Removal   \n",
       "133708  Restaurants, Burgers, Hot Dogs, Italian, Food ...   \n",
       "\n",
       "                                                    hours  \n",
       "89762   {'Friday': '9:0-19:0', 'Monday': '9:0-19:0', '...  \n",
       "133708  {'Friday': '10:0-4:0', 'Monday': '10:0-3:0', '...  "
      ]
     },
     "execution_count": 20,
     "metadata": {},
     "output_type": "execute_result"
    }
   ],
   "source": [
    "data_type_check(business)\n",
    "business.sample(2)"
   ]
  },
  {
   "cell_type": "markdown",
   "metadata": {},
   "source": [
    "🔁 TRANSFORM"
   ]
  },
  {
   "cell_type": "markdown",
   "metadata": {},
   "source": [
    "Convertir columnas attributes y hours a cadenas para manejar nulos:"
   ]
  },
  {
   "cell_type": "code",
   "execution_count": 23,
   "metadata": {},
   "outputs": [],
   "source": [
    "business['attributes'] = business['attributes'].apply(lambda x: json.dumps(x) if isinstance(x, dict) else x)\n",
    "business['hours'] = business['hours'].apply(lambda x: json.dumps(x) if isinstance(x, dict) else x)\n"
   ]
  },
  {
   "cell_type": "markdown",
   "metadata": {},
   "source": [
    "Rellenar valores nulos en attributes y hours"
   ]
  },
  {
   "cell_type": "code",
   "execution_count": 24,
   "metadata": {},
   "outputs": [],
   "source": [
    "business['attributes'].fillna('No disponible', inplace=True)\n",
    "business['hours'].fillna('No disponible', inplace=True)\n"
   ]
  },
  {
   "cell_type": "markdown",
   "metadata": {},
   "source": [
    "Eliminar nulos en state"
   ]
  },
  {
   "cell_type": "code",
   "execution_count": 25,
   "metadata": {},
   "outputs": [],
   "source": [
    "business.dropna(subset=['state'], inplace=True)"
   ]
  },
  {
   "cell_type": "markdown",
   "metadata": {},
   "source": [
    "Eliminar filas duplicadas:"
   ]
  },
  {
   "cell_type": "code",
   "execution_count": null,
   "metadata": {},
   "outputs": [],
   "source": [
    "business.drop_duplicates(inplace=True)"
   ]
  },
  {
   "cell_type": "markdown",
   "metadata": {},
   "source": [
    "Estandarización de Categorías:\n",
    "\n",
    "- La columna categories contiene múltiples categorías separadas por comas. Es útil dividir estas categorías para análisis específicos"
   ]
  },
  {
   "cell_type": "code",
   "execution_count": 26,
   "metadata": {},
   "outputs": [],
   "source": [
    "business['categories'] = business['categories'].str.split(', ')"
   ]
  },
  {
   "cell_type": "markdown",
   "metadata": {},
   "source": [
    "Extracción de Horarios"
   ]
  },
  {
   "cell_type": "code",
   "execution_count": 27,
   "metadata": {},
   "outputs": [],
   "source": [
    "def parse_hours(hours):\n",
    "    try:\n",
    "        return json.loads(hours.replace(\"'\", '\"'))\n",
    "    except:\n",
    "        return {}\n",
    "\n",
    "business['parsed_hours'] = business['hours'].apply(parse_hours)\n"
   ]
  },
  {
   "cell_type": "code",
   "execution_count": 29,
   "metadata": {},
   "outputs": [
    {
     "name": "stdout",
     "output_type": "stream",
     "text": [
      "\n",
      "========================================\n",
      " Resumen del dataframe:\n",
      "\n",
      "========================================\n",
      "Dimensiones:  (150240, 15)\n",
      "         columna  %_no_nulos  %_nulos  total_nulos tipo_dato\n",
      "0    business_id       100.0      0.0            0    object\n",
      "1           name       100.0      0.0            0    object\n",
      "2        address       100.0      0.0            0    object\n",
      "3           city       100.0      0.0            0    object\n",
      "4          state       100.0      0.0            0    object\n",
      "5    postal_code       100.0      0.0            0    object\n",
      "6       latitude       100.0      0.0            0   float64\n",
      "7      longitude       100.0      0.0            0   float64\n",
      "8          stars       100.0      0.0            0   float64\n",
      "9   review_count       100.0      0.0            0     int64\n",
      "10       is_open       100.0      0.0            0     int64\n",
      "11    attributes       100.0      0.0            0    object\n",
      "12    categories       100.0      0.0            0    object\n",
      "13         hours       100.0      0.0            0    object\n",
      "14  parsed_hours       100.0      0.0            0    object\n"
     ]
    },
    {
     "data": {
      "text/html": [
       "<div>\n",
       "<style scoped>\n",
       "    .dataframe tbody tr th:only-of-type {\n",
       "        vertical-align: middle;\n",
       "    }\n",
       "\n",
       "    .dataframe tbody tr th {\n",
       "        vertical-align: top;\n",
       "    }\n",
       "\n",
       "    .dataframe thead th {\n",
       "        text-align: right;\n",
       "    }\n",
       "</style>\n",
       "<table border=\"1\" class=\"dataframe\">\n",
       "  <thead>\n",
       "    <tr style=\"text-align: right;\">\n",
       "      <th></th>\n",
       "      <th>business_id</th>\n",
       "      <th>name</th>\n",
       "      <th>address</th>\n",
       "      <th>city</th>\n",
       "      <th>state</th>\n",
       "      <th>postal_code</th>\n",
       "      <th>latitude</th>\n",
       "      <th>longitude</th>\n",
       "      <th>stars</th>\n",
       "      <th>review_count</th>\n",
       "      <th>is_open</th>\n",
       "      <th>attributes</th>\n",
       "      <th>categories</th>\n",
       "      <th>hours</th>\n",
       "      <th>parsed_hours</th>\n",
       "    </tr>\n",
       "  </thead>\n",
       "  <tbody>\n",
       "    <tr>\n",
       "      <th>5852</th>\n",
       "      <td>9UMCi0Lh-nAn9Bona7rQgg</td>\n",
       "      <td>Bristol &amp; Taylor Garage</td>\n",
       "      <td>2429 Bristol Rd</td>\n",
       "      <td>Bensalem</td>\n",
       "      <td>TN</td>\n",
       "      <td>19020</td>\n",
       "      <td>40.13253</td>\n",
       "      <td>-74.92489</td>\n",
       "      <td>4.0</td>\n",
       "      <td>7</td>\n",
       "      <td>1</td>\n",
       "      <td>{\"AcceptsInsurance\": null, \"AgesAllowed\": null...</td>\n",
       "      <td>[Automotive, Education, Oil Change Stations, T...</td>\n",
       "      <td>{\"Friday\": \"0:0-0:0\", \"Monday\": \"0:0-0:0\", \"Sa...</td>\n",
       "      <td>{'Friday': '0:0-0:0', 'Monday': '0:0-0:0', 'Sa...</td>\n",
       "    </tr>\n",
       "  </tbody>\n",
       "</table>\n",
       "</div>"
      ],
      "text/plain": [
       "                 business_id                     name          address  \\\n",
       "5852  9UMCi0Lh-nAn9Bona7rQgg  Bristol & Taylor Garage  2429 Bristol Rd   \n",
       "\n",
       "          city state postal_code  latitude  longitude  stars  review_count  \\\n",
       "5852  Bensalem    TN       19020  40.13253  -74.92489    4.0             7   \n",
       "\n",
       "      is_open                                         attributes  \\\n",
       "5852        1  {\"AcceptsInsurance\": null, \"AgesAllowed\": null...   \n",
       "\n",
       "                                             categories  \\\n",
       "5852  [Automotive, Education, Oil Change Stations, T...   \n",
       "\n",
       "                                                  hours  \\\n",
       "5852  {\"Friday\": \"0:0-0:0\", \"Monday\": \"0:0-0:0\", \"Sa...   \n",
       "\n",
       "                                           parsed_hours  \n",
       "5852  {'Friday': '0:0-0:0', 'Monday': '0:0-0:0', 'Sa...  "
      ]
     },
     "execution_count": 29,
     "metadata": {},
     "output_type": "execute_result"
    }
   ],
   "source": [
    "data_type_check(business)\n",
    "business.sample(1)"
   ]
  },
  {
   "cell_type": "markdown",
   "metadata": {},
   "source": [
    "📤 LOAD"
   ]
  },
  {
   "cell_type": "code",
   "execution_count": 30,
   "metadata": {},
   "outputs": [],
   "source": [
    "#guardar en parquet\n",
    "business.to_parquet(\"../0_Dataset/Data_Limpia/Yelp/business.parquet\", engine=\"pyarrow\")"
   ]
  },
  {
   "cell_type": "markdown",
   "metadata": {},
   "source": [
    "### review"
   ]
  },
  {
   "cell_type": "code",
   "execution_count": 5,
   "metadata": {},
   "outputs": [
    {
     "name": "stdout",
     "output_type": "stream",
     "text": [
      "\n",
      "========================================\n",
      " Resumen del dataframe:\n",
      "\n",
      "========================================\n",
      "Dimensiones:  (209708, 9)\n",
      "       columna  %_no_nulos  %_nulos  total_nulos       tipo_dato\n",
      "0    review_id       100.0      0.0            0          object\n",
      "1      user_id       100.0      0.0            0          object\n",
      "2  business_id       100.0      0.0            0          object\n",
      "3        stars       100.0      0.0            0           int64\n",
      "4       useful       100.0      0.0            0           int64\n",
      "5        funny       100.0      0.0            0           int64\n",
      "6         cool       100.0      0.0            0           int64\n",
      "7         text       100.0      0.0            0          object\n",
      "8         date       100.0      0.0            0  datetime64[ns]\n"
     ]
    },
    {
     "data": {
      "text/html": [
       "<div>\n",
       "<style scoped>\n",
       "    .dataframe tbody tr th:only-of-type {\n",
       "        vertical-align: middle;\n",
       "    }\n",
       "\n",
       "    .dataframe tbody tr th {\n",
       "        vertical-align: top;\n",
       "    }\n",
       "\n",
       "    .dataframe thead th {\n",
       "        text-align: right;\n",
       "    }\n",
       "</style>\n",
       "<table border=\"1\" class=\"dataframe\">\n",
       "  <thead>\n",
       "    <tr style=\"text-align: right;\">\n",
       "      <th></th>\n",
       "      <th>review_id</th>\n",
       "      <th>user_id</th>\n",
       "      <th>business_id</th>\n",
       "      <th>stars</th>\n",
       "      <th>useful</th>\n",
       "      <th>funny</th>\n",
       "      <th>cool</th>\n",
       "      <th>text</th>\n",
       "      <th>date</th>\n",
       "    </tr>\n",
       "  </thead>\n",
       "  <tbody>\n",
       "    <tr>\n",
       "      <th>24362</th>\n",
       "      <td>M4APWfNwyhI8Y9Gly-d-lA</td>\n",
       "      <td>CMRTvF6kjcUrcZssmnWAbw</td>\n",
       "      <td>2oh4NJDtqTUO5ZuvCe0hWw</td>\n",
       "      <td>3</td>\n",
       "      <td>0</td>\n",
       "      <td>0</td>\n",
       "      <td>0</td>\n",
       "      <td>I had such high hopes for this place. A much h...</td>\n",
       "      <td>2013-09-22 16:24:33</td>\n",
       "    </tr>\n",
       "    <tr>\n",
       "      <th>2645</th>\n",
       "      <td>fvzI2SI6o7s07opf_bt3Ig</td>\n",
       "      <td>GVODdkpncBOXGMbwqqduHw</td>\n",
       "      <td>dISs1oH_xeNAOOEcmJiGZQ</td>\n",
       "      <td>5</td>\n",
       "      <td>0</td>\n",
       "      <td>0</td>\n",
       "      <td>0</td>\n",
       "      <td>While the Farmer's Market is a little weird, C...</td>\n",
       "      <td>2010-08-25 04:08:44</td>\n",
       "    </tr>\n",
       "  </tbody>\n",
       "</table>\n",
       "</div>"
      ],
      "text/plain": [
       "                    review_id                 user_id             business_id  \\\n",
       "24362  M4APWfNwyhI8Y9Gly-d-lA  CMRTvF6kjcUrcZssmnWAbw  2oh4NJDtqTUO5ZuvCe0hWw   \n",
       "2645   fvzI2SI6o7s07opf_bt3Ig  GVODdkpncBOXGMbwqqduHw  dISs1oH_xeNAOOEcmJiGZQ   \n",
       "\n",
       "       stars  useful  funny  cool  \\\n",
       "24362      3       0      0     0   \n",
       "2645       5       0      0     0   \n",
       "\n",
       "                                                    text                date  \n",
       "24362  I had such high hopes for this place. A much h... 2013-09-22 16:24:33  \n",
       "2645   While the Farmer's Market is a little weird, C... 2010-08-25 04:08:44  "
      ]
     },
     "execution_count": 5,
     "metadata": {},
     "output_type": "execute_result"
    }
   ],
   "source": [
    "#abrir el parquet review_reducido\n",
    "data_type_check(df_rev_FL)\n",
    "df_rev_FL.sample(2)"
   ]
  },
  {
   "cell_type": "markdown",
   "metadata": {},
   "source": [
    "Eliminar filas duplicadas"
   ]
  },
  {
   "cell_type": "code",
   "execution_count": null,
   "metadata": {},
   "outputs": [],
   "source": [
    "df_rev_FL.drop_duplicates(inplace=True)\n"
   ]
  },
  {
   "cell_type": "markdown",
   "metadata": {},
   "source": [
    "Normalización de Texto: Para análisis de texto, es útil limpiar y normalizar las cadenas"
   ]
  },
  {
   "cell_type": "code",
   "execution_count": 32,
   "metadata": {},
   "outputs": [],
   "source": [
    "# Función para limpiar el texto\n",
    "# Convierte el texto a minúsculas\n",
    "# Remueve caracteres no alfanuméricos y los reemplaza por espacios\n",
    "# Remueve espacios múltiples y los reemplaza por un solo espacio\n",
    "# Elimina espacios al inicio y al final del texto\n",
    "def limpiar_texto(texto):\n",
    "    texto = texto.lower()\n",
    "    texto = re.sub(r\"\\W\", \" \", texto)\n",
    "    texto = re.sub(r\"\\s+\", \" \", texto)\n",
    "    return texto.strip()\n",
    "\n",
    "\n",
    "# Aplica la función limpiar_texto a la columna 'text' del DataFrame df_rev_FL\n",
    "df_rev_FL[\"text\"] = df_rev_FL[\"text\"].apply(limpiar_texto)"
   ]
  },
  {
   "cell_type": "markdown",
   "metadata": {},
   "source": [
    "posiblemente aca crear una columna para analisis de sentimiento"
   ]
  },
  {
   "cell_type": "markdown",
   "metadata": {},
   "source": [
    "\n",
    "📤 LOAD"
   ]
  },
  {
   "cell_type": "code",
   "execution_count": 35,
   "metadata": {},
   "outputs": [
    {
     "name": "stdout",
     "output_type": "stream",
     "text": [
      "\n",
      "========================================\n",
      " Resumen del dataframe:\n",
      "\n",
      "========================================\n",
      "Dimensiones:  (209708, 9)\n",
      "       columna  %_no_nulos  %_nulos  total_nulos       tipo_dato\n",
      "0    review_id       100.0      0.0            0          object\n",
      "1      user_id       100.0      0.0            0          object\n",
      "2  business_id       100.0      0.0            0          object\n",
      "3        stars       100.0      0.0            0           int64\n",
      "4       useful       100.0      0.0            0           int64\n",
      "5        funny       100.0      0.0            0           int64\n",
      "6         cool       100.0      0.0            0           int64\n",
      "7         text       100.0      0.0            0          object\n",
      "8         date       100.0      0.0            0  datetime64[ns]\n"
     ]
    },
    {
     "data": {
      "text/html": [
       "<div>\n",
       "<style scoped>\n",
       "    .dataframe tbody tr th:only-of-type {\n",
       "        vertical-align: middle;\n",
       "    }\n",
       "\n",
       "    .dataframe tbody tr th {\n",
       "        vertical-align: top;\n",
       "    }\n",
       "\n",
       "    .dataframe thead th {\n",
       "        text-align: right;\n",
       "    }\n",
       "</style>\n",
       "<table border=\"1\" class=\"dataframe\">\n",
       "  <thead>\n",
       "    <tr style=\"text-align: right;\">\n",
       "      <th></th>\n",
       "      <th>review_id</th>\n",
       "      <th>user_id</th>\n",
       "      <th>business_id</th>\n",
       "      <th>stars</th>\n",
       "      <th>useful</th>\n",
       "      <th>funny</th>\n",
       "      <th>cool</th>\n",
       "      <th>text</th>\n",
       "      <th>date</th>\n",
       "    </tr>\n",
       "  </thead>\n",
       "  <tbody>\n",
       "    <tr>\n",
       "      <th>75836</th>\n",
       "      <td>Lk1xSh_nfvX0TgbPM3oSPg</td>\n",
       "      <td>F0sRh5b3AZ9V1fwZLdg-DA</td>\n",
       "      <td>v5hCB55uWA97qj_Ww8DHqw</td>\n",
       "      <td>5</td>\n",
       "      <td>1</td>\n",
       "      <td>0</td>\n",
       "      <td>1</td>\n",
       "      <td>delicious food i went to fashion mall location...</td>\n",
       "      <td>2018-04-23 19:35:56</td>\n",
       "    </tr>\n",
       "    <tr>\n",
       "      <th>56384</th>\n",
       "      <td>M4N3wpc2RzNpOJ2vioCljQ</td>\n",
       "      <td>jP-eUX6BCDab_OPvN1xqnA</td>\n",
       "      <td>XCJ8N1GrV9Gdgbyp1U05NQ</td>\n",
       "      <td>5</td>\n",
       "      <td>1</td>\n",
       "      <td>0</td>\n",
       "      <td>0</td>\n",
       "      <td>this place is awesome i have no idea why they ...</td>\n",
       "      <td>2017-12-02 01:56:55</td>\n",
       "    </tr>\n",
       "  </tbody>\n",
       "</table>\n",
       "</div>"
      ],
      "text/plain": [
       "                    review_id                 user_id             business_id  \\\n",
       "75836  Lk1xSh_nfvX0TgbPM3oSPg  F0sRh5b3AZ9V1fwZLdg-DA  v5hCB55uWA97qj_Ww8DHqw   \n",
       "56384  M4N3wpc2RzNpOJ2vioCljQ  jP-eUX6BCDab_OPvN1xqnA  XCJ8N1GrV9Gdgbyp1U05NQ   \n",
       "\n",
       "       stars  useful  funny  cool  \\\n",
       "75836      5       1      0     1   \n",
       "56384      5       1      0     0   \n",
       "\n",
       "                                                    text                date  \n",
       "75836  delicious food i went to fashion mall location... 2018-04-23 19:35:56  \n",
       "56384  this place is awesome i have no idea why they ... 2017-12-02 01:56:55  "
      ]
     },
     "execution_count": 35,
     "metadata": {},
     "output_type": "execute_result"
    }
   ],
   "source": [
    "data_type_check(df_rev_FL)\n",
    "df_rev_FL.sample(2)"
   ]
  },
  {
   "cell_type": "code",
   "execution_count": 6,
   "metadata": {},
   "outputs": [],
   "source": [
    "#guardar en parquet\n",
    "df_rev_FL.to_parquet(\"../0_Dataset/Data_Limpia/Yelp/review_FL_reducido.parquet\", engine=\"pyarrow\")"
   ]
  },
  {
   "cell_type": "markdown",
   "metadata": {},
   "source": [
    "### checkin"
   ]
  },
  {
   "cell_type": "code",
   "execution_count": 7,
   "metadata": {},
   "outputs": [
    {
     "name": "stdout",
     "output_type": "stream",
     "text": [
      "\n",
      "========================================\n",
      " Resumen del dataframe:\n",
      "\n",
      "========================================\n",
      "Dimensiones:  (92351, 2)\n",
      "       columna  %_no_nulos  %_nulos  total_nulos tipo_dato\n",
      "0  business_id       100.0      0.0            0    object\n",
      "1         date       100.0      0.0            0    object\n"
     ]
    },
    {
     "data": {
      "text/html": [
       "<div>\n",
       "<style scoped>\n",
       "    .dataframe tbody tr th:only-of-type {\n",
       "        vertical-align: middle;\n",
       "    }\n",
       "\n",
       "    .dataframe tbody tr th {\n",
       "        vertical-align: top;\n",
       "    }\n",
       "\n",
       "    .dataframe thead th {\n",
       "        text-align: right;\n",
       "    }\n",
       "</style>\n",
       "<table border=\"1\" class=\"dataframe\">\n",
       "  <thead>\n",
       "    <tr style=\"text-align: right;\">\n",
       "      <th></th>\n",
       "      <th>business_id</th>\n",
       "      <th>date</th>\n",
       "    </tr>\n",
       "  </thead>\n",
       "  <tbody>\n",
       "    <tr>\n",
       "      <th>39012</th>\n",
       "      <td>HtEd7ZDKlR0nQZbc_QWn0A</td>\n",
       "      <td>2016-01-01 07:06:28, 2016-06-03 23:23:34, 2016...</td>\n",
       "    </tr>\n",
       "    <tr>\n",
       "      <th>32092</th>\n",
       "      <td>ERxAPTa09fE0tZwvfht26Q</td>\n",
       "      <td>2017-08-26 17:02:10</td>\n",
       "    </tr>\n",
       "  </tbody>\n",
       "</table>\n",
       "</div>"
      ],
      "text/plain": [
       "                  business_id  \\\n",
       "39012  HtEd7ZDKlR0nQZbc_QWn0A   \n",
       "32092  ERxAPTa09fE0tZwvfht26Q   \n",
       "\n",
       "                                                    date  \n",
       "39012  2016-01-01 07:06:28, 2016-06-03 23:23:34, 2016...  \n",
       "32092                                2017-08-26 17:02:10  "
      ]
     },
     "execution_count": 7,
     "metadata": {},
     "output_type": "execute_result"
    }
   ],
   "source": [
    "#abrir el parquet checkin\n",
    "data_type_check(df_checkin_FL)\n",
    "df_checkin_FL.sample(2)\n"
   ]
  },
  {
   "cell_type": "markdown",
   "metadata": {},
   "source": [
    "Eliminar filas duplicadas"
   ]
  },
  {
   "cell_type": "code",
   "execution_count": null,
   "metadata": {},
   "outputs": [],
   "source": [
    "df_checkin_FL.drop_duplicates(inplace=True)\n"
   ]
  },
  {
   "cell_type": "markdown",
   "metadata": {},
   "source": [
    "Transformación de Tipos de Datos"
   ]
  },
  {
   "cell_type": "code",
   "execution_count": 36,
   "metadata": {},
   "outputs": [],
   "source": [
    "df_checkin_FL['date'] = df_checkin_FL['date'].apply(lambda x: x.split(', ')).apply(lambda x: [pd.to_datetime(date) for date in x])"
   ]
  },
  {
   "cell_type": "markdown",
   "metadata": {},
   "source": [
    "Desglosar las fechas"
   ]
  },
  {
   "cell_type": "code",
   "execution_count": null,
   "metadata": {},
   "outputs": [],
   "source": [
    "df_checkin_FL = df_checkin_FL.explode('date')\n"
   ]
  },
  {
   "cell_type": "markdown",
   "metadata": {},
   "source": [
    "Agrupar Checkins por Mes/Año"
   ]
  },
  {
   "cell_type": "code",
   "execution_count": null,
   "metadata": {},
   "outputs": [],
   "source": [
    "df_checkin['month_year'] = df_checkin['date'].dt.to_period('M')\n",
    "checkins_by_month = df_checkin.groupby(['business_id', 'month_year']).size().reset_index(name='checkins_count')\n"
   ]
  },
  {
   "cell_type": "code",
   "execution_count": null,
   "metadata": {},
   "outputs": [],
   "source": []
  },
  {
   "cell_type": "markdown",
   "metadata": {},
   "source": [
    "📤 LOAD"
   ]
  },
  {
   "cell_type": "code",
   "execution_count": null,
   "metadata": {},
   "outputs": [],
   "source": [
    "#guardar en parquet\n",
    "df_checkin_FL.to_parquet(\"../0_Dataset/Data_Limpia/Yelp/checkin_FL_reducido.parquet\", engine=\"pyarrow\")\n"
   ]
  },
  {
   "cell_type": "markdown",
   "metadata": {},
   "source": [
    "### tip"
   ]
  },
  {
   "cell_type": "code",
   "execution_count": 8,
   "metadata": {},
   "outputs": [
    {
     "name": "stdout",
     "output_type": "stream",
     "text": [
      "\n",
      "========================================\n",
      " Resumen del dataframe:\n",
      "\n",
      "========================================\n",
      "Dimensiones:  (908915, 5)\n",
      "            columna  %_no_nulos  %_nulos  total_nulos       tipo_dato\n",
      "0           user_id       100.0      0.0            0          object\n",
      "1       business_id       100.0      0.0            0          object\n",
      "2              text       100.0      0.0            0          object\n",
      "3              date       100.0      0.0            0  datetime64[ns]\n",
      "4  compliment_count       100.0      0.0            0           int64\n"
     ]
    },
    {
     "data": {
      "text/html": [
       "<div>\n",
       "<style scoped>\n",
       "    .dataframe tbody tr th:only-of-type {\n",
       "        vertical-align: middle;\n",
       "    }\n",
       "\n",
       "    .dataframe tbody tr th {\n",
       "        vertical-align: top;\n",
       "    }\n",
       "\n",
       "    .dataframe thead th {\n",
       "        text-align: right;\n",
       "    }\n",
       "</style>\n",
       "<table border=\"1\" class=\"dataframe\">\n",
       "  <thead>\n",
       "    <tr style=\"text-align: right;\">\n",
       "      <th></th>\n",
       "      <th>user_id</th>\n",
       "      <th>business_id</th>\n",
       "      <th>text</th>\n",
       "      <th>date</th>\n",
       "      <th>compliment_count</th>\n",
       "    </tr>\n",
       "  </thead>\n",
       "  <tbody>\n",
       "    <tr>\n",
       "      <th>195890</th>\n",
       "      <td>CfX4sTIFFNaRchNswqhVfg</td>\n",
       "      <td>ObZu0-S1VAqAuCbAF5AFvw</td>\n",
       "      <td>I'm not impressed</td>\n",
       "      <td>2014-12-24 00:41:18</td>\n",
       "      <td>0</td>\n",
       "    </tr>\n",
       "    <tr>\n",
       "      <th>457543</th>\n",
       "      <td>5tXRxr4T24Awl7vjyCvIcQ</td>\n",
       "      <td>WXgV2lOUgas7DzTLeDau-w</td>\n",
       "      <td>$2, $3, $4, &amp; $5 drink specials 3:00pm - 6:30p...</td>\n",
       "      <td>2015-08-07 16:10:42</td>\n",
       "      <td>0</td>\n",
       "    </tr>\n",
       "  </tbody>\n",
       "</table>\n",
       "</div>"
      ],
      "text/plain": [
       "                       user_id             business_id  \\\n",
       "195890  CfX4sTIFFNaRchNswqhVfg  ObZu0-S1VAqAuCbAF5AFvw   \n",
       "457543  5tXRxr4T24Awl7vjyCvIcQ  WXgV2lOUgas7DzTLeDau-w   \n",
       "\n",
       "                                                     text                date  \\\n",
       "195890                                  I'm not impressed 2014-12-24 00:41:18   \n",
       "457543  $2, $3, $4, & $5 drink specials 3:00pm - 6:30p... 2015-08-07 16:10:42   \n",
       "\n",
       "        compliment_count  \n",
       "195890                 0  \n",
       "457543                 0  "
      ]
     },
     "execution_count": 8,
     "metadata": {},
     "output_type": "execute_result"
    }
   ],
   "source": [
    "#abrir el parquet tip\n",
    "data_type_check(df_tip_FL)\n",
    "df_tip_FL.sample(2)\n"
   ]
  },
  {
   "cell_type": "markdown",
   "metadata": {},
   "source": [
    "### user\n"
   ]
  },
  {
   "cell_type": "code",
   "execution_count": 9,
   "metadata": {},
   "outputs": [
    {
     "name": "stdout",
     "output_type": "stream",
     "text": [
      "\n",
      "========================================\n",
      " Resumen del dataframe:\n",
      "\n",
      "========================================\n",
      "Dimensiones:  (63168, 22)\n",
      "               columna  %_no_nulos  %_nulos  total_nulos tipo_dato\n",
      "0              user_id       100.0      0.0            0    object\n",
      "1                 name       100.0      0.0            0    object\n",
      "2         review_count       100.0      0.0            0     int64\n",
      "3        yelping_since       100.0      0.0            0    object\n",
      "4               useful       100.0      0.0            0     int64\n",
      "5                funny       100.0      0.0            0     int64\n",
      "6                 cool       100.0      0.0            0     int64\n",
      "7                elite       100.0      0.0            0    object\n",
      "8              friends       100.0      0.0            0    object\n",
      "9                 fans       100.0      0.0            0     int64\n",
      "10       average_stars       100.0      0.0            0   float64\n",
      "11      compliment_hot       100.0      0.0            0     int64\n",
      "12     compliment_more       100.0      0.0            0     int64\n",
      "13  compliment_profile       100.0      0.0            0     int64\n",
      "14     compliment_cute       100.0      0.0            0     int64\n",
      "15     compliment_list       100.0      0.0            0     int64\n",
      "16     compliment_note       100.0      0.0            0     int64\n",
      "17    compliment_plain       100.0      0.0            0     int64\n",
      "18     compliment_cool       100.0      0.0            0     int64\n",
      "19    compliment_funny       100.0      0.0            0     int64\n",
      "20   compliment_writer       100.0      0.0            0     int64\n",
      "21   compliment_photos       100.0      0.0            0     int64\n"
     ]
    },
    {
     "data": {
      "text/html": [
       "<div>\n",
       "<style scoped>\n",
       "    .dataframe tbody tr th:only-of-type {\n",
       "        vertical-align: middle;\n",
       "    }\n",
       "\n",
       "    .dataframe tbody tr th {\n",
       "        vertical-align: top;\n",
       "    }\n",
       "\n",
       "    .dataframe thead th {\n",
       "        text-align: right;\n",
       "    }\n",
       "</style>\n",
       "<table border=\"1\" class=\"dataframe\">\n",
       "  <thead>\n",
       "    <tr style=\"text-align: right;\">\n",
       "      <th></th>\n",
       "      <th>user_id</th>\n",
       "      <th>name</th>\n",
       "      <th>review_count</th>\n",
       "      <th>yelping_since</th>\n",
       "      <th>useful</th>\n",
       "      <th>funny</th>\n",
       "      <th>cool</th>\n",
       "      <th>elite</th>\n",
       "      <th>friends</th>\n",
       "      <th>fans</th>\n",
       "      <th>...</th>\n",
       "      <th>compliment_more</th>\n",
       "      <th>compliment_profile</th>\n",
       "      <th>compliment_cute</th>\n",
       "      <th>compliment_list</th>\n",
       "      <th>compliment_note</th>\n",
       "      <th>compliment_plain</th>\n",
       "      <th>compliment_cool</th>\n",
       "      <th>compliment_funny</th>\n",
       "      <th>compliment_writer</th>\n",
       "      <th>compliment_photos</th>\n",
       "    </tr>\n",
       "  </thead>\n",
       "  <tbody>\n",
       "    <tr>\n",
       "      <th>19542</th>\n",
       "      <td>iJS9bMpakeU9_DBn16mCcw</td>\n",
       "      <td>Vanessa</td>\n",
       "      <td>20</td>\n",
       "      <td>2016-01-14 00:15:27</td>\n",
       "      <td>2</td>\n",
       "      <td>0</td>\n",
       "      <td>3</td>\n",
       "      <td></td>\n",
       "      <td>None</td>\n",
       "      <td>0</td>\n",
       "      <td>...</td>\n",
       "      <td>0</td>\n",
       "      <td>0</td>\n",
       "      <td>0</td>\n",
       "      <td>0</td>\n",
       "      <td>0</td>\n",
       "      <td>0</td>\n",
       "      <td>0</td>\n",
       "      <td>0</td>\n",
       "      <td>0</td>\n",
       "      <td>0</td>\n",
       "    </tr>\n",
       "    <tr>\n",
       "      <th>39149</th>\n",
       "      <td>cZ3Bn4DDAMRAEnNWa82ZIQ</td>\n",
       "      <td>Tina</td>\n",
       "      <td>15</td>\n",
       "      <td>2011-03-30 18:46:37</td>\n",
       "      <td>20</td>\n",
       "      <td>1</td>\n",
       "      <td>6</td>\n",
       "      <td></td>\n",
       "      <td>dCA2DkZ5Q8FH_4XZxEjTQg, eADqTJT1iQIvAnicpsHicQ...</td>\n",
       "      <td>0</td>\n",
       "      <td>...</td>\n",
       "      <td>0</td>\n",
       "      <td>0</td>\n",
       "      <td>0</td>\n",
       "      <td>0</td>\n",
       "      <td>1</td>\n",
       "      <td>0</td>\n",
       "      <td>0</td>\n",
       "      <td>0</td>\n",
       "      <td>0</td>\n",
       "      <td>0</td>\n",
       "    </tr>\n",
       "  </tbody>\n",
       "</table>\n",
       "<p>2 rows × 22 columns</p>\n",
       "</div>"
      ],
      "text/plain": [
       "                      user_id     name  review_count        yelping_since  \\\n",
       "19542  iJS9bMpakeU9_DBn16mCcw  Vanessa            20  2016-01-14 00:15:27   \n",
       "39149  cZ3Bn4DDAMRAEnNWa82ZIQ     Tina            15  2011-03-30 18:46:37   \n",
       "\n",
       "       useful  funny  cool elite  \\\n",
       "19542       2      0     3         \n",
       "39149      20      1     6         \n",
       "\n",
       "                                                 friends  fans  ...  \\\n",
       "19542                                               None     0  ...   \n",
       "39149  dCA2DkZ5Q8FH_4XZxEjTQg, eADqTJT1iQIvAnicpsHicQ...     0  ...   \n",
       "\n",
       "       compliment_more  compliment_profile  compliment_cute  compliment_list  \\\n",
       "19542                0                   0                0                0   \n",
       "39149                0                   0                0                0   \n",
       "\n",
       "       compliment_note  compliment_plain  compliment_cool  compliment_funny  \\\n",
       "19542                0                 0                0                 0   \n",
       "39149                1                 0                0                 0   \n",
       "\n",
       "       compliment_writer  compliment_photos  \n",
       "19542                  0                  0  \n",
       "39149                  0                  0  \n",
       "\n",
       "[2 rows x 22 columns]"
      ]
     },
     "execution_count": 9,
     "metadata": {},
     "output_type": "execute_result"
    }
   ],
   "source": [
    "#abrir el parquet user\n",
    "data_type_check(df_user_FL)\n",
    "df_user_FL.sample(2)\n"
   ]
  },
  {
   "cell_type": "code",
   "execution_count": 10,
   "metadata": {},
   "outputs": [],
   "source": [
    "#Guardar los cambios al archivo\n",
    "df_checkin_FL.to_parquet(\"../0_Dataset/Data_Limpia/Yelp/checkin_FL_reducido.parquet\", engine=\"pyarrow\")"
   ]
  },
  {
   "cell_type": "markdown",
   "metadata": {},
   "source": [
    "___"
   ]
  },
  {
   "cell_type": "markdown",
   "metadata": {},
   "source": [
    "___\n",
    "## Dataset Gogle\n"
   ]
  },
  {
   "cell_type": "markdown",
   "metadata": {},
   "source": [
    "### Reviews Florida"
   ]
  },
  {
   "cell_type": "code",
   "execution_count": 11,
   "metadata": {},
   "outputs": [
    {
     "name": "stdout",
     "output_type": "stream",
     "text": [
      "\n",
      "========================================\n",
      " Resumen del dataframe:\n",
      "\n",
      "========================================\n",
      "Dimensiones:  (712500, 8)\n",
      "   columna  %_no_nulos  %_nulos  total_nulos tipo_dato\n",
      "0  user_id      100.00     0.00            0   float64\n",
      "1     name      100.00     0.00            0    object\n",
      "2     time      100.00     0.00            0     int64\n",
      "3   rating      100.00     0.00            0     int64\n",
      "4     text       62.09    37.91       270081    object\n",
      "5     pics        3.66    96.34       686417    object\n",
      "6     resp       16.02    83.98       598322    object\n",
      "7  gmap_id      100.00     0.00            0    object\n"
     ]
    },
    {
     "data": {
      "text/html": [
       "<div>\n",
       "<style scoped>\n",
       "    .dataframe tbody tr th:only-of-type {\n",
       "        vertical-align: middle;\n",
       "    }\n",
       "\n",
       "    .dataframe tbody tr th {\n",
       "        vertical-align: top;\n",
       "    }\n",
       "\n",
       "    .dataframe thead th {\n",
       "        text-align: right;\n",
       "    }\n",
       "</style>\n",
       "<table border=\"1\" class=\"dataframe\">\n",
       "  <thead>\n",
       "    <tr style=\"text-align: right;\">\n",
       "      <th></th>\n",
       "      <th>user_id</th>\n",
       "      <th>name</th>\n",
       "      <th>time</th>\n",
       "      <th>rating</th>\n",
       "      <th>text</th>\n",
       "      <th>pics</th>\n",
       "      <th>resp</th>\n",
       "      <th>gmap_id</th>\n",
       "    </tr>\n",
       "  </thead>\n",
       "  <tbody>\n",
       "    <tr>\n",
       "      <th>80158</th>\n",
       "      <td>1.056812e+20</td>\n",
       "      <td>Link up we The people are we alike</td>\n",
       "      <td>1549578391456</td>\n",
       "      <td>5</td>\n",
       "      <td>None</td>\n",
       "      <td>None</td>\n",
       "      <td>None</td>\n",
       "      <td>0x88e69d4373d8144d:0xbd8688de068cf541</td>\n",
       "    </tr>\n",
       "    <tr>\n",
       "      <th>1179511</th>\n",
       "      <td>1.123179e+20</td>\n",
       "      <td>TheOfficialWolf</td>\n",
       "      <td>1537880160668</td>\n",
       "      <td>5</td>\n",
       "      <td>None</td>\n",
       "      <td>None</td>\n",
       "      <td>None</td>\n",
       "      <td>0x88dd4d12ce28aad1:0x1fe8c9fdb6373808</td>\n",
       "    </tr>\n",
       "  </tbody>\n",
       "</table>\n",
       "</div>"
      ],
      "text/plain": [
       "              user_id                                name           time  \\\n",
       "80158    1.056812e+20  Link up we The people are we alike  1549578391456   \n",
       "1179511  1.123179e+20                     TheOfficialWolf  1537880160668   \n",
       "\n",
       "         rating  text  pics  resp                                gmap_id  \n",
       "80158         5  None  None  None  0x88e69d4373d8144d:0xbd8688de068cf541  \n",
       "1179511       5  None  None  None  0x88dd4d12ce28aad1:0x1fe8c9fdb6373808  "
      ]
     },
     "execution_count": 11,
     "metadata": {},
     "output_type": "execute_result"
    }
   ],
   "source": [
    "data_type_check(df_G_review_FL)\n",
    "df_G_review_FL.sample(2)\n"
   ]
  },
  {
   "cell_type": "markdown",
   "metadata": {},
   "source": [
    "#### **📤 LOAD**"
   ]
  },
  {
   "cell_type": "code",
   "execution_count": 12,
   "metadata": {},
   "outputs": [],
   "source": [
    "#Guardar los cambios al archivo\n",
    "df_G_review_FL.to_parquet(\"../0_Dataset/Data_Limpia/Google/G_review_FL_reducido.parquet\", engine=\"pyarrow\")"
   ]
  },
  {
   "cell_type": "markdown",
   "metadata": {},
   "source": [
    "### Metadata-sitios"
   ]
  },
  {
   "cell_type": "code",
   "execution_count": 13,
   "metadata": {},
   "outputs": [
    {
     "name": "stdout",
     "output_type": "stream",
     "text": [
      "\n",
      "========================================\n",
      " Resumen del dataframe:\n",
      "\n",
      "========================================\n",
      "Dimensiones:  (220001, 15)\n",
      "             columna  %_no_nulos  %_nulos  total_nulos tipo_dato\n",
      "0               name      100.00     0.00            5    object\n",
      "1            address       97.15     2.85         6275    object\n",
      "2            gmap_id      100.00     0.00            0    object\n",
      "3        description        7.16    92.84       204255    object\n",
      "4           latitude      100.00     0.00            0   float64\n",
      "5          longitude      100.00     0.00            0   float64\n",
      "6           category       99.35     0.65         1428    object\n",
      "7         avg_rating      100.00     0.00            0   float64\n",
      "8     num_of_reviews      100.00     0.00            0     int64\n",
      "9              price        7.68    92.32       203095    object\n",
      "10             hours       72.82    27.18        59802    object\n",
      "11              MISC       75.58    24.42        53728    object\n",
      "12             state       74.25    25.75        56652    object\n",
      "13  relative_results       89.49    10.51        23129    object\n",
      "14               url      100.00     0.00            0    object\n"
     ]
    },
    {
     "data": {
      "text/html": [
       "<div>\n",
       "<style scoped>\n",
       "    .dataframe tbody tr th:only-of-type {\n",
       "        vertical-align: middle;\n",
       "    }\n",
       "\n",
       "    .dataframe tbody tr th {\n",
       "        vertical-align: top;\n",
       "    }\n",
       "\n",
       "    .dataframe thead th {\n",
       "        text-align: right;\n",
       "    }\n",
       "</style>\n",
       "<table border=\"1\" class=\"dataframe\">\n",
       "  <thead>\n",
       "    <tr style=\"text-align: right;\">\n",
       "      <th></th>\n",
       "      <th>name</th>\n",
       "      <th>address</th>\n",
       "      <th>gmap_id</th>\n",
       "      <th>description</th>\n",
       "      <th>latitude</th>\n",
       "      <th>longitude</th>\n",
       "      <th>category</th>\n",
       "      <th>avg_rating</th>\n",
       "      <th>num_of_reviews</th>\n",
       "      <th>price</th>\n",
       "      <th>hours</th>\n",
       "      <th>MISC</th>\n",
       "      <th>state</th>\n",
       "      <th>relative_results</th>\n",
       "      <th>url</th>\n",
       "    </tr>\n",
       "  </thead>\n",
       "  <tbody>\n",
       "    <tr>\n",
       "      <th>135755</th>\n",
       "      <td>Willis &amp; Associates</td>\n",
       "      <td>Willis &amp; Associates, 201 Penn Center Blvd #310...</td>\n",
       "      <td>0x8834ebe1eefa8bc7:0x8d542a5f62de011c</td>\n",
       "      <td>None</td>\n",
       "      <td>40.428674</td>\n",
       "      <td>-79.811323</td>\n",
       "      <td>[Bankruptcy attorney]</td>\n",
       "      <td>4.6</td>\n",
       "      <td>33</td>\n",
       "      <td>None</td>\n",
       "      <td>[[Saturday, 7AM–12PM], [Sunday, Closed], [Mond...</td>\n",
       "      <td>{'Accessibility': ['Wheelchair accessible entr...</td>\n",
       "      <td>Closed ⋅ Opens 7AM</td>\n",
       "      <td>[0x8834f1509f85476d:0x87296006d454172, 0x8834f...</td>\n",
       "      <td>https://www.google.com/maps/place//data=!4m2!3...</td>\n",
       "    </tr>\n",
       "    <tr>\n",
       "      <th>1167687</th>\n",
       "      <td>Curves</td>\n",
       "      <td>Curves, 3991 E Williamsburg Rd, Sandston, VA 2...</td>\n",
       "      <td>0x89b11c4d26e0ad29:0x8fe3c98c7abe5e80</td>\n",
       "      <td>None</td>\n",
       "      <td>37.509408</td>\n",
       "      <td>-77.241078</td>\n",
       "      <td>[Gym, Fitness center, Personal trainer, Physic...</td>\n",
       "      <td>4.7</td>\n",
       "      <td>3</td>\n",
       "      <td>None</td>\n",
       "      <td>[[Thursday, 8AM–12PM], [Friday, Closed], [Satu...</td>\n",
       "      <td>None</td>\n",
       "      <td>Permanently closed</td>\n",
       "      <td>[0x89b11a6b5dbe9483:0xb84f659d2655296d, 0x89b1...</td>\n",
       "      <td>https://www.google.com/maps/place//data=!4m2!3...</td>\n",
       "    </tr>\n",
       "  </tbody>\n",
       "</table>\n",
       "</div>"
      ],
      "text/plain": [
       "                        name  \\\n",
       "135755   Willis & Associates   \n",
       "1167687               Curves   \n",
       "\n",
       "                                                   address  \\\n",
       "135755   Willis & Associates, 201 Penn Center Blvd #310...   \n",
       "1167687  Curves, 3991 E Williamsburg Rd, Sandston, VA 2...   \n",
       "\n",
       "                                       gmap_id description   latitude  \\\n",
       "135755   0x8834ebe1eefa8bc7:0x8d542a5f62de011c        None  40.428674   \n",
       "1167687  0x89b11c4d26e0ad29:0x8fe3c98c7abe5e80        None  37.509408   \n",
       "\n",
       "         longitude                                           category  \\\n",
       "135755  -79.811323                              [Bankruptcy attorney]   \n",
       "1167687 -77.241078  [Gym, Fitness center, Personal trainer, Physic...   \n",
       "\n",
       "         avg_rating  num_of_reviews price  \\\n",
       "135755          4.6              33  None   \n",
       "1167687         4.7               3  None   \n",
       "\n",
       "                                                     hours  \\\n",
       "135755   [[Saturday, 7AM–12PM], [Sunday, Closed], [Mond...   \n",
       "1167687  [[Thursday, 8AM–12PM], [Friday, Closed], [Satu...   \n",
       "\n",
       "                                                      MISC  \\\n",
       "135755   {'Accessibility': ['Wheelchair accessible entr...   \n",
       "1167687                                               None   \n",
       "\n",
       "                      state  \\\n",
       "135755   Closed ⋅ Opens 7AM   \n",
       "1167687  Permanently closed   \n",
       "\n",
       "                                          relative_results  \\\n",
       "135755   [0x8834f1509f85476d:0x87296006d454172, 0x8834f...   \n",
       "1167687  [0x89b11a6b5dbe9483:0xb84f659d2655296d, 0x89b1...   \n",
       "\n",
       "                                                       url  \n",
       "135755   https://www.google.com/maps/place//data=!4m2!3...  \n",
       "1167687  https://www.google.com/maps/place//data=!4m2!3...  "
      ]
     },
     "execution_count": 13,
     "metadata": {},
     "output_type": "execute_result"
    }
   ],
   "source": [
    "data_type_check(df_G_metadata_FL)\n",
    "df_G_metadata_FL.sample(2)"
   ]
  },
  {
   "cell_type": "markdown",
   "metadata": {},
   "source": [
    "📤 LOAD"
   ]
  },
  {
   "cell_type": "code",
   "execution_count": 14,
   "metadata": {},
   "outputs": [],
   "source": [
    "#Guardar los cambios al archivo\n",
    "df_rev_FL.to_parquet(\"../0_Dataset/Yelp/Data_Limpia/review_FL_reducido.parquet\", engine=\"pyarrow\")\n"
   ]
  }
 ],
 "metadata": {
  "kernelspec": {
   "display_name": "Python 3",
   "language": "python",
   "name": "python3"
  },
  "language_info": {
   "codemirror_mode": {
    "name": "ipython",
    "version": 3
   },
   "file_extension": ".py",
   "mimetype": "text/x-python",
   "name": "python",
   "nbconvert_exporter": "python",
   "pygments_lexer": "ipython3",
   "version": "3.10.11"
  }
 },
 "nbformat": 4,
 "nbformat_minor": 2
}
