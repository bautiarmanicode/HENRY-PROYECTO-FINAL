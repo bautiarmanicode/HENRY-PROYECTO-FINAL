{
 "cells": [
  {
   "cell_type": "markdown",
   "metadata": {},
   "source": [
    "## 🛠️ **ETL (Extract, Transform, Load)**\n",
    "\n"
   ]
  },
  {
   "cell_type": "markdown",
   "metadata": {},
   "source": [
    "####  **Importamos las librerías que vamos a usar**\n"
   ]
  },
  {
   "cell_type": "code",
   "execution_count": 15,
   "metadata": {},
   "outputs": [],
   "source": [
    "import os\n",
    "import warnings\n",
    "\n",
    "import data_utils\n",
    "import pandas as pd\n",
    "from data_utils import data_type_check, data_type_check_pkl\n",
    "\n",
    "warnings.filterwarnings('ignore')\n",
    "import matplotlib.pyplot as plt\n",
    "import pyarrow as pa\n",
    "import pyarrow.parquet as pq\n",
    "import seaborn as sns"
   ]
  },
  {
   "cell_type": "markdown",
   "metadata": {},
   "source": [
    "#### 📦 **Extraccion** de los datos y primera exploración \n"
   ]
  },
  {
   "cell_type": "markdown",
   "metadata": {},
   "source": [
    "Mostrar info como en datatypecheck\n",
    "#data_type_check_pkl('../0_Dataset/Yelp/business.pkl')"
   ]
  },
  {
   "cell_type": "markdown",
   "metadata": {},
   "source": [
    "**PENDIENTE**\n",
    "% de nulos, .shape, .columns\n"
   ]
  },
  {
   "cell_type": "markdown",
   "metadata": {},
   "source": [
    "___"
   ]
  },
  {
   "cell_type": "markdown",
   "metadata": {},
   "source": [
    "## Dataset Yelp"
   ]
  },
  {
   "cell_type": "markdown",
   "metadata": {},
   "source": [
    "### business.pkl"
   ]
  },
  {
   "cell_type": "code",
   "execution_count": 6,
   "metadata": {},
   "outputs": [
    {
     "name": "stdout",
     "output_type": "stream",
     "text": [
      "<class 'pandas.core.frame.DataFrame'>\n",
      "Index: 150346 entries, 0 to 150345\n",
      "Data columns (total 28 columns):\n",
      " #   Column        Non-Null Count   Dtype \n",
      "---  ------        --------------   ----- \n",
      " 0   business_id   150346 non-null  object\n",
      " 1   name          150346 non-null  object\n",
      " 2   address       150346 non-null  object\n",
      " 3   city          150346 non-null  object\n",
      " 4   state         150343 non-null  object\n",
      " 5   postal_code   150346 non-null  object\n",
      " 6   latitude      150346 non-null  object\n",
      " 7   longitude     150346 non-null  object\n",
      " 8   stars         150346 non-null  object\n",
      " 9   review_count  150346 non-null  object\n",
      " 10  is_open       150346 non-null  object\n",
      " 11  attributes    136602 non-null  object\n",
      " 12  categories    150243 non-null  object\n",
      " 13  hours         127123 non-null  object\n",
      " 14  business_id   5 non-null       object\n",
      " 15  name          5 non-null       object\n",
      " 16  address       5 non-null       object\n",
      " 17  city          5 non-null       object\n",
      " 18  state         5 non-null       object\n",
      " 19  postal_code   5 non-null       object\n",
      " 20  latitude      5 non-null       object\n",
      " 21  longitude     5 non-null       object\n",
      " 22  stars         5 non-null       object\n",
      " 23  review_count  5 non-null       object\n",
      " 24  is_open       5 non-null       object\n",
      " 25  attributes    5 non-null       object\n",
      " 26  categories    5 non-null       object\n",
      " 27  hours         5 non-null       object\n",
      "dtypes: object(28)\n",
      "memory usage: 33.3+ MB\n"
     ]
    },
    {
     "data": {
      "text/html": [
       "<div>\n",
       "<style scoped>\n",
       "    .dataframe tbody tr th:only-of-type {\n",
       "        vertical-align: middle;\n",
       "    }\n",
       "\n",
       "    .dataframe tbody tr th {\n",
       "        vertical-align: top;\n",
       "    }\n",
       "\n",
       "    .dataframe thead th {\n",
       "        text-align: right;\n",
       "    }\n",
       "</style>\n",
       "<table border=\"1\" class=\"dataframe\">\n",
       "  <thead>\n",
       "    <tr style=\"text-align: right;\">\n",
       "      <th></th>\n",
       "      <th>business_id</th>\n",
       "      <th>name</th>\n",
       "      <th>address</th>\n",
       "      <th>city</th>\n",
       "      <th>state</th>\n",
       "      <th>postal_code</th>\n",
       "      <th>latitude</th>\n",
       "      <th>longitude</th>\n",
       "      <th>stars</th>\n",
       "      <th>review_count</th>\n",
       "      <th>...</th>\n",
       "      <th>state</th>\n",
       "      <th>postal_code</th>\n",
       "      <th>latitude</th>\n",
       "      <th>longitude</th>\n",
       "      <th>stars</th>\n",
       "      <th>review_count</th>\n",
       "      <th>is_open</th>\n",
       "      <th>attributes</th>\n",
       "      <th>categories</th>\n",
       "      <th>hours</th>\n",
       "    </tr>\n",
       "  </thead>\n",
       "  <tbody>\n",
       "    <tr>\n",
       "      <th>15195</th>\n",
       "      <td>u_0e1X9whtdIBURmiQCv_A</td>\n",
       "      <td>Burrito Boarder</td>\n",
       "      <td>17 3rd St N</td>\n",
       "      <td>Saint Petersburg</td>\n",
       "      <td>TN</td>\n",
       "      <td>33701</td>\n",
       "      <td>27.771694</td>\n",
       "      <td>-82.636936</td>\n",
       "      <td>3.0</td>\n",
       "      <td>190</td>\n",
       "      <td>...</td>\n",
       "      <td>NaN</td>\n",
       "      <td>NaN</td>\n",
       "      <td>NaN</td>\n",
       "      <td>NaN</td>\n",
       "      <td>NaN</td>\n",
       "      <td>NaN</td>\n",
       "      <td>NaN</td>\n",
       "      <td>NaN</td>\n",
       "      <td>NaN</td>\n",
       "      <td>NaN</td>\n",
       "    </tr>\n",
       "    <tr>\n",
       "      <th>99735</th>\n",
       "      <td>QTmwmIb8AHhyQBB2Q19xsg</td>\n",
       "      <td>Tommy's Express® Car Wash</td>\n",
       "      <td>1240 Missouri Ave N</td>\n",
       "      <td>Largo</td>\n",
       "      <td>DE</td>\n",
       "      <td>33770</td>\n",
       "      <td>27.928671</td>\n",
       "      <td>-82.78711</td>\n",
       "      <td>3.5</td>\n",
       "      <td>7</td>\n",
       "      <td>...</td>\n",
       "      <td>NaN</td>\n",
       "      <td>NaN</td>\n",
       "      <td>NaN</td>\n",
       "      <td>NaN</td>\n",
       "      <td>NaN</td>\n",
       "      <td>NaN</td>\n",
       "      <td>NaN</td>\n",
       "      <td>NaN</td>\n",
       "      <td>NaN</td>\n",
       "      <td>NaN</td>\n",
       "    </tr>\n",
       "  </tbody>\n",
       "</table>\n",
       "<p>2 rows × 28 columns</p>\n",
       "</div>"
      ],
      "text/plain": [
       "                  business_id                       name              address  \\\n",
       "15195  u_0e1X9whtdIBURmiQCv_A            Burrito Boarder          17 3rd St N   \n",
       "99735  QTmwmIb8AHhyQBB2Q19xsg  Tommy's Express® Car Wash  1240 Missouri Ave N   \n",
       "\n",
       "                   city state postal_code   latitude  longitude stars  \\\n",
       "15195  Saint Petersburg    TN       33701  27.771694 -82.636936   3.0   \n",
       "99735             Largo    DE       33770  27.928671  -82.78711   3.5   \n",
       "\n",
       "      review_count  ... state postal_code latitude longitude stars  \\\n",
       "15195          190  ...   NaN         NaN      NaN       NaN   NaN   \n",
       "99735            7  ...   NaN         NaN      NaN       NaN   NaN   \n",
       "\n",
       "      review_count is_open attributes categories hours  \n",
       "15195          NaN     NaN        NaN        NaN   NaN  \n",
       "99735          NaN     NaN        NaN        NaN   NaN  \n",
       "\n",
       "[2 rows x 28 columns]"
      ]
     },
     "execution_count": 6,
     "metadata": {},
     "output_type": "execute_result"
    }
   ],
   "source": [
    "business = pd.read_pickle('../0_Dataset/Yelp/business.pkl')\n",
    "business.info()\n",
    "business.sample(2)"
   ]
  },
  {
   "cell_type": "markdown",
   "metadata": {},
   "source": [
    "Tenemos columnas duplicadas, procedemos a quitarlas.\n"
   ]
  },
  {
   "cell_type": "code",
   "execution_count": 7,
   "metadata": {},
   "outputs": [
    {
     "name": "stdout",
     "output_type": "stream",
     "text": [
      "<class 'pandas.core.frame.DataFrame'>\n",
      "Index: 150346 entries, 0 to 150345\n",
      "Data columns (total 14 columns):\n",
      " #   Column        Non-Null Count   Dtype \n",
      "---  ------        --------------   ----- \n",
      " 0   business_id   150346 non-null  object\n",
      " 1   name          150346 non-null  object\n",
      " 2   address       150346 non-null  object\n",
      " 3   city          150346 non-null  object\n",
      " 4   state         150343 non-null  object\n",
      " 5   postal_code   150346 non-null  object\n",
      " 6   latitude      150346 non-null  object\n",
      " 7   longitude     150346 non-null  object\n",
      " 8   stars         150346 non-null  object\n",
      " 9   review_count  150346 non-null  object\n",
      " 10  is_open       150346 non-null  object\n",
      " 11  attributes    136602 non-null  object\n",
      " 12  categories    150243 non-null  object\n",
      " 13  hours         127123 non-null  object\n",
      "dtypes: object(14)\n",
      "memory usage: 17.2+ MB\n"
     ]
    }
   ],
   "source": [
    "business = business.loc[:, ~business.columns.duplicated()]\n",
    "business.info()"
   ]
  },
  {
   "cell_type": "markdown",
   "metadata": {},
   "source": [
    "#### 🔁 **TRANSFORM**"
   ]
  },
  {
   "cell_type": "markdown",
   "metadata": {},
   "source": [
    "Verificamos los nulos y duplicados de categories"
   ]
  },
  {
   "cell_type": "code",
   "execution_count": 8,
   "metadata": {},
   "outputs": [
    {
     "name": "stdout",
     "output_type": "stream",
     "text": [
      "Antes: Cantidad de duplicados en 'categories': 67185\n",
      "Antes: Cantidad de NaNs en 'categories': 103\n",
      "Después: Cantidad de NaNs en 'categories'  0\n",
      "Después: Cantidad de duplicados en 'categories' 67083\n"
     ]
    }
   ],
   "source": [
    "# Cuenta los duplicados y nulos en la columna 'categories' antes de cualquier eliminación\n",
    "duplicados_inicial = business['categories'].duplicated().sum()\n",
    "nulos_inicial = business['categories'].isna().sum()\n",
    "\n",
    "print(\"Antes: Cantidad de duplicados en 'categories':\", duplicados_inicial)\n",
    "print(\"Antes: Cantidad de NaNs en 'categories':\", nulos_inicial)\n",
    "\n",
    "# Elimina las filas con valores NaN en la columna 'categories'\n",
    "business = business.dropna(subset=['categories'])\n",
    "\n",
    "# Cuenta los duplicados y nulos en la columna 'categories' después de eliminar NaNs\n",
    "duplicados_despues_nulos = business['categories'].duplicated().sum()\n",
    "nulos_despues_nulos = business['categories'].isna().sum()\n",
    "\n",
    "print(\"Después: Cantidad de NaNs en 'categories' \", nulos_despues_nulos)\n",
    "\n",
    "\n",
    "'''\n",
    "________________________________________________________________\n",
    "FUTURO: Descomentar o borrar\n",
    "Elimina las filas duplicadas basadas en la columna 'categories'\n",
    "business = business.drop_duplicates(subset=['categories'])  \n",
    "_________________________________________________________________  \n",
    "'''\n",
    "\n",
    "# Cuenta los duplicados en la columna 'categories' después de eliminar duplicados\n",
    "duplicados_final = business['categories'].duplicated().sum()\n",
    "\n",
    "print(\"Después: Cantidad de duplicados en 'categories'\", duplicados_final)\n"
   ]
  },
  {
   "cell_type": "markdown",
   "metadata": {},
   "source": [
    "Dado que diferentes negocios pueden compartir las mismas 'categories', no borramos los  67083 duplicados \n"
   ]
  },
  {
   "cell_type": "code",
   "execution_count": 9,
   "metadata": {},
   "outputs": [
    {
     "name": "stdout",
     "output_type": "stream",
     "text": [
      "\n",
      "========================================\n",
      " Resumen del dataframe:\n",
      "\n",
      "========================================\n",
      "Dimensiones:  (150243, 14)\n",
      "         columna  %_no_nulos  %_nulos  total_nulos tipo_dato\n",
      "0    business_id      100.00     0.00            0    object\n",
      "1           name      100.00     0.00            0    object\n",
      "2        address      100.00     0.00            0    object\n",
      "3           city      100.00     0.00            0    object\n",
      "4          state      100.00     0.00            3    object\n",
      "5    postal_code      100.00     0.00            0    object\n",
      "6       latitude      100.00     0.00            0    object\n",
      "7      longitude      100.00     0.00            0    object\n",
      "8          stars      100.00     0.00            0    object\n",
      "9   review_count      100.00     0.00            0    object\n",
      "10       is_open      100.00     0.00            0    object\n",
      "11    attributes       90.92     9.08        13642    object\n",
      "12    categories      100.00     0.00            0    object\n",
      "13         hours       84.61    15.39        23120    object\n"
     ]
    }
   ],
   "source": [
    "data_type_check(business)"
   ]
  },
  {
   "cell_type": "markdown",
   "metadata": {},
   "source": [
    "#### **📤 LOAD**"
   ]
  },
  {
   "cell_type": "code",
   "execution_count": 10,
   "metadata": {},
   "outputs": [],
   "source": [
    "#guardar en parquet\n",
    "business.to_parquet(\"../0_Dataset/Yelp/business.parquet\", engine=\"pyarrow\")\n"
   ]
  },
  {
   "cell_type": "markdown",
   "metadata": {},
   "source": [
    "### review.json"
   ]
  },
  {
   "cell_type": "code",
   "execution_count": null,
   "metadata": {},
   "outputs": [],
   "source": [
    "review = ''\n",
    "# Crear el dir del almacen para parquets, si no existe\n",
    "os.makedirs('../data/Yelp/review/', exist_ok=True)"
   ]
  },
  {
   "cell_type": "markdown",
   "metadata": {},
   "source": [
    "### checkin.json"
   ]
  },
  {
   "cell_type": "code",
   "execution_count": 19,
   "metadata": {},
   "outputs": [
    {
     "name": "stdout",
     "output_type": "stream",
     "text": [
      "Tamaño del archivo Parquet reducido: 87.89 MB\n",
      "El archivo es menor de 90 MB. Podrías aumentar la fracción.\n"
     ]
    }
   ],
   "source": [
    "# Ruta del archivo JSON\n",
    "checkin_path = '../0_Dataset/Yelp/checkin.json'\n",
    "output_path = '../0_Dataset/Yelp/checkin_reducido.parquet'\n",
    "\n",
    "# Leer JSON\n",
    "df = pd.read_json(checkin_path, lines=True)\n",
    "\n",
    "# Estimar la fracción de datos para que el archivo resultante pese menos de 100 MB\n",
    "# Aquí asumimos que podemos trabajar con el 10% de los datos originales.\n",
    "# Ajusta la fracción según sea necesario después de verificar el tamaño del archivo resultante.\n",
    "fraccion = 0.70\n",
    "\n",
    "# Tomar una muestra aleatoria del dataset\n",
    "df_muestra = df.sample(frac=fraccion, random_state=42)\n",
    "\n",
    "# Guardar la muestra como un archivo Parquet\n",
    "pq.write_table(pa.Table.from_pandas(df_muestra), output_path)\n",
    "\n",
    "# Verificar el tamaño del archivo resultante\n",
    "file_size = os.path.getsize(output_path) / (1024 * 1024)  # Convertir a MB\n",
    "print(f'Tamaño del archivo Parquet reducido: {file_size:.2f} MB')\n",
    "\n",
    "# Ajustar la fracción si es necesario\n",
    "if file_size > 100:\n",
    "    print(\"El archivo sigue siendo demasiado grande. Reduce la fracción y vuelve a intentarlo.\")\n",
    "elif file_size < 90:\n",
    "    print(\"El archivo es menor de 90 MB. Podrías aumentar la fracción.\")\n",
    "else:\n",
    "    print(\"El tamaño del archivo es adecuado.\")"
   ]
  },
  {
   "cell_type": "markdown",
   "metadata": {},
   "source": [
    "### tip.json"
   ]
  },
  {
   "cell_type": "code",
   "execution_count": 20,
   "metadata": {},
   "outputs": [],
   "source": [
    "\n",
    "# Ruta del archivo JSON\n",
    "tip = '../0_Dataset/Yelp/tip.json'\n",
    "\n",
    "# Leer el archivo JSON\n",
    "df_tip = pd.read_json(tip, lines=True)\n",
    "\n",
    "# Almacenar en formato Parquet, cambiando el sufijo '.json' a '.parquet'\n",
    "df_tip.to_parquet(tip.replace('.json', '.parquet'))\n"
   ]
  },
  {
   "cell_type": "markdown",
   "metadata": {},
   "source": [
    "### user.parquet\n"
   ]
  }
 ],
 "metadata": {
  "kernelspec": {
   "display_name": "Python 3",
   "language": "python",
   "name": "python3"
  },
  "language_info": {
   "codemirror_mode": {
    "name": "ipython",
    "version": 3
   },
   "file_extension": ".py",
   "mimetype": "text/x-python",
   "name": "python",
   "nbconvert_exporter": "python",
   "pygments_lexer": "ipython3",
   "version": "3.10.11"
  }
 },
 "nbformat": 4,
 "nbformat_minor": 2
}
