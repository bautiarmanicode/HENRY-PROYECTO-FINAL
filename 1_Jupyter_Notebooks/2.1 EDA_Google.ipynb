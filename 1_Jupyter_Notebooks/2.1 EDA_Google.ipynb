{
 "cells": [
  {
   "cell_type": "markdown",
   "metadata": {},
   "source": [
    "# 🔎 Análisis Exploratorio de Datos (Google):"
   ]
  },
  {
   "cell_type": "markdown",
   "metadata": {},
   "source": [
    "## Importación de librerias"
   ]
  },
  {
   "cell_type": "code",
   "execution_count": 1,
   "metadata": {},
   "outputs": [],
   "source": [
    "from textblob import TextBlob\n",
    "import datetime\n",
    "import inspect\n",
    "import re\n",
    "import matplotlib.pyplot as plt\n",
    "import inspect\n",
    "import pandas as pd\n",
    "import gzip\n",
    "import os\n",
    "import seaborn as sns\n",
    "import numpy as np\n",
    "from data_utils import data_type_check"
   ]
  },
  {
   "cell_type": "markdown",
   "metadata": {},
   "source": [
    "### Importación de los datasets"
   ]
  },
  {
   "cell_type": "code",
   "execution_count": 2,
   "metadata": {},
   "outputs": [],
   "source": [
    "df_metadata = pd.read_parquet('../0_Dataset/Data_Limpia/Google/G_metadata_FL.parquet', engine='pyarrow')\n",
    "df_review = pd.read_parquet('../0_Dataset/Data_Limpia/Google/G_review_FL_reducido.parquet', engine='pyarrow')"
   ]
  },
  {
   "cell_type": "markdown",
   "metadata": {},
   "source": [
    "## Metadata de Florida (FL)"
   ]
  },
  {
   "cell_type": "markdown",
   "metadata": {},
   "source": [
    "Verificación de los datos"
   ]
  },
  {
   "cell_type": "code",
   "execution_count": 12,
   "metadata": {},
   "outputs": [
    {
     "data": {
      "text/html": [
       "<div>\n",
       "<style scoped>\n",
       "    .dataframe tbody tr th:only-of-type {\n",
       "        vertical-align: middle;\n",
       "    }\n",
       "\n",
       "    .dataframe tbody tr th {\n",
       "        vertical-align: top;\n",
       "    }\n",
       "\n",
       "    .dataframe thead th {\n",
       "        text-align: right;\n",
       "    }\n",
       "</style>\n",
       "<table border=\"1\" class=\"dataframe\">\n",
       "  <thead>\n",
       "    <tr style=\"text-align: right;\">\n",
       "      <th></th>\n",
       "      <th>name</th>\n",
       "      <th>address</th>\n",
       "      <th>latitude</th>\n",
       "      <th>longitude</th>\n",
       "      <th>category</th>\n",
       "      <th>avg_rating</th>\n",
       "      <th>num_of_reviews</th>\n",
       "    </tr>\n",
       "  </thead>\n",
       "  <tbody>\n",
       "    <tr>\n",
       "      <th>0</th>\n",
       "      <td>Neurocare &amp; Family Services</td>\n",
       "      <td>Neurocare &amp; Family Services, 1749 S Naperville...</td>\n",
       "      <td>41.839291</td>\n",
       "      <td>-88.100503</td>\n",
       "      <td>[Doctor]</td>\n",
       "      <td>5.0</td>\n",
       "      <td>1</td>\n",
       "    </tr>\n",
       "    <tr>\n",
       "      <th>1</th>\n",
       "      <td>Bayview Canvas</td>\n",
       "      <td>Bayview Canvas, 22460 Glass Ln, Port Charlotte...</td>\n",
       "      <td>26.962494</td>\n",
       "      <td>-82.075552</td>\n",
       "      <td>[Upholstery shop]</td>\n",
       "      <td>5.0</td>\n",
       "      <td>1</td>\n",
       "    </tr>\n",
       "    <tr>\n",
       "      <th>2</th>\n",
       "      <td>Peluquería Acapulco Barbershop</td>\n",
       "      <td>Peluquería Acapulco Barbershop, 1014 Gault Ave...</td>\n",
       "      <td>34.450636</td>\n",
       "      <td>-85.714130</td>\n",
       "      <td>[Barber shop]</td>\n",
       "      <td>4.8</td>\n",
       "      <td>58</td>\n",
       "    </tr>\n",
       "    <tr>\n",
       "      <th>3</th>\n",
       "      <td>Mountain Travelers Hike and Ski Shop</td>\n",
       "      <td>Mountain Travelers Hike and Ski Shop, 147 US-4...</td>\n",
       "      <td>43.622089</td>\n",
       "      <td>-72.953674</td>\n",
       "      <td>[Ski shop, Camping store, Car accessories store]</td>\n",
       "      <td>4.4</td>\n",
       "      <td>26</td>\n",
       "    </tr>\n",
       "    <tr>\n",
       "      <th>4</th>\n",
       "      <td>Lovely Nails</td>\n",
       "      <td>Lovely Nails, 636 Brandon Ave SW, Roanoke, VA ...</td>\n",
       "      <td>37.254535</td>\n",
       "      <td>-79.959470</td>\n",
       "      <td>[Nail salon]</td>\n",
       "      <td>4.3</td>\n",
       "      <td>145</td>\n",
       "    </tr>\n",
       "  </tbody>\n",
       "</table>\n",
       "</div>"
      ],
      "text/plain": [
       "                                   name  \\\n",
       "0           Neurocare & Family Services   \n",
       "1                        Bayview Canvas   \n",
       "2        Peluquería Acapulco Barbershop   \n",
       "3  Mountain Travelers Hike and Ski Shop   \n",
       "4                          Lovely Nails   \n",
       "\n",
       "                                             address   latitude  longitude  \\\n",
       "0  Neurocare & Family Services, 1749 S Naperville...  41.839291 -88.100503   \n",
       "1  Bayview Canvas, 22460 Glass Ln, Port Charlotte...  26.962494 -82.075552   \n",
       "2  Peluquería Acapulco Barbershop, 1014 Gault Ave...  34.450636 -85.714130   \n",
       "3  Mountain Travelers Hike and Ski Shop, 147 US-4...  43.622089 -72.953674   \n",
       "4  Lovely Nails, 636 Brandon Ave SW, Roanoke, VA ...  37.254535 -79.959470   \n",
       "\n",
       "                                           category  avg_rating  \\\n",
       "0                                          [Doctor]         5.0   \n",
       "1                                 [Upholstery shop]         5.0   \n",
       "2                                     [Barber shop]         4.8   \n",
       "3  [Ski shop, Camping store, Car accessories store]         4.4   \n",
       "4                                      [Nail salon]         4.3   \n",
       "\n",
       "   num_of_reviews  \n",
       "0               1  \n",
       "1               1  \n",
       "2              58  \n",
       "3              26  \n",
       "4             145  "
      ]
     },
     "execution_count": 12,
     "metadata": {},
     "output_type": "execute_result"
    }
   ],
   "source": [
    "df_metadata.head(5)"
   ]
  },
  {
   "cell_type": "markdown",
   "metadata": {},
   "source": [
    "### 1. Información y transformación de los datos"
   ]
  },
  {
   "cell_type": "code",
   "execution_count": null,
   "metadata": {},
   "outputs": [],
   "source": [
    "# SE REALIZARÁ UN REINICIO DE INDICES\n",
    "df_metadata.reset_index(drop=True,inplace=True)"
   ]
  },
  {
   "cell_type": "code",
   "execution_count": 8,
   "metadata": {},
   "outputs": [],
   "source": [
    "# OBTENEMOS SOLO LAS COLUMNAS QUE NOS VAN A AYUDAR A NUESTRO ANÁLISIS\n",
    "df_metadata.drop(columns=['gmap_id','relative_results','url'],inplace=True)"
   ]
  },
  {
   "cell_type": "code",
   "execution_count": 22,
   "metadata": {},
   "outputs": [
    {
     "name": "stdout",
     "output_type": "stream",
     "text": [
      "\n",
      "========================================\n",
      " Resumen del dataframe:\n",
      "\n",
      "========================================\n",
      "Dimensiones:  (212299, 7)\n",
      "          columna  %_no_nulos  %_nulos  total_nulos tipo_dato\n",
      "0            name       100.0      0.0            0    object\n",
      "1         address       100.0      0.0            0    object\n",
      "2        latitude       100.0      0.0            0   float64\n",
      "3       longitude       100.0      0.0            0   float64\n",
      "4        category       100.0      0.0            0    object\n",
      "5      avg_rating       100.0      0.0            0   float64\n",
      "6  num_of_reviews       100.0      0.0            0     int64\n"
     ]
    }
   ],
   "source": [
    "# OBTENEMOS UN ANÁLISIS DE DATOS EN CUANTOS A LA CANTIDAD DE NULOS OBTENIDOS\n",
    "data_type_check(df_metadata)"
   ]
  },
  {
   "cell_type": "markdown",
   "metadata": {},
   "source": [
    "#### 📚 Conclusión:\n",
    "- Se ve que al realizar un análisis de cantidad de datos nulos, tenemos una gran cantidad de estos en las distintos registros y en las distintas variables del dataset.\n",
    "- Nuestra norma en cuanto a la eliminación de nulos será si es mayor o igual al 18% se eliminarán, estas columnas serían: ['description', 'price', 'hours', 'MISC', 'state']\n",
    "- Luego de eliminar las columnas procedemos a eliminar los registros que contienen registros nulos."
   ]
  },
  {
   "cell_type": "code",
   "execution_count": 11,
   "metadata": {},
   "outputs": [],
   "source": [
    "# ELIMINACIÓN DE COLUMNAS CON MAYOR CANTIDAD DE NULOS\n",
    "df_metadata.drop(columns=['description', 'price', 'hours', 'MISC', 'state'] ,inplace=True)"
   ]
  },
  {
   "cell_type": "code",
   "execution_count": 20,
   "metadata": {},
   "outputs": [],
   "source": [
    "# ELIMINACIÓN DE REGISTRO QUE CONTINENEN REGISTRO NULOS\n",
    "df_metadata.dropna(axis=0,inplace=True)"
   ]
  },
  {
   "cell_type": "markdown",
   "metadata": {},
   "source": [
    "### 2.Variables categóricas y cuantitativas"
   ]
  },
  {
   "cell_type": "code",
   "execution_count": 21,
   "metadata": {},
   "outputs": [],
   "source": [
    "# VARIABLE CATEGÓRICAS Y CUANTITATIVAS EXISTENTES EN EL DATASET\n",
    "df_metadata_cat = df_metadata.select_dtypes('O')\n",
    "df_metadata_num = df_metadata.select_dtypes('number')"
   ]
  },
  {
   "cell_type": "code",
   "execution_count": 23,
   "metadata": {},
   "outputs": [
    {
     "data": {
      "text/html": [
       "<div>\n",
       "<style scoped>\n",
       "    .dataframe tbody tr th:only-of-type {\n",
       "        vertical-align: middle;\n",
       "    }\n",
       "\n",
       "    .dataframe tbody tr th {\n",
       "        vertical-align: top;\n",
       "    }\n",
       "\n",
       "    .dataframe thead th {\n",
       "        text-align: right;\n",
       "    }\n",
       "</style>\n",
       "<table border=\"1\" class=\"dataframe\">\n",
       "  <thead>\n",
       "    <tr style=\"text-align: right;\">\n",
       "      <th></th>\n",
       "      <th>latitude</th>\n",
       "      <th>longitude</th>\n",
       "      <th>avg_rating</th>\n",
       "      <th>num_of_reviews</th>\n",
       "    </tr>\n",
       "  </thead>\n",
       "  <tbody>\n",
       "    <tr>\n",
       "      <th>0</th>\n",
       "      <td>41.839291</td>\n",
       "      <td>-88.100503</td>\n",
       "      <td>5.0</td>\n",
       "      <td>1</td>\n",
       "    </tr>\n",
       "    <tr>\n",
       "      <th>1</th>\n",
       "      <td>26.962494</td>\n",
       "      <td>-82.075552</td>\n",
       "      <td>5.0</td>\n",
       "      <td>1</td>\n",
       "    </tr>\n",
       "    <tr>\n",
       "      <th>2</th>\n",
       "      <td>34.450636</td>\n",
       "      <td>-85.714130</td>\n",
       "      <td>4.8</td>\n",
       "      <td>58</td>\n",
       "    </tr>\n",
       "    <tr>\n",
       "      <th>3</th>\n",
       "      <td>43.622089</td>\n",
       "      <td>-72.953674</td>\n",
       "      <td>4.4</td>\n",
       "      <td>26</td>\n",
       "    </tr>\n",
       "    <tr>\n",
       "      <th>4</th>\n",
       "      <td>37.254535</td>\n",
       "      <td>-79.959470</td>\n",
       "      <td>4.3</td>\n",
       "      <td>145</td>\n",
       "    </tr>\n",
       "    <tr>\n",
       "      <th>...</th>\n",
       "      <td>...</td>\n",
       "      <td>...</td>\n",
       "      <td>...</td>\n",
       "      <td>...</td>\n",
       "    </tr>\n",
       "    <tr>\n",
       "      <th>219996</th>\n",
       "      <td>38.408448</td>\n",
       "      <td>-121.447597</td>\n",
       "      <td>4.3</td>\n",
       "      <td>13</td>\n",
       "    </tr>\n",
       "    <tr>\n",
       "      <th>219997</th>\n",
       "      <td>32.462258</td>\n",
       "      <td>-92.160431</td>\n",
       "      <td>4.0</td>\n",
       "      <td>3</td>\n",
       "    </tr>\n",
       "    <tr>\n",
       "      <th>219998</th>\n",
       "      <td>35.557125</td>\n",
       "      <td>-82.535757</td>\n",
       "      <td>4.6</td>\n",
       "      <td>14</td>\n",
       "    </tr>\n",
       "    <tr>\n",
       "      <th>219999</th>\n",
       "      <td>42.229032</td>\n",
       "      <td>-87.940695</td>\n",
       "      <td>5.0</td>\n",
       "      <td>8</td>\n",
       "    </tr>\n",
       "    <tr>\n",
       "      <th>220000</th>\n",
       "      <td>37.939830</td>\n",
       "      <td>-87.869130</td>\n",
       "      <td>4.2</td>\n",
       "      <td>26</td>\n",
       "    </tr>\n",
       "  </tbody>\n",
       "</table>\n",
       "<p>212299 rows × 4 columns</p>\n",
       "</div>"
      ],
      "text/plain": [
       "         latitude   longitude  avg_rating  num_of_reviews\n",
       "0       41.839291  -88.100503         5.0               1\n",
       "1       26.962494  -82.075552         5.0               1\n",
       "2       34.450636  -85.714130         4.8              58\n",
       "3       43.622089  -72.953674         4.4              26\n",
       "4       37.254535  -79.959470         4.3             145\n",
       "...           ...         ...         ...             ...\n",
       "219996  38.408448 -121.447597         4.3              13\n",
       "219997  32.462258  -92.160431         4.0               3\n",
       "219998  35.557125  -82.535757         4.6              14\n",
       "219999  42.229032  -87.940695         5.0               8\n",
       "220000  37.939830  -87.869130         4.2              26\n",
       "\n",
       "[212299 rows x 4 columns]"
      ]
     },
     "execution_count": 23,
     "metadata": {},
     "output_type": "execute_result"
    }
   ],
   "source": [
    "df_metadata_num"
   ]
  },
  {
   "cell_type": "code",
   "execution_count": 24,
   "metadata": {},
   "outputs": [
    {
     "data": {
      "text/html": [
       "<div>\n",
       "<style scoped>\n",
       "    .dataframe tbody tr th:only-of-type {\n",
       "        vertical-align: middle;\n",
       "    }\n",
       "\n",
       "    .dataframe tbody tr th {\n",
       "        vertical-align: top;\n",
       "    }\n",
       "\n",
       "    .dataframe thead th {\n",
       "        text-align: right;\n",
       "    }\n",
       "</style>\n",
       "<table border=\"1\" class=\"dataframe\">\n",
       "  <thead>\n",
       "    <tr style=\"text-align: right;\">\n",
       "      <th></th>\n",
       "      <th>name</th>\n",
       "      <th>address</th>\n",
       "      <th>category</th>\n",
       "    </tr>\n",
       "  </thead>\n",
       "  <tbody>\n",
       "    <tr>\n",
       "      <th>0</th>\n",
       "      <td>Neurocare &amp; Family Services</td>\n",
       "      <td>Neurocare &amp; Family Services, 1749 S Naperville...</td>\n",
       "      <td>[Doctor]</td>\n",
       "    </tr>\n",
       "    <tr>\n",
       "      <th>1</th>\n",
       "      <td>Bayview Canvas</td>\n",
       "      <td>Bayview Canvas, 22460 Glass Ln, Port Charlotte...</td>\n",
       "      <td>[Upholstery shop]</td>\n",
       "    </tr>\n",
       "    <tr>\n",
       "      <th>2</th>\n",
       "      <td>Peluquería Acapulco Barbershop</td>\n",
       "      <td>Peluquería Acapulco Barbershop, 1014 Gault Ave...</td>\n",
       "      <td>[Barber shop]</td>\n",
       "    </tr>\n",
       "    <tr>\n",
       "      <th>3</th>\n",
       "      <td>Mountain Travelers Hike and Ski Shop</td>\n",
       "      <td>Mountain Travelers Hike and Ski Shop, 147 US-4...</td>\n",
       "      <td>[Ski shop, Camping store, Car accessories store]</td>\n",
       "    </tr>\n",
       "    <tr>\n",
       "      <th>4</th>\n",
       "      <td>Lovely Nails</td>\n",
       "      <td>Lovely Nails, 636 Brandon Ave SW, Roanoke, VA ...</td>\n",
       "      <td>[Nail salon]</td>\n",
       "    </tr>\n",
       "    <tr>\n",
       "      <th>...</th>\n",
       "      <td>...</td>\n",
       "      <td>...</td>\n",
       "      <td>...</td>\n",
       "    </tr>\n",
       "    <tr>\n",
       "      <th>219996</th>\n",
       "      <td>Chase Bank</td>\n",
       "      <td>Chase Bank, 5010 Elk Grove Blvd Ste #180, Elk ...</td>\n",
       "      <td>[Bank, ATM]</td>\n",
       "    </tr>\n",
       "    <tr>\n",
       "      <th>219997</th>\n",
       "      <td>Lindsay Heating Cooling and Refrigeration</td>\n",
       "      <td>Lindsay Heating Cooling and Refrigeration, 241...</td>\n",
       "      <td>[HVAC contractor, Air conditioning repair serv...</td>\n",
       "    </tr>\n",
       "    <tr>\n",
       "      <th>219998</th>\n",
       "      <td>Fosnight Center for Sexual Health</td>\n",
       "      <td>Fosnight Center for Sexual Health, 6 Yorkshire...</td>\n",
       "      <td>[Medical Center, Counselor, Medical clinic, Me...</td>\n",
       "    </tr>\n",
       "    <tr>\n",
       "      <th>219999</th>\n",
       "      <td>Arbor Hills Dental Care</td>\n",
       "      <td>Arbor Hills Dental Care, 175 N Milwaukee Ave #...</td>\n",
       "      <td>[Dental clinic, Dentist]</td>\n",
       "    </tr>\n",
       "    <tr>\n",
       "      <th>220000</th>\n",
       "      <td>Gordmans</td>\n",
       "      <td>Gordmans, 402 Plaza Dr, Mt Vernon, IN 47620</td>\n",
       "      <td>[Department store, Clothing store, Furniture s...</td>\n",
       "    </tr>\n",
       "  </tbody>\n",
       "</table>\n",
       "<p>212299 rows × 3 columns</p>\n",
       "</div>"
      ],
      "text/plain": [
       "                                             name  \\\n",
       "0                     Neurocare & Family Services   \n",
       "1                                  Bayview Canvas   \n",
       "2                  Peluquería Acapulco Barbershop   \n",
       "3            Mountain Travelers Hike and Ski Shop   \n",
       "4                                    Lovely Nails   \n",
       "...                                           ...   \n",
       "219996                                 Chase Bank   \n",
       "219997  Lindsay Heating Cooling and Refrigeration   \n",
       "219998          Fosnight Center for Sexual Health   \n",
       "219999                    Arbor Hills Dental Care   \n",
       "220000                                   Gordmans   \n",
       "\n",
       "                                                  address  \\\n",
       "0       Neurocare & Family Services, 1749 S Naperville...   \n",
       "1       Bayview Canvas, 22460 Glass Ln, Port Charlotte...   \n",
       "2       Peluquería Acapulco Barbershop, 1014 Gault Ave...   \n",
       "3       Mountain Travelers Hike and Ski Shop, 147 US-4...   \n",
       "4       Lovely Nails, 636 Brandon Ave SW, Roanoke, VA ...   \n",
       "...                                                   ...   \n",
       "219996  Chase Bank, 5010 Elk Grove Blvd Ste #180, Elk ...   \n",
       "219997  Lindsay Heating Cooling and Refrigeration, 241...   \n",
       "219998  Fosnight Center for Sexual Health, 6 Yorkshire...   \n",
       "219999  Arbor Hills Dental Care, 175 N Milwaukee Ave #...   \n",
       "220000        Gordmans, 402 Plaza Dr, Mt Vernon, IN 47620   \n",
       "\n",
       "                                                 category  \n",
       "0                                                [Doctor]  \n",
       "1                                       [Upholstery shop]  \n",
       "2                                           [Barber shop]  \n",
       "3        [Ski shop, Camping store, Car accessories store]  \n",
       "4                                            [Nail salon]  \n",
       "...                                                   ...  \n",
       "219996                                        [Bank, ATM]  \n",
       "219997  [HVAC contractor, Air conditioning repair serv...  \n",
       "219998  [Medical Center, Counselor, Medical clinic, Me...  \n",
       "219999                           [Dental clinic, Dentist]  \n",
       "220000  [Department store, Clothing store, Furniture s...  \n",
       "\n",
       "[212299 rows x 3 columns]"
      ]
     },
     "execution_count": 24,
     "metadata": {},
     "output_type": "execute_result"
    }
   ],
   "source": [
    "df_metadata_cat"
   ]
  }
 ],
 "metadata": {
  "kernelspec": {
   "display_name": "Python 3",
   "language": "python",
   "name": "python3"
  },
  "language_info": {
   "codemirror_mode": {
    "name": "ipython",
    "version": 3
   },
   "file_extension": ".py",
   "mimetype": "text/x-python",
   "name": "python",
   "nbconvert_exporter": "python",
   "pygments_lexer": "ipython3",
   "version": "3.12.2"
  }
 },
 "nbformat": 4,
 "nbformat_minor": 2
}
