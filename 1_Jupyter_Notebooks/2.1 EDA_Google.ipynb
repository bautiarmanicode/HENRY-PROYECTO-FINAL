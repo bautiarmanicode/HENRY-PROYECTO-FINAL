{
 "cells": [
  {
   "cell_type": "markdown",
   "metadata": {},
   "source": [
    "# 🔎 Análisis Exploratorio de Datos (Google):"
   ]
  },
  {
   "cell_type": "markdown",
   "metadata": {},
   "source": [
    "## Importación de librerias"
   ]
  },
  {
   "cell_type": "code",
   "execution_count": 1,
   "metadata": {},
   "outputs": [],
   "source": [
    "from textblob import TextBlob\n",
    "import datetime\n",
    "import inspect\n",
    "import re\n",
    "import matplotlib.pyplot as plt\n",
    "import inspect\n",
    "import pandas as pd\n",
    "import gzip\n",
    "import os\n",
    "import seaborn as sns\n",
    "import numpy as np\n",
    "from data_utils import data_type_check"
   ]
  },
  {
   "cell_type": "markdown",
   "metadata": {},
   "source": [
    "### Importación de los datasets"
   ]
  },
  {
   "cell_type": "code",
   "execution_count": 2,
   "metadata": {},
   "outputs": [],
   "source": [
    "df_metadata = pd.read_parquet('../0_Dataset/Data_Limpia/Google/G_metadata_FL.parquet', engine='pyarrow')\n",
    "df_review = pd.read_parquet('../0_Dataset/Data_Limpia/Google/G_review_FL_reducido.parquet', engine='pyarrow')"
   ]
  },
  {
   "cell_type": "markdown",
   "metadata": {},
   "source": [
    "## Metadata de Florida (FL)"
   ]
  },
  {
   "cell_type": "markdown",
   "metadata": {},
   "source": [
    "Verificación de los datos"
   ]
  },
  {
   "cell_type": "code",
   "execution_count": 12,
   "metadata": {},
   "outputs": [
    {
     "data": {
      "text/html": [
       "<div>\n",
       "<style scoped>\n",
       "    .dataframe tbody tr th:only-of-type {\n",
       "        vertical-align: middle;\n",
       "    }\n",
       "\n",
       "    .dataframe tbody tr th {\n",
       "        vertical-align: top;\n",
       "    }\n",
       "\n",
       "    .dataframe thead th {\n",
       "        text-align: right;\n",
       "    }\n",
       "</style>\n",
       "<table border=\"1\" class=\"dataframe\">\n",
       "  <thead>\n",
       "    <tr style=\"text-align: right;\">\n",
       "      <th></th>\n",
       "      <th>name</th>\n",
       "      <th>address</th>\n",
       "      <th>latitude</th>\n",
       "      <th>longitude</th>\n",
       "      <th>category</th>\n",
       "      <th>avg_rating</th>\n",
       "      <th>num_of_reviews</th>\n",
       "    </tr>\n",
       "  </thead>\n",
       "  <tbody>\n",
       "    <tr>\n",
       "      <th>0</th>\n",
       "      <td>Neurocare &amp; Family Services</td>\n",
       "      <td>Neurocare &amp; Family Services, 1749 S Naperville...</td>\n",
       "      <td>41.839291</td>\n",
       "      <td>-88.100503</td>\n",
       "      <td>[Doctor]</td>\n",
       "      <td>5.0</td>\n",
       "      <td>1</td>\n",
       "    </tr>\n",
       "    <tr>\n",
       "      <th>1</th>\n",
       "      <td>Bayview Canvas</td>\n",
       "      <td>Bayview Canvas, 22460 Glass Ln, Port Charlotte...</td>\n",
       "      <td>26.962494</td>\n",
       "      <td>-82.075552</td>\n",
       "      <td>[Upholstery shop]</td>\n",
       "      <td>5.0</td>\n",
       "      <td>1</td>\n",
       "    </tr>\n",
       "    <tr>\n",
       "      <th>2</th>\n",
       "      <td>Peluquería Acapulco Barbershop</td>\n",
       "      <td>Peluquería Acapulco Barbershop, 1014 Gault Ave...</td>\n",
       "      <td>34.450636</td>\n",
       "      <td>-85.714130</td>\n",
       "      <td>[Barber shop]</td>\n",
       "      <td>4.8</td>\n",
       "      <td>58</td>\n",
       "    </tr>\n",
       "    <tr>\n",
       "      <th>3</th>\n",
       "      <td>Mountain Travelers Hike and Ski Shop</td>\n",
       "      <td>Mountain Travelers Hike and Ski Shop, 147 US-4...</td>\n",
       "      <td>43.622089</td>\n",
       "      <td>-72.953674</td>\n",
       "      <td>[Ski shop, Camping store, Car accessories store]</td>\n",
       "      <td>4.4</td>\n",
       "      <td>26</td>\n",
       "    </tr>\n",
       "    <tr>\n",
       "      <th>4</th>\n",
       "      <td>Lovely Nails</td>\n",
       "      <td>Lovely Nails, 636 Brandon Ave SW, Roanoke, VA ...</td>\n",
       "      <td>37.254535</td>\n",
       "      <td>-79.959470</td>\n",
       "      <td>[Nail salon]</td>\n",
       "      <td>4.3</td>\n",
       "      <td>145</td>\n",
       "    </tr>\n",
       "  </tbody>\n",
       "</table>\n",
       "</div>"
      ],
      "text/plain": [
       "                                   name  \\\n",
       "0           Neurocare & Family Services   \n",
       "1                        Bayview Canvas   \n",
       "2        Peluquería Acapulco Barbershop   \n",
       "3  Mountain Travelers Hike and Ski Shop   \n",
       "4                          Lovely Nails   \n",
       "\n",
       "                                             address   latitude  longitude  \\\n",
       "0  Neurocare & Family Services, 1749 S Naperville...  41.839291 -88.100503   \n",
       "1  Bayview Canvas, 22460 Glass Ln, Port Charlotte...  26.962494 -82.075552   \n",
       "2  Peluquería Acapulco Barbershop, 1014 Gault Ave...  34.450636 -85.714130   \n",
       "3  Mountain Travelers Hike and Ski Shop, 147 US-4...  43.622089 -72.953674   \n",
       "4  Lovely Nails, 636 Brandon Ave SW, Roanoke, VA ...  37.254535 -79.959470   \n",
       "\n",
       "                                           category  avg_rating  \\\n",
       "0                                          [Doctor]         5.0   \n",
       "1                                 [Upholstery shop]         5.0   \n",
       "2                                     [Barber shop]         4.8   \n",
       "3  [Ski shop, Camping store, Car accessories store]         4.4   \n",
       "4                                      [Nail salon]         4.3   \n",
       "\n",
       "   num_of_reviews  \n",
       "0               1  \n",
       "1               1  \n",
       "2              58  \n",
       "3              26  \n",
       "4             145  "
      ]
     },
     "execution_count": 12,
     "metadata": {},
     "output_type": "execute_result"
    }
   ],
   "source": [
    "df_metadata.head(5)"
   ]
  },
  {
   "cell_type": "markdown",
   "metadata": {},
   "source": [
    "### 1. Información y transformación de los datos"
   ]
  },
  {
   "cell_type": "code",
   "execution_count": null,
   "metadata": {},
   "outputs": [],
   "source": [
    "# SE REALIZARÁ UN REINICIO DE INDICES\n",
    "df_metadata.reset_index(drop=True,inplace=True)"
   ]
  },
  {
   "cell_type": "code",
   "execution_count": 8,
   "metadata": {},
   "outputs": [],
   "source": [
    "# OBTENEMOS SOLO LAS COLUMNAS QUE NOS VAN A AYUDAR A NUESTRO ANÁLISIS\n",
    "df_metadata.drop(columns=['gmap_id','relative_results','url'],inplace=True)"
   ]
  },
  {
   "cell_type": "code",
   "execution_count": 22,
   "metadata": {},
   "outputs": [
    {
     "name": "stdout",
     "output_type": "stream",
     "text": [
      "\n",
      "========================================\n",
      " Resumen del dataframe:\n",
      "\n",
      "========================================\n",
      "Dimensiones:  (212299, 7)\n",
      "          columna  %_no_nulos  %_nulos  total_nulos tipo_dato\n",
      "0            name       100.0      0.0            0    object\n",
      "1         address       100.0      0.0            0    object\n",
      "2        latitude       100.0      0.0            0   float64\n",
      "3       longitude       100.0      0.0            0   float64\n",
      "4        category       100.0      0.0            0    object\n",
      "5      avg_rating       100.0      0.0            0   float64\n",
      "6  num_of_reviews       100.0      0.0            0     int64\n"
     ]
    }
   ],
   "source": [
    "# OBTENEMOS UN ANÁLISIS DE DATOS EN CUANTOS A LA CANTIDAD DE NULOS OBTENIDOS\n",
    "data_type_check(df_metadata)"
   ]
  },
  {
   "cell_type": "markdown",
   "metadata": {},
   "source": [
    "#### 📚 Conclusión:\n",
    "- Se ve que al realizar un análisis de cantidad de datos nulos, tenemos una gran cantidad de estos en las distintos registros y en las distintas variables del dataset.\n",
    "- Nuestra norma en cuanto a la eliminación de nulos será si es mayor o igual al 18% se eliminarán, estas columnas serían: ['description', 'price', 'hours', 'MISC', 'state']\n",
    "- Luego de eliminar las columnas procedemos a eliminar los registros que contienen registros nulos."
   ]
  },
  {
   "cell_type": "code",
   "execution_count": 11,
   "metadata": {},
   "outputs": [],
   "source": [
    "# ELIMINACIÓN DE COLUMNAS CON MAYOR CANTIDAD DE NULOS\n",
    "df_metadata.drop(columns=['description', 'price', 'hours', 'MISC', 'state'] ,inplace=True)"
   ]
  },
  {
   "cell_type": "code",
   "execution_count": 20,
   "metadata": {},
   "outputs": [],
   "source": [
    "# ELIMINACIÓN DE REGISTRO QUE CONTINENEN REGISTRO NULOS\n",
    "df_metadata.dropna(axis=0,inplace=True)"
   ]
  },
  {
   "cell_type": "markdown",
   "metadata": {},
   "source": [
    "### 2.Variables categóricas y cuantitativas"
   ]
  },
  {
   "cell_type": "code",
   "execution_count": 21,
   "metadata": {},
   "outputs": [],
   "source": [
    "# VARIABLE CATEGÓRICAS Y CUANTITATIVAS EXISTENTES EN EL DATASET\n",
    "df_metadata_cat = df_metadata.select_dtypes('O')\n",
    "df_metadata_num = df_metadata.select_dtypes('number')"
   ]
  },
  {
   "cell_type": "markdown",
   "metadata": {},
   "source": [
    "#### Variables cuantitativas"
   ]
  },
  {
   "cell_type": "code",
   "execution_count": 25,
   "metadata": {},
   "outputs": [
    {
     "data": {
      "text/html": [
       "<div>\n",
       "<style scoped>\n",
       "    .dataframe tbody tr th:only-of-type {\n",
       "        vertical-align: middle;\n",
       "    }\n",
       "\n",
       "    .dataframe tbody tr th {\n",
       "        vertical-align: top;\n",
       "    }\n",
       "\n",
       "    .dataframe thead th {\n",
       "        text-align: right;\n",
       "    }\n",
       "</style>\n",
       "<table border=\"1\" class=\"dataframe\">\n",
       "  <thead>\n",
       "    <tr style=\"text-align: right;\">\n",
       "      <th></th>\n",
       "      <th>latitude</th>\n",
       "      <th>longitude</th>\n",
       "      <th>avg_rating</th>\n",
       "      <th>num_of_reviews</th>\n",
       "    </tr>\n",
       "  </thead>\n",
       "  <tbody>\n",
       "    <tr>\n",
       "      <th>0</th>\n",
       "      <td>41.839291</td>\n",
       "      <td>-88.100503</td>\n",
       "      <td>5.0</td>\n",
       "      <td>1</td>\n",
       "    </tr>\n",
       "    <tr>\n",
       "      <th>1</th>\n",
       "      <td>26.962494</td>\n",
       "      <td>-82.075552</td>\n",
       "      <td>5.0</td>\n",
       "      <td>1</td>\n",
       "    </tr>\n",
       "    <tr>\n",
       "      <th>2</th>\n",
       "      <td>34.450636</td>\n",
       "      <td>-85.714130</td>\n",
       "      <td>4.8</td>\n",
       "      <td>58</td>\n",
       "    </tr>\n",
       "    <tr>\n",
       "      <th>3</th>\n",
       "      <td>43.622089</td>\n",
       "      <td>-72.953674</td>\n",
       "      <td>4.4</td>\n",
       "      <td>26</td>\n",
       "    </tr>\n",
       "    <tr>\n",
       "      <th>4</th>\n",
       "      <td>37.254535</td>\n",
       "      <td>-79.959470</td>\n",
       "      <td>4.3</td>\n",
       "      <td>145</td>\n",
       "    </tr>\n",
       "  </tbody>\n",
       "</table>\n",
       "</div>"
      ],
      "text/plain": [
       "    latitude  longitude  avg_rating  num_of_reviews\n",
       "0  41.839291 -88.100503         5.0               1\n",
       "1  26.962494 -82.075552         5.0               1\n",
       "2  34.450636 -85.714130         4.8              58\n",
       "3  43.622089 -72.953674         4.4              26\n",
       "4  37.254535 -79.959470         4.3             145"
      ]
     },
     "execution_count": 25,
     "metadata": {},
     "output_type": "execute_result"
    }
   ],
   "source": [
    "# MUESTRA DEL DATASET\n",
    "df_metadata_num.head(5)"
   ]
  },
  {
   "cell_type": "code",
   "execution_count": 32,
   "metadata": {},
   "outputs": [
    {
     "data": {
      "text/html": [
       "<div>\n",
       "<style scoped>\n",
       "    .dataframe tbody tr th:only-of-type {\n",
       "        vertical-align: middle;\n",
       "    }\n",
       "\n",
       "    .dataframe tbody tr th {\n",
       "        vertical-align: top;\n",
       "    }\n",
       "\n",
       "    .dataframe thead th {\n",
       "        text-align: right;\n",
       "    }\n",
       "</style>\n",
       "<table border=\"1\" class=\"dataframe\">\n",
       "  <thead>\n",
       "    <tr style=\"text-align: right;\">\n",
       "      <th></th>\n",
       "      <th>count</th>\n",
       "      <th>mean</th>\n",
       "      <th>std</th>\n",
       "      <th>min</th>\n",
       "      <th>25%</th>\n",
       "      <th>50%</th>\n",
       "      <th>75%</th>\n",
       "      <th>max</th>\n",
       "    </tr>\n",
       "  </thead>\n",
       "  <tbody>\n",
       "    <tr>\n",
       "      <th>avg_rating</th>\n",
       "      <td>212299.0</td>\n",
       "      <td>4.298270</td>\n",
       "      <td>0.729039</td>\n",
       "      <td>1.0</td>\n",
       "      <td>4.0</td>\n",
       "      <td>4.5</td>\n",
       "      <td>4.8</td>\n",
       "      <td>5.0</td>\n",
       "    </tr>\n",
       "    <tr>\n",
       "      <th>num_of_reviews</th>\n",
       "      <td>212299.0</td>\n",
       "      <td>33.826127</td>\n",
       "      <td>72.807075</td>\n",
       "      <td>1.0</td>\n",
       "      <td>6.0</td>\n",
       "      <td>15.0</td>\n",
       "      <td>37.0</td>\n",
       "      <td>6960.0</td>\n",
       "    </tr>\n",
       "  </tbody>\n",
       "</table>\n",
       "</div>"
      ],
      "text/plain": [
       "                   count       mean        std  min  25%   50%   75%     max\n",
       "avg_rating      212299.0   4.298270   0.729039  1.0  4.0   4.5   4.8     5.0\n",
       "num_of_reviews  212299.0  33.826127  72.807075  1.0  6.0  15.0  37.0  6960.0"
      ]
     },
     "execution_count": 32,
     "metadata": {},
     "output_type": "execute_result"
    }
   ],
   "source": [
    "# DESCRIPCIÓN ESTADISTICO DE LOS DATOS NUMÉRICOS\n",
    "df_metadata_num.loc[:,['avg_rating','num_of_reviews']].describe().T"
   ]
  },
  {
   "cell_type": "code",
   "execution_count": 30,
   "metadata": {},
   "outputs": [
    {
     "data": {
      "text/plain": [
       "'Se aprecia que la mayoría de los restaurantes tienen calificación de 4.0 a 5.0.\\nEn su mayoría estos restaurantes están calificados positivamente'"
      ]
     },
     "execution_count": 30,
     "metadata": {},
     "output_type": "execute_result"
    },
    {
     "data": {
      "image/png": "[encoded data removed]",
      "text/plain": [
       "<Figure size 640x480 with 1 Axes>"
      ]
     },
     "metadata": {},
     "output_type": "display_data"
    }
   ],
   "source": [
    "# HISTOGRAMA DE LA CANTIDAD DE CALIFICACIÓN QUE SE DA LOS RESTAURANTES\n",
    "df_metadata_num.avg_rating.plot.hist()\n",
    "\n",
    "\"\"\"Se aprecia que la mayoría de los restaurantes tienen calificación de 4.0 a 5.0.\n",
    "En su mayoría estos restaurantes están calificados positivamente\"\"\""
   ]
  },
  {
   "cell_type": "code",
   "execution_count": 33,
   "metadata": {},
   "outputs": [
    {
     "data": {
      "text/plain": [
       "avg_rating\n",
       "5.0    38728\n",
       "4.8    16146\n",
       "4.7    15037\n",
       "4.9    14179\n",
       "4.5    14018\n",
       "4.6    13907\n",
       "4.4    11932\n",
       "4.3    11883\n",
       "4.0    11182\n",
       "4.2     9307\n",
       "4.1     7745\n",
       "3.9     5442\n",
       "3.7     5297\n",
       "3.8     5231\n",
       "3.0     4686\n",
       "3.5     3578\n",
       "3.6     3372\n",
       "3.3     2890\n",
       "3.4     2826\n",
       "3.2     1887\n",
       "3.1     1552\n",
       "1.0     1455\n",
       "2.8     1311\n",
       "2.9     1162\n",
       "2.7     1079\n",
       "2.5      984\n",
       "2.3      978\n",
       "2.6      918\n",
       "2.0      907\n",
       "2.4      650\n",
       "2.2      406\n",
       "2.1      324\n",
       "1.8      303\n",
       "1.9      223\n",
       "1.7      196\n",
       "1.5      185\n",
       "1.6      147\n",
       "1.3       98\n",
       "1.4       88\n",
       "1.2       39\n",
       "1.1       21\n",
       "Name: count, dtype: int64"
      ]
     },
     "execution_count": 33,
     "metadata": {},
     "output_type": "execute_result"
    }
   ],
   "source": [
    "df_metadata_num.avg_rating.value_counts()"
   ]
  },
  {
   "cell_type": "code",
   "execution_count": null,
   "metadata": {},
   "outputs": [],
   "source": []
  },
  {
   "cell_type": "markdown",
   "metadata": {},
   "source": [
    "#### Variables categóricas"
   ]
  },
  {
   "cell_type": "code",
   "execution_count": 29,
   "metadata": {},
   "outputs": [
    {
     "data": {
      "text/plain": [
       "name\n",
       "Subway                          552\n",
       "United States Postal Service    524\n",
       "Shell                           472\n",
       "U-Haul Neighborhood Dealer      392\n",
       "Redbox                          370\n",
       "                               ... \n",
       "Dennis Meighan, DO                1\n",
       "Dodge Avenue K9's & Training      1\n",
       "Us Donuts                         1\n",
       "Monteith Branch                   1\n",
       "Mr Falafel Plus                   1\n",
       "Name: count, Length: 183109, dtype: int64"
      ]
     },
     "execution_count": 29,
     "metadata": {},
     "output_type": "execute_result"
    }
   ],
   "source": [
    "df_metadata_cat.name.value_counts()"
   ]
  }
 ],
 "metadata": {
  "kernelspec": {
   "display_name": "Python 3",
   "language": "python",
   "name": "python3"
  },
  "language_info": {
   "codemirror_mode": {
    "name": "ipython",
    "version": 3
   },
   "file_extension": ".py",
   "mimetype": "text/x-python",
   "name": "python",
   "nbconvert_exporter": "python",
   "pygments_lexer": "ipython3",
   "version": "3.12.2"
  }
 },
 "nbformat": 4,
 "nbformat_minor": 2
}
