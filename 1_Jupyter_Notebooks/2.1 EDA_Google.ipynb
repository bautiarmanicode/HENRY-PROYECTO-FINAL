{
 "cells": [
  {
   "cell_type": "markdown",
   "metadata": {},
   "source": [
    "# 🔎 Análisis Exploratorio de Datos (Google):"
   ]
  },
  {
   "cell_type": "markdown",
   "metadata": {},
   "source": [
    "## Importación de librerias"
   ]
  },
  {
   "cell_type": "code",
   "execution_count": 2,
   "metadata": {},
   "outputs": [],
   "source": [
    "import datetime\n",
    "import matplotlib.pyplot as plt\n",
    "import pandas as pd\n",
    "import seaborn as sns\n",
    "import numpy as np\n",
    "from data_utils import data_type_check"
   ]
  },
  {
   "cell_type": "markdown",
   "metadata": {},
   "source": [
    "### Importación de los datasets"
   ]
  },
  {
   "cell_type": "code",
   "execution_count": 3,
   "metadata": {},
   "outputs": [],
   "source": [
    "df_metadata = pd.read_parquet('../0_Dataset/Data_Limpia/Google/G_metadata_FL.parquet', engine='pyarrow')\n",
    "df_review = pd.read_parquet('../0_Dataset/Data_Limpia/Google/G_review_FL_reducido.parquet', engine='pyarrow')"
   ]
  },
  {
   "cell_type": "markdown",
   "metadata": {},
   "source": [
    "### Funciones importantes"
   ]
  },
  {
   "cell_type": "code",
   "execution_count": 4,
   "metadata": {},
   "outputs": [],
   "source": [
    "# FUNCION PARA ENCONTRAR OUTLIERS CON EL RANGO INTERCUARTILICO\n",
    "def encontrar_outliers_IQR(data):\n",
    "    Q1 = data.quantile(0.25)\n",
    "    Q3 = data.quantile(0.75)\n",
    "    IQR = Q3 - Q1\n",
    "    lower_bound = Q1 - 1.5 * IQR\n",
    "    upper_bound = Q3 + 1.5 * IQR\n",
    "    return data[(data < lower_bound) | (data > upper_bound)]"
   ]
  },
  {
   "cell_type": "code",
   "execution_count": 5,
   "metadata": {},
   "outputs": [],
   "source": [
    "# FUNCION PARA ENCONTRAR OUTLIERS CON LA REGLA DE LAS 3 SIGMAS\n",
    "def encontrar_outliers_3sigmas(data):\n",
    "    mean = data.mean()\n",
    "    std = data.std()\n",
    "    lower_bound = mean - 3 * std\n",
    "    upper_bound = mean + 3 * std\n",
    "    return data[(data < lower_bound) | (data > upper_bound)]"
   ]
  },
  {
   "cell_type": "code",
   "execution_count": 6,
   "metadata": {},
   "outputs": [],
   "source": [
    "# FUNCION PARA ENCONTRAR EL RANGO MINIMO Y MAXIMO DEL IQR\n",
    "def calculate_iqr_outliers(series):\n",
    "    Q1 = series.quantile(0.25)\n",
    "    Q3 = series.quantile(0.75)\n",
    "    IQR = Q3 - Q1\n",
    "    lower_bound = Q1 - 1.5 * IQR\n",
    "    upper_bound = Q3 + 1.5 * IQR\n",
    "    return float(lower_bound), float(upper_bound)"
   ]
  },
  {
   "cell_type": "markdown",
   "metadata": {},
   "source": [
    "## EDA"
   ]
  },
  {
   "cell_type": "markdown",
   "metadata": {},
   "source": [
    "Verificación de los datos"
   ]
  },
  {
   "cell_type": "code",
   "execution_count": 7,
   "metadata": {},
   "outputs": [
    {
     "data": {
      "text/html": [
       "<div>\n",
       "<style scoped>\n",
       "    .dataframe tbody tr th:only-of-type {\n",
       "        vertical-align: middle;\n",
       "    }\n",
       "\n",
       "    .dataframe tbody tr th {\n",
       "        vertical-align: top;\n",
       "    }\n",
       "\n",
       "    .dataframe thead th {\n",
       "        text-align: right;\n",
       "    }\n",
       "</style>\n",
       "<table border=\"1\" class=\"dataframe\">\n",
       "  <thead>\n",
       "    <tr style=\"text-align: right;\">\n",
       "      <th></th>\n",
       "      <th>name</th>\n",
       "      <th>address</th>\n",
       "      <th>gmap_id</th>\n",
       "      <th>description</th>\n",
       "      <th>latitude</th>\n",
       "      <th>longitude</th>\n",
       "      <th>category</th>\n",
       "      <th>avg_rating</th>\n",
       "      <th>num_of_reviews</th>\n",
       "      <th>price</th>\n",
       "      <th>hours</th>\n",
       "      <th>MISC</th>\n",
       "      <th>state</th>\n",
       "      <th>relative_results</th>\n",
       "      <th>url</th>\n",
       "    </tr>\n",
       "  </thead>\n",
       "  <tbody>\n",
       "    <tr>\n",
       "      <th>1302883</th>\n",
       "      <td>Neurocare &amp; Family Services</td>\n",
       "      <td>Neurocare &amp; Family Services, 1749 S Naperville...</td>\n",
       "      <td>0x880e55ddb0081907:0x1dc5f1650b07c388</td>\n",
       "      <td>None</td>\n",
       "      <td>41.839291</td>\n",
       "      <td>-88.100503</td>\n",
       "      <td>[Doctor]</td>\n",
       "      <td>5.0</td>\n",
       "      <td>1</td>\n",
       "      <td>None</td>\n",
       "      <td>[[Monday, Closed], [Tuesday, 8AM–10PM], [Wedne...</td>\n",
       "      <td>{'Accessibility': ['Wheelchair accessible entr...</td>\n",
       "      <td>Closed ⋅ Opens 8AM Tue</td>\n",
       "      <td>[0x880e55ddba9f7635:0x862c597b017011c1, 0x880e...</td>\n",
       "      <td>https://www.google.com/maps/place//data=!4m2!3...</td>\n",
       "    </tr>\n",
       "    <tr>\n",
       "      <th>749243</th>\n",
       "      <td>Bayview Canvas</td>\n",
       "      <td>Bayview Canvas, 22460 Glass Ln, Port Charlotte...</td>\n",
       "      <td>0x146c6dea0e8465f9:0xca5e7f14cefd4983</td>\n",
       "      <td>None</td>\n",
       "      <td>26.962494</td>\n",
       "      <td>-82.075552</td>\n",
       "      <td>[Upholstery shop]</td>\n",
       "      <td>5.0</td>\n",
       "      <td>1</td>\n",
       "      <td>None</td>\n",
       "      <td>[[Friday, 8AM–5PM], [Saturday, Closed], [Sunda...</td>\n",
       "      <td>{'Accessibility': None, 'Activities': None, 'A...</td>\n",
       "      <td>Open ⋅ Closes 5PM</td>\n",
       "      <td>[0x88dca9b000000001:0xae92d5429c06878a, 0x88db...</td>\n",
       "      <td>https://www.google.com/maps/place//data=!4m2!3...</td>\n",
       "    </tr>\n",
       "    <tr>\n",
       "      <th>2190487</th>\n",
       "      <td>Peluquería Acapulco Barbershop</td>\n",
       "      <td>Peluquería Acapulco Barbershop, 1014 Gault Ave...</td>\n",
       "      <td>0x8861d6398caaf079:0x7a735e53dfeac495</td>\n",
       "      <td>None</td>\n",
       "      <td>34.450636</td>\n",
       "      <td>-85.714130</td>\n",
       "      <td>[Barber shop]</td>\n",
       "      <td>4.8</td>\n",
       "      <td>58</td>\n",
       "      <td>None</td>\n",
       "      <td>[[Saturday, 10AM–5PM], [Sunday, Closed], [Mond...</td>\n",
       "      <td>{'Accessibility': ['Wheelchair accessible entr...</td>\n",
       "      <td>Closed ⋅ Opens 10AM</td>\n",
       "      <td>[0x8861d640f8cf4415:0xc50ef1793d0439da, 0x8861...</td>\n",
       "      <td>https://www.google.com/maps/place//data=!4m2!3...</td>\n",
       "    </tr>\n",
       "    <tr>\n",
       "      <th>1932075</th>\n",
       "      <td>Mountain Travelers Hike and Ski Shop</td>\n",
       "      <td>Mountain Travelers Hike and Ski Shop, 147 US-4...</td>\n",
       "      <td>0x89e024365cd93733:0x97f767d0409e00af</td>\n",
       "      <td>None</td>\n",
       "      <td>43.622089</td>\n",
       "      <td>-72.953674</td>\n",
       "      <td>[Ski shop, Camping store, Car accessories store]</td>\n",
       "      <td>4.4</td>\n",
       "      <td>26</td>\n",
       "      <td>None</td>\n",
       "      <td>[[Thursday, 10AM–5PM], [Friday, 10AM–5PM], [Sa...</td>\n",
       "      <td>None</td>\n",
       "      <td>Permanently closed</td>\n",
       "      <td>[0x89e024ecbaaafc07:0xf913f5e468d2db08, 0x89e0...</td>\n",
       "      <td>https://www.google.com/maps/place//data=!4m2!3...</td>\n",
       "    </tr>\n",
       "    <tr>\n",
       "      <th>489691</th>\n",
       "      <td>Lovely Nails</td>\n",
       "      <td>Lovely Nails, 636 Brandon Ave SW, Roanoke, VA ...</td>\n",
       "      <td>0x884d0da7e0e9de07:0xfaeb98dff1ad0e89</td>\n",
       "      <td>None</td>\n",
       "      <td>37.254535</td>\n",
       "      <td>-79.959470</td>\n",
       "      <td>[Nail salon]</td>\n",
       "      <td>4.3</td>\n",
       "      <td>145</td>\n",
       "      <td>None</td>\n",
       "      <td>[[Monday, 9:30AM–7:30PM], [Tuesday, 9:30AM–7:3...</td>\n",
       "      <td>{'Accessibility': ['Wheelchair accessible entr...</td>\n",
       "      <td>Closed ⋅ Opens 9:30AM Tue</td>\n",
       "      <td>[0x884d0cff3546c2e1:0xf91b9ff679bd14aa, 0x884d...</td>\n",
       "      <td>https://www.google.com/maps/place//data=!4m2!3...</td>\n",
       "    </tr>\n",
       "  </tbody>\n",
       "</table>\n",
       "</div>"
      ],
      "text/plain": [
       "                                         name  \\\n",
       "1302883           Neurocare & Family Services   \n",
       "749243                         Bayview Canvas   \n",
       "2190487        Peluquería Acapulco Barbershop   \n",
       "1932075  Mountain Travelers Hike and Ski Shop   \n",
       "489691                           Lovely Nails   \n",
       "\n",
       "                                                   address  \\\n",
       "1302883  Neurocare & Family Services, 1749 S Naperville...   \n",
       "749243   Bayview Canvas, 22460 Glass Ln, Port Charlotte...   \n",
       "2190487  Peluquería Acapulco Barbershop, 1014 Gault Ave...   \n",
       "1932075  Mountain Travelers Hike and Ski Shop, 147 US-4...   \n",
       "489691   Lovely Nails, 636 Brandon Ave SW, Roanoke, VA ...   \n",
       "\n",
       "                                       gmap_id description   latitude  \\\n",
       "1302883  0x880e55ddb0081907:0x1dc5f1650b07c388        None  41.839291   \n",
       "749243   0x146c6dea0e8465f9:0xca5e7f14cefd4983        None  26.962494   \n",
       "2190487  0x8861d6398caaf079:0x7a735e53dfeac495        None  34.450636   \n",
       "1932075  0x89e024365cd93733:0x97f767d0409e00af        None  43.622089   \n",
       "489691   0x884d0da7e0e9de07:0xfaeb98dff1ad0e89        None  37.254535   \n",
       "\n",
       "         longitude                                          category  \\\n",
       "1302883 -88.100503                                          [Doctor]   \n",
       "749243  -82.075552                                 [Upholstery shop]   \n",
       "2190487 -85.714130                                     [Barber shop]   \n",
       "1932075 -72.953674  [Ski shop, Camping store, Car accessories store]   \n",
       "489691  -79.959470                                      [Nail salon]   \n",
       "\n",
       "         avg_rating  num_of_reviews price  \\\n",
       "1302883         5.0               1  None   \n",
       "749243          5.0               1  None   \n",
       "2190487         4.8              58  None   \n",
       "1932075         4.4              26  None   \n",
       "489691          4.3             145  None   \n",
       "\n",
       "                                                     hours  \\\n",
       "1302883  [[Monday, Closed], [Tuesday, 8AM–10PM], [Wedne...   \n",
       "749243   [[Friday, 8AM–5PM], [Saturday, Closed], [Sunda...   \n",
       "2190487  [[Saturday, 10AM–5PM], [Sunday, Closed], [Mond...   \n",
       "1932075  [[Thursday, 10AM–5PM], [Friday, 10AM–5PM], [Sa...   \n",
       "489691   [[Monday, 9:30AM–7:30PM], [Tuesday, 9:30AM–7:3...   \n",
       "\n",
       "                                                      MISC  \\\n",
       "1302883  {'Accessibility': ['Wheelchair accessible entr...   \n",
       "749243   {'Accessibility': None, 'Activities': None, 'A...   \n",
       "2190487  {'Accessibility': ['Wheelchair accessible entr...   \n",
       "1932075                                               None   \n",
       "489691   {'Accessibility': ['Wheelchair accessible entr...   \n",
       "\n",
       "                             state  \\\n",
       "1302883     Closed ⋅ Opens 8AM Tue   \n",
       "749243           Open ⋅ Closes 5PM   \n",
       "2190487        Closed ⋅ Opens 10AM   \n",
       "1932075         Permanently closed   \n",
       "489691   Closed ⋅ Opens 9:30AM Tue   \n",
       "\n",
       "                                          relative_results  \\\n",
       "1302883  [0x880e55ddba9f7635:0x862c597b017011c1, 0x880e...   \n",
       "749243   [0x88dca9b000000001:0xae92d5429c06878a, 0x88db...   \n",
       "2190487  [0x8861d640f8cf4415:0xc50ef1793d0439da, 0x8861...   \n",
       "1932075  [0x89e024ecbaaafc07:0xf913f5e468d2db08, 0x89e0...   \n",
       "489691   [0x884d0cff3546c2e1:0xf91b9ff679bd14aa, 0x884d...   \n",
       "\n",
       "                                                       url  \n",
       "1302883  https://www.google.com/maps/place//data=!4m2!3...  \n",
       "749243   https://www.google.com/maps/place//data=!4m2!3...  \n",
       "2190487  https://www.google.com/maps/place//data=!4m2!3...  \n",
       "1932075  https://www.google.com/maps/place//data=!4m2!3...  \n",
       "489691   https://www.google.com/maps/place//data=!4m2!3...  "
      ]
     },
     "execution_count": 7,
     "metadata": {},
     "output_type": "execute_result"
    }
   ],
   "source": [
    "df_metadata.head(5)"
   ]
  },
  {
   "cell_type": "code",
   "execution_count": 8,
   "metadata": {},
   "outputs": [
    {
     "data": {
      "text/plain": [
       "price\n",
       "$       8785\n",
       "$$      7503\n",
       "$$$      558\n",
       "$$$$      60\n",
       "Name: count, dtype: int64"
      ]
     },
     "execution_count": 8,
     "metadata": {},
     "output_type": "execute_result"
    }
   ],
   "source": [
    "df_metadata.price.value_counts()"
   ]
  },
  {
   "cell_type": "code",
   "execution_count": 9,
   "metadata": {},
   "outputs": [
    {
     "data": {
      "text/html": [
       "<div>\n",
       "<style scoped>\n",
       "    .dataframe tbody tr th:only-of-type {\n",
       "        vertical-align: middle;\n",
       "    }\n",
       "\n",
       "    .dataframe tbody tr th {\n",
       "        vertical-align: top;\n",
       "    }\n",
       "\n",
       "    .dataframe thead th {\n",
       "        text-align: right;\n",
       "    }\n",
       "</style>\n",
       "<table border=\"1\" class=\"dataframe\">\n",
       "  <thead>\n",
       "    <tr style=\"text-align: right;\">\n",
       "      <th></th>\n",
       "      <th>user_id</th>\n",
       "      <th>name</th>\n",
       "      <th>time</th>\n",
       "      <th>rating</th>\n",
       "      <th>text</th>\n",
       "      <th>pics</th>\n",
       "      <th>resp</th>\n",
       "      <th>gmap_id</th>\n",
       "    </tr>\n",
       "  </thead>\n",
       "  <tbody>\n",
       "    <tr>\n",
       "      <th>762395</th>\n",
       "      <td>1.145803e+20</td>\n",
       "      <td>jose martinez</td>\n",
       "      <td>1525385005812</td>\n",
       "      <td>5</td>\n",
       "      <td>(Translated by Google) Excellent service ... a...</td>\n",
       "      <td>None</td>\n",
       "      <td>None</td>\n",
       "      <td>0x88d9b684949c6fa1:0x5da9b5c4bd240d6b</td>\n",
       "    </tr>\n",
       "    <tr>\n",
       "      <th>924820</th>\n",
       "      <td>1.077641e+20</td>\n",
       "      <td>Ian Horow</td>\n",
       "      <td>1619985567951</td>\n",
       "      <td>5</td>\n",
       "      <td>None</td>\n",
       "      <td>None</td>\n",
       "      <td>None</td>\n",
       "      <td>0x88d901c07a850b25:0x53258790576101e6</td>\n",
       "    </tr>\n",
       "    <tr>\n",
       "      <th>1765663</th>\n",
       "      <td>1.003756e+20</td>\n",
       "      <td>Lauren Palmer</td>\n",
       "      <td>1605046404419</td>\n",
       "      <td>5</td>\n",
       "      <td>I was really impressed with the service we rec...</td>\n",
       "      <td>None</td>\n",
       "      <td>None</td>\n",
       "      <td>0x8890c53f737b08dd:0x9b2fc3221b8c1fff</td>\n",
       "    </tr>\n",
       "    <tr>\n",
       "      <th>2393358</th>\n",
       "      <td>1.102839e+20</td>\n",
       "      <td>Merrilee Crank</td>\n",
       "      <td>1527010637476</td>\n",
       "      <td>5</td>\n",
       "      <td>Clean very nice people work here I've been to ...</td>\n",
       "      <td>None</td>\n",
       "      <td>None</td>\n",
       "      <td>0x88e7c6dcd2e0a14d:0xb3b8214e70fb8540</td>\n",
       "    </tr>\n",
       "    <tr>\n",
       "      <th>1683593</th>\n",
       "      <td>1.156291e+20</td>\n",
       "      <td>Sincere Dread</td>\n",
       "      <td>1564086971867</td>\n",
       "      <td>5</td>\n",
       "      <td>None</td>\n",
       "      <td>None</td>\n",
       "      <td>None</td>\n",
       "      <td>0x88c2e3863fb052d5:0xc7dd0c27ad588473</td>\n",
       "    </tr>\n",
       "  </tbody>\n",
       "</table>\n",
       "</div>"
      ],
      "text/plain": [
       "              user_id            name           time  rating  \\\n",
       "762395   1.145803e+20   jose martinez  1525385005812       5   \n",
       "924820   1.077641e+20       Ian Horow  1619985567951       5   \n",
       "1765663  1.003756e+20   Lauren Palmer  1605046404419       5   \n",
       "2393358  1.102839e+20  Merrilee Crank  1527010637476       5   \n",
       "1683593  1.156291e+20   Sincere Dread  1564086971867       5   \n",
       "\n",
       "                                                      text  pics  resp  \\\n",
       "762395   (Translated by Google) Excellent service ... a...  None  None   \n",
       "924820                                                None  None  None   \n",
       "1765663  I was really impressed with the service we rec...  None  None   \n",
       "2393358  Clean very nice people work here I've been to ...  None  None   \n",
       "1683593                                               None  None  None   \n",
       "\n",
       "                                       gmap_id  \n",
       "762395   0x88d9b684949c6fa1:0x5da9b5c4bd240d6b  \n",
       "924820   0x88d901c07a850b25:0x53258790576101e6  \n",
       "1765663  0x8890c53f737b08dd:0x9b2fc3221b8c1fff  \n",
       "2393358  0x88e7c6dcd2e0a14d:0xb3b8214e70fb8540  \n",
       "1683593  0x88c2e3863fb052d5:0xc7dd0c27ad588473  "
      ]
     },
     "execution_count": 9,
     "metadata": {},
     "output_type": "execute_result"
    }
   ],
   "source": [
    "df_review.head()"
   ]
  },
  {
   "cell_type": "markdown",
   "metadata": {},
   "source": [
    "Eliminación de columnas innecesarias"
   ]
  },
  {
   "cell_type": "code",
   "execution_count": 10,
   "metadata": {},
   "outputs": [],
   "source": [
    "df_metadata.drop(columns=['relative_results','url'],inplace=True)"
   ]
  },
  {
   "cell_type": "markdown",
   "metadata": {},
   "source": [
    "### 1. Información y transformación de los datos"
   ]
  },
  {
   "cell_type": "markdown",
   "metadata": {},
   "source": [
    "#### Análisis de nulos"
   ]
  },
  {
   "cell_type": "code",
   "execution_count": 11,
   "metadata": {},
   "outputs": [
    {
     "name": "stdout",
     "output_type": "stream",
     "text": [
      "\n",
      "========================================\n",
      " Resumen del dataframe:\n",
      "\n",
      "========================================\n",
      "Dimensiones:  (220001, 13)\n",
      "           columna  %_no_nulos  %_nulos  total_nulos tipo_dato\n",
      "0             name      100.00     0.00            5    object\n",
      "1          address       97.15     2.85         6275    object\n",
      "2          gmap_id      100.00     0.00            0    object\n",
      "3      description        7.16    92.84       204255    object\n",
      "4         latitude      100.00     0.00            0   float64\n",
      "5        longitude      100.00     0.00            0   float64\n",
      "6         category       99.35     0.65         1428    object\n",
      "7       avg_rating      100.00     0.00            0   float64\n",
      "8   num_of_reviews      100.00     0.00            0     int64\n",
      "9            price        7.68    92.32       203095    object\n",
      "10           hours       72.82    27.18        59802    object\n",
      "11            MISC       75.58    24.42        53728    object\n",
      "12           state       74.25    25.75        56652    object\n",
      "None\n",
      "\n",
      "========================================\n",
      " Resumen del dataframe:\n",
      "\n",
      "========================================\n",
      "Dimensiones:  (712500, 8)\n",
      "   columna  %_no_nulos  %_nulos  total_nulos tipo_dato\n",
      "0  user_id      100.00     0.00            0   float64\n",
      "1     name      100.00     0.00            0    object\n",
      "2     time      100.00     0.00            0     int64\n",
      "3   rating      100.00     0.00            0     int64\n",
      "4     text       62.09    37.91       270081    object\n",
      "5     pics        3.66    96.34       686417    object\n",
      "6     resp       16.02    83.98       598322    object\n",
      "7  gmap_id      100.00     0.00            0    object\n",
      "None\n"
     ]
    }
   ],
   "source": [
    "print(data_type_check(df_metadata))\n",
    "print(data_type_check(df_review))"
   ]
  },
  {
   "cell_type": "markdown",
   "metadata": {},
   "source": [
    "📚 Conclusiones:\n",
    "- En \"df_metadata\" las variables description, price, hours, MISC, state, tienen una cantidad considerablemente grande de nulos. Por lo que solo admitiendo para el objetivo de análisis del 18%, se procede a eliminarlas y aportar información relevante para el análisis de datos.\n",
    "- En \"df_rebiew\" las variables text, pics, resp, no aportan información relevante para el análisis por lo que se eliminará.\n",
    "- Se eliminarán los registros que tengan algun dato nulo que son menores al 3% de los datos."
   ]
  },
  {
   "cell_type": "code",
   "execution_count": 12,
   "metadata": {},
   "outputs": [],
   "source": [
    "# SE REALIZARÁ UN REINICIO DE INDICES\n",
    "df_metadata.reset_index(drop=True,inplace=True)\n",
    "df_review.reset_index(drop=True,inplace=True)"
   ]
  },
  {
   "cell_type": "code",
   "execution_count": 13,
   "metadata": {},
   "outputs": [],
   "source": [
    "# OBTENEMOS SOLO LAS COLUMNAS QUE NOS VAN A AYUDAR A NUESTRO ANÁLISIS\n",
    "df_metadata.drop(columns=['description','price', 'hours', 'MISC', 'state'],inplace=True)\n",
    "df_review.drop(columns=['text','pics','resp'],inplace=True)"
   ]
  },
  {
   "cell_type": "code",
   "execution_count": 14,
   "metadata": {},
   "outputs": [],
   "source": [
    "# ELIMINACIÓN DE REGISTRO QUE CONTINENEN REGISTRO NULOS\n",
    "df_metadata.dropna(axis=0,inplace=True)"
   ]
  },
  {
   "cell_type": "code",
   "execution_count": 15,
   "metadata": {},
   "outputs": [
    {
     "name": "stdout",
     "output_type": "stream",
     "text": [
      "\n",
      "========================================\n",
      " Resumen del dataframe:\n",
      "\n",
      "========================================\n",
      "Dimensiones:  (212299, 8)\n",
      "          columna  %_no_nulos  %_nulos  total_nulos tipo_dato\n",
      "0            name       100.0      0.0            0    object\n",
      "1         address       100.0      0.0            0    object\n",
      "2         gmap_id       100.0      0.0            0    object\n",
      "3        latitude       100.0      0.0            0   float64\n",
      "4       longitude       100.0      0.0            0   float64\n",
      "5        category       100.0      0.0            0    object\n",
      "6      avg_rating       100.0      0.0            0   float64\n",
      "7  num_of_reviews       100.0      0.0            0     int64\n",
      "None\n",
      "\n",
      "========================================\n",
      " Resumen del dataframe:\n",
      "\n",
      "========================================\n",
      "Dimensiones:  (712500, 5)\n",
      "   columna  %_no_nulos  %_nulos  total_nulos tipo_dato\n",
      "0  user_id       100.0      0.0            0   float64\n",
      "1     name       100.0      0.0            0    object\n",
      "2     time       100.0      0.0            0     int64\n",
      "3   rating       100.0      0.0            0     int64\n",
      "4  gmap_id       100.0      0.0            0    object\n",
      "None\n"
     ]
    }
   ],
   "source": [
    "print(data_type_check(df_metadata))\n",
    "print(data_type_check(df_review))"
   ]
  },
  {
   "cell_type": "markdown",
   "metadata": {},
   "source": [
    "#### Transformaciones de datos"
   ]
  },
  {
   "cell_type": "code",
   "execution_count": 16,
   "metadata": {},
   "outputs": [],
   "source": [
    "# TRANSFORMACIÓN DE LA VARIABLE 'time'\n",
    "df_review['dates'] = pd.to_datetime(df_review['time'], unit='ms')\n",
    "df_review['year'] = df_review['dates'].dt.year\n",
    "df_review['month'] = df_review['dates'].dt.strftime('%B')\n",
    "df_review['day'] = df_review['dates'].dt.day"
   ]
  },
  {
   "cell_type": "code",
   "execution_count": 17,
   "metadata": {},
   "outputs": [],
   "source": [
    "# ELIMINAMOS LA VARIABLE 'time'\n",
    "df_review.drop(columns=['time'],inplace=True)"
   ]
  },
  {
   "cell_type": "code",
   "execution_count": 53,
   "metadata": {},
   "outputs": [
    {
     "data": {
      "text/html": [
       "<div>\n",
       "<style scoped>\n",
       "    .dataframe tbody tr th:only-of-type {\n",
       "        vertical-align: middle;\n",
       "    }\n",
       "\n",
       "    .dataframe tbody tr th {\n",
       "        vertical-align: top;\n",
       "    }\n",
       "\n",
       "    .dataframe thead th {\n",
       "        text-align: right;\n",
       "    }\n",
       "</style>\n",
       "<table border=\"1\" class=\"dataframe\">\n",
       "  <thead>\n",
       "    <tr style=\"text-align: right;\">\n",
       "      <th></th>\n",
       "      <th>user_id</th>\n",
       "      <th>name</th>\n",
       "      <th>rating</th>\n",
       "      <th>gmap_id</th>\n",
       "      <th>dates</th>\n",
       "      <th>year</th>\n",
       "      <th>month</th>\n",
       "      <th>day</th>\n",
       "    </tr>\n",
       "  </thead>\n",
       "  <tbody>\n",
       "    <tr>\n",
       "      <th>0</th>\n",
       "      <td>1.145803e+20</td>\n",
       "      <td>jose martinez</td>\n",
       "      <td>5</td>\n",
       "      <td>0x88d9b684949c6fa1:0x5da9b5c4bd240d6b</td>\n",
       "      <td>2018-05-03 22:03:25.812</td>\n",
       "      <td>2018</td>\n",
       "      <td>May</td>\n",
       "      <td>3</td>\n",
       "    </tr>\n",
       "    <tr>\n",
       "      <th>1</th>\n",
       "      <td>1.077641e+20</td>\n",
       "      <td>Ian Horow</td>\n",
       "      <td>5</td>\n",
       "      <td>0x88d901c07a850b25:0x53258790576101e6</td>\n",
       "      <td>2021-05-02 19:59:27.951</td>\n",
       "      <td>2021</td>\n",
       "      <td>May</td>\n",
       "      <td>2</td>\n",
       "    </tr>\n",
       "    <tr>\n",
       "      <th>2</th>\n",
       "      <td>1.003756e+20</td>\n",
       "      <td>Lauren Palmer</td>\n",
       "      <td>5</td>\n",
       "      <td>0x8890c53f737b08dd:0x9b2fc3221b8c1fff</td>\n",
       "      <td>2020-11-10 22:13:24.419</td>\n",
       "      <td>2020</td>\n",
       "      <td>November</td>\n",
       "      <td>10</td>\n",
       "    </tr>\n",
       "    <tr>\n",
       "      <th>3</th>\n",
       "      <td>1.102839e+20</td>\n",
       "      <td>Merrilee Crank</td>\n",
       "      <td>5</td>\n",
       "      <td>0x88e7c6dcd2e0a14d:0xb3b8214e70fb8540</td>\n",
       "      <td>2018-05-22 17:37:17.476</td>\n",
       "      <td>2018</td>\n",
       "      <td>May</td>\n",
       "      <td>22</td>\n",
       "    </tr>\n",
       "    <tr>\n",
       "      <th>4</th>\n",
       "      <td>1.156291e+20</td>\n",
       "      <td>Sincere Dread</td>\n",
       "      <td>5</td>\n",
       "      <td>0x88c2e3863fb052d5:0xc7dd0c27ad588473</td>\n",
       "      <td>2019-07-25 20:36:11.867</td>\n",
       "      <td>2019</td>\n",
       "      <td>July</td>\n",
       "      <td>25</td>\n",
       "    </tr>\n",
       "  </tbody>\n",
       "</table>\n",
       "</div>"
      ],
      "text/plain": [
       "        user_id            name  rating  \\\n",
       "0  1.145803e+20   jose martinez       5   \n",
       "1  1.077641e+20       Ian Horow       5   \n",
       "2  1.003756e+20   Lauren Palmer       5   \n",
       "3  1.102839e+20  Merrilee Crank       5   \n",
       "4  1.156291e+20   Sincere Dread       5   \n",
       "\n",
       "                                 gmap_id                   dates  year  \\\n",
       "0  0x88d9b684949c6fa1:0x5da9b5c4bd240d6b 2018-05-03 22:03:25.812  2018   \n",
       "1  0x88d901c07a850b25:0x53258790576101e6 2021-05-02 19:59:27.951  2021   \n",
       "2  0x8890c53f737b08dd:0x9b2fc3221b8c1fff 2020-11-10 22:13:24.419  2020   \n",
       "3  0x88e7c6dcd2e0a14d:0xb3b8214e70fb8540 2018-05-22 17:37:17.476  2018   \n",
       "4  0x88c2e3863fb052d5:0xc7dd0c27ad588473 2019-07-25 20:36:11.867  2019   \n",
       "\n",
       "      month  day  \n",
       "0       May    3  \n",
       "1       May    2  \n",
       "2  November   10  \n",
       "3       May   22  \n",
       "4      July   25  "
      ]
     },
     "execution_count": 53,
     "metadata": {},
     "output_type": "execute_result"
    }
   ],
   "source": [
    "df_review.head(5)"
   ]
  },
  {
   "cell_type": "markdown",
   "metadata": {},
   "source": [
    "### 2. Variables cuantitativas y categóricas"
   ]
  },
  {
   "cell_type": "code",
   "execution_count": 18,
   "metadata": {},
   "outputs": [],
   "source": [
    "#CLASIFICAMOS POR TIPO DE VARIABLES\n",
    "df_metadata_num = df_metadata.select_dtypes('number')\n",
    "df_metadata_cat = df_metadata.select_dtypes('O')\n",
    "\n",
    "df_review_num = df_review.select_dtypes('number')\n",
    "df_review_cat = df_review.select_dtypes('O')"
   ]
  },
  {
   "cell_type": "code",
   "execution_count": 19,
   "metadata": {},
   "outputs": [
    {
     "name": "stdout",
     "output_type": "stream",
     "text": [
      "    latitude  longitude  avg_rating  num_of_reviews\n",
      "0  41.839291 -88.100503         5.0               1\n",
      "1  26.962494 -82.075552         5.0               1\n",
      "2  34.450636 -85.714130         4.8              58\n",
      "3  43.622089 -72.953674         4.4              26\n",
      "4  37.254535 -79.959470         4.3             145\n",
      "                                   name  \\\n",
      "0           Neurocare & Family Services   \n",
      "1                        Bayview Canvas   \n",
      "2        Peluquería Acapulco Barbershop   \n",
      "3  Mountain Travelers Hike and Ski Shop   \n",
      "4                          Lovely Nails   \n",
      "\n",
      "                                             address  \\\n",
      "0  Neurocare & Family Services, 1749 S Naperville...   \n",
      "1  Bayview Canvas, 22460 Glass Ln, Port Charlotte...   \n",
      "2  Peluquería Acapulco Barbershop, 1014 Gault Ave...   \n",
      "3  Mountain Travelers Hike and Ski Shop, 147 US-4...   \n",
      "4  Lovely Nails, 636 Brandon Ave SW, Roanoke, VA ...   \n",
      "\n",
      "                                 gmap_id  \\\n",
      "0  0x880e55ddb0081907:0x1dc5f1650b07c388   \n",
      "1  0x146c6dea0e8465f9:0xca5e7f14cefd4983   \n",
      "2  0x8861d6398caaf079:0x7a735e53dfeac495   \n",
      "3  0x89e024365cd93733:0x97f767d0409e00af   \n",
      "4  0x884d0da7e0e9de07:0xfaeb98dff1ad0e89   \n",
      "\n",
      "                                           category  \n",
      "0                                          [Doctor]  \n",
      "1                                 [Upholstery shop]  \n",
      "2                                     [Barber shop]  \n",
      "3  [Ski shop, Camping store, Car accessories store]  \n",
      "4                                      [Nail salon]  \n",
      "        user_id  rating  year  day\n",
      "0  1.145803e+20       5  2018    3\n",
      "1  1.077641e+20       5  2021    2\n",
      "2  1.003756e+20       5  2020   10\n",
      "3  1.102839e+20       5  2018   22\n",
      "4  1.156291e+20       5  2019   25\n",
      "             name                                gmap_id     month\n",
      "0   jose martinez  0x88d9b684949c6fa1:0x5da9b5c4bd240d6b       May\n",
      "1       Ian Horow  0x88d901c07a850b25:0x53258790576101e6       May\n",
      "2   Lauren Palmer  0x8890c53f737b08dd:0x9b2fc3221b8c1fff  November\n",
      "3  Merrilee Crank  0x88e7c6dcd2e0a14d:0xb3b8214e70fb8540       May\n",
      "4   Sincere Dread  0x88c2e3863fb052d5:0xc7dd0c27ad588473      July\n"
     ]
    }
   ],
   "source": [
    "print(df_metadata_num.head())\n",
    "print(df_metadata_cat.head())\n",
    "print(df_review_num.head())\n",
    "print(df_review_cat.head())"
   ]
  },
  {
   "cell_type": "markdown",
   "metadata": {},
   "source": [
    "#### Análisis de las Variables Cuantitativas"
   ]
  },
  {
   "cell_type": "code",
   "execution_count": 20,
   "metadata": {},
   "outputs": [
    {
     "name": "stdout",
     "output_type": "stream",
     "text": [
      "    latitude  longitude  avg_rating  num_of_reviews\n",
      "0  41.839291 -88.100503         5.0               1\n",
      "1  26.962494 -82.075552         5.0               1\n",
      "2  34.450636 -85.714130         4.8              58\n",
      "3  43.622089 -72.953674         4.4              26\n",
      "4  37.254535 -79.959470         4.3             145\n",
      "        user_id  rating  year  day\n",
      "0  1.145803e+20       5  2018    3\n",
      "1  1.077641e+20       5  2021    2\n",
      "2  1.003756e+20       5  2020   10\n",
      "3  1.102839e+20       5  2018   22\n",
      "4  1.156291e+20       5  2019   25\n"
     ]
    }
   ],
   "source": [
    "# MUESTRA DEL DATASET\n",
    "print(df_metadata_num.head(5))\n",
    "print(df_review_num.head(5))"
   ]
  },
  {
   "cell_type": "markdown",
   "metadata": {},
   "source": [
    "Descripción estadístico"
   ]
  },
  {
   "cell_type": "code",
   "execution_count": 21,
   "metadata": {},
   "outputs": [
    {
     "data": {
      "text/html": [
       "<div>\n",
       "<style scoped>\n",
       "    .dataframe tbody tr th:only-of-type {\n",
       "        vertical-align: middle;\n",
       "    }\n",
       "\n",
       "    .dataframe tbody tr th {\n",
       "        vertical-align: top;\n",
       "    }\n",
       "\n",
       "    .dataframe thead th {\n",
       "        text-align: right;\n",
       "    }\n",
       "</style>\n",
       "<table border=\"1\" class=\"dataframe\">\n",
       "  <thead>\n",
       "    <tr style=\"text-align: right;\">\n",
       "      <th></th>\n",
       "      <th>count</th>\n",
       "      <th>mean</th>\n",
       "      <th>std</th>\n",
       "      <th>min</th>\n",
       "      <th>25%</th>\n",
       "      <th>50%</th>\n",
       "      <th>75%</th>\n",
       "      <th>max</th>\n",
       "    </tr>\n",
       "  </thead>\n",
       "  <tbody>\n",
       "    <tr>\n",
       "      <th>avg_rating</th>\n",
       "      <td>212299.0</td>\n",
       "      <td>4.298270</td>\n",
       "      <td>0.729039</td>\n",
       "      <td>1.0</td>\n",
       "      <td>4.0</td>\n",
       "      <td>4.5</td>\n",
       "      <td>4.8</td>\n",
       "      <td>5.0</td>\n",
       "    </tr>\n",
       "    <tr>\n",
       "      <th>num_of_reviews</th>\n",
       "      <td>212299.0</td>\n",
       "      <td>33.826127</td>\n",
       "      <td>72.807075</td>\n",
       "      <td>1.0</td>\n",
       "      <td>6.0</td>\n",
       "      <td>15.0</td>\n",
       "      <td>37.0</td>\n",
       "      <td>6960.0</td>\n",
       "    </tr>\n",
       "  </tbody>\n",
       "</table>\n",
       "</div>"
      ],
      "text/plain": [
       "                   count       mean        std  min  25%   50%   75%     max\n",
       "avg_rating      212299.0   4.298270   0.729039  1.0  4.0   4.5   4.8     5.0\n",
       "num_of_reviews  212299.0  33.826127  72.807075  1.0  6.0  15.0  37.0  6960.0"
      ]
     },
     "execution_count": 21,
     "metadata": {},
     "output_type": "execute_result"
    }
   ],
   "source": [
    "# DESCRIPCIÓN ESTADISTICO DE LOS DATOS NUMÉRICOS\n",
    "df_metadata_num.loc[:,['avg_rating','num_of_reviews']].describe().T"
   ]
  },
  {
   "cell_type": "code",
   "execution_count": 22,
   "metadata": {},
   "outputs": [
    {
     "data": {
      "text/html": [
       "<div>\n",
       "<style scoped>\n",
       "    .dataframe tbody tr th:only-of-type {\n",
       "        vertical-align: middle;\n",
       "    }\n",
       "\n",
       "    .dataframe tbody tr th {\n",
       "        vertical-align: top;\n",
       "    }\n",
       "\n",
       "    .dataframe thead th {\n",
       "        text-align: right;\n",
       "    }\n",
       "</style>\n",
       "<table border=\"1\" class=\"dataframe\">\n",
       "  <thead>\n",
       "    <tr style=\"text-align: right;\">\n",
       "      <th></th>\n",
       "      <th>count</th>\n",
       "      <th>mean</th>\n",
       "      <th>std</th>\n",
       "      <th>min</th>\n",
       "      <th>25%</th>\n",
       "      <th>50%</th>\n",
       "      <th>75%</th>\n",
       "      <th>max</th>\n",
       "    </tr>\n",
       "  </thead>\n",
       "  <tbody>\n",
       "    <tr>\n",
       "      <th>rating</th>\n",
       "      <td>712500.0</td>\n",
       "      <td>4.313642</td>\n",
       "      <td>1.169507</td>\n",
       "      <td>1.0</td>\n",
       "      <td>4.0</td>\n",
       "      <td>5.0</td>\n",
       "      <td>5.0</td>\n",
       "      <td>5.0</td>\n",
       "    </tr>\n",
       "    <tr>\n",
       "      <th>year</th>\n",
       "      <td>712500.0</td>\n",
       "      <td>2018.798132</td>\n",
       "      <td>1.424792</td>\n",
       "      <td>2003.0</td>\n",
       "      <td>2018.0</td>\n",
       "      <td>2019.0</td>\n",
       "      <td>2020.0</td>\n",
       "      <td>2021.0</td>\n",
       "    </tr>\n",
       "  </tbody>\n",
       "</table>\n",
       "</div>"
      ],
      "text/plain": [
       "           count         mean       std     min     25%     50%     75%  \\\n",
       "rating  712500.0     4.313642  1.169507     1.0     4.0     5.0     5.0   \n",
       "year    712500.0  2018.798132  1.424792  2003.0  2018.0  2019.0  2020.0   \n",
       "\n",
       "           max  \n",
       "rating     5.0  \n",
       "year    2021.0  "
      ]
     },
     "execution_count": 22,
     "metadata": {},
     "output_type": "execute_result"
    }
   ],
   "source": [
    "df_review_num.loc[:,['rating','year']].describe().T"
   ]
  },
  {
   "cell_type": "markdown",
   "metadata": {},
   "source": [
    "##### Gráficos"
   ]
  },
  {
   "cell_type": "code",
   "execution_count": 23,
   "metadata": {},
   "outputs": [
    {
     "data": {
      "text/plain": [
       "Text(0, 0.5, 'Frecuencia')"
      ]
     },
     "execution_count": 23,
     "metadata": {},
     "output_type": "execute_result"
    },
    {
     "data": {
      "image/png": "[encoded data removed]",
      "text/plain": [
       "<Figure size 1200x2000 with 3 Axes>"
      ]
     },
     "metadata": {},
     "output_type": "display_data"
    }
   ],
   "source": [
    "# HISTOGRAMA DE LA CANTIDAD DE CALIFICACIÓN QUE SE DA LOS RESTAURANTES\n",
    "fig, axes = plt.subplots(3,1,figsize=(12,20))\n",
    "axes[0].hist(df_metadata_num.avg_rating)\n",
    "axes[0].set_title('Histograma de Calificaciones Promedio de los Locales')\n",
    "axes[0].set_xlabel('Calificación Promedio')\n",
    "axes[0].set_ylabel('Frecuencia')\n",
    "\n",
    "axes[1].hist(df_review_num.rating)\n",
    "axes[1].set_title('Histograma de Calificaciones Promedio de los Locales')\n",
    "axes[1].set_xlabel('Calificación Promedio')\n",
    "axes[1].set_ylabel('Frecuencia')\n",
    "\n",
    "axes[2].hist(df_metadata_num.num_of_reviews)\n",
    "axes[0].set_title('Histograma de Número de Reseñas de los Locales')\n",
    "axes[0].set_xlabel('Calificación Promedio')\n",
    "axes[0].set_ylabel('Frecuencia')"
   ]
  },
  {
   "cell_type": "markdown",
   "metadata": {},
   "source": [
    "📚 Conclusiones:\n",
    "- Se ve que hay una cantidad considerable de outliers estos se ven reflejados en las colas izquierdas de los histogramas de ratings de ambos dataset."
   ]
  },
  {
   "cell_type": "markdown",
   "metadata": {},
   "source": [
    "#### Análisis de variables categóricas"
   ]
  },
  {
   "cell_type": "code",
   "execution_count": 24,
   "metadata": {},
   "outputs": [
    {
     "name": "stdout",
     "output_type": "stream",
     "text": [
      "\n",
      "========================================\n",
      " Resumen del dataframe:\n",
      "\n",
      "========================================\n",
      "Dimensiones:  (212299, 4)\n",
      "    columna  %_no_nulos  %_nulos  total_nulos tipo_dato\n",
      "0      name       100.0      0.0            0    object\n",
      "1   address       100.0      0.0            0    object\n",
      "2   gmap_id       100.0      0.0            0    object\n",
      "3  category       100.0      0.0            0    object\n",
      "None\n",
      "\n",
      "========================================\n",
      " Resumen del dataframe:\n",
      "\n",
      "========================================\n",
      "Dimensiones:  (712500, 3)\n",
      "   columna  %_no_nulos  %_nulos  total_nulos tipo_dato\n",
      "0     name       100.0      0.0            0    object\n",
      "1  gmap_id       100.0      0.0            0    object\n",
      "2    month       100.0      0.0            0    object\n",
      "None\n"
     ]
    }
   ],
   "source": [
    "print(data_type_check(df_metadata_cat))\n",
    "print(data_type_check(df_review_cat))"
   ]
  },
  {
   "cell_type": "markdown",
   "metadata": {},
   "source": [
    "#### Outliers"
   ]
  },
  {
   "cell_type": "code",
   "execution_count": 25,
   "metadata": {},
   "outputs": [
    {
     "name": "stdout",
     "output_type": "stream",
     "text": [
      "(2.8000000000000003, 6.0)\n",
      "(-40.5, 83.5)\n",
      "(2.5, 6.5)\n"
     ]
    }
   ],
   "source": [
    "# SE ENCUENTRA LOS OUTLIERS POR MEDIO DEL RANGO INTERCUARTILICO\n",
    "print(calculate_iqr_outliers(df_metadata_num.avg_rating))\n",
    "print(calculate_iqr_outliers(df_metadata_num.num_of_reviews))\n",
    "print(calculate_iqr_outliers(df_review_num.rating))"
   ]
  },
  {
   "cell_type": "code",
   "execution_count": 26,
   "metadata": {},
   "outputs": [],
   "source": [
    "# GUARDAMOS EN LOS MINIMOS Y MAXIMOS OUTLIERS\n",
    "min_meta_rating,max_meta_rating = calculate_iqr_outliers(df_metadata_num.avg_rating)\n",
    "min_meta_review,max_meta_review = calculate_iqr_outliers(df_metadata_num.num_of_reviews)\n",
    "min_review_rating,max_review_rating = calculate_iqr_outliers(df_review_num.rating)"
   ]
  },
  {
   "cell_type": "code",
   "execution_count": 27,
   "metadata": {},
   "outputs": [],
   "source": [
    "# FILTRADO 1\n",
    "filtro_1 = (df_metadata_num.avg_rating >= min_meta_rating)&(df_metadata_num.avg_rating <= max_meta_rating)\n",
    "df_metadata_num_fil = df_metadata_num[filtro_1]\n",
    "\n",
    "# FILTRADO 2\n",
    "filtro_2 = (df_metadata_num_fil.num_of_reviews >= min_meta_review)&(df_metadata_num_fil.num_of_reviews <= max_meta_review)\n",
    "df_metadata_num_fil = df_metadata_num_fil[filtro_2]\n",
    "\n",
    "# FILTRADO 3\n",
    "filtro_3 = (df_review_num.rating >= min_review_rating)&(df_review_num.rating <= max_review_rating)\n",
    "df_review_num_fil = df_review_num[filtro_3]"
   ]
  },
  {
   "cell_type": "code",
   "execution_count": 28,
   "metadata": {},
   "outputs": [
    {
     "data": {
      "text/html": [
       "<div>\n",
       "<style scoped>\n",
       "    .dataframe tbody tr th:only-of-type {\n",
       "        vertical-align: middle;\n",
       "    }\n",
       "\n",
       "    .dataframe tbody tr th {\n",
       "        vertical-align: top;\n",
       "    }\n",
       "\n",
       "    .dataframe thead th {\n",
       "        text-align: right;\n",
       "    }\n",
       "</style>\n",
       "<table border=\"1\" class=\"dataframe\">\n",
       "  <thead>\n",
       "    <tr style=\"text-align: right;\">\n",
       "      <th></th>\n",
       "      <th>user_id</th>\n",
       "      <th>rating</th>\n",
       "      <th>year</th>\n",
       "      <th>day</th>\n",
       "    </tr>\n",
       "  </thead>\n",
       "  <tbody>\n",
       "    <tr>\n",
       "      <th>0</th>\n",
       "      <td>1.145803e+20</td>\n",
       "      <td>5</td>\n",
       "      <td>2018</td>\n",
       "      <td>3</td>\n",
       "    </tr>\n",
       "    <tr>\n",
       "      <th>1</th>\n",
       "      <td>1.077641e+20</td>\n",
       "      <td>5</td>\n",
       "      <td>2021</td>\n",
       "      <td>2</td>\n",
       "    </tr>\n",
       "    <tr>\n",
       "      <th>2</th>\n",
       "      <td>1.003756e+20</td>\n",
       "      <td>5</td>\n",
       "      <td>2020</td>\n",
       "      <td>10</td>\n",
       "    </tr>\n",
       "    <tr>\n",
       "      <th>3</th>\n",
       "      <td>1.102839e+20</td>\n",
       "      <td>5</td>\n",
       "      <td>2018</td>\n",
       "      <td>22</td>\n",
       "    </tr>\n",
       "    <tr>\n",
       "      <th>4</th>\n",
       "      <td>1.156291e+20</td>\n",
       "      <td>5</td>\n",
       "      <td>2019</td>\n",
       "      <td>25</td>\n",
       "    </tr>\n",
       "    <tr>\n",
       "      <th>...</th>\n",
       "      <td>...</td>\n",
       "      <td>...</td>\n",
       "      <td>...</td>\n",
       "      <td>...</td>\n",
       "    </tr>\n",
       "    <tr>\n",
       "      <th>712495</th>\n",
       "      <td>1.079692e+20</td>\n",
       "      <td>4</td>\n",
       "      <td>2019</td>\n",
       "      <td>30</td>\n",
       "    </tr>\n",
       "    <tr>\n",
       "      <th>712496</th>\n",
       "      <td>1.022552e+20</td>\n",
       "      <td>5</td>\n",
       "      <td>2019</td>\n",
       "      <td>4</td>\n",
       "    </tr>\n",
       "    <tr>\n",
       "      <th>712497</th>\n",
       "      <td>1.062630e+20</td>\n",
       "      <td>4</td>\n",
       "      <td>2019</td>\n",
       "      <td>24</td>\n",
       "    </tr>\n",
       "    <tr>\n",
       "      <th>712498</th>\n",
       "      <td>1.112502e+20</td>\n",
       "      <td>5</td>\n",
       "      <td>2020</td>\n",
       "      <td>8</td>\n",
       "    </tr>\n",
       "    <tr>\n",
       "      <th>712499</th>\n",
       "      <td>1.141703e+20</td>\n",
       "      <td>5</td>\n",
       "      <td>2017</td>\n",
       "      <td>11</td>\n",
       "    </tr>\n",
       "  </tbody>\n",
       "</table>\n",
       "<p>642324 rows × 4 columns</p>\n",
       "</div>"
      ],
      "text/plain": [
       "             user_id  rating  year  day\n",
       "0       1.145803e+20       5  2018    3\n",
       "1       1.077641e+20       5  2021    2\n",
       "2       1.003756e+20       5  2020   10\n",
       "3       1.102839e+20       5  2018   22\n",
       "4       1.156291e+20       5  2019   25\n",
       "...              ...     ...   ...  ...\n",
       "712495  1.079692e+20       4  2019   30\n",
       "712496  1.022552e+20       5  2019    4\n",
       "712497  1.062630e+20       4  2019   24\n",
       "712498  1.112502e+20       5  2020    8\n",
       "712499  1.141703e+20       5  2017   11\n",
       "\n",
       "[642324 rows x 4 columns]"
      ]
     },
     "execution_count": 28,
     "metadata": {},
     "output_type": "execute_result"
    }
   ],
   "source": [
    "df_review_num_fil"
   ]
  },
  {
   "cell_type": "code",
   "execution_count": 29,
   "metadata": {},
   "outputs": [
    {
     "data": {
      "text/html": [
       "<div>\n",
       "<style scoped>\n",
       "    .dataframe tbody tr th:only-of-type {\n",
       "        vertical-align: middle;\n",
       "    }\n",
       "\n",
       "    .dataframe tbody tr th {\n",
       "        vertical-align: top;\n",
       "    }\n",
       "\n",
       "    .dataframe thead th {\n",
       "        text-align: right;\n",
       "    }\n",
       "</style>\n",
       "<table border=\"1\" class=\"dataframe\">\n",
       "  <thead>\n",
       "    <tr style=\"text-align: right;\">\n",
       "      <th></th>\n",
       "      <th>latitude</th>\n",
       "      <th>longitude</th>\n",
       "      <th>avg_rating</th>\n",
       "      <th>num_of_reviews</th>\n",
       "    </tr>\n",
       "  </thead>\n",
       "  <tbody>\n",
       "    <tr>\n",
       "      <th>0</th>\n",
       "      <td>41.839291</td>\n",
       "      <td>-88.100503</td>\n",
       "      <td>5.0</td>\n",
       "      <td>1</td>\n",
       "    </tr>\n",
       "    <tr>\n",
       "      <th>1</th>\n",
       "      <td>26.962494</td>\n",
       "      <td>-82.075552</td>\n",
       "      <td>5.0</td>\n",
       "      <td>1</td>\n",
       "    </tr>\n",
       "    <tr>\n",
       "      <th>2</th>\n",
       "      <td>34.450636</td>\n",
       "      <td>-85.714130</td>\n",
       "      <td>4.8</td>\n",
       "      <td>58</td>\n",
       "    </tr>\n",
       "    <tr>\n",
       "      <th>3</th>\n",
       "      <td>43.622089</td>\n",
       "      <td>-72.953674</td>\n",
       "      <td>4.4</td>\n",
       "      <td>26</td>\n",
       "    </tr>\n",
       "    <tr>\n",
       "      <th>5</th>\n",
       "      <td>42.205127</td>\n",
       "      <td>-74.212669</td>\n",
       "      <td>5.0</td>\n",
       "      <td>2</td>\n",
       "    </tr>\n",
       "    <tr>\n",
       "      <th>...</th>\n",
       "      <td>...</td>\n",
       "      <td>...</td>\n",
       "      <td>...</td>\n",
       "      <td>...</td>\n",
       "    </tr>\n",
       "    <tr>\n",
       "      <th>219996</th>\n",
       "      <td>38.408448</td>\n",
       "      <td>-121.447597</td>\n",
       "      <td>4.3</td>\n",
       "      <td>13</td>\n",
       "    </tr>\n",
       "    <tr>\n",
       "      <th>219997</th>\n",
       "      <td>32.462258</td>\n",
       "      <td>-92.160431</td>\n",
       "      <td>4.0</td>\n",
       "      <td>3</td>\n",
       "    </tr>\n",
       "    <tr>\n",
       "      <th>219998</th>\n",
       "      <td>35.557125</td>\n",
       "      <td>-82.535757</td>\n",
       "      <td>4.6</td>\n",
       "      <td>14</td>\n",
       "    </tr>\n",
       "    <tr>\n",
       "      <th>219999</th>\n",
       "      <td>42.229032</td>\n",
       "      <td>-87.940695</td>\n",
       "      <td>5.0</td>\n",
       "      <td>8</td>\n",
       "    </tr>\n",
       "    <tr>\n",
       "      <th>220000</th>\n",
       "      <td>37.939830</td>\n",
       "      <td>-87.869130</td>\n",
       "      <td>4.2</td>\n",
       "      <td>26</td>\n",
       "    </tr>\n",
       "  </tbody>\n",
       "</table>\n",
       "<p>182472 rows × 4 columns</p>\n",
       "</div>"
      ],
      "text/plain": [
       "         latitude   longitude  avg_rating  num_of_reviews\n",
       "0       41.839291  -88.100503         5.0               1\n",
       "1       26.962494  -82.075552         5.0               1\n",
       "2       34.450636  -85.714130         4.8              58\n",
       "3       43.622089  -72.953674         4.4              26\n",
       "5       42.205127  -74.212669         5.0               2\n",
       "...           ...         ...         ...             ...\n",
       "219996  38.408448 -121.447597         4.3              13\n",
       "219997  32.462258  -92.160431         4.0               3\n",
       "219998  35.557125  -82.535757         4.6              14\n",
       "219999  42.229032  -87.940695         5.0               8\n",
       "220000  37.939830  -87.869130         4.2              26\n",
       "\n",
       "[182472 rows x 4 columns]"
      ]
     },
     "execution_count": 29,
     "metadata": {},
     "output_type": "execute_result"
    }
   ],
   "source": [
    "df_metadata_num_fil"
   ]
  },
  {
   "cell_type": "markdown",
   "metadata": {},
   "source": [
    "📚 Conclusiones:\n",
    "- Hay outliers, de lugares donde tuvieron mucha acogida ya sea por promociones, precios bajos, etc. Lo que normalmente no sería de esa manera.\n",
    "- En cuanto al tipo de calificaciones, existen calificaciones que no aportan calidad al análisis como los menores a 2.8. Estos son los que no serán necesarios para nuestro análisis.\n",
    "- Se procedera a realizar el filtrado en los datasets originales para obtener insights significativos."
   ]
  },
  {
   "cell_type": "code",
   "execution_count": 30,
   "metadata": {},
   "outputs": [],
   "source": [
    "# FILTRADO 1\n",
    "filtro_1 = (df_metadata.avg_rating >= min_meta_rating)&(df_metadata.avg_rating <= max_meta_rating)\n",
    "df_metadata_fil = df_metadata[filtro_1]\n",
    "\n",
    "# FILTRADO 2\n",
    "filtro_2 = (df_metadata_fil.num_of_reviews >= min_meta_review)&(df_metadata_fil.num_of_reviews <= max_meta_review)\n",
    "df_metadata_fil = df_metadata_fil[filtro_2]\n",
    "\n",
    "# FILTRADO 3\n",
    "filtro_3 = (df_review.rating >= min_review_rating)&(df_review.rating <= max_review_rating)\n",
    "df_review_fil = df_review[filtro_3]"
   ]
  },
  {
   "cell_type": "code",
   "execution_count": 49,
   "metadata": {},
   "outputs": [
    {
     "data": {
      "text/html": [
       "<div>\n",
       "<style scoped>\n",
       "    .dataframe tbody tr th:only-of-type {\n",
       "        vertical-align: middle;\n",
       "    }\n",
       "\n",
       "    .dataframe tbody tr th {\n",
       "        vertical-align: top;\n",
       "    }\n",
       "\n",
       "    .dataframe thead th {\n",
       "        text-align: right;\n",
       "    }\n",
       "</style>\n",
       "<table border=\"1\" class=\"dataframe\">\n",
       "  <thead>\n",
       "    <tr style=\"text-align: right;\">\n",
       "      <th></th>\n",
       "      <th>name</th>\n",
       "      <th>address</th>\n",
       "      <th>gmap_id</th>\n",
       "      <th>latitude</th>\n",
       "      <th>longitude</th>\n",
       "      <th>category</th>\n",
       "      <th>avg_rating</th>\n",
       "      <th>num_of_reviews</th>\n",
       "    </tr>\n",
       "  </thead>\n",
       "  <tbody>\n",
       "    <tr>\n",
       "      <th>0</th>\n",
       "      <td>Neurocare &amp; Family Services</td>\n",
       "      <td>Neurocare &amp; Family Services, 1749 S Naperville...</td>\n",
       "      <td>0x880e55ddb0081907:0x1dc5f1650b07c388</td>\n",
       "      <td>41.839291</td>\n",
       "      <td>-88.100503</td>\n",
       "      <td>[Doctor]</td>\n",
       "      <td>5.0</td>\n",
       "      <td>1</td>\n",
       "    </tr>\n",
       "    <tr>\n",
       "      <th>1</th>\n",
       "      <td>Bayview Canvas</td>\n",
       "      <td>Bayview Canvas, 22460 Glass Ln, Port Charlotte...</td>\n",
       "      <td>0x146c6dea0e8465f9:0xca5e7f14cefd4983</td>\n",
       "      <td>26.962494</td>\n",
       "      <td>-82.075552</td>\n",
       "      <td>[Upholstery shop]</td>\n",
       "      <td>5.0</td>\n",
       "      <td>1</td>\n",
       "    </tr>\n",
       "    <tr>\n",
       "      <th>2</th>\n",
       "      <td>Peluquería Acapulco Barbershop</td>\n",
       "      <td>Peluquería Acapulco Barbershop, 1014 Gault Ave...</td>\n",
       "      <td>0x8861d6398caaf079:0x7a735e53dfeac495</td>\n",
       "      <td>34.450636</td>\n",
       "      <td>-85.714130</td>\n",
       "      <td>[Barber shop]</td>\n",
       "      <td>4.8</td>\n",
       "      <td>58</td>\n",
       "    </tr>\n",
       "  </tbody>\n",
       "</table>\n",
       "</div>"
      ],
      "text/plain": [
       "                             name  \\\n",
       "0     Neurocare & Family Services   \n",
       "1                  Bayview Canvas   \n",
       "2  Peluquería Acapulco Barbershop   \n",
       "\n",
       "                                             address  \\\n",
       "0  Neurocare & Family Services, 1749 S Naperville...   \n",
       "1  Bayview Canvas, 22460 Glass Ln, Port Charlotte...   \n",
       "2  Peluquería Acapulco Barbershop, 1014 Gault Ave...   \n",
       "\n",
       "                                 gmap_id   latitude  longitude  \\\n",
       "0  0x880e55ddb0081907:0x1dc5f1650b07c388  41.839291 -88.100503   \n",
       "1  0x146c6dea0e8465f9:0xca5e7f14cefd4983  26.962494 -82.075552   \n",
       "2  0x8861d6398caaf079:0x7a735e53dfeac495  34.450636 -85.714130   \n",
       "\n",
       "            category  avg_rating  num_of_reviews  \n",
       "0           [Doctor]         5.0               1  \n",
       "1  [Upholstery shop]         5.0               1  \n",
       "2      [Barber shop]         4.8              58  "
      ]
     },
     "execution_count": 49,
     "metadata": {},
     "output_type": "execute_result"
    }
   ],
   "source": [
    "df_metadata_fil.head(3)"
   ]
  },
  {
   "cell_type": "code",
   "execution_count": 32,
   "metadata": {},
   "outputs": [
    {
     "data": {
      "text/html": [
       "<div>\n",
       "<style scoped>\n",
       "    .dataframe tbody tr th:only-of-type {\n",
       "        vertical-align: middle;\n",
       "    }\n",
       "\n",
       "    .dataframe tbody tr th {\n",
       "        vertical-align: top;\n",
       "    }\n",
       "\n",
       "    .dataframe thead th {\n",
       "        text-align: right;\n",
       "    }\n",
       "</style>\n",
       "<table border=\"1\" class=\"dataframe\">\n",
       "  <thead>\n",
       "    <tr style=\"text-align: right;\">\n",
       "      <th></th>\n",
       "      <th>user_id</th>\n",
       "      <th>name</th>\n",
       "      <th>rating</th>\n",
       "      <th>gmap_id</th>\n",
       "      <th>dates</th>\n",
       "      <th>year</th>\n",
       "      <th>month</th>\n",
       "      <th>day</th>\n",
       "    </tr>\n",
       "  </thead>\n",
       "  <tbody>\n",
       "    <tr>\n",
       "      <th>0</th>\n",
       "      <td>1.145803e+20</td>\n",
       "      <td>jose martinez</td>\n",
       "      <td>5</td>\n",
       "      <td>0x88d9b684949c6fa1:0x5da9b5c4bd240d6b</td>\n",
       "      <td>2018-05-03 22:03:25.812</td>\n",
       "      <td>2018</td>\n",
       "      <td>May</td>\n",
       "      <td>3</td>\n",
       "    </tr>\n",
       "    <tr>\n",
       "      <th>1</th>\n",
       "      <td>1.077641e+20</td>\n",
       "      <td>Ian Horow</td>\n",
       "      <td>5</td>\n",
       "      <td>0x88d901c07a850b25:0x53258790576101e6</td>\n",
       "      <td>2021-05-02 19:59:27.951</td>\n",
       "      <td>2021</td>\n",
       "      <td>May</td>\n",
       "      <td>2</td>\n",
       "    </tr>\n",
       "    <tr>\n",
       "      <th>2</th>\n",
       "      <td>1.003756e+20</td>\n",
       "      <td>Lauren Palmer</td>\n",
       "      <td>5</td>\n",
       "      <td>0x8890c53f737b08dd:0x9b2fc3221b8c1fff</td>\n",
       "      <td>2020-11-10 22:13:24.419</td>\n",
       "      <td>2020</td>\n",
       "      <td>November</td>\n",
       "      <td>10</td>\n",
       "    </tr>\n",
       "  </tbody>\n",
       "</table>\n",
       "</div>"
      ],
      "text/plain": [
       "        user_id           name  rating                                gmap_id  \\\n",
       "0  1.145803e+20  jose martinez       5  0x88d9b684949c6fa1:0x5da9b5c4bd240d6b   \n",
       "1  1.077641e+20      Ian Horow       5  0x88d901c07a850b25:0x53258790576101e6   \n",
       "2  1.003756e+20  Lauren Palmer       5  0x8890c53f737b08dd:0x9b2fc3221b8c1fff   \n",
       "\n",
       "                    dates  year     month  day  \n",
       "0 2018-05-03 22:03:25.812  2018       May    3  \n",
       "1 2021-05-02 19:59:27.951  2021       May    2  \n",
       "2 2020-11-10 22:13:24.419  2020  November   10  "
      ]
     },
     "execution_count": 32,
     "metadata": {},
     "output_type": "execute_result"
    }
   ],
   "source": [
    "df_review_fil.head(3)"
   ]
  },
  {
   "cell_type": "markdown",
   "metadata": {},
   "source": [
    "### INSIGHTS"
   ]
  },
  {
   "cell_type": "markdown",
   "metadata": {},
   "source": [
    "- Años donde más hubieron reseñas"
   ]
  },
  {
   "cell_type": "code",
   "execution_count": 33,
   "metadata": {},
   "outputs": [
    {
     "data": {
      "text/plain": [
       "<Axes: ylabel='year'>"
      ]
     },
     "execution_count": 33,
     "metadata": {},
     "output_type": "execute_result"
    },
    {
     "data": {
      "image/png": "[encoded data removed]",
      "text/plain": [
       "<Figure size 640x480 with 1 Axes>"
      ]
     },
     "metadata": {},
     "output_type": "display_data"
    }
   ],
   "source": [
    "df_review_fil.year.value_counts().plot.barh()"
   ]
  },
  {
   "cell_type": "markdown",
   "metadata": {},
   "source": [
    "- Los 3 Meses del año donde se concentran la mayor cantidad de reseñas"
   ]
  },
  {
   "cell_type": "code",
   "execution_count": 34,
   "metadata": {},
   "outputs": [
    {
     "name": "stdout",
     "output_type": "stream",
     "text": [
      "month\n",
      "January     60627\n",
      "March       59378\n",
      "February    58635\n",
      "Name: count, dtype: int64\n"
     ]
    },
    {
     "data": {
      "text/plain": [
       "<Axes: ylabel='month'>"
      ]
     },
     "execution_count": 34,
     "metadata": {},
     "output_type": "execute_result"
    },
    {
     "data": {
      "image/png": "[encoded data removed]",
      "text/plain": [
       "<Figure size 640x480 with 1 Axes>"
      ]
     },
     "metadata": {},
     "output_type": "display_data"
    }
   ],
   "source": [
    "print(df_review_fil.month.value_counts().head(3))\n",
    "df_review_fil.month.value_counts().head(3).plot.barh()"
   ]
  },
  {
   "cell_type": "markdown",
   "metadata": {},
   "source": [
    "- Entre que días del mes son donde tienen más reseñas"
   ]
  },
  {
   "cell_type": "code",
   "execution_count": 35,
   "metadata": {},
   "outputs": [
    {
     "name": "stderr",
     "output_type": "stream",
     "text": [
      "C:\\Users\\JAY\\AppData\\Local\\Temp\\ipykernel_4552\\485910752.py:12: SettingWithCopyWarning: \n",
      "A value is trying to be set on a copy of a slice from a DataFrame.\n",
      "Try using .loc[row_indexer,col_indexer] = value instead\n",
      "\n",
      "See the caveats in the documentation: https://pandas.pydata.org/pandas-docs/stable/user_guide/indexing.html#returning-a-view-versus-a-copy\n",
      "  df_review_fil['days_range'] = df_review_fil['day'].apply(asignar_jerarquia)\n"
     ]
    }
   ],
   "source": [
    "# Definir una función para asignar jerarquías\n",
    "def asignar_jerarquia(dia):\n",
    "    if 1 <= dia <= 10:\n",
    "        return 'Del 1 al 10 dias del mes'\n",
    "    elif 11 <= dia <= 20:\n",
    "        return 'Del 11 al 20 dias del mes'\n",
    "    elif 21 <= dia <= 31:\n",
    "        return 'Del 21 al 31 dias del mes'\n",
    "    else:\n",
    "        return 'No hay jerarquía'\n",
    "    \n",
    "df_review_fil['days_range'] = df_review_fil['day'].apply(asignar_jerarquia)"
   ]
  },
  {
   "cell_type": "code",
   "execution_count": 36,
   "metadata": {},
   "outputs": [
    {
     "name": "stdout",
     "output_type": "stream",
     "text": [
      "days_range\n",
      "Del 21 al 31 dias del mes    33.828099\n",
      "Del 1 al 10 dias del mes     33.242725\n",
      "Del 11 al 20 dias del mes    32.929176\n",
      "Name: proportion, dtype: float64\n"
     ]
    },
    {
     "data": {
      "text/plain": [
       "<Axes: ylabel='count'>"
      ]
     },
     "execution_count": 36,
     "metadata": {},
     "output_type": "execute_result"
    },
    {
     "data": {
      "image/png": "[encoded data removed]",
      "text/plain": [
       "<Figure size 640x480 with 1 Axes>"
      ]
     },
     "metadata": {},
     "output_type": "display_data"
    }
   ],
   "source": [
    "print(df_review_fil['days_range'].value_counts(normalize=True)*100)\n",
    "df_review_fil['days_range'].value_counts().plot.pie()"
   ]
  },
  {
   "cell_type": "markdown",
   "metadata": {},
   "source": [
    "- Frecuencia de calificaciones por rating"
   ]
  },
  {
   "cell_type": "code",
   "execution_count": 37,
   "metadata": {},
   "outputs": [],
   "source": [
    "# SE ENCUENTRA LA FRECUENCIA DE LAS CALIFICACIONES\n",
    "freq_rates = df_metadata_fil.avg_rating.value_counts().reset_index()\n",
    "freq_rates.columns = ['Ratings', 'Frequency']"
   ]
  },
  {
   "cell_type": "code",
   "execution_count": 38,
   "metadata": {},
   "outputs": [
    {
     "data": {
      "image/png": "[encoded data removed]",
      "text/plain": [
       "<Figure size 1000x600 with 1 Axes>"
      ]
     },
     "metadata": {},
     "output_type": "display_data"
    }
   ],
   "source": [
    "# GRAFICO DE BURBUJAS DE LAS CALIFICACIONES\n",
    "plt.figure(figsize=(10, 6))\n",
    "sns.scatterplot(data=freq_rates, x='Ratings', y='Frequency', size='Frequency', sizes=(100, 1000), alpha=0.5, legend=False)\n",
    "plt.xlabel('Calificaciones')\n",
    "plt.ylabel('Frecuencia')\n",
    "plt.title('Diagrama de Globos de Frecuencia por Categoría')\n",
    "plt.show()"
   ]
  },
  {
   "cell_type": "markdown",
   "metadata": {},
   "source": [
    "- Frecuencia de calificaciones por número de reviews"
   ]
  },
  {
   "cell_type": "code",
   "execution_count": 39,
   "metadata": {},
   "outputs": [
    {
     "data": {
      "image/png": "[encoded data removed]",
      "text/plain": [
       "<Figure size 1000x500 with 1 Axes>"
      ]
     },
     "metadata": {},
     "output_type": "display_data"
    }
   ],
   "source": [
    "# GRAFICO DE CAJA Y BIGOTES PARA EL NUMERO DE REVIEWS\n",
    "plt.figure(figsize=(10, 5))\n",
    "plt.boxplot(df_metadata_fil['num_of_reviews'], patch_artist=True, boxprops=dict(facecolor='lightcyan'))\n",
    "plt.xlabel('Metadata Google Maps')\n",
    "plt.ylabel('Número de Reseñas')\n",
    "plt.title('Detección de Outliers en Número de Reseñas en Google Maps')\n",
    "plt.show()"
   ]
  },
  {
   "cell_type": "code",
   "execution_count": 40,
   "metadata": {},
   "outputs": [
    {
     "data": {
      "image/png": "[encoded data removed]",
      "text/plain": [
       "<Figure size 1000x600 with 1 Axes>"
      ]
     },
     "metadata": {},
     "output_type": "display_data"
    }
   ],
   "source": [
    "plt.figure(figsize=(10, 6))\n",
    "sns.histplot(df_metadata_fil['num_of_reviews'], bins=50, kde=True)\n",
    "plt.xlabel('Número de Reseñas')\n",
    "plt.ylabel('Frecuencia')\n",
    "plt.title('Distribución del Número de Reseñas')\n",
    "plt.show()"
   ]
  },
  {
   "cell_type": "code",
   "execution_count": 41,
   "metadata": {},
   "outputs": [
    {
     "data": {
      "image/png": "[encoded data removed]",
      "text/plain": [
       "<Figure size 1000x600 with 1 Axes>"
      ]
     },
     "metadata": {},
     "output_type": "display_data"
    }
   ],
   "source": [
    "plt.figure(figsize=(10, 6))\n",
    "sns.violinplot(y=df_metadata_fil['num_of_reviews'])\n",
    "plt.title('Gráfico de Violín del Número de Reseñas')\n",
    "plt.ylabel('Número de Reseñas')\n",
    "plt.show()"
   ]
  },
  {
   "cell_type": "markdown",
   "metadata": {},
   "source": [
    "- Numero promedio de calificaciones a los locales por categorías"
   ]
  },
  {
   "cell_type": "code",
   "execution_count": 42,
   "metadata": {},
   "outputs": [],
   "source": [
    "df_metadata_exp = df_metadata_fil.explode('category')\n",
    "df_metadata_exp.reset_index(drop=True,inplace=True)"
   ]
  },
  {
   "cell_type": "code",
   "execution_count": 43,
   "metadata": {},
   "outputs": [
    {
     "data": {
      "text/plain": [
       "category\n",
       "Oxygen cocktail spot               5.0\n",
       "Orthoptist                         5.0\n",
       "Judo club                          5.0\n",
       "Jewelry exporter                   5.0\n",
       "Beach volleyball club              5.0\n",
       "                                  ... \n",
       "Municipal Department of Tourism    3.0\n",
       "Tax                                3.0\n",
       "Superfund site                     3.0\n",
       "Public utility                     2.9\n",
       "Canopy                             2.9\n",
       "Name: avg_rating, Length: 3647, dtype: float64"
      ]
     },
     "execution_count": 43,
     "metadata": {},
     "output_type": "execute_result"
    }
   ],
   "source": [
    "df_category= df_metadata_exp.groupby('category')['avg_rating'].mean()\n",
    "df_category.reset_index()\n",
    "df_category.sort_values(ascending=False)"
   ]
  },
  {
   "cell_type": "markdown",
   "metadata": {},
   "source": [
    "- Las 5 categorias con mayor numero de reviews"
   ]
  },
  {
   "cell_type": "code",
   "execution_count": 44,
   "metadata": {},
   "outputs": [
    {
     "name": "stdout",
     "output_type": "stream",
     "text": [
      "category\n",
      "Restaurant          126626\n",
      "Auto repair shop    122355\n",
      "Beauty salon        113262\n",
      "Hair salon           93628\n",
      "Nail salon           89298\n",
      "Name: num_of_reviews, dtype: int64\n"
     ]
    },
    {
     "data": {
      "text/plain": [
       "<Axes: ylabel='category'>"
      ]
     },
     "execution_count": 44,
     "metadata": {},
     "output_type": "execute_result"
    },
    {
     "data": {
      "image/png": "[encoded data removed]",
      "text/plain": [
       "<Figure size 640x480 with 1 Axes>"
      ]
     },
     "metadata": {},
     "output_type": "display_data"
    }
   ],
   "source": [
    "df_category_re = df_metadata_exp.groupby('category')['num_of_reviews'].sum().sort_values(ascending=False).head(5)\n",
    "print(df_category_re)\n",
    "df_category_re.plot.barh(color=['green','yellow','brown','red','blue'])"
   ]
  },
  {
   "cell_type": "code",
   "execution_count": 48,
   "metadata": {},
   "outputs": [
    {
     "data": {
      "text/html": [
       "<div>\n",
       "<style scoped>\n",
       "    .dataframe tbody tr th:only-of-type {\n",
       "        vertical-align: middle;\n",
       "    }\n",
       "\n",
       "    .dataframe tbody tr th {\n",
       "        vertical-align: top;\n",
       "    }\n",
       "\n",
       "    .dataframe thead th {\n",
       "        text-align: right;\n",
       "    }\n",
       "</style>\n",
       "<table border=\"1\" class=\"dataframe\">\n",
       "  <thead>\n",
       "    <tr style=\"text-align: right;\">\n",
       "      <th></th>\n",
       "      <th>category</th>\n",
       "      <th>avg_rating</th>\n",
       "    </tr>\n",
       "  </thead>\n",
       "  <tbody>\n",
       "    <tr>\n",
       "      <th>230</th>\n",
       "      <td>Auto repair shop</td>\n",
       "      <td>4.484960</td>\n",
       "    </tr>\n",
       "    <tr>\n",
       "      <th>2800</th>\n",
       "      <td>Restaurant</td>\n",
       "      <td>4.211682</td>\n",
       "    </tr>\n",
       "  </tbody>\n",
       "</table>\n",
       "</div>"
      ],
      "text/plain": [
       "              category  avg_rating\n",
       "230   Auto repair shop    4.484960\n",
       "2800        Restaurant    4.211682"
      ]
     },
     "execution_count": 48,
     "metadata": {},
     "output_type": "execute_result"
    }
   ],
   "source": [
    "df_category_new = df_category.reset_index()\n",
    "filtro = (df_category_new['category'] == 'Restaurant') | (df_category_new['category'] == 'Auto repair shop')\n",
    "df_category_new[filtro]"
   ]
  },
  {
   "cell_type": "markdown",
   "metadata": {},
   "source": [
    "📚 Conclusiones:\n",
    "1. La categoría con mayor cantidad de reviews son los restaurantes con calificaciones promedio total de 4.2. Seguido por la categoría de tienda de reparaciones de auto con calificaciones promedio total de 4.48.\n",
    "2. La cantidad de calificaciones más frecuente en los negocios rondan desde 0 a 20 reseñas.\n",
    "3. Hay una cantidad mayor de reseñas y calificaciones dadas por los usuarios en el primer trimestre del año."
   ]
  },
  {
   "cell_type": "markdown",
   "metadata": {},
   "source": [
    "### Exportación de datos"
   ]
  },
  {
   "cell_type": "code",
   "execution_count": 52,
   "metadata": {},
   "outputs": [],
   "source": [
    "# EXPORTACIÓN DEL DATASET SIN LOS DATOS NULOS\n",
    "df_metadata.to_parquet('../0_Dataset/Data_Limpia/Google/google_metadata.parquet', engine='pyarrow')\n",
    "df_review.to_parquet('../0_Dataset/Data_Limpia/Google/google_review.parquet', engine='pyarrow')"
   ]
  }
 ],
 "metadata": {
  "kernelspec": {
   "display_name": "Python 3",
   "language": "python",
   "name": "python3"
  },
  "language_info": {
   "codemirror_mode": {
    "name": "ipython",
    "version": 3
   },
   "file_extension": ".py",
   "mimetype": "text/x-python",
   "name": "python",
   "nbconvert_exporter": "python",
   "pygments_lexer": "ipython3",
   "version": "3.12.2"
  }
 },
 "nbformat": 4,
 "nbformat_minor": 2
}
