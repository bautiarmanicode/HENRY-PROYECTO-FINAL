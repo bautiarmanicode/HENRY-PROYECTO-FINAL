{
 "cells": [
  {
   "cell_type": "markdown",
   "metadata": {},
   "source": [
    "## 🛠️ **ETL (Extract, Transform, Load)**\n",
    "\n"
   ]
  },
  {
   "cell_type": "markdown",
   "metadata": {},
   "source": [
    "#### **📂 Procesamiento del 1er archivo: `Yelp/business.pkl`**"
   ]
  },
  {
   "cell_type": "markdown",
   "metadata": {},
   "source": [
    "####  **Importamos las librerías que vamos a usar**\n"
   ]
  },
  {
   "cell_type": "code",
   "execution_count": 1,
   "metadata": {},
   "outputs": [],
   "source": [
    "import pandas as pd\n",
    "import data_utils   \n",
    "from data_utils import data_type_check, data_type_check_pkl\n",
    "\n",
    "import warnings\n",
    "warnings.filterwarnings('ignore')\n",
    "import seaborn as sns\n",
    "import matplotlib.pyplot as plt\n"
   ]
  },
  {
   "cell_type": "markdown",
   "metadata": {},
   "source": [
    "#### 📦 **Extraccion** de los datos y primera exploración \n"
   ]
  },
  {
   "cell_type": "markdown",
   "metadata": {},
   "source": [
    "Mostrar info como en datatypecheck\n",
    "#data_type_check_pkl('../0_Dataset/Yelp/business.pkl')"
   ]
  },
  {
   "cell_type": "markdown",
   "metadata": {},
   "source": [
    "**PENDIENTE**\n",
    "% de nulos, .shape, .columns\n"
   ]
  },
  {
   "cell_type": "markdown",
   "metadata": {},
   "source": []
  },
  {
   "cell_type": "code",
   "execution_count": 2,
   "metadata": {},
   "outputs": [
    {
     "name": "stdout",
     "output_type": "stream",
     "text": [
      "<class 'pandas.core.frame.DataFrame'>\n",
      "Index: 150346 entries, 0 to 150345\n",
      "Data columns (total 28 columns):\n",
      " #   Column        Non-Null Count   Dtype \n",
      "---  ------        --------------   ----- \n",
      " 0   business_id   150346 non-null  object\n",
      " 1   name          150346 non-null  object\n",
      " 2   address       150346 non-null  object\n",
      " 3   city          150346 non-null  object\n",
      " 4   state         150343 non-null  object\n",
      " 5   postal_code   150346 non-null  object\n",
      " 6   latitude      150346 non-null  object\n",
      " 7   longitude     150346 non-null  object\n",
      " 8   stars         150346 non-null  object\n",
      " 9   review_count  150346 non-null  object\n",
      " 10  is_open       150346 non-null  object\n",
      " 11  attributes    136602 non-null  object\n",
      " 12  categories    150243 non-null  object\n",
      " 13  hours         127123 non-null  object\n",
      " 14  business_id   5 non-null       object\n",
      " 15  name          5 non-null       object\n",
      " 16  address       5 non-null       object\n",
      " 17  city          5 non-null       object\n",
      " 18  state         5 non-null       object\n",
      " 19  postal_code   5 non-null       object\n",
      " 20  latitude      5 non-null       object\n",
      " 21  longitude     5 non-null       object\n",
      " 22  stars         5 non-null       object\n",
      " 23  review_count  5 non-null       object\n",
      " 24  is_open       5 non-null       object\n",
      " 25  attributes    5 non-null       object\n",
      " 26  categories    5 non-null       object\n",
      " 27  hours         5 non-null       object\n",
      "dtypes: object(28)\n",
      "memory usage: 33.3+ MB\n"
     ]
    },
    {
     "data": {
      "text/html": [
       "<div>\n",
       "<style scoped>\n",
       "    .dataframe tbody tr th:only-of-type {\n",
       "        vertical-align: middle;\n",
       "    }\n",
       "\n",
       "    .dataframe tbody tr th {\n",
       "        vertical-align: top;\n",
       "    }\n",
       "\n",
       "    .dataframe thead th {\n",
       "        text-align: right;\n",
       "    }\n",
       "</style>\n",
       "<table border=\"1\" class=\"dataframe\">\n",
       "  <thead>\n",
       "    <tr style=\"text-align: right;\">\n",
       "      <th></th>\n",
       "      <th>business_id</th>\n",
       "      <th>name</th>\n",
       "      <th>address</th>\n",
       "      <th>city</th>\n",
       "      <th>state</th>\n",
       "      <th>postal_code</th>\n",
       "      <th>latitude</th>\n",
       "      <th>longitude</th>\n",
       "      <th>stars</th>\n",
       "      <th>review_count</th>\n",
       "      <th>...</th>\n",
       "      <th>state</th>\n",
       "      <th>postal_code</th>\n",
       "      <th>latitude</th>\n",
       "      <th>longitude</th>\n",
       "      <th>stars</th>\n",
       "      <th>review_count</th>\n",
       "      <th>is_open</th>\n",
       "      <th>attributes</th>\n",
       "      <th>categories</th>\n",
       "      <th>hours</th>\n",
       "    </tr>\n",
       "  </thead>\n",
       "  <tbody>\n",
       "    <tr>\n",
       "      <th>96751</th>\n",
       "      <td>avZoFq_TQZQIjR8PX7PgTg</td>\n",
       "      <td>Pier 1</td>\n",
       "      <td>128 S Westshore Blvd</td>\n",
       "      <td>Tampa</td>\n",
       "      <td>TN</td>\n",
       "      <td>33609</td>\n",
       "      <td>27.943913</td>\n",
       "      <td>-82.523481</td>\n",
       "      <td>3.5</td>\n",
       "      <td>10</td>\n",
       "      <td>...</td>\n",
       "      <td>NaN</td>\n",
       "      <td>NaN</td>\n",
       "      <td>NaN</td>\n",
       "      <td>NaN</td>\n",
       "      <td>NaN</td>\n",
       "      <td>NaN</td>\n",
       "      <td>NaN</td>\n",
       "      <td>NaN</td>\n",
       "      <td>NaN</td>\n",
       "      <td>NaN</td>\n",
       "    </tr>\n",
       "    <tr>\n",
       "      <th>9201</th>\n",
       "      <td>vyXNBZY_pG4Fk5TtFm9o8Q</td>\n",
       "      <td>Burger &amp; Company - Old Hickory, TN</td>\n",
       "      <td>700 Hadley Ave</td>\n",
       "      <td>Old Hickory</td>\n",
       "      <td>LA</td>\n",
       "      <td>37138</td>\n",
       "      <td>36.263946</td>\n",
       "      <td>-86.648122</td>\n",
       "      <td>4.0</td>\n",
       "      <td>42</td>\n",
       "      <td>...</td>\n",
       "      <td>NaN</td>\n",
       "      <td>NaN</td>\n",
       "      <td>NaN</td>\n",
       "      <td>NaN</td>\n",
       "      <td>NaN</td>\n",
       "      <td>NaN</td>\n",
       "      <td>NaN</td>\n",
       "      <td>NaN</td>\n",
       "      <td>NaN</td>\n",
       "      <td>NaN</td>\n",
       "    </tr>\n",
       "  </tbody>\n",
       "</table>\n",
       "<p>2 rows × 28 columns</p>\n",
       "</div>"
      ],
      "text/plain": [
       "                  business_id                                name  \\\n",
       "96751  avZoFq_TQZQIjR8PX7PgTg                              Pier 1   \n",
       "9201   vyXNBZY_pG4Fk5TtFm9o8Q  Burger & Company - Old Hickory, TN   \n",
       "\n",
       "                    address         city state postal_code   latitude  \\\n",
       "96751  128 S Westshore Blvd        Tampa    TN       33609  27.943913   \n",
       "9201         700 Hadley Ave  Old Hickory    LA       37138  36.263946   \n",
       "\n",
       "       longitude stars review_count  ... state postal_code latitude longitude  \\\n",
       "96751 -82.523481   3.5           10  ...   NaN         NaN      NaN       NaN   \n",
       "9201  -86.648122   4.0           42  ...   NaN         NaN      NaN       NaN   \n",
       "\n",
       "      stars review_count is_open attributes categories hours  \n",
       "96751   NaN          NaN     NaN        NaN        NaN   NaN  \n",
       "9201    NaN          NaN     NaN        NaN        NaN   NaN  \n",
       "\n",
       "[2 rows x 28 columns]"
      ]
     },
     "execution_count": 2,
     "metadata": {},
     "output_type": "execute_result"
    }
   ],
   "source": [
    "business = pd.read_pickle('../0_Dataset/Yelp/business.pkl')\n",
    "business.info()\n",
    "business.sample(2)"
   ]
  },
  {
   "cell_type": "markdown",
   "metadata": {},
   "source": [
    "Tenemos columnas duplicadas, procedemos a quitarlas.\n"
   ]
  },
  {
   "cell_type": "code",
   "execution_count": 3,
   "metadata": {},
   "outputs": [
    {
     "name": "stdout",
     "output_type": "stream",
     "text": [
      "<class 'pandas.core.frame.DataFrame'>\n",
      "Index: 150346 entries, 0 to 150345\n",
      "Data columns (total 14 columns):\n",
      " #   Column        Non-Null Count   Dtype \n",
      "---  ------        --------------   ----- \n",
      " 0   business_id   150346 non-null  object\n",
      " 1   name          150346 non-null  object\n",
      " 2   address       150346 non-null  object\n",
      " 3   city          150346 non-null  object\n",
      " 4   state         150343 non-null  object\n",
      " 5   postal_code   150346 non-null  object\n",
      " 6   latitude      150346 non-null  object\n",
      " 7   longitude     150346 non-null  object\n",
      " 8   stars         150346 non-null  object\n",
      " 9   review_count  150346 non-null  object\n",
      " 10  is_open       150346 non-null  object\n",
      " 11  attributes    136602 non-null  object\n",
      " 12  categories    150243 non-null  object\n",
      " 13  hours         127123 non-null  object\n",
      "dtypes: object(14)\n",
      "memory usage: 17.2+ MB\n"
     ]
    }
   ],
   "source": [
    "business = business.loc[:, ~business.columns.duplicated()]\n",
    "business.info()"
   ]
  },
  {
   "cell_type": "markdown",
   "metadata": {},
   "source": [
    "#### 🔁 **TRANSFORM**"
   ]
  },
  {
   "cell_type": "markdown",
   "metadata": {},
   "source": [
    "Nos interesa observar las categorías por lo que primero vamos a corroborar que no tenga duplicados"
   ]
  },
  {
   "cell_type": "code",
   "execution_count": 4,
   "metadata": {},
   "outputs": [
    {
     "data": {
      "text/plain": [
       "categories\n",
       "Beauty & Spas, Nail Salons                                                                                       1012\n",
       "Restaurants, Pizza                                                                                                935\n",
       "Nail Salons, Beauty & Spas                                                                                        934\n",
       "Pizza, Restaurants                                                                                                823\n",
       "Restaurants, Mexican                                                                                              728\n",
       "                                                                                                                 ... \n",
       "Dermatologists, Health & Medical, Cosmetic Surgeons, Doctors, Acne Treatment, Skin Care, Beauty & Spas              1\n",
       "Home Services, Home & Garden, Nurseries & Gardening, Hardware Stores, Shopping, Building Supplies, Appliances       1\n",
       "Food Trucks, Smokehouse, Restaurants, Food, Barbeque, Soul Food, Food Stands                                        1\n",
       "Assisted Living Facilities, Memory Care, Health & Medical, Hospice                                                  1\n",
       "Beauty & Spas, Permanent Makeup, Piercing, Tattoo                                                                   1\n",
       "Name: count, Length: 83160, dtype: int64"
      ]
     },
     "execution_count": 4,
     "metadata": {},
     "output_type": "execute_result"
    }
   ],
   "source": [
    "business.categories.value_counts()"
   ]
  },
  {
   "cell_type": "markdown",
   "metadata": {},
   "source": [
    "Verificamos los nulos y duplicados de categories"
   ]
  },
  {
   "cell_type": "code",
   "execution_count": 5,
   "metadata": {},
   "outputs": [
    {
     "name": "stdout",
     "output_type": "stream",
     "text": [
      "Antes: Cantidad de duplicados en 'categories': 67185\n",
      "Antes: Cantidad de NaNs en 'categories': 103\n",
      "Después: Cantidad de NaNs en 'categories'  0\n",
      "Después: Cantidad de duplicados en 'categories' 67083\n"
     ]
    }
   ],
   "source": [
    "# Cuenta los duplicados y nulos en la columna 'categories' antes de cualquier eliminación\n",
    "duplicados_inicial = business['categories'].duplicated().sum()\n",
    "nulos_inicial = business['categories'].isna().sum()\n",
    "\n",
    "print(\"Antes: Cantidad de duplicados en 'categories':\", duplicados_inicial)\n",
    "print(\"Antes: Cantidad de NaNs en 'categories':\", nulos_inicial)\n",
    "\n",
    "# Elimina las filas con valores NaN en la columna 'categories'\n",
    "business = business.dropna(subset=['categories'])\n",
    "\n",
    "# Cuenta los duplicados y nulos en la columna 'categories' después de eliminar NaNs\n",
    "duplicados_despues_nulos = business['categories'].duplicated().sum()\n",
    "nulos_despues_nulos = business['categories'].isna().sum()\n",
    "\n",
    "print(\"Después: Cantidad de NaNs en 'categories' \", nulos_despues_nulos)\n",
    "\n",
    "\n",
    "'''\n",
    "________________________________________________________________\n",
    "FUTURO: Descomentar o borrar\n",
    "Elimina las filas duplicadas basadas en la columna 'categories'\n",
    "business = business.drop_duplicates(subset=['categories'])  \n",
    "_________________________________________________________________  \n",
    "'''\n",
    "\n",
    "# Cuenta los duplicados en la columna 'categories' después de eliminar duplicados\n",
    "duplicados_final = business['categories'].duplicated().sum()\n",
    "\n",
    "print(\"Después: Cantidad de duplicados en 'categories'\", duplicados_final)\n"
   ]
  },
  {
   "cell_type": "markdown",
   "metadata": {},
   "source": [
    "Dado que diferentes negocios pueden compartir las mismas 'categories', no borramos los  67083 duplicados \n"
   ]
  },
  {
   "cell_type": "markdown",
   "metadata": {},
   "source": [
    "### Filtramos por estado y categoria\n"
   ]
  },
  {
   "cell_type": "markdown",
   "metadata": {},
   "source": [
    "Vamos a filtrar por estado. Para eso primero observamos todos los estados y luego elejimos el que vamos a usar"
   ]
  },
  {
   "cell_type": "code",
   "execution_count": 6,
   "metadata": {},
   "outputs": [
    {
     "data": {
      "text/plain": [
       "state\n",
       "PA     34013\n",
       "FL     26311\n",
       "TN     12045\n",
       "IN     11238\n",
       "MO     10909\n",
       "LA      9917\n",
       "AZ      9907\n",
       "NJ      8529\n",
       "NV      7712\n",
       "AB      5571\n",
       "CA      5201\n",
       "ID      4463\n",
       "DE      2261\n",
       "IL      2142\n",
       "TX         4\n",
       "CO         3\n",
       "WA         2\n",
       "HI         2\n",
       "MA         2\n",
       "NC         1\n",
       "UT         1\n",
       "MT         1\n",
       "MI         1\n",
       "SD         1\n",
       "XMS        1\n",
       "VI         1\n",
       "VT         1\n",
       "Name: count, dtype: int64"
      ]
     },
     "execution_count": 6,
     "metadata": {},
     "output_type": "execute_result"
    }
   ],
   "source": [
    "business['state'].value_counts()"
   ]
  },
  {
   "cell_type": "markdown",
   "metadata": {},
   "source": [
    "Vamos a observar los negocios de Pennsylvania"
   ]
  },
  {
   "cell_type": "code",
   "execution_count": 7,
   "metadata": {},
   "outputs": [
    {
     "data": {
      "text/plain": [
       "categories\n",
       "Nail Salons, Beauty & Spas                                                                                             227\n",
       "Beauty & Spas, Nail Salons                                                                                             218\n",
       "Restaurants, Pizza                                                                                                     206\n",
       "Pizza, Restaurants                                                                                                     177\n",
       "Restaurants, Chinese                                                                                                   170\n",
       "                                                                                                                      ... \n",
       "Cafes, Breakfast & Brunch, Event Planning & Services, Caterers, Restaurants, Salad                                       1\n",
       "Casinos, Hostels, Arts & Entertainment, Comedy Clubs, Hotels & Travel, Nightlife, Event Planning & Services, Hotels      1\n",
       "Local Services, Wildlife Control, Professional Services, Pest Control, Personal Assistants                               1\n",
       "Professional Services, Web Design, Marketing, Graphic Design                                                             1\n",
       "Restaurants, Comfort Food, Food, Food Trucks, Caterers, Event Planning & Services                                        1\n",
       "Name: count, Length: 21961, dtype: int64"
      ]
     },
     "execution_count": 7,
     "metadata": {},
     "output_type": "execute_result"
    }
   ],
   "source": [
    "# Se observan los negocios de California\n",
    "df_estado_PA = business[business['state']=='PA']\n",
    "\n",
    "df_estado_PA['categories'].value_counts()"
   ]
  },
  {
   "cell_type": "markdown",
   "metadata": {},
   "source": [
    "Observamos que en Pennsylvania el top 3 categorias es:\n",
    "- Nail Salons, Beauty & Spas : 227\n",
    "- Beauty & Spas, Nail Salons: 218\n",
    "- Restaurants, Pizza: 206\n",
    "- Pizza, Restaurants: 177"
   ]
  },
  {
   "cell_type": "code",
   "execution_count": 8,
   "metadata": {},
   "outputs": [
    {
     "data": {
      "text/plain": [
       "'\\nUnir categorias?\\n'"
      ]
     },
     "execution_count": 8,
     "metadata": {},
     "output_type": "execute_result"
    }
   ],
   "source": [
    "'''\n",
    "Unir categorias?\n",
    "'''"
   ]
  },
  {
   "cell_type": "markdown",
   "metadata": {},
   "source": [
    "Filtramos por restaurantes en Pennsylvania"
   ]
  },
  {
   "cell_type": "code",
   "execution_count": 9,
   "metadata": {},
   "outputs": [
    {
     "name": "stdout",
     "output_type": "stream",
     "text": [
      "categories\n",
      "Restaurants, Pizza                                                                   206\n",
      "Pizza, Restaurants                                                                   177\n",
      "Restaurants, Chinese                                                                 170\n",
      "Mexican, Restaurants                                                                 151\n",
      "Restaurants, Mexican                                                                 149\n",
      "                                                                                    ... \n",
      "Restaurants, Pizza, Pubs, Bars, Nightlife, Italian                                     1\n",
      "Latin American, Restaurants, Mexican, Dominican, Caribbean                             1\n",
      "American (Traditional), Burgers, Restaurants, Tapas/Small Plates                       1\n",
      "Restaurants, Cheesesteaks, Pizza                                                       1\n",
      "Restaurants, Comfort Food, Food, Food Trucks, Caterers, Event Planning & Services      1\n",
      "Name: count, Length: 8035, dtype: int64\n"
     ]
    }
   ],
   "source": [
    "# Cambia el tipo de dato de categories a string\n",
    "business['categories'] = business['categories'].astype(str)\n",
    "\n",
    "# Filtra las filas que contienen 'restaurant' en 'categories' en Pennsylvania\n",
    "restaurante_pa = business[business['categories'].str.lower().str.contains('restaurant', na=False) & (business['state'] == 'PA')].reset_index(drop=True)\n",
    "\n",
    "# Cuenta las ocurrencias de las categorías\n",
    "conteo_categorias_pa = restaurante_pa['categories'].value_counts()\n",
    "print(conteo_categorias_pa)\n"
   ]
  },
  {
   "cell_type": "code",
   "execution_count": 10,
   "metadata": {},
   "outputs": [
    {
     "data": {
      "text/plain": [
       "Index(['business_id', 'name', 'address', 'city', 'state', 'postal_code',\n",
       "       'latitude', 'longitude', 'stars', 'review_count', 'is_open',\n",
       "       'attributes', 'categories', 'hours'],\n",
       "      dtype='object')"
      ]
     },
     "execution_count": 10,
     "metadata": {},
     "output_type": "execute_result"
    }
   ],
   "source": [
    "restaurante_pa.columns"
   ]
  },
  {
   "cell_type": "markdown",
   "metadata": {},
   "source": [
    "Filtramos los restaurantes a traves de su latitud y longitud, seleccionando solamente los que se encuentren abiertos y en Pennsylvania"
   ]
  },
  {
   "cell_type": "code",
   "execution_count": 11,
   "metadata": {},
   "outputs": [
    {
     "data": {
      "text/html": [
       "<div>\n",
       "<style scoped>\n",
       "    .dataframe tbody tr th:only-of-type {\n",
       "        vertical-align: middle;\n",
       "    }\n",
       "\n",
       "    .dataframe tbody tr th {\n",
       "        vertical-align: top;\n",
       "    }\n",
       "\n",
       "    .dataframe thead th {\n",
       "        text-align: right;\n",
       "    }\n",
       "</style>\n",
       "<table border=\"1\" class=\"dataframe\">\n",
       "  <thead>\n",
       "    <tr style=\"text-align: right;\">\n",
       "      <th></th>\n",
       "      <th>business_id</th>\n",
       "      <th>name</th>\n",
       "      <th>address</th>\n",
       "      <th>city</th>\n",
       "      <th>state</th>\n",
       "      <th>postal_code</th>\n",
       "      <th>latitude</th>\n",
       "      <th>longitude</th>\n",
       "      <th>stars</th>\n",
       "      <th>review_count</th>\n",
       "      <th>is_open</th>\n",
       "      <th>attributes</th>\n",
       "      <th>categories</th>\n",
       "      <th>hours</th>\n",
       "    </tr>\n",
       "  </thead>\n",
       "  <tbody>\n",
       "    <tr>\n",
       "      <th>0</th>\n",
       "      <td>QdN72BWoyFypdGJhhI5r7g</td>\n",
       "      <td>Bar One</td>\n",
       "      <td>767 S 9th St</td>\n",
       "      <td>Philadelphia</td>\n",
       "      <td>PA</td>\n",
       "      <td>19147</td>\n",
       "      <td>39.939825</td>\n",
       "      <td>-75.157447</td>\n",
       "      <td>4.0</td>\n",
       "      <td>65</td>\n",
       "      <td>0</td>\n",
       "      <td>{'Smoking': 'u'no'', 'NoiseLevel': 'u'average'...</td>\n",
       "      <td>Cocktail Bars, Bars, Italian, Nightlife, Resta...</td>\n",
       "      <td>{'Monday': '16:0-0:0', 'Tuesday': '16:0-0:0', ...</td>\n",
       "    </tr>\n",
       "    <tr>\n",
       "      <th>1</th>\n",
       "      <td>Mjboz24M9NlBeiOJKLEd_Q</td>\n",
       "      <td>DeSandro on Main</td>\n",
       "      <td>4105 Main St</td>\n",
       "      <td>Philadelphia</td>\n",
       "      <td>PA</td>\n",
       "      <td>19127</td>\n",
       "      <td>40.022466</td>\n",
       "      <td>-75.218314</td>\n",
       "      <td>3.0</td>\n",
       "      <td>41</td>\n",
       "      <td>0</td>\n",
       "      <td>{'RestaurantsReservations': 'False', 'Caters':...</td>\n",
       "      <td>Pizza, Restaurants, Salad, Soup</td>\n",
       "      <td>{'Tuesday': '17:0-21:30', 'Wednesday': '17:0-1...</td>\n",
       "    </tr>\n",
       "  </tbody>\n",
       "</table>\n",
       "</div>"
      ],
      "text/plain": [
       "              business_id              name       address          city state  \\\n",
       "0  QdN72BWoyFypdGJhhI5r7g           Bar One  767 S 9th St  Philadelphia    PA   \n",
       "1  Mjboz24M9NlBeiOJKLEd_Q  DeSandro on Main  4105 Main St  Philadelphia    PA   \n",
       "\n",
       "  postal_code   latitude  longitude stars review_count is_open  \\\n",
       "0       19147  39.939825 -75.157447   4.0           65       0   \n",
       "1       19127  40.022466 -75.218314   3.0           41       0   \n",
       "\n",
       "                                          attributes  \\\n",
       "0  {'Smoking': 'u'no'', 'NoiseLevel': 'u'average'...   \n",
       "1  {'RestaurantsReservations': 'False', 'Caters':...   \n",
       "\n",
       "                                          categories  \\\n",
       "0  Cocktail Bars, Bars, Italian, Nightlife, Resta...   \n",
       "1                    Pizza, Restaurants, Salad, Soup   \n",
       "\n",
       "                                               hours  \n",
       "0  {'Monday': '16:0-0:0', 'Tuesday': '16:0-0:0', ...  \n",
       "1  {'Tuesday': '17:0-21:30', 'Wednesday': '17:0-1...  "
      ]
     },
     "execution_count": 11,
     "metadata": {},
     "output_type": "execute_result"
    }
   ],
   "source": [
    "# Define los límites geográficos para Pennsylvania\n",
    "max_latitud = 42.3\n",
    "min_latitud = 39.7\n",
    "max_longitud = -74.4\n",
    "min_longitud = -75.3\n",
    "\n",
    "# Se establecen las máscaras para filtrar\n",
    "msk_lat = (restaurante_pa['latitude'].astype(float) >= min_latitud) & (restaurante_pa['latitude'].astype(float) <= max_latitud)\n",
    "msk_lon = (restaurante_pa['longitude'].astype(float) >= min_longitud) & (restaurante_pa['longitude'].astype(float) <= max_longitud)\n",
    "\n",
    "# Filtra el DataFrame `restaurante_pa` por coordenadas geográficas\n",
    "restaurante_pa = restaurante_pa[msk_lat & msk_lon].reset_index(drop=True)\n",
    "\n",
    "restaurante_pa= restaurante_pa[restaurante_pa['is_open']==1].reset_index(drop=True)\n",
    "restaurante_pa.drop(columns=['is_open','state'], inplace=True)\n",
    "\n",
    "# Verifica el DataFrame resultante\n",
    "restaurante_pa.head(2)"
   ]
  },
  {
   "cell_type": "code",
   "execution_count": 12,
   "metadata": {},
   "outputs": [
    {
     "name": "stdout",
     "output_type": "stream",
     "text": [
      "\n",
      "========================================\n",
      " Resumen del dataframe:\n",
      "\n",
      "========================================\n",
      "Dimensiones:  (2698, 14)\n",
      "         columna  %_no_nulos  %_nulos  total_nulos tipo_dato\n",
      "0    business_id      100.00     0.00            0    object\n",
      "1           name      100.00     0.00            0    object\n",
      "2        address      100.00     0.00            0    object\n",
      "3           city      100.00     0.00            0    object\n",
      "4          state      100.00     0.00            0    object\n",
      "5    postal_code      100.00     0.00            0    object\n",
      "6       latitude      100.00     0.00            0    object\n",
      "7      longitude      100.00     0.00            0    object\n",
      "8          stars      100.00     0.00            0    object\n",
      "9   review_count      100.00     0.00            0    object\n",
      "10       is_open      100.00     0.00            0    object\n",
      "11    attributes       98.93     1.07           29    object\n",
      "12    categories      100.00     0.00            0    object\n",
      "13         hours       83.47    16.53          446    object\n"
     ]
    },
    {
     "data": {
      "text/html": [
       "<div>\n",
       "<style scoped>\n",
       "    .dataframe tbody tr th:only-of-type {\n",
       "        vertical-align: middle;\n",
       "    }\n",
       "\n",
       "    .dataframe tbody tr th {\n",
       "        vertical-align: top;\n",
       "    }\n",
       "\n",
       "    .dataframe thead th {\n",
       "        text-align: right;\n",
       "    }\n",
       "</style>\n",
       "<table border=\"1\" class=\"dataframe\">\n",
       "  <thead>\n",
       "    <tr style=\"text-align: right;\">\n",
       "      <th></th>\n",
       "      <th>business_id</th>\n",
       "      <th>name</th>\n",
       "      <th>address</th>\n",
       "      <th>city</th>\n",
       "      <th>state</th>\n",
       "      <th>postal_code</th>\n",
       "      <th>latitude</th>\n",
       "      <th>longitude</th>\n",
       "      <th>stars</th>\n",
       "      <th>review_count</th>\n",
       "      <th>is_open</th>\n",
       "      <th>attributes</th>\n",
       "      <th>categories</th>\n",
       "      <th>hours</th>\n",
       "    </tr>\n",
       "  </thead>\n",
       "  <tbody>\n",
       "    <tr>\n",
       "      <th>0</th>\n",
       "      <td>QdN72BWoyFypdGJhhI5r7g</td>\n",
       "      <td>Bar One</td>\n",
       "      <td>767 S 9th St</td>\n",
       "      <td>Philadelphia</td>\n",
       "      <td>PA</td>\n",
       "      <td>19147</td>\n",
       "      <td>39.939825</td>\n",
       "      <td>-75.157447</td>\n",
       "      <td>4.0</td>\n",
       "      <td>65</td>\n",
       "      <td>0</td>\n",
       "      <td>{'Smoking': 'u'no'', 'NoiseLevel': 'u'average'...</td>\n",
       "      <td>Cocktail Bars, Bars, Italian, Nightlife, Resta...</td>\n",
       "      <td>{'Monday': '16:0-0:0', 'Tuesday': '16:0-0:0', ...</td>\n",
       "    </tr>\n",
       "    <tr>\n",
       "      <th>1</th>\n",
       "      <td>Mjboz24M9NlBeiOJKLEd_Q</td>\n",
       "      <td>DeSandro on Main</td>\n",
       "      <td>4105 Main St</td>\n",
       "      <td>Philadelphia</td>\n",
       "      <td>PA</td>\n",
       "      <td>19127</td>\n",
       "      <td>40.022466</td>\n",
       "      <td>-75.218314</td>\n",
       "      <td>3.0</td>\n",
       "      <td>41</td>\n",
       "      <td>0</td>\n",
       "      <td>{'RestaurantsReservations': 'False', 'Caters':...</td>\n",
       "      <td>Pizza, Restaurants, Salad, Soup</td>\n",
       "      <td>{'Tuesday': '17:0-21:30', 'Wednesday': '17:0-1...</td>\n",
       "    </tr>\n",
       "  </tbody>\n",
       "</table>\n",
       "</div>"
      ],
      "text/plain": [
       "              business_id              name       address          city state  \\\n",
       "0  QdN72BWoyFypdGJhhI5r7g           Bar One  767 S 9th St  Philadelphia    PA   \n",
       "1  Mjboz24M9NlBeiOJKLEd_Q  DeSandro on Main  4105 Main St  Philadelphia    PA   \n",
       "\n",
       "  postal_code   latitude  longitude stars review_count is_open  \\\n",
       "0       19147  39.939825 -75.157447   4.0           65       0   \n",
       "1       19127  40.022466 -75.218314   3.0           41       0   \n",
       "\n",
       "                                          attributes  \\\n",
       "0  {'Smoking': 'u'no'', 'NoiseLevel': 'u'average'...   \n",
       "1  {'RestaurantsReservations': 'False', 'Caters':...   \n",
       "\n",
       "                                          categories  \\\n",
       "0  Cocktail Bars, Bars, Italian, Nightlife, Resta...   \n",
       "1                    Pizza, Restaurants, Salad, Soup   \n",
       "\n",
       "                                               hours  \n",
       "0  {'Monday': '16:0-0:0', 'Tuesday': '16:0-0:0', ...  \n",
       "1  {'Tuesday': '17:0-21:30', 'Wednesday': '17:0-1...  "
      ]
     },
     "execution_count": 12,
     "metadata": {},
     "output_type": "execute_result"
    }
   ],
   "source": [
    "# Verifica el DataFrame resultante\n",
    "data_type_check(restaurante_pa)\n",
    "restaurante_pa.head(2)"
   ]
  },
  {
   "cell_type": "code",
   "execution_count": 12,
   "metadata": {},
   "outputs": [
    {
     "name": "stdout",
     "output_type": "stream",
     "text": [
      "\n",
      "========================================\n",
      " Resumen del dataframe:\n",
      "\n",
      "========================================\n",
      "Dimensiones:  (2698, 14)\n",
      "         columna  %_no_nulos  %_nulos  total_nulos tipo_dato\n",
      "0    business_id      100.00     0.00            0    object\n",
      "1           name      100.00     0.00            0    object\n",
      "2        address      100.00     0.00            0    object\n",
      "3           city      100.00     0.00            0    object\n",
      "4          state      100.00     0.00            0    object\n",
      "5    postal_code      100.00     0.00            0    object\n",
      "6       latitude      100.00     0.00            0    object\n",
      "7      longitude      100.00     0.00            0    object\n",
      "8          stars      100.00     0.00            0    object\n",
      "9   review_count      100.00     0.00            0    object\n",
      "10       is_open      100.00     0.00            0    object\n",
      "11    attributes       98.93     1.07           29    object\n",
      "12    categories      100.00     0.00            0    object\n",
      "13         hours       83.47    16.53          446    object\n"
     ]
    }
   ],
   "source": []
  },
  {
   "cell_type": "markdown",
   "metadata": {},
   "source": [
    "Vamos a filtrar los restaurantes abiertos de los cerrados\n"
   ]
  },
  {
   "cell_type": "markdown",
   "metadata": {},
   "source": [
    "# EN PROCESO"
   ]
  },
  {
   "cell_type": "code",
   "execution_count": null,
   "metadata": {},
   "outputs": [],
   "source": [
    "#restaurante_estado= restaurante_estado[restaurante_estado['is_open']==1].reset_index(drop=True)\n",
    "#data_type_check(restaurante_estado)"
   ]
  },
  {
   "cell_type": "code",
   "execution_count": null,
   "metadata": {},
   "outputs": [],
   "source": [
    "#restaurante_estado.categories.value_counts()"
   ]
  },
  {
   "cell_type": "code",
   "execution_count": null,
   "metadata": {},
   "outputs": [],
   "source": []
  },
  {
   "cell_type": "markdown",
   "metadata": {},
   "source": [
    "#### **📤 LOAD**"
   ]
  },
  {
   "cell_type": "code",
   "execution_count": null,
   "metadata": {},
   "outputs": [],
   "source": [
    "#guardar en parquet"
   ]
  }
 ],
 "metadata": {
  "kernelspec": {
   "display_name": "Python 3",
   "language": "python",
   "name": "python3"
  },
  "language_info": {
   "codemirror_mode": {
    "name": "ipython",
    "version": 3
   },
   "file_extension": ".py",
   "mimetype": "text/x-python",
   "name": "python",
   "nbconvert_exporter": "python",
   "pygments_lexer": "ipython3",
   "version": "3.10.11"
  }
 },
 "nbformat": 4,
 "nbformat_minor": 2
}
