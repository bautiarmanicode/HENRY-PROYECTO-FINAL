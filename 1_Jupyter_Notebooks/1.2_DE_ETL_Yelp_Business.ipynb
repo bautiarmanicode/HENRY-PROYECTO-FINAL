{
 "cells": [
  {
   "cell_type": "markdown",
   "metadata": {},
   "source": [
    "## 🛠️ **ETL (Extract, Transform, Load)**\n",
    "\n"
   ]
  },
  {
   "cell_type": "markdown",
   "metadata": {},
   "source": [
    "#### **📂 Procesamiento del 1er archivo: `Yelp/business.pkl`**"
   ]
  },
  {
   "cell_type": "markdown",
   "metadata": {},
   "source": [
    "####  **Importamos las librerías que vamos a usar**\n"
   ]
  },
  {
   "cell_type": "code",
   "execution_count": 1,
   "metadata": {},
   "outputs": [],
   "source": [
    "import pandas as pd\n",
    "import data_utils   \n",
    "from data_utils import data_type_check, data_type_check_pkl\n",
    "\n",
    "import warnings\n",
    "warnings.filterwarnings('ignore')\n",
    "import seaborn as sns\n",
    "import matplotlib.pyplot as plt\n"
   ]
  },
  {
   "cell_type": "markdown",
   "metadata": {},
   "source": [
    "#### 📦 **Extraccion** de los datos y primera exploración \n"
   ]
  },
  {
   "cell_type": "markdown",
   "metadata": {},
   "source": [
    "Mostrar info como en datatypecheck\n",
    "#data_type_check_pkl('../0_Dataset/Yelp/business.pkl')"
   ]
  },
  {
   "cell_type": "markdown",
   "metadata": {},
   "source": [
    "**PENDIENTE**\n",
    "% de nulos, .shape, .columns\n"
   ]
  },
  {
   "cell_type": "markdown",
   "metadata": {},
   "source": []
  },
  {
   "cell_type": "markdown",
   "metadata": {},
   "source": [
    "___"
   ]
  },
  {
   "cell_type": "code",
   "execution_count": 2,
   "metadata": {},
   "outputs": [
    {
     "name": "stdout",
     "output_type": "stream",
     "text": [
      "<class 'pandas.core.frame.DataFrame'>\n",
      "Index: 150346 entries, 0 to 150345\n",
      "Data columns (total 28 columns):\n",
      " #   Column        Non-Null Count   Dtype \n",
      "---  ------        --------------   ----- \n",
      " 0   business_id   150346 non-null  object\n",
      " 1   name          150346 non-null  object\n",
      " 2   address       150346 non-null  object\n",
      " 3   city          150346 non-null  object\n",
      " 4   state         150343 non-null  object\n",
      " 5   postal_code   150346 non-null  object\n",
      " 6   latitude      150346 non-null  object\n",
      " 7   longitude     150346 non-null  object\n",
      " 8   stars         150346 non-null  object\n",
      " 9   review_count  150346 non-null  object\n",
      " 10  is_open       150346 non-null  object\n",
      " 11  attributes    136602 non-null  object\n",
      " 12  categories    150243 non-null  object\n",
      " 13  hours         127123 non-null  object\n",
      " 14  business_id   5 non-null       object\n",
      " 15  name          5 non-null       object\n",
      " 16  address       5 non-null       object\n",
      " 17  city          5 non-null       object\n",
      " 18  state         5 non-null       object\n",
      " 19  postal_code   5 non-null       object\n",
      " 20  latitude      5 non-null       object\n",
      " 21  longitude     5 non-null       object\n",
      " 22  stars         5 non-null       object\n",
      " 23  review_count  5 non-null       object\n",
      " 24  is_open       5 non-null       object\n",
      " 25  attributes    5 non-null       object\n",
      " 26  categories    5 non-null       object\n",
      " 27  hours         5 non-null       object\n",
      "dtypes: object(28)\n",
      "memory usage: 33.3+ MB\n"
     ]
    },
    {
     "data": {
      "text/html": [
       "<div>\n",
       "<style scoped>\n",
       "    .dataframe tbody tr th:only-of-type {\n",
       "        vertical-align: middle;\n",
       "    }\n",
       "\n",
       "    .dataframe tbody tr th {\n",
       "        vertical-align: top;\n",
       "    }\n",
       "\n",
       "    .dataframe thead th {\n",
       "        text-align: right;\n",
       "    }\n",
       "</style>\n",
       "<table border=\"1\" class=\"dataframe\">\n",
       "  <thead>\n",
       "    <tr style=\"text-align: right;\">\n",
       "      <th></th>\n",
       "      <th>business_id</th>\n",
       "      <th>name</th>\n",
       "      <th>address</th>\n",
       "      <th>city</th>\n",
       "      <th>state</th>\n",
       "      <th>postal_code</th>\n",
       "      <th>latitude</th>\n",
       "      <th>longitude</th>\n",
       "      <th>stars</th>\n",
       "      <th>review_count</th>\n",
       "      <th>...</th>\n",
       "      <th>state</th>\n",
       "      <th>postal_code</th>\n",
       "      <th>latitude</th>\n",
       "      <th>longitude</th>\n",
       "      <th>stars</th>\n",
       "      <th>review_count</th>\n",
       "      <th>is_open</th>\n",
       "      <th>attributes</th>\n",
       "      <th>categories</th>\n",
       "      <th>hours</th>\n",
       "    </tr>\n",
       "  </thead>\n",
       "  <tbody>\n",
       "    <tr>\n",
       "      <th>111132</th>\n",
       "      <td>tXj7zTjcSjCe13qJmgz4sA</td>\n",
       "      <td>Le Gnome</td>\n",
       "      <td>West Edmonton Mall, 1814 8770-170 St</td>\n",
       "      <td>Edmonton</td>\n",
       "      <td>TN</td>\n",
       "      <td>T5T 4M2</td>\n",
       "      <td>53.522659</td>\n",
       "      <td>-113.617949</td>\n",
       "      <td>3.0</td>\n",
       "      <td>9</td>\n",
       "      <td>...</td>\n",
       "      <td>NaN</td>\n",
       "      <td>NaN</td>\n",
       "      <td>NaN</td>\n",
       "      <td>NaN</td>\n",
       "      <td>NaN</td>\n",
       "      <td>NaN</td>\n",
       "      <td>NaN</td>\n",
       "      <td>NaN</td>\n",
       "      <td>NaN</td>\n",
       "      <td>NaN</td>\n",
       "    </tr>\n",
       "    <tr>\n",
       "      <th>76857</th>\n",
       "      <td>Y2mVo-tSjuj3VYzzKmvrqw</td>\n",
       "      <td>Starr Heating and Air Conditioning</td>\n",
       "      <td></td>\n",
       "      <td>Philadelphia</td>\n",
       "      <td>PA</td>\n",
       "      <td>19123</td>\n",
       "      <td>39.964454</td>\n",
       "      <td>-75.145782</td>\n",
       "      <td>4.5</td>\n",
       "      <td>41</td>\n",
       "      <td>...</td>\n",
       "      <td>NaN</td>\n",
       "      <td>NaN</td>\n",
       "      <td>NaN</td>\n",
       "      <td>NaN</td>\n",
       "      <td>NaN</td>\n",
       "      <td>NaN</td>\n",
       "      <td>NaN</td>\n",
       "      <td>NaN</td>\n",
       "      <td>NaN</td>\n",
       "      <td>NaN</td>\n",
       "    </tr>\n",
       "  </tbody>\n",
       "</table>\n",
       "<p>2 rows × 28 columns</p>\n",
       "</div>"
      ],
      "text/plain": [
       "                   business_id                                name  \\\n",
       "111132  tXj7zTjcSjCe13qJmgz4sA                            Le Gnome   \n",
       "76857   Y2mVo-tSjuj3VYzzKmvrqw  Starr Heating and Air Conditioning   \n",
       "\n",
       "                                     address          city state postal_code  \\\n",
       "111132  West Edmonton Mall, 1814 8770-170 St      Edmonton    TN     T5T 4M2   \n",
       "76857                                         Philadelphia    PA       19123   \n",
       "\n",
       "         latitude   longitude stars review_count  ... state postal_code  \\\n",
       "111132  53.522659 -113.617949   3.0            9  ...   NaN         NaN   \n",
       "76857   39.964454  -75.145782   4.5           41  ...   NaN         NaN   \n",
       "\n",
       "       latitude longitude stars review_count is_open attributes categories  \\\n",
       "111132      NaN       NaN   NaN          NaN     NaN        NaN        NaN   \n",
       "76857       NaN       NaN   NaN          NaN     NaN        NaN        NaN   \n",
       "\n",
       "       hours  \n",
       "111132   NaN  \n",
       "76857    NaN  \n",
       "\n",
       "[2 rows x 28 columns]"
      ]
     },
     "execution_count": 2,
     "metadata": {},
     "output_type": "execute_result"
    }
   ],
   "source": [
    "business = pd.read_pickle('../0_Dataset/Yelp/business.pkl')\n",
    "business.info()\n",
    "business.sample(2)"
   ]
  },
  {
   "cell_type": "markdown",
   "metadata": {},
   "source": [
    "Tenemos columnas duplicadas, procedemos a quitarlas.\n"
   ]
  },
  {
   "cell_type": "code",
   "execution_count": 3,
   "metadata": {},
   "outputs": [
    {
     "name": "stdout",
     "output_type": "stream",
     "text": [
      "<class 'pandas.core.frame.DataFrame'>\n",
      "Index: 150346 entries, 0 to 150345\n",
      "Data columns (total 14 columns):\n",
      " #   Column        Non-Null Count   Dtype \n",
      "---  ------        --------------   ----- \n",
      " 0   business_id   150346 non-null  object\n",
      " 1   name          150346 non-null  object\n",
      " 2   address       150346 non-null  object\n",
      " 3   city          150346 non-null  object\n",
      " 4   state         150343 non-null  object\n",
      " 5   postal_code   150346 non-null  object\n",
      " 6   latitude      150346 non-null  object\n",
      " 7   longitude     150346 non-null  object\n",
      " 8   stars         150346 non-null  object\n",
      " 9   review_count  150346 non-null  object\n",
      " 10  is_open       150346 non-null  object\n",
      " 11  attributes    136602 non-null  object\n",
      " 12  categories    150243 non-null  object\n",
      " 13  hours         127123 non-null  object\n",
      "dtypes: object(14)\n",
      "memory usage: 17.2+ MB\n"
     ]
    }
   ],
   "source": [
    "business = business.loc[:, ~business.columns.duplicated()]\n",
    "business.info()"
   ]
  },
  {
   "cell_type": "markdown",
   "metadata": {},
   "source": [
    "#### 🔁 **TRANSFORM**"
   ]
  },
  {
   "cell_type": "markdown",
   "metadata": {},
   "source": [
    "Nos interesa observar las categorías por lo que primero vamos a corroborar que no tenga duplicados"
   ]
  },
  {
   "cell_type": "code",
   "execution_count": 4,
   "metadata": {},
   "outputs": [
    {
     "data": {
      "text/plain": [
       "categories\n",
       "Beauty & Spas, Nail Salons                                                                                       1012\n",
       "Restaurants, Pizza                                                                                                935\n",
       "Nail Salons, Beauty & Spas                                                                                        934\n",
       "Pizza, Restaurants                                                                                                823\n",
       "Restaurants, Mexican                                                                                              728\n",
       "                                                                                                                 ... \n",
       "Dermatologists, Health & Medical, Cosmetic Surgeons, Doctors, Acne Treatment, Skin Care, Beauty & Spas              1\n",
       "Home Services, Home & Garden, Nurseries & Gardening, Hardware Stores, Shopping, Building Supplies, Appliances       1\n",
       "Food Trucks, Smokehouse, Restaurants, Food, Barbeque, Soul Food, Food Stands                                        1\n",
       "Assisted Living Facilities, Memory Care, Health & Medical, Hospice                                                  1\n",
       "Beauty & Spas, Permanent Makeup, Piercing, Tattoo                                                                   1\n",
       "Name: count, Length: 83160, dtype: int64"
      ]
     },
     "execution_count": 4,
     "metadata": {},
     "output_type": "execute_result"
    }
   ],
   "source": [
    "business.categories.value_counts()"
   ]
  },
  {
   "cell_type": "markdown",
   "metadata": {},
   "source": [
    "Verificamos los nulos y duplicados de categories"
   ]
  },
  {
   "cell_type": "code",
   "execution_count": 5,
   "metadata": {},
   "outputs": [
    {
     "name": "stdout",
     "output_type": "stream",
     "text": [
      "Antes: Cantidad de duplicados en 'categories': 67185\n",
      "Antes: Cantidad de NaNs en 'categories': 103\n",
      "Después: Cantidad de NaNs en 'categories'  0\n",
      "Después: Cantidad de duplicados en 'categories' 67083\n"
     ]
    }
   ],
   "source": [
    "# Cuenta los duplicados y nulos en la columna 'categories' antes de cualquier eliminación\n",
    "duplicados_inicial = business['categories'].duplicated().sum()\n",
    "nulos_inicial = business['categories'].isna().sum()\n",
    "\n",
    "print(\"Antes: Cantidad de duplicados en 'categories':\", duplicados_inicial)\n",
    "print(\"Antes: Cantidad de NaNs en 'categories':\", nulos_inicial)\n",
    "\n",
    "# Elimina las filas con valores NaN en la columna 'categories'\n",
    "business = business.dropna(subset=['categories'])\n",
    "\n",
    "# Cuenta los duplicados y nulos en la columna 'categories' después de eliminar NaNs\n",
    "duplicados_despues_nulos = business['categories'].duplicated().sum()\n",
    "nulos_despues_nulos = business['categories'].isna().sum()\n",
    "\n",
    "print(\"Después: Cantidad de NaNs en 'categories' \", nulos_despues_nulos)\n",
    "\n",
    "\n",
    "'''\n",
    "________________________________________________________________\n",
    "FUTURO: Descomentar o borrar\n",
    "Elimina las filas duplicadas basadas en la columna 'categories'\n",
    "business = business.drop_duplicates(subset=['categories'])  \n",
    "_________________________________________________________________  \n",
    "'''\n",
    "\n",
    "# Cuenta los duplicados en la columna 'categories' después de eliminar duplicados\n",
    "duplicados_final = business['categories'].duplicated().sum()\n",
    "\n",
    "print(\"Después: Cantidad de duplicados en 'categories'\", duplicados_final)\n"
   ]
  },
  {
   "cell_type": "markdown",
   "metadata": {},
   "source": [
    "Dado que diferentes negocios pueden compartir las mismas 'categories', no borramos los  67083 duplicados \n"
   ]
  },
  {
   "cell_type": "markdown",
   "metadata": {},
   "source": [
    "### Filtramos pizzerias en el estado Florida\n"
   ]
  },
  {
   "cell_type": "markdown",
   "metadata": {},
   "source": [
    "Vamos a filtrar por estado. Para eso primero observamos todos los estados y luego elejimos el que vamos a usar"
   ]
  },
  {
   "cell_type": "code",
   "execution_count": 6,
   "metadata": {},
   "outputs": [
    {
     "data": {
      "text/plain": [
       "state\n",
       "PA     34013\n",
       "FL     26311\n",
       "TN     12045\n",
       "IN     11238\n",
       "MO     10909\n",
       "LA      9917\n",
       "AZ      9907\n",
       "NJ      8529\n",
       "NV      7712\n",
       "AB      5571\n",
       "CA      5201\n",
       "ID      4463\n",
       "DE      2261\n",
       "IL      2142\n",
       "TX         4\n",
       "CO         3\n",
       "WA         2\n",
       "HI         2\n",
       "MA         2\n",
       "NC         1\n",
       "UT         1\n",
       "MT         1\n",
       "MI         1\n",
       "SD         1\n",
       "XMS        1\n",
       "VI         1\n",
       "VT         1\n",
       "Name: count, dtype: int64"
      ]
     },
     "execution_count": 6,
     "metadata": {},
     "output_type": "execute_result"
    }
   ],
   "source": [
    "business['state'].value_counts()"
   ]
  },
  {
   "cell_type": "markdown",
   "metadata": {},
   "source": [
    "### Filtramos las categorías más frecuentes en general en Estados Unidos\n"
   ]
  },
  {
   "cell_type": "code",
   "execution_count": 7,
   "metadata": {},
   "outputs": [
    {
     "name": "stdout",
     "output_type": "stream",
     "text": [
      "Top 10 Categorías Más Frecuentes en General:\n",
      "1. Beauty & Spas, Nail Salons: 1012 veces\n",
      "2. Restaurants, Pizza: 935 veces\n",
      "3. Nail Salons, Beauty & Spas: 934 veces\n",
      "4. Pizza, Restaurants: 823 veces\n",
      "5. Restaurants, Mexican: 728 veces\n",
      "6. Restaurants, Chinese: 708 veces\n",
      "7. Mexican, Restaurants: 672 veces\n",
      "8. Chinese, Restaurants: 651 veces\n",
      "9. Food, Coffee & Tea: 508 veces\n",
      "10. Beauty & Spas, Hair Salons: 493 veces\n",
      "\n",
      "Y 83150 categorías más...\n",
      "\n",
      "\n"
     ]
    }
   ],
   "source": [
    "# Obtener el conteo de cada categoría en el DataFrame completo\n",
    "conteo_categorias_totales = business['categories'].value_counts()\n",
    "\n",
    "# Obtener las categorías únicas y ordenarlas alfabéticamente\n",
    "categorias_unicas_totales = sorted(business['categories'].unique())\n",
    "\n",
    "# Calcular el top 10 de categorías más frecuentes en general\n",
    "top_10_categorias_totales = conteo_categorias_totales.head(10)\n",
    "\n",
    "# Imprimir el top 10 de categorías más frecuentes en general\n",
    "print(\"Top 10 Categorías Más Frecuentes en General:\")\n",
    "for i, (categoria, conteo) in enumerate(top_10_categorias_totales.items(), 1):\n",
    "    print(f\"{i}. {categoria}: {conteo} veces\")\n",
    "\n",
    "# Si hay más categorías, mostrar un mensaje de resumen\n",
    "if len(conteo_categorias_totales) > 10:\n",
    "    print(f\"\\nY {len(conteo_categorias_totales) - 10} categorías más...\")\n",
    "\n",
    "print(\"\\n\")"
   ]
  },
  {
   "cell_type": "code",
   "execution_count": 8,
   "metadata": {},
   "outputs": [
    {
     "data": {
      "text/plain": [
       "'\\nUnir categorias?\\n'"
      ]
     },
     "execution_count": 8,
     "metadata": {},
     "output_type": "execute_result"
    }
   ],
   "source": [
    "'''\n",
    "Unir categorias?\n",
    "'''"
   ]
  },
  {
   "cell_type": "markdown",
   "metadata": {},
   "source": [
    "### Vamos a observar las categorías relacionadas con restaurantes en Florida\n"
   ]
  },
  {
   "cell_type": "code",
   "execution_count": 9,
   "metadata": {},
   "outputs": [
    {
     "name": "stdout",
     "output_type": "stream",
     "text": [
      "Top 10 Categorías Más Frecuentes en Florida:\n",
      "1. Restaurants, Pizza: 163 veces\n",
      "2. Pizza, Restaurants: 142 veces\n",
      "3. Mexican, Restaurants: 122 veces\n",
      "4. Restaurants, Chinese: 121 veces\n",
      "5. Restaurants, Mexican: 118 veces\n",
      "6. Chinese, Restaurants: 108 veces\n",
      "7. Restaurants, Italian: 61 veces\n",
      "8. Italian, Restaurants: 54 veces\n",
      "9. American (New), Restaurants: 42 veces\n",
      "10. Restaurants, American (New): 40 veces\n",
      "\n",
      "Y 6468 categorías más...\n"
     ]
    }
   ],
   "source": [
    "# Filtrar el DataFrame original para obtener solo las categorías relacionadas con restaurantes en Florida\n",
    "df_estado_FL = business[business['categories'].str.lower().str.contains('restaurant', na=False) & (business['state'] == 'FL')].reset_index(drop=True)\n",
    "\n",
    "# Obtener el conteo de cada categoría específicamente en Florida\n",
    "conteo_categorias_FL = df_estado_FL['categories'].value_counts()\n",
    "\n",
    "# Calcular el top 10 de categorías más frecuentes en Florida\n",
    "top_10_categorias_FL = conteo_categorias_FL.head(10)\n",
    "\n",
    "# Imprimir el top 10 de categorías más frecuentes en Florida\n",
    "print(\"Top 10 Categorías Más Frecuentes en Florida:\")\n",
    "for i, (categoria, conteo) in enumerate(top_10_categorias_FL.items(), 1):\n",
    "    print(f\"{i}. {categoria}: {conteo} veces\")\n",
    "\n",
    "# Si hay más categorías, mostrar un mensaje de resumen\n",
    "if len(conteo_categorias_FL) > 10:\n",
    "    print(f\"\\nY {len(conteo_categorias_FL) - 10} categorías más...\")"
   ]
  },
  {
   "cell_type": "markdown",
   "metadata": {},
   "source": [
    "### Filtramos por la el interes del proyecto: Pizzerias"
   ]
  },
  {
   "cell_type": "markdown",
   "metadata": {},
   "source": [
    "Primero vamos a contar la cantidad de Pizzerias por estado\n"
   ]
  },
  {
   "cell_type": "code",
   "execution_count": 10,
   "metadata": {},
   "outputs": [
    {
     "name": "stdout",
     "output_type": "stream",
     "text": [
      "Cantidad de Pizzerías por Estado:\n",
      "state\n",
      "PA    1554\n",
      "FL    1261\n",
      "TN     559\n",
      "IN     510\n",
      "AZ     499\n",
      "MO     485\n",
      "LA     475\n",
      "NJ     399\n",
      "NV     363\n",
      "AB     279\n",
      "CA     272\n",
      "ID     225\n",
      "IL     108\n",
      "DE     103\n",
      "WA       1\n",
      "Name: count, dtype: int64\n"
     ]
    }
   ],
   "source": [
    "# Asegurar que 'categories' es de tipo string\n",
    "business['categories'] = business['categories'].astype(str)\n",
    "\n",
    "# Filtra las filas que contienen 'pizza' en 'categories'\n",
    "pizzerias = business[business['categories'].str.lower().str.contains('pizza', na=False)]\n",
    "\n",
    "# Cuenta la cantidad de pizzerías en cada estado\n",
    "conteo_pizzerias_por_estado = pizzerias['state'].value_counts()\n",
    "\n",
    "# Imprime el resultado\n",
    "print(\"Cantidad de Pizzerías por Estado:\")\n",
    "print(conteo_pizzerias_por_estado)\n"
   ]
  },
  {
   "cell_type": "markdown",
   "metadata": {},
   "source": [
    "### Filtramos las pizzerias de Florida\n"
   ]
  },
  {
   "cell_type": "code",
   "execution_count": 13,
   "metadata": {},
   "outputs": [
    {
     "name": "stdout",
     "output_type": "stream",
     "text": [
      "\n",
      "========================================\n",
      " Resumen del dataframe:\n",
      "\n",
      "========================================\n",
      "Dimensiones:  (883, 14)\n",
      "         columna  %_no_nulos  %_nulos  total_nulos tipo_dato\n",
      "0    business_id      100.00     0.00            0    object\n",
      "1           name      100.00     0.00            0    object\n",
      "2        address      100.00     0.00            0    object\n",
      "3           city      100.00     0.00            0    object\n",
      "4          state      100.00     0.00            0    object\n",
      "5    postal_code      100.00     0.00            0    object\n",
      "6       latitude      100.00     0.00            0    object\n",
      "7      longitude      100.00     0.00            0    object\n",
      "8          stars      100.00     0.00            0    object\n",
      "9   review_count      100.00     0.00            0    object\n",
      "10       is_open      100.00     0.00            0    object\n",
      "11    attributes       98.98     1.02            9    object\n",
      "12    categories      100.00     0.00            0    object\n",
      "13         hours       88.90    11.10           98    object\n"
     ]
    },
    {
     "data": {
      "text/html": [
       "<div>\n",
       "<style scoped>\n",
       "    .dataframe tbody tr th:only-of-type {\n",
       "        vertical-align: middle;\n",
       "    }\n",
       "\n",
       "    .dataframe tbody tr th {\n",
       "        vertical-align: top;\n",
       "    }\n",
       "\n",
       "    .dataframe thead th {\n",
       "        text-align: right;\n",
       "    }\n",
       "</style>\n",
       "<table border=\"1\" class=\"dataframe\">\n",
       "  <thead>\n",
       "    <tr style=\"text-align: right;\">\n",
       "      <th></th>\n",
       "      <th>business_id</th>\n",
       "      <th>name</th>\n",
       "      <th>address</th>\n",
       "      <th>city</th>\n",
       "      <th>state</th>\n",
       "      <th>postal_code</th>\n",
       "      <th>latitude</th>\n",
       "      <th>longitude</th>\n",
       "      <th>stars</th>\n",
       "      <th>review_count</th>\n",
       "      <th>is_open</th>\n",
       "      <th>attributes</th>\n",
       "      <th>categories</th>\n",
       "      <th>hours</th>\n",
       "    </tr>\n",
       "  </thead>\n",
       "  <tbody>\n",
       "    <tr>\n",
       "      <th>127</th>\n",
       "      <td>-jkc-0YYvwkBaNnNyiUHNg</td>\n",
       "      <td>Hidden Pizza</td>\n",
       "      <td>345 N Virginia St</td>\n",
       "      <td>Reno</td>\n",
       "      <td>FL</td>\n",
       "      <td>89501</td>\n",
       "      <td>39.528789</td>\n",
       "      <td>-119.814354</td>\n",
       "      <td>4.0</td>\n",
       "      <td>115</td>\n",
       "      <td>1</td>\n",
       "      <td>{'BusinessParking': '{'garage': True, 'street'...</td>\n",
       "      <td>Restaurants, Pizza, Italian</td>\n",
       "      <td>{'Monday': '0:0-0:0', 'Tuesday': '17:0-1:0', '...</td>\n",
       "    </tr>\n",
       "    <tr>\n",
       "      <th>185</th>\n",
       "      <td>u-pogbWQ-Hwl6qTQjVIAOQ</td>\n",
       "      <td>Pizza@ Tyrone Square</td>\n",
       "      <td>6901 22nd Ave N</td>\n",
       "      <td>Saint Petersburg</td>\n",
       "      <td>FL</td>\n",
       "      <td>33710</td>\n",
       "      <td>27.793023</td>\n",
       "      <td>-82.733725</td>\n",
       "      <td>4.5</td>\n",
       "      <td>32</td>\n",
       "      <td>1</td>\n",
       "      <td>{'WheelchairAccessible': 'True', 'RestaurantsP...</td>\n",
       "      <td>Pizza, Restaurants, Fast Food</td>\n",
       "      <td>{'Monday': '10:0-21:0', 'Tuesday': '10:0-21:0'...</td>\n",
       "    </tr>\n",
       "  </tbody>\n",
       "</table>\n",
       "</div>"
      ],
      "text/plain": [
       "                business_id                  name            address  \\\n",
       "127  -jkc-0YYvwkBaNnNyiUHNg          Hidden Pizza  345 N Virginia St   \n",
       "185  u-pogbWQ-Hwl6qTQjVIAOQ  Pizza@ Tyrone Square    6901 22nd Ave N   \n",
       "\n",
       "                 city state postal_code   latitude   longitude stars  \\\n",
       "127              Reno    FL       89501  39.528789 -119.814354   4.0   \n",
       "185  Saint Petersburg    FL       33710  27.793023  -82.733725   4.5   \n",
       "\n",
       "    review_count is_open                                         attributes  \\\n",
       "127          115       1  {'BusinessParking': '{'garage': True, 'street'...   \n",
       "185           32       1  {'WheelchairAccessible': 'True', 'RestaurantsP...   \n",
       "\n",
       "                        categories  \\\n",
       "127    Restaurants, Pizza, Italian   \n",
       "185  Pizza, Restaurants, Fast Food   \n",
       "\n",
       "                                                 hours  \n",
       "127  {'Monday': '0:0-0:0', 'Tuesday': '17:0-1:0', '...  \n",
       "185  {'Monday': '10:0-21:0', 'Tuesday': '10:0-21:0'...  "
      ]
     },
     "execution_count": 13,
     "metadata": {},
     "output_type": "execute_result"
    }
   ],
   "source": [
    "#Filtrar el DataFrame original para obtener solo las categorías relacionadas con restaurantes en Florida\n",
    "#Solo elegimos los locales abiertos\n",
    "df_estado_FL = business[business['categories'].str.lower().str.contains('pizza', na=False) & (business['state'] == 'FL') & (business['is_open'] == 1)].reset_index(drop=True)\n",
    "data_type_check(df_estado_FL)\n",
    "df_estado_FL.sample(2)\n"
   ]
  },
  {
   "cell_type": "code",
   "execution_count": 14,
   "metadata": {},
   "outputs": [
    {
     "data": {
      "text/plain": [
       "state\n",
       "FL    883\n",
       "Name: count, dtype: int64"
      ]
     },
     "execution_count": 14,
     "metadata": {},
     "output_type": "execute_result"
    }
   ],
   "source": [
    "# contar valores unicos en state\n",
    "df_estado_FL.state.value_counts()\n",
    "\n"
   ]
  },
  {
   "cell_type": "markdown",
   "metadata": {},
   "source": []
  },
  {
   "cell_type": "markdown",
   "metadata": {},
   "source": [
    "#### **📤 LOAD**"
   ]
  },
  {
   "cell_type": "code",
   "execution_count": null,
   "metadata": {},
   "outputs": [],
   "source": [
    "#guardar en parquet"
   ]
  }
 ],
 "metadata": {
  "kernelspec": {
   "display_name": "Python 3",
   "language": "python",
   "name": "python3"
  },
  "language_info": {
   "codemirror_mode": {
    "name": "ipython",
    "version": 3
   },
   "file_extension": ".py",
   "mimetype": "text/x-python",
   "name": "python",
   "nbconvert_exporter": "python",
   "pygments_lexer": "ipython3",
   "version": "3.10.11"
  }
 },
 "nbformat": 4,
 "nbformat_minor": 2
}
