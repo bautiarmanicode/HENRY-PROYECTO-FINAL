{
 "cells": [
  {
   "cell_type": "markdown",
   "metadata": {},
   "source": [
    "## 🛠️ **ETL (Extract, Transform, Load)**\n",
    "\n"
   ]
  },
  {
   "cell_type": "markdown",
   "metadata": {},
   "source": [
    "#### **📂 Procesamiento del 1er archivo: `Yelp/business.pkl`**"
   ]
  },
  {
   "cell_type": "markdown",
   "metadata": {},
   "source": [
    "####  **Importamos las librerías que vamos a usar**\n"
   ]
  },
  {
   "cell_type": "code",
   "execution_count": 1,
   "metadata": {},
   "outputs": [],
   "source": [
    "import pandas as pd\n",
    "import data_utils   \n",
    "from data_utils import data_type_check, data_type_check_pkl\n",
    "\n",
    "import warnings\n",
    "warnings.filterwarnings('ignore')\n",
    "import seaborn as sns\n",
    "import matplotlib.pyplot as plt\n"
   ]
  },
  {
   "cell_type": "markdown",
   "metadata": {},
   "source": [
    "#### 📦 **Extraccion** de los datos y primera exploración \n"
   ]
  },
  {
   "cell_type": "markdown",
   "metadata": {},
   "source": [
    "Mostrar info como en datatypecheck\n",
    "#data_type_check_pkl('../0_Dataset/Yelp/business.pkl')"
   ]
  },
  {
   "cell_type": "markdown",
   "metadata": {},
   "source": [
    "**PENDIENTE**\n",
    "% de nulos, .shape, .columns\n"
   ]
  },
  {
   "cell_type": "markdown",
   "metadata": {},
   "source": []
  },
  {
   "cell_type": "markdown",
   "metadata": {},
   "source": [
    "___"
   ]
  },
  {
   "cell_type": "code",
   "execution_count": 2,
   "metadata": {},
   "outputs": [
    {
     "name": "stdout",
     "output_type": "stream",
     "text": [
      "<class 'pandas.core.frame.DataFrame'>\n",
      "Index: 150346 entries, 0 to 150345\n",
      "Data columns (total 28 columns):\n",
      " #   Column        Non-Null Count   Dtype \n",
      "---  ------        --------------   ----- \n",
      " 0   business_id   150346 non-null  object\n",
      " 1   name          150346 non-null  object\n",
      " 2   address       150346 non-null  object\n",
      " 3   city          150346 non-null  object\n",
      " 4   state         150343 non-null  object\n",
      " 5   postal_code   150346 non-null  object\n",
      " 6   latitude      150346 non-null  object\n",
      " 7   longitude     150346 non-null  object\n",
      " 8   stars         150346 non-null  object\n",
      " 9   review_count  150346 non-null  object\n",
      " 10  is_open       150346 non-null  object\n",
      " 11  attributes    136602 non-null  object\n",
      " 12  categories    150243 non-null  object\n",
      " 13  hours         127123 non-null  object\n",
      " 14  business_id   5 non-null       object\n",
      " 15  name          5 non-null       object\n",
      " 16  address       5 non-null       object\n",
      " 17  city          5 non-null       object\n",
      " 18  state         5 non-null       object\n",
      " 19  postal_code   5 non-null       object\n",
      " 20  latitude      5 non-null       object\n",
      " 21  longitude     5 non-null       object\n",
      " 22  stars         5 non-null       object\n",
      " 23  review_count  5 non-null       object\n",
      " 24  is_open       5 non-null       object\n",
      " 25  attributes    5 non-null       object\n",
      " 26  categories    5 non-null       object\n",
      " 27  hours         5 non-null       object\n",
      "dtypes: object(28)\n",
      "memory usage: 33.3+ MB\n"
     ]
    },
    {
     "data": {
      "text/html": [
       "<div>\n",
       "<style scoped>\n",
       "    .dataframe tbody tr th:only-of-type {\n",
       "        vertical-align: middle;\n",
       "    }\n",
       "\n",
       "    .dataframe tbody tr th {\n",
       "        vertical-align: top;\n",
       "    }\n",
       "\n",
       "    .dataframe thead th {\n",
       "        text-align: right;\n",
       "    }\n",
       "</style>\n",
       "<table border=\"1\" class=\"dataframe\">\n",
       "  <thead>\n",
       "    <tr style=\"text-align: right;\">\n",
       "      <th></th>\n",
       "      <th>business_id</th>\n",
       "      <th>name</th>\n",
       "      <th>address</th>\n",
       "      <th>city</th>\n",
       "      <th>state</th>\n",
       "      <th>postal_code</th>\n",
       "      <th>latitude</th>\n",
       "      <th>longitude</th>\n",
       "      <th>stars</th>\n",
       "      <th>review_count</th>\n",
       "      <th>...</th>\n",
       "      <th>state</th>\n",
       "      <th>postal_code</th>\n",
       "      <th>latitude</th>\n",
       "      <th>longitude</th>\n",
       "      <th>stars</th>\n",
       "      <th>review_count</th>\n",
       "      <th>is_open</th>\n",
       "      <th>attributes</th>\n",
       "      <th>categories</th>\n",
       "      <th>hours</th>\n",
       "    </tr>\n",
       "  </thead>\n",
       "  <tbody>\n",
       "    <tr>\n",
       "      <th>122629</th>\n",
       "      <td>cCbAiX9ucA2awIijfSN3cQ</td>\n",
       "      <td>Agave Inn</td>\n",
       "      <td>3222 State St</td>\n",
       "      <td>Santa Barbara</td>\n",
       "      <td>AB</td>\n",
       "      <td>93105</td>\n",
       "      <td>34.440737</td>\n",
       "      <td>-119.733324</td>\n",
       "      <td>4.0</td>\n",
       "      <td>184</td>\n",
       "      <td>...</td>\n",
       "      <td>NaN</td>\n",
       "      <td>NaN</td>\n",
       "      <td>NaN</td>\n",
       "      <td>NaN</td>\n",
       "      <td>NaN</td>\n",
       "      <td>NaN</td>\n",
       "      <td>NaN</td>\n",
       "      <td>NaN</td>\n",
       "      <td>NaN</td>\n",
       "      <td>NaN</td>\n",
       "    </tr>\n",
       "    <tr>\n",
       "      <th>115197</th>\n",
       "      <td>Dy_fP3cm42iXovWsyTmiPw</td>\n",
       "      <td>Goffredo Vincent Plmbr</td>\n",
       "      <td>806 S 47th St</td>\n",
       "      <td>Philadelphia</td>\n",
       "      <td>FL</td>\n",
       "      <td>19143</td>\n",
       "      <td>39.948376</td>\n",
       "      <td>-75.21712</td>\n",
       "      <td>4.5</td>\n",
       "      <td>12</td>\n",
       "      <td>...</td>\n",
       "      <td>NaN</td>\n",
       "      <td>NaN</td>\n",
       "      <td>NaN</td>\n",
       "      <td>NaN</td>\n",
       "      <td>NaN</td>\n",
       "      <td>NaN</td>\n",
       "      <td>NaN</td>\n",
       "      <td>NaN</td>\n",
       "      <td>NaN</td>\n",
       "      <td>NaN</td>\n",
       "    </tr>\n",
       "  </tbody>\n",
       "</table>\n",
       "<p>2 rows × 28 columns</p>\n",
       "</div>"
      ],
      "text/plain": [
       "                   business_id                    name        address  \\\n",
       "122629  cCbAiX9ucA2awIijfSN3cQ               Agave Inn  3222 State St   \n",
       "115197  Dy_fP3cm42iXovWsyTmiPw  Goffredo Vincent Plmbr  806 S 47th St   \n",
       "\n",
       "                 city state postal_code   latitude   longitude stars  \\\n",
       "122629  Santa Barbara    AB       93105  34.440737 -119.733324   4.0   \n",
       "115197   Philadelphia    FL       19143  39.948376   -75.21712   4.5   \n",
       "\n",
       "       review_count  ... state postal_code latitude longitude stars  \\\n",
       "122629          184  ...   NaN         NaN      NaN       NaN   NaN   \n",
       "115197           12  ...   NaN         NaN      NaN       NaN   NaN   \n",
       "\n",
       "       review_count is_open attributes categories hours  \n",
       "122629          NaN     NaN        NaN        NaN   NaN  \n",
       "115197          NaN     NaN        NaN        NaN   NaN  \n",
       "\n",
       "[2 rows x 28 columns]"
      ]
     },
     "execution_count": 2,
     "metadata": {},
     "output_type": "execute_result"
    }
   ],
   "source": [
    "business = pd.read_pickle('../0_Dataset/Yelp/business.pkl')\n",
    "business.info()\n",
    "business.sample(2)"
   ]
  },
  {
   "cell_type": "markdown",
   "metadata": {},
   "source": [
    "Tenemos columnas duplicadas, procedemos a quitarlas.\n"
   ]
  },
  {
   "cell_type": "code",
   "execution_count": 3,
   "metadata": {},
   "outputs": [
    {
     "name": "stdout",
     "output_type": "stream",
     "text": [
      "<class 'pandas.core.frame.DataFrame'>\n",
      "Index: 150346 entries, 0 to 150345\n",
      "Data columns (total 14 columns):\n",
      " #   Column        Non-Null Count   Dtype \n",
      "---  ------        --------------   ----- \n",
      " 0   business_id   150346 non-null  object\n",
      " 1   name          150346 non-null  object\n",
      " 2   address       150346 non-null  object\n",
      " 3   city          150346 non-null  object\n",
      " 4   state         150343 non-null  object\n",
      " 5   postal_code   150346 non-null  object\n",
      " 6   latitude      150346 non-null  object\n",
      " 7   longitude     150346 non-null  object\n",
      " 8   stars         150346 non-null  object\n",
      " 9   review_count  150346 non-null  object\n",
      " 10  is_open       150346 non-null  object\n",
      " 11  attributes    136602 non-null  object\n",
      " 12  categories    150243 non-null  object\n",
      " 13  hours         127123 non-null  object\n",
      "dtypes: object(14)\n",
      "memory usage: 17.2+ MB\n"
     ]
    }
   ],
   "source": [
    "business = business.loc[:, ~business.columns.duplicated()]\n",
    "business.info()"
   ]
  },
  {
   "cell_type": "markdown",
   "metadata": {},
   "source": [
    "#### 🔁 **TRANSFORM**"
   ]
  },
  {
   "cell_type": "markdown",
   "metadata": {},
   "source": [
    "Nos interesa observar las categorías por lo que primero vamos a corroborar que no tenga duplicados"
   ]
  },
  {
   "cell_type": "code",
   "execution_count": 4,
   "metadata": {},
   "outputs": [
    {
     "data": {
      "text/plain": [
       "categories\n",
       "Beauty & Spas, Nail Salons                                                                                       1012\n",
       "Restaurants, Pizza                                                                                                935\n",
       "Nail Salons, Beauty & Spas                                                                                        934\n",
       "Pizza, Restaurants                                                                                                823\n",
       "Restaurants, Mexican                                                                                              728\n",
       "                                                                                                                 ... \n",
       "Dermatologists, Health & Medical, Cosmetic Surgeons, Doctors, Acne Treatment, Skin Care, Beauty & Spas              1\n",
       "Home Services, Home & Garden, Nurseries & Gardening, Hardware Stores, Shopping, Building Supplies, Appliances       1\n",
       "Food Trucks, Smokehouse, Restaurants, Food, Barbeque, Soul Food, Food Stands                                        1\n",
       "Assisted Living Facilities, Memory Care, Health & Medical, Hospice                                                  1\n",
       "Beauty & Spas, Permanent Makeup, Piercing, Tattoo                                                                   1\n",
       "Name: count, Length: 83160, dtype: int64"
      ]
     },
     "execution_count": 4,
     "metadata": {},
     "output_type": "execute_result"
    }
   ],
   "source": [
    "business.categories.value_counts()"
   ]
  },
  {
   "cell_type": "markdown",
   "metadata": {},
   "source": [
    "Verificamos los nulos y duplicados de categories"
   ]
  },
  {
   "cell_type": "code",
   "execution_count": 5,
   "metadata": {},
   "outputs": [
    {
     "name": "stdout",
     "output_type": "stream",
     "text": [
      "Antes: Cantidad de duplicados en 'categories': 67185\n",
      "Antes: Cantidad de NaNs en 'categories': 103\n",
      "Después: Cantidad de NaNs en 'categories'  0\n",
      "Después: Cantidad de duplicados en 'categories' 67083\n"
     ]
    }
   ],
   "source": [
    "# Cuenta los duplicados y nulos en la columna 'categories' antes de cualquier eliminación\n",
    "duplicados_inicial = business['categories'].duplicated().sum()\n",
    "nulos_inicial = business['categories'].isna().sum()\n",
    "\n",
    "print(\"Antes: Cantidad de duplicados en 'categories':\", duplicados_inicial)\n",
    "print(\"Antes: Cantidad de NaNs en 'categories':\", nulos_inicial)\n",
    "\n",
    "# Elimina las filas con valores NaN en la columna 'categories'\n",
    "business = business.dropna(subset=['categories'])\n",
    "\n",
    "# Cuenta los duplicados y nulos en la columna 'categories' después de eliminar NaNs\n",
    "duplicados_despues_nulos = business['categories'].duplicated().sum()\n",
    "nulos_despues_nulos = business['categories'].isna().sum()\n",
    "\n",
    "print(\"Después: Cantidad de NaNs en 'categories' \", nulos_despues_nulos)\n",
    "\n",
    "\n",
    "'''\n",
    "________________________________________________________________\n",
    "FUTURO: Descomentar o borrar\n",
    "Elimina las filas duplicadas basadas en la columna 'categories'\n",
    "business = business.drop_duplicates(subset=['categories'])  \n",
    "_________________________________________________________________  \n",
    "'''\n",
    "\n",
    "# Cuenta los duplicados en la columna 'categories' después de eliminar duplicados\n",
    "duplicados_final = business['categories'].duplicated().sum()\n",
    "\n",
    "print(\"Después: Cantidad de duplicados en 'categories'\", duplicados_final)\n"
   ]
  },
  {
   "cell_type": "markdown",
   "metadata": {},
   "source": [
    "Dado que diferentes negocios pueden compartir las mismas 'categories', no borramos los  67083 duplicados \n"
   ]
  },
  {
   "cell_type": "markdown",
   "metadata": {},
   "source": [
    "### Filtramos por estado Florida\n"
   ]
  },
  {
   "cell_type": "markdown",
   "metadata": {},
   "source": [
    "Vamos a filtrar por estado. Para eso primero observamos todos los estados y luego elejimos el que vamos a usar"
   ]
  },
  {
   "cell_type": "code",
   "execution_count": 6,
   "metadata": {},
   "outputs": [
    {
     "data": {
      "text/plain": [
       "state\n",
       "PA     34013\n",
       "FL     26311\n",
       "TN     12045\n",
       "IN     11238\n",
       "MO     10909\n",
       "LA      9917\n",
       "AZ      9907\n",
       "NJ      8529\n",
       "NV      7712\n",
       "AB      5571\n",
       "CA      5201\n",
       "ID      4463\n",
       "DE      2261\n",
       "IL      2142\n",
       "TX         4\n",
       "CO         3\n",
       "WA         2\n",
       "HI         2\n",
       "MA         2\n",
       "NC         1\n",
       "UT         1\n",
       "MT         1\n",
       "MI         1\n",
       "SD         1\n",
       "XMS        1\n",
       "VI         1\n",
       "VT         1\n",
       "Name: count, dtype: int64"
      ]
     },
     "execution_count": 6,
     "metadata": {},
     "output_type": "execute_result"
    }
   ],
   "source": [
    "business['state'].value_counts()"
   ]
  },
  {
   "cell_type": "markdown",
   "metadata": {},
   "source": [
    "### Filtramos las categorías más frecuentes en general en Estados Unidos\n"
   ]
  },
  {
   "cell_type": "code",
   "execution_count": 15,
   "metadata": {},
   "outputs": [
    {
     "name": "stdout",
     "output_type": "stream",
     "text": [
      "Top 10 Categorías Más Frecuentes en General:\n",
      "1. Beauty & Spas, Nail Salons: 1012 veces\n",
      "2. Restaurants, Pizza: 935 veces\n",
      "3. Nail Salons, Beauty & Spas: 934 veces\n",
      "4. Pizza, Restaurants: 823 veces\n",
      "5. Restaurants, Mexican: 728 veces\n",
      "6. Restaurants, Chinese: 708 veces\n",
      "7. Mexican, Restaurants: 672 veces\n",
      "8. Chinese, Restaurants: 651 veces\n",
      "9. Food, Coffee & Tea: 508 veces\n",
      "10. Beauty & Spas, Hair Salons: 493 veces\n",
      "\n",
      "Y 83150 categorías más...\n",
      "\n",
      "\n"
     ]
    }
   ],
   "source": [
    "# Obtener el conteo de cada categoría en el DataFrame completo\n",
    "conteo_categorias_totales = business['categories'].value_counts()\n",
    "\n",
    "# Obtener las categorías únicas y ordenarlas alfabéticamente\n",
    "categorias_unicas_totales = sorted(business['categories'].unique())\n",
    "\n",
    "# Calcular el top 10 de categorías más frecuentes en general\n",
    "top_10_categorias_totales = conteo_categorias_totales.head(10)\n",
    "\n",
    "# Imprimir el top 10 de categorías más frecuentes en general\n",
    "print(\"Top 10 Categorías Más Frecuentes en General:\")\n",
    "for i, (categoria, conteo) in enumerate(top_10_categorias_totales.items(), 1):\n",
    "    print(f\"{i}. {categoria}: {conteo} veces\")\n",
    "\n",
    "# Si hay más categorías, mostrar un mensaje de resumen\n",
    "if len(conteo_categorias_totales) > 10:\n",
    "    print(f\"\\nY {len(conteo_categorias_totales) - 10} categorías más...\")\n",
    "\n",
    "print(\"\\n\")"
   ]
  },
  {
   "cell_type": "code",
   "execution_count": null,
   "metadata": {},
   "outputs": [],
   "source": [
    "'''\n",
    "Unir categorias?\n",
    "'''"
   ]
  },
  {
   "cell_type": "markdown",
   "metadata": {},
   "source": [
    "### Vamos a observar las categorías relacionadas con restaurantes en Florida\n"
   ]
  },
  {
   "cell_type": "code",
   "execution_count": 16,
   "metadata": {},
   "outputs": [
    {
     "name": "stdout",
     "output_type": "stream",
     "text": [
      "Top 10 Categorías Más Frecuentes en Florida:\n",
      "1. Restaurants, Pizza: 163 veces\n",
      "2. Pizza, Restaurants: 142 veces\n",
      "3. Mexican, Restaurants: 122 veces\n",
      "4. Restaurants, Chinese: 121 veces\n",
      "5. Restaurants, Mexican: 118 veces\n",
      "6. Chinese, Restaurants: 108 veces\n",
      "7. Restaurants, Italian: 61 veces\n",
      "8. Italian, Restaurants: 54 veces\n",
      "9. American (New), Restaurants: 42 veces\n",
      "10. Restaurants, American (New): 40 veces\n",
      "\n",
      "Y 6468 categorías más...\n"
     ]
    }
   ],
   "source": [
    "# Filtrar el DataFrame original para obtener solo las categorías relacionadas con restaurantes en Florida\n",
    "df_estado_FL = business[business['categories'].str.lower().str.contains('restaurant', na=False) & (business['state'] == 'FL')].reset_index(drop=True)\n",
    "\n",
    "# Obtener el conteo de cada categoría específicamente en Florida\n",
    "conteo_categorias_FL = df_estado_FL['categories'].value_counts()\n",
    "\n",
    "# Calcular el top 10 de categorías más frecuentes en Florida\n",
    "top_10_categorias_FL = conteo_categorias_FL.head(10)\n",
    "\n",
    "# Imprimir el top 10 de categorías más frecuentes en Florida\n",
    "print(\"Top 10 Categorías Más Frecuentes en Florida:\")\n",
    "for i, (categoria, conteo) in enumerate(top_10_categorias_FL.items(), 1):\n",
    "    print(f\"{i}. {categoria}: {conteo} veces\")\n",
    "\n",
    "# Si hay más categorías, mostrar un mensaje de resumen\n",
    "if len(conteo_categorias_FL) > 10:\n",
    "    print(f\"\\nY {len(conteo_categorias_FL) - 10} categorías más...\")"
   ]
  },
  {
   "cell_type": "code",
   "execution_count": null,
   "metadata": {},
   "outputs": [],
   "source": [
    "data_type_check(df_estado_FL)\n",
    "df_estado_FL.sample(2)"
   ]
  },
  {
   "cell_type": "markdown",
   "metadata": {},
   "source": [
    "Aca podemos filtrar el interes que tenemos\n"
   ]
  },
  {
   "cell_type": "code",
   "execution_count": null,
   "metadata": {},
   "outputs": [],
   "source": []
  },
  {
   "cell_type": "markdown",
   "metadata": {},
   "source": [
    "#### **📤 LOAD**"
   ]
  },
  {
   "cell_type": "code",
   "execution_count": 15,
   "metadata": {},
   "outputs": [],
   "source": [
    "#guardar en parquet"
   ]
  }
 ],
 "metadata": {
  "kernelspec": {
   "display_name": "Python 3",
   "language": "python",
   "name": "python3"
  },
  "language_info": {
   "codemirror_mode": {
    "name": "ipython",
    "version": 3
   },
   "file_extension": ".py",
   "mimetype": "text/x-python",
   "name": "python",
   "nbconvert_exporter": "python",
   "pygments_lexer": "ipython3",
   "version": "3.10.11"
  }
 },
 "nbformat": 4,
 "nbformat_minor": 2
}
