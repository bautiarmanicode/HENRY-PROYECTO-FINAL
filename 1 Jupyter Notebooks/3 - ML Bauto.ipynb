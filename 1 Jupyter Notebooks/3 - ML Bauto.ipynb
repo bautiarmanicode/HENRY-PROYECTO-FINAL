{
 "cells": [
  {
   "cell_type": "code",
   "execution_count": 2,
   "metadata": {},
   "outputs": [
    {
     "name": "stdout",
     "output_type": "stream",
     "text": [
      "Datos de Google Maps cargados exitosamente.\n",
      "Datos de Yelp cargados exitosamente.\n",
      "Primeras filas de las reseñas de Google Maps:\n",
      "              user_id            name           time  rating  \\\n",
      "762395   1.145803e+20   jose martinez  1525385005812       5   \n",
      "924820   1.077641e+20       Ian Horow  1619985567951       5   \n",
      "1765663  1.003756e+20   Lauren Palmer  1605046404419       5   \n",
      "2393358  1.102839e+20  Merrilee Crank  1527010637476       5   \n",
      "1683593  1.156291e+20   Sincere Dread  1564086971867       5   \n",
      "\n",
      "                                                      text  pics  resp  \\\n",
      "762395   (Translated by Google) Excellent service ... a...  None  None   \n",
      "924820                                                None  None  None   \n",
      "1765663  I was really impressed with the service we rec...  None  None   \n",
      "2393358  Clean very nice people work here I've been to ...  None  None   \n",
      "1683593                                               None  None  None   \n",
      "\n",
      "                                       gmap_id  \n",
      "762395   0x88d9b684949c6fa1:0x5da9b5c4bd240d6b  \n",
      "924820   0x88d901c07a850b25:0x53258790576101e6  \n",
      "1765663  0x8890c53f737b08dd:0x9b2fc3221b8c1fff  \n",
      "2393358  0x88e7c6dcd2e0a14d:0xb3b8214e70fb8540  \n",
      "1683593  0x88c2e3863fb052d5:0xc7dd0c27ad588473  \n",
      "\n",
      "Primeras filas de las reseñas de Yelp:\n",
      "                review_id                 user_id             business_id  \\\n",
      "0  J--iW5dA72XIV7lhrP2lgw  4PvJWRsaQ18EDaAp58esTQ  iCKF72z3fqRTF1vxdBZINQ   \n",
      "1  My8ugWN8KhVwiAgmGQ5AiQ  pgwyBgu_4jRx862aa1rlzw  wFES5bGDiPANW13hNHnXOQ   \n",
      "2  HJw41bthcu2jvFTz_VO39Q  9HMVNKy3jZPJGMDlkoc2-g  M0r9lUn2gLFYgIwIfG8-bQ   \n",
      "3  GohIIt4qTYlw_14I9AuMww  V8wiuXo9CYKYIZuyI-dZfA  2myVMP_l-9f9JIZewm19Cg   \n",
      "4  fqd4e1XtfRLleT8bQBoceQ  24-3ri7FV2rB22C9AhTwNA  b7V_5q22_eTeHlYzq1bpFw   \n",
      "\n",
      "   stars  useful  funny  cool  \\\n",
      "0      3       0      0     0   \n",
      "1      5       0      0     0   \n",
      "2      4       0      0     0   \n",
      "3      1       3      2     0   \n",
      "4      3       0      0     0   \n",
      "\n",
      "                                                text                date  \n",
      "0  stumbled across the village pub beer garden on... 2012-03-05 00:11:43  \n",
      "1  absolutely amazing dinner tonight came here to... 2015-08-23 04:31:49  \n",
      "2  stopped by here before a blues game the atmosp... 2017-12-31 17:39:25  \n",
      "3  stayed there on sunday and some drunk kids in ... 2015-05-15 00:29:23  \n",
      "4  tried this place when my wife came for a medic... 2015-10-23 20:31:28  \n"
     ]
    }
   ],
   "source": [
    "import pandas as pd\n",
    "import os\n",
    "\n",
    "def load_parquet_file(file_path):\n",
    "    \"\"\"\n",
    "    Carga un archivo PARQUET a un DataFrame de pandas.\n",
    "\n",
    "    :param file_path: Ruta al archivo PARQUET.\n",
    "    :return: DataFrame con los datos cargados.\n",
    "    \"\"\"\n",
    "    # Verificar si el archivo existe\n",
    "    if os.path.exists(file_path):\n",
    "        df = pd.read_parquet(file_path)\n",
    "        return df\n",
    "    else:\n",
    "        raise FileNotFoundError(f\"No se encontró el archivo: {file_path}\")\n",
    "\n",
    "# Definir las rutas de los archivos\n",
    "google_maps_file_path = r'C:\\Users\\loren\\Documents\\GitHub\\HENRY-PROYECTO-FINAL\\0_Dataset\\Data_Limpia\\Google\\G_review_FL_reducido.parquet'\n",
    "yelp_file_path = r'C:\\Users\\loren\\Documents\\GitHub\\HENRY-PROYECTO-FINAL\\0_Dataset\\Data_Limpia\\Yelp\\review_FL_reducido.parquet'\n",
    "\n",
    "# Cargar las reseñas de Google Maps\n",
    "try:\n",
    "    df_google_maps = load_parquet_file(google_maps_file_path)\n",
    "    print(\"Datos de Google Maps cargados exitosamente.\")\n",
    "except FileNotFoundError as e:\n",
    "    print(e)\n",
    "\n",
    "# Cargar las reseñas de Yelp\n",
    "try:\n",
    "    df_yelp = load_parquet_file(yelp_file_path)\n",
    "    print(\"Datos de Yelp cargados exitosamente.\")\n",
    "except FileNotFoundError as e:\n",
    "    print(e)\n",
    "\n",
    "# Mostrar las primeras filas de cada DataFrame para verificar\n",
    "if 'df_google_maps' in locals():\n",
    "    print(\"Primeras filas de las reseñas de Google Maps:\")\n",
    "    print(df_google_maps.head())\n",
    "\n",
    "if 'df_yelp' in locals():\n",
    "    print(\"\\nPrimeras filas de las reseñas de Yelp:\")\n",
    "    print(df_yelp.head())\n",
    "\n"
   ]
  },
  {
   "cell_type": "code",
   "execution_count": 3,
   "metadata": {},
   "outputs": [],
   "source": [
    "# Renombrar columnas para unificar formato\n",
    "df_google_maps = df_google_maps.rename(columns={'rating': 'stars', 'time': 'date'})\n",
    "df_yelp = df_yelp.rename(columns={'stars': 'rating'})\n",
    "\n",
    "# Concatenar ambos DataFrames\n",
    "df_reviews = pd.concat([df_google_maps, df_yelp], ignore_index=True)"
   ]
  },
  {
   "cell_type": "code",
   "execution_count": 4,
   "metadata": {},
   "outputs": [
    {
     "name": "stdout",
     "output_type": "stream",
     "text": [
      "sentimiento\n",
      "Positivo    60.032769\n",
      "Neutral     32.728625\n",
      "Negativo     7.238606\n",
      "Name: proportion, dtype: float64\n"
     ]
    }
   ],
   "source": [
    "from textblob import TextBlob\n",
    "# Verificar y manejar valores nulos en la columna 'text'\n",
    "df_reviews['text'] = df_reviews['text'].fillna('')\n",
    "\n",
    "# Función para calcular el sentimiento\n",
    "def obtener_sentimiento(texto):\n",
    "    analisis = TextBlob(texto)\n",
    "    if analisis.sentiment.polarity > 0:\n",
    "        return 'Positivo'\n",
    "    elif analisis.sentiment.polarity < 0:\n",
    "        return 'Negativo'\n",
    "    else:\n",
    "        return 'Neutral'\n",
    "\n",
    "# Aplicar la función a las reseñas\n",
    "df_reviews['sentimiento'] = df_reviews['text'].apply(obtener_sentimiento)\n",
    "\n",
    "# Calcular los porcentajes de sentimiento\n",
    "sentimiento_resumen = df_reviews['sentimiento'].value_counts(normalize=True) * 100\n",
    "print(sentimiento_resumen)"
   ]
  }
 ],
 "metadata": {
  "kernelspec": {
   "display_name": "Python 3",
   "language": "python",
   "name": "python3"
  },
  "language_info": {
   "codemirror_mode": {
    "name": "ipython",
    "version": 3
   },
   "file_extension": ".py",
   "mimetype": "text/x-python",
   "name": "python",
   "nbconvert_exporter": "python",
   "pygments_lexer": "ipython3",
   "version": "3.11.9"
  }
 },
 "nbformat": 4,
 "nbformat_minor": 2
}
