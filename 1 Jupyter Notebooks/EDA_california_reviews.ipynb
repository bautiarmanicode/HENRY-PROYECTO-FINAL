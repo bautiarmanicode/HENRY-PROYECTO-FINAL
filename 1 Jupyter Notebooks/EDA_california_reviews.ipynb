{
 "cells": [
  {
   "cell_type": "code",
   "execution_count": 47,
   "metadata": {},
   "outputs": [],
   "source": [
    "import pandas as pd\n",
    "import numpy as np\n",
    "from datetime import datetime"
   ]
  },
  {
   "cell_type": "code",
   "execution_count": 48,
   "metadata": {},
   "outputs": [],
   "source": [
    "df_reviews = pd.read_parquet('../0 Dataset/reviews_california_muestra.parquet')"
   ]
  },
  {
   "cell_type": "code",
   "execution_count": 49,
   "metadata": {},
   "outputs": [
    {
     "data": {
      "text/html": [
       "<div>\n",
       "<style scoped>\n",
       "    .dataframe tbody tr th:only-of-type {\n",
       "        vertical-align: middle;\n",
       "    }\n",
       "\n",
       "    .dataframe tbody tr th {\n",
       "        vertical-align: top;\n",
       "    }\n",
       "\n",
       "    .dataframe thead th {\n",
       "        text-align: right;\n",
       "    }\n",
       "</style>\n",
       "<table border=\"1\" class=\"dataframe\">\n",
       "  <thead>\n",
       "    <tr style=\"text-align: right;\">\n",
       "      <th></th>\n",
       "      <th>user_id</th>\n",
       "      <th>name</th>\n",
       "      <th>time</th>\n",
       "      <th>rating</th>\n",
       "      <th>text</th>\n",
       "      <th>pics</th>\n",
       "      <th>resp</th>\n",
       "      <th>gmap_id</th>\n",
       "    </tr>\n",
       "  </thead>\n",
       "  <tbody>\n",
       "    <tr>\n",
       "      <th>0</th>\n",
       "      <td>1.139654e+20</td>\n",
       "      <td>manuel grimaldo</td>\n",
       "      <td>1591839903487</td>\n",
       "      <td>5</td>\n",
       "      <td>Great new upgrade</td>\n",
       "      <td>None</td>\n",
       "      <td>None</td>\n",
       "      <td>0x7c00159b5b1b1d25:0x8d2d85d4a758290e</td>\n",
       "    </tr>\n",
       "    <tr>\n",
       "      <th>1</th>\n",
       "      <td>1.166558e+20</td>\n",
       "      <td>Enrique Lara</td>\n",
       "      <td>1568059018979</td>\n",
       "      <td>5</td>\n",
       "      <td>None</td>\n",
       "      <td>None</td>\n",
       "      <td>None</td>\n",
       "      <td>0x7c00159b5b1b1d25:0x8d2d85d4a758290e</td>\n",
       "    </tr>\n",
       "    <tr>\n",
       "      <th>2</th>\n",
       "      <td>1.008341e+20</td>\n",
       "      <td>Gregory Donaldson</td>\n",
       "      <td>1594885588335</td>\n",
       "      <td>5</td>\n",
       "      <td>None</td>\n",
       "      <td>None</td>\n",
       "      <td>None</td>\n",
       "      <td>0x7c00159b5b1b1d25:0x8d2d85d4a758290e</td>\n",
       "    </tr>\n",
       "    <tr>\n",
       "      <th>3</th>\n",
       "      <td>1.032072e+20</td>\n",
       "      <td>Brian Baker</td>\n",
       "      <td>1575951131613</td>\n",
       "      <td>5</td>\n",
       "      <td>None</td>\n",
       "      <td>None</td>\n",
       "      <td>None</td>\n",
       "      <td>0x7c00159b5b1b1d25:0x8d2d85d4a758290e</td>\n",
       "    </tr>\n",
       "    <tr>\n",
       "      <th>4</th>\n",
       "      <td>1.085262e+20</td>\n",
       "      <td>Kam J</td>\n",
       "      <td>1573076723916</td>\n",
       "      <td>3</td>\n",
       "      <td>None</td>\n",
       "      <td>None</td>\n",
       "      <td>None</td>\n",
       "      <td>0x7c00159b5b1b1d25:0x8d2d85d4a758290e</td>\n",
       "    </tr>\n",
       "    <tr>\n",
       "      <th>5</th>\n",
       "      <td>1.036319e+20</td>\n",
       "      <td>ethan boam</td>\n",
       "      <td>1563228631646</td>\n",
       "      <td>1</td>\n",
       "      <td>None</td>\n",
       "      <td>None</td>\n",
       "      <td>None</td>\n",
       "      <td>0x7c00159b5b1b1d25:0x8d2d85d4a758290e</td>\n",
       "    </tr>\n",
       "    <tr>\n",
       "      <th>6</th>\n",
       "      <td>1.107040e+20</td>\n",
       "      <td>MONOLITH TV</td>\n",
       "      <td>1574400673666</td>\n",
       "      <td>5</td>\n",
       "      <td>None</td>\n",
       "      <td>None</td>\n",
       "      <td>None</td>\n",
       "      <td>0x7c00159b5b1b1d25:0x8d2d85d4a758290e</td>\n",
       "    </tr>\n",
       "    <tr>\n",
       "      <th>7</th>\n",
       "      <td>1.089906e+20</td>\n",
       "      <td>Josh Snow</td>\n",
       "      <td>1577824834047</td>\n",
       "      <td>1</td>\n",
       "      <td>None</td>\n",
       "      <td>None</td>\n",
       "      <td>None</td>\n",
       "      <td>0x7c00159b5b1b1d25:0x8d2d85d4a758290e</td>\n",
       "    </tr>\n",
       "    <tr>\n",
       "      <th>8</th>\n",
       "      <td>1.118952e+20</td>\n",
       "      <td>Glorianna Castillo</td>\n",
       "      <td>1562189516147</td>\n",
       "      <td>5</td>\n",
       "      <td>None</td>\n",
       "      <td>None</td>\n",
       "      <td>None</td>\n",
       "      <td>0x7c00159b5b1b1d25:0x8d2d85d4a758290e</td>\n",
       "    </tr>\n",
       "    <tr>\n",
       "      <th>9</th>\n",
       "      <td>1.161259e+20</td>\n",
       "      <td>1 23456</td>\n",
       "      <td>1569692682556</td>\n",
       "      <td>5</td>\n",
       "      <td>None</td>\n",
       "      <td>None</td>\n",
       "      <td>None</td>\n",
       "      <td>0x7c00159b5b1b1d25:0x8d2d85d4a758290e</td>\n",
       "    </tr>\n",
       "  </tbody>\n",
       "</table>\n",
       "</div>"
      ],
      "text/plain": [
       "        user_id                name           time  rating               text  \\\n",
       "0  1.139654e+20     manuel grimaldo  1591839903487       5  Great new upgrade   \n",
       "1  1.166558e+20        Enrique Lara  1568059018979       5               None   \n",
       "2  1.008341e+20   Gregory Donaldson  1594885588335       5               None   \n",
       "3  1.032072e+20         Brian Baker  1575951131613       5               None   \n",
       "4  1.085262e+20               Kam J  1573076723916       3               None   \n",
       "5  1.036319e+20          ethan boam  1563228631646       1               None   \n",
       "6  1.107040e+20         MONOLITH TV  1574400673666       5               None   \n",
       "7  1.089906e+20           Josh Snow  1577824834047       1               None   \n",
       "8  1.118952e+20  Glorianna Castillo  1562189516147       5               None   \n",
       "9  1.161259e+20             1 23456  1569692682556       5               None   \n",
       "\n",
       "   pics  resp                                gmap_id  \n",
       "0  None  None  0x7c00159b5b1b1d25:0x8d2d85d4a758290e  \n",
       "1  None  None  0x7c00159b5b1b1d25:0x8d2d85d4a758290e  \n",
       "2  None  None  0x7c00159b5b1b1d25:0x8d2d85d4a758290e  \n",
       "3  None  None  0x7c00159b5b1b1d25:0x8d2d85d4a758290e  \n",
       "4  None  None  0x7c00159b5b1b1d25:0x8d2d85d4a758290e  \n",
       "5  None  None  0x7c00159b5b1b1d25:0x8d2d85d4a758290e  \n",
       "6  None  None  0x7c00159b5b1b1d25:0x8d2d85d4a758290e  \n",
       "7  None  None  0x7c00159b5b1b1d25:0x8d2d85d4a758290e  \n",
       "8  None  None  0x7c00159b5b1b1d25:0x8d2d85d4a758290e  \n",
       "9  None  None  0x7c00159b5b1b1d25:0x8d2d85d4a758290e  "
      ]
     },
     "execution_count": 49,
     "metadata": {},
     "output_type": "execute_result"
    }
   ],
   "source": [
    "df_reviews.head(10)"
   ]
  },
  {
   "cell_type": "code",
   "execution_count": 50,
   "metadata": {},
   "outputs": [
    {
     "name": "stdout",
     "output_type": "stream",
     "text": [
      "<class 'pandas.core.frame.DataFrame'>\n",
      "RangeIndex: 752173 entries, 0 to 752172\n",
      "Data columns (total 8 columns):\n",
      " #   Column   Non-Null Count   Dtype  \n",
      "---  ------   --------------   -----  \n",
      " 0   user_id  752173 non-null  float64\n",
      " 1   name     752173 non-null  object \n",
      " 2   time     752173 non-null  int64  \n",
      " 3   rating   752173 non-null  int64  \n",
      " 4   text     430070 non-null  object \n",
      " 5   pics     64825 non-null   object \n",
      " 6   resp     53300 non-null   object \n",
      " 7   gmap_id  752173 non-null  object \n",
      "dtypes: float64(1), int64(2), object(5)\n",
      "memory usage: 45.9+ MB\n"
     ]
    }
   ],
   "source": [
    "df_reviews.info()"
   ]
  },
  {
   "cell_type": "code",
   "execution_count": 51,
   "metadata": {},
   "outputs": [],
   "source": [
    "#eliminacion de la columna pics y resp\n",
    "df_reviews = df_reviews.drop(columns=[\"pics\", \"resp\"])"
   ]
  },
  {
   "cell_type": "code",
   "execution_count": 52,
   "metadata": {},
   "outputs": [
    {
     "data": {
      "text/plain": [
       "6579"
      ]
     },
     "execution_count": 52,
     "metadata": {},
     "output_type": "execute_result"
    }
   ],
   "source": [
    "df_reviews.duplicated().sum()"
   ]
  },
  {
   "cell_type": "code",
   "execution_count": 53,
   "metadata": {},
   "outputs": [
    {
     "data": {
      "text/plain": [
       "(745594, 6)"
      ]
     },
     "execution_count": 53,
     "metadata": {},
     "output_type": "execute_result"
    }
   ],
   "source": [
    "df_reviews = df_reviews.drop_duplicates()\n",
    "df_reviews.shape"
   ]
  },
  {
   "cell_type": "code",
   "execution_count": 54,
   "metadata": {},
   "outputs": [
    {
     "data": {
      "text/plain": [
       "user_id         0\n",
       "name            0\n",
       "time            0\n",
       "rating          0\n",
       "text       321909\n",
       "gmap_id         0\n",
       "dtype: int64"
      ]
     },
     "execution_count": 54,
     "metadata": {},
     "output_type": "execute_result"
    }
   ],
   "source": [
    "df_reviews.isna().sum()"
   ]
  },
  {
   "cell_type": "code",
   "execution_count": 55,
   "metadata": {},
   "outputs": [],
   "source": [
    "df_reviews[\"rating\"] = df_reviews['rating'].astype(int)"
   ]
  },
  {
   "cell_type": "code",
   "execution_count": 56,
   "metadata": {},
   "outputs": [],
   "source": [
    "#creo una funcion para asignar posteriormente un texto ya que hay muchos registros nulos en esta columna\n",
    "def assign_scale(rating):\n",
    "    if rating <= 1:\n",
    "        return \"Very Dissatisfied\"\n",
    "    elif rating <= 2:\n",
    "        return \"Dissatisfied\"\n",
    "    elif rating <= 3:\n",
    "        return \"Neutral\"\n",
    "    elif rating <= 4:\n",
    "        return \"Satisfied\"\n",
    "    else:\n",
    "        return \"Very Satisfied\""
   ]
  },
  {
   "cell_type": "code",
   "execution_count": 57,
   "metadata": {},
   "outputs": [
    {
     "data": {
      "text/html": [
       "<div>\n",
       "<style scoped>\n",
       "    .dataframe tbody tr th:only-of-type {\n",
       "        vertical-align: middle;\n",
       "    }\n",
       "\n",
       "    .dataframe tbody tr th {\n",
       "        vertical-align: top;\n",
       "    }\n",
       "\n",
       "    .dataframe thead th {\n",
       "        text-align: right;\n",
       "    }\n",
       "</style>\n",
       "<table border=\"1\" class=\"dataframe\">\n",
       "  <thead>\n",
       "    <tr style=\"text-align: right;\">\n",
       "      <th></th>\n",
       "      <th>user_id</th>\n",
       "      <th>name</th>\n",
       "      <th>time</th>\n",
       "      <th>rating</th>\n",
       "      <th>text</th>\n",
       "      <th>gmap_id</th>\n",
       "      <th>satisfaction_scale</th>\n",
       "    </tr>\n",
       "  </thead>\n",
       "  <tbody>\n",
       "    <tr>\n",
       "      <th>0</th>\n",
       "      <td>1.139654e+20</td>\n",
       "      <td>manuel grimaldo</td>\n",
       "      <td>1591839903487</td>\n",
       "      <td>5</td>\n",
       "      <td>Great new upgrade</td>\n",
       "      <td>0x7c00159b5b1b1d25:0x8d2d85d4a758290e</td>\n",
       "      <td>Very Satisfied</td>\n",
       "    </tr>\n",
       "    <tr>\n",
       "      <th>1</th>\n",
       "      <td>1.166558e+20</td>\n",
       "      <td>Enrique Lara</td>\n",
       "      <td>1568059018979</td>\n",
       "      <td>5</td>\n",
       "      <td>None</td>\n",
       "      <td>0x7c00159b5b1b1d25:0x8d2d85d4a758290e</td>\n",
       "      <td>Very Satisfied</td>\n",
       "    </tr>\n",
       "    <tr>\n",
       "      <th>2</th>\n",
       "      <td>1.008341e+20</td>\n",
       "      <td>Gregory Donaldson</td>\n",
       "      <td>1594885588335</td>\n",
       "      <td>5</td>\n",
       "      <td>None</td>\n",
       "      <td>0x7c00159b5b1b1d25:0x8d2d85d4a758290e</td>\n",
       "      <td>Very Satisfied</td>\n",
       "    </tr>\n",
       "    <tr>\n",
       "      <th>3</th>\n",
       "      <td>1.032072e+20</td>\n",
       "      <td>Brian Baker</td>\n",
       "      <td>1575951131613</td>\n",
       "      <td>5</td>\n",
       "      <td>None</td>\n",
       "      <td>0x7c00159b5b1b1d25:0x8d2d85d4a758290e</td>\n",
       "      <td>Very Satisfied</td>\n",
       "    </tr>\n",
       "    <tr>\n",
       "      <th>4</th>\n",
       "      <td>1.085262e+20</td>\n",
       "      <td>Kam J</td>\n",
       "      <td>1573076723916</td>\n",
       "      <td>3</td>\n",
       "      <td>None</td>\n",
       "      <td>0x7c00159b5b1b1d25:0x8d2d85d4a758290e</td>\n",
       "      <td>Neutral</td>\n",
       "    </tr>\n",
       "  </tbody>\n",
       "</table>\n",
       "</div>"
      ],
      "text/plain": [
       "        user_id               name           time  rating               text  \\\n",
       "0  1.139654e+20    manuel grimaldo  1591839903487       5  Great new upgrade   \n",
       "1  1.166558e+20       Enrique Lara  1568059018979       5               None   \n",
       "2  1.008341e+20  Gregory Donaldson  1594885588335       5               None   \n",
       "3  1.032072e+20        Brian Baker  1575951131613       5               None   \n",
       "4  1.085262e+20              Kam J  1573076723916       3               None   \n",
       "\n",
       "                                 gmap_id satisfaction_scale  \n",
       "0  0x7c00159b5b1b1d25:0x8d2d85d4a758290e     Very Satisfied  \n",
       "1  0x7c00159b5b1b1d25:0x8d2d85d4a758290e     Very Satisfied  \n",
       "2  0x7c00159b5b1b1d25:0x8d2d85d4a758290e     Very Satisfied  \n",
       "3  0x7c00159b5b1b1d25:0x8d2d85d4a758290e     Very Satisfied  \n",
       "4  0x7c00159b5b1b1d25:0x8d2d85d4a758290e            Neutral  "
      ]
     },
     "execution_count": 57,
     "metadata": {},
     "output_type": "execute_result"
    }
   ],
   "source": [
    "df_reviews[\"satisfaction_scale\"] = df_reviews[\"rating\"].apply(assign_scale)\n",
    "df_reviews.head()"
   ]
  },
  {
   "cell_type": "code",
   "execution_count": 58,
   "metadata": {},
   "outputs": [],
   "source": [
    "df_reviews[\"text\"] = df_reviews[\"text\"].fillna(df_reviews[\"satisfaction_scale\"])"
   ]
  },
  {
   "cell_type": "code",
   "execution_count": 59,
   "metadata": {},
   "outputs": [
    {
     "data": {
      "text/plain": [
       "user_id               0\n",
       "name                  0\n",
       "time                  0\n",
       "rating                0\n",
       "text                  0\n",
       "gmap_id               0\n",
       "satisfaction_scale    0\n",
       "dtype: int64"
      ]
     },
     "execution_count": 59,
     "metadata": {},
     "output_type": "execute_result"
    }
   ],
   "source": [
    "df_reviews.isnull().sum()"
   ]
  },
  {
   "cell_type": "code",
   "execution_count": 60,
   "metadata": {},
   "outputs": [
    {
     "data": {
      "text/html": [
       "<div>\n",
       "<style scoped>\n",
       "    .dataframe tbody tr th:only-of-type {\n",
       "        vertical-align: middle;\n",
       "    }\n",
       "\n",
       "    .dataframe tbody tr th {\n",
       "        vertical-align: top;\n",
       "    }\n",
       "\n",
       "    .dataframe thead th {\n",
       "        text-align: right;\n",
       "    }\n",
       "</style>\n",
       "<table border=\"1\" class=\"dataframe\">\n",
       "  <thead>\n",
       "    <tr style=\"text-align: right;\">\n",
       "      <th></th>\n",
       "      <th>user_id</th>\n",
       "      <th>name</th>\n",
       "      <th>time</th>\n",
       "      <th>rating</th>\n",
       "      <th>text</th>\n",
       "      <th>gmap_id</th>\n",
       "      <th>satisfaction_scale</th>\n",
       "      <th>date</th>\n",
       "    </tr>\n",
       "  </thead>\n",
       "  <tbody>\n",
       "    <tr>\n",
       "      <th>0</th>\n",
       "      <td>1.139654e+20</td>\n",
       "      <td>manuel grimaldo</td>\n",
       "      <td>01:45:03.487000</td>\n",
       "      <td>5</td>\n",
       "      <td>Great new upgrade</td>\n",
       "      <td>0x7c00159b5b1b1d25:0x8d2d85d4a758290e</td>\n",
       "      <td>Very Satisfied</td>\n",
       "      <td>2020-06-11</td>\n",
       "    </tr>\n",
       "    <tr>\n",
       "      <th>1</th>\n",
       "      <td>1.166558e+20</td>\n",
       "      <td>Enrique Lara</td>\n",
       "      <td>19:56:58.979000</td>\n",
       "      <td>5</td>\n",
       "      <td>Very Satisfied</td>\n",
       "      <td>0x7c00159b5b1b1d25:0x8d2d85d4a758290e</td>\n",
       "      <td>Very Satisfied</td>\n",
       "      <td>2019-09-09</td>\n",
       "    </tr>\n",
       "    <tr>\n",
       "      <th>2</th>\n",
       "      <td>1.008341e+20</td>\n",
       "      <td>Gregory Donaldson</td>\n",
       "      <td>07:46:28.335000</td>\n",
       "      <td>5</td>\n",
       "      <td>Very Satisfied</td>\n",
       "      <td>0x7c00159b5b1b1d25:0x8d2d85d4a758290e</td>\n",
       "      <td>Very Satisfied</td>\n",
       "      <td>2020-07-16</td>\n",
       "    </tr>\n",
       "    <tr>\n",
       "      <th>3</th>\n",
       "      <td>1.032072e+20</td>\n",
       "      <td>Brian Baker</td>\n",
       "      <td>04:12:11.613000</td>\n",
       "      <td>5</td>\n",
       "      <td>Very Satisfied</td>\n",
       "      <td>0x7c00159b5b1b1d25:0x8d2d85d4a758290e</td>\n",
       "      <td>Very Satisfied</td>\n",
       "      <td>2019-12-10</td>\n",
       "    </tr>\n",
       "    <tr>\n",
       "      <th>4</th>\n",
       "      <td>1.085262e+20</td>\n",
       "      <td>Kam J</td>\n",
       "      <td>21:45:23.916000</td>\n",
       "      <td>3</td>\n",
       "      <td>Neutral</td>\n",
       "      <td>0x7c00159b5b1b1d25:0x8d2d85d4a758290e</td>\n",
       "      <td>Neutral</td>\n",
       "      <td>2019-11-06</td>\n",
       "    </tr>\n",
       "  </tbody>\n",
       "</table>\n",
       "</div>"
      ],
      "text/plain": [
       "        user_id               name             time  rating  \\\n",
       "0  1.139654e+20    manuel grimaldo  01:45:03.487000       5   \n",
       "1  1.166558e+20       Enrique Lara  19:56:58.979000       5   \n",
       "2  1.008341e+20  Gregory Donaldson  07:46:28.335000       5   \n",
       "3  1.032072e+20        Brian Baker  04:12:11.613000       5   \n",
       "4  1.085262e+20              Kam J  21:45:23.916000       3   \n",
       "\n",
       "                text                                gmap_id  \\\n",
       "0  Great new upgrade  0x7c00159b5b1b1d25:0x8d2d85d4a758290e   \n",
       "1     Very Satisfied  0x7c00159b5b1b1d25:0x8d2d85d4a758290e   \n",
       "2     Very Satisfied  0x7c00159b5b1b1d25:0x8d2d85d4a758290e   \n",
       "3     Very Satisfied  0x7c00159b5b1b1d25:0x8d2d85d4a758290e   \n",
       "4            Neutral  0x7c00159b5b1b1d25:0x8d2d85d4a758290e   \n",
       "\n",
       "  satisfaction_scale        date  \n",
       "0     Very Satisfied  2020-06-11  \n",
       "1     Very Satisfied  2019-09-09  \n",
       "2     Very Satisfied  2020-07-16  \n",
       "3     Very Satisfied  2019-12-10  \n",
       "4            Neutral  2019-11-06  "
      ]
     },
     "execution_count": 60,
     "metadata": {},
     "output_type": "execute_result"
    }
   ],
   "source": [
    "df_reviews['time'] = pd.to_datetime(df_reviews['time'], unit='ms')\n",
    "df_reviews['date'] = df_reviews['time'].dt.date\n",
    "df_reviews['time'] = df_reviews['time'].dt.time\n",
    "df_reviews.head()"
   ]
  }
 ],
 "metadata": {
  "kernelspec": {
   "display_name": "Python 3",
   "language": "python",
   "name": "python3"
  },
  "language_info": {
   "codemirror_mode": {
    "name": "ipython",
    "version": 3
   },
   "file_extension": ".py",
   "mimetype": "text/x-python",
   "name": "python",
   "nbconvert_exporter": "python",
   "pygments_lexer": "ipython3",
   "version": "3.11.9"
  }
 },
 "nbformat": 4,
 "nbformat_minor": 2
}
